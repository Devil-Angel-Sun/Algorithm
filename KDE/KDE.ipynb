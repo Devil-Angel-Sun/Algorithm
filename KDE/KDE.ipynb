{
 "cells": [
  {
   "cell_type": "code",
   "execution_count": 1,
   "metadata": {},
   "outputs": [],
   "source": [
    "import numpy as np\n",
    "import pandas as pd\n",
    "import matplotlib.pyplot as plt\n",
    "from sklearn.neighbors import KernelDensity\n",
    "from sklearn.model_selection import GridSearchCV\n",
    "from sklearn.model_selection import LeaveOneOut\n",
    "import scipy.signal as signal\n",
    "import time"
   ]
  },
  {
   "cell_type": "code",
   "execution_count": 2,
   "metadata": {},
   "outputs": [
    {
     "data": {
      "text/html": [
       "<div>\n",
       "<style scoped>\n",
       "    .dataframe tbody tr th:only-of-type {\n",
       "        vertical-align: middle;\n",
       "    }\n",
       "\n",
       "    .dataframe tbody tr th {\n",
       "        vertical-align: top;\n",
       "    }\n",
       "\n",
       "    .dataframe thead th {\n",
       "        text-align: right;\n",
       "    }\n",
       "</style>\n",
       "<table border=\"1\" class=\"dataframe\">\n",
       "  <thead>\n",
       "    <tr style=\"text-align: right;\">\n",
       "      <th></th>\n",
       "      <th>timestamp</th>\n",
       "      <th>value</th>\n",
       "    </tr>\n",
       "  </thead>\n",
       "  <tbody>\n",
       "    <tr>\n",
       "      <th>0</th>\n",
       "      <td>2014-04-01 00:00:00</td>\n",
       "      <td>-21.048383</td>\n",
       "    </tr>\n",
       "    <tr>\n",
       "      <th>1</th>\n",
       "      <td>2014-04-01 00:05:00</td>\n",
       "      <td>-20.295477</td>\n",
       "    </tr>\n",
       "    <tr>\n",
       "      <th>2</th>\n",
       "      <td>2014-04-01 00:10:00</td>\n",
       "      <td>-18.127229</td>\n",
       "    </tr>\n",
       "    <tr>\n",
       "      <th>3</th>\n",
       "      <td>2014-04-01 00:15:00</td>\n",
       "      <td>-20.171665</td>\n",
       "    </tr>\n",
       "    <tr>\n",
       "      <th>4</th>\n",
       "      <td>2014-04-01 00:20:00</td>\n",
       "      <td>-21.223762</td>\n",
       "    </tr>\n",
       "  </tbody>\n",
       "</table>\n",
       "</div>"
      ],
      "text/plain": [
       "             timestamp      value\n",
       "0  2014-04-01 00:00:00 -21.048383\n",
       "1  2014-04-01 00:05:00 -20.295477\n",
       "2  2014-04-01 00:10:00 -18.127229\n",
       "3  2014-04-01 00:15:00 -20.171665\n",
       "4  2014-04-01 00:20:00 -21.223762"
      ]
     },
     "execution_count": 2,
     "metadata": {},
     "output_type": "execute_result"
    }
   ],
   "source": [
    "data = pd.read_csv('/home/weijunfei/NAB-master_new/data/artificialWithAnomaly/art_daily_flatmiddle.csv')\n",
    "data.head()"
   ]
  },
  {
   "cell_type": "code",
   "execution_count": 3,
   "metadata": {},
   "outputs": [],
   "source": [
    "X = data.value.values"
   ]
  },
  {
   "cell_type": "code",
   "execution_count": 4,
   "metadata": {},
   "outputs": [],
   "source": [
    "kde = KernelDensity()\n",
    "kde_fit = kde.fit(X.reshape(-1,1))"
   ]
  },
  {
   "cell_type": "code",
   "execution_count": 5,
   "metadata": {},
   "outputs": [
    {
     "data": {
      "text/plain": [
       "-21.998788838600007"
      ]
     },
     "execution_count": 5,
     "metadata": {},
     "output_type": "execute_result"
    }
   ],
   "source": [
    "np.min(data.value)"
   ]
  },
  {
   "cell_type": "code",
   "execution_count": 6,
   "metadata": {},
   "outputs": [
    {
     "name": "stdout",
     "output_type": "stream",
     "text": [
      "[-19.77777778  -7.55555556   0.22222222  40.22222222  55.77777778\n",
      "  59.11111111  61.33333333  74.66666667  76.88888889  82.44444444]\n",
      "running time0.04272794723510742 s\n"
     ]
    },
    {
     "data": {
      "image/png": "[encoded data removed]",
      "text/plain": [
       "<Figure size 432x288 with 1 Axes>"
      ]
     },
     "metadata": {
      "needs_background": "light"
     },
     "output_type": "display_data"
    }
   ],
   "source": [
    "start = time.time()\n",
    "bw = 1 \n",
    "kde = KernelDensity(kernel='gaussian', bandwidth=bw).fit(X.reshape(-1,1)) \n",
    "estimator = np.linspace(-22, 88, 100) \n",
    "kde_est = np.exp(kde.score_samples(estimator.reshape(-1, 1))) \n",
    "\n",
    "plt.plot(estimator, kde_est) \n",
    "peaks_pos = signal.argrelextrema(kde_est, np.greater)[0]  ## 寻找离散序列的极值点\n",
    "print(estimator[peaks_pos]) \n",
    "end = time.time()\n",
    "print('running time'+ str((end - start)) +' s')"
   ]
  },
  {
   "cell_type": "code",
   "execution_count": null,
   "metadata": {},
   "outputs": [],
   "source": [
    "start = time.time()\n",
    "bandwidths = 10 ** np.linspace(-1,1,100)\n",
    "grid = GridSearchCV(KernelDensity(),{ 'bandwidth' : bandwidths, 'kernel' : ['gaussian','tophat','epanechnikov','exponential','linear','cosine']} ,cv =LeaveOneOut())\n",
    "grid.fit(X.reshape(-1,1))\n",
    "end = time.time()\n",
    "print('running time:'+ str((end - start)) +' s')"
   ]
  },
  {
   "cell_type": "code",
   "execution_count": null,
   "metadata": {},
   "outputs": [],
   "source": [
    "grid.best_params_"
   ]
  },
  {
   "cell_type": "code",
   "execution_count": null,
   "metadata": {},
   "outputs": [],
   "source": [
    "grid = KernelDensity(kernel = grid.best_params_['kernel'], bandwidth = grid.best_params_['bandwidth']).fit(X.reshape(-1,1))\n",
    "estimator = np.linspace(-22,88,100)\n",
    "grid_est = np.exp(grid.score_samples(estimator.reshape(-1,1)))\n",
    "plt.plot(estimator, grid_est)\n",
    "peaks_pos = signal.argrelextrema(grid_est, np.greater)[0]\n",
    "print(estimator[peaks_pos])"
   ]
  },
  {
   "cell_type": "markdown",
   "metadata": {},
   "source": [
    "### 以小时聚合"
   ]
  },
  {
   "cell_type": "code",
   "execution_count": null,
   "metadata": {},
   "outputs": [],
   "source": [
    "data.timestamp = pd.to_datetime(data.timestamp)"
   ]
  },
  {
   "cell_type": "code",
   "execution_count": null,
   "metadata": {},
   "outputs": [],
   "source": [
    "data = data.set_index('timestamp', drop = True)"
   ]
  },
  {
   "cell_type": "code",
   "execution_count": null,
   "metadata": {},
   "outputs": [],
   "source": [
    "data_H = data.resample(rule = '1H').mean()"
   ]
  },
  {
   "cell_type": "code",
   "execution_count": null,
   "metadata": {},
   "outputs": [],
   "source": [
    "X_H = data_H.value.values"
   ]
  },
  {
   "cell_type": "code",
   "execution_count": null,
   "metadata": {},
   "outputs": [],
   "source": [
    "bw = 1 \n",
    "kde = KernelDensity(kernel='gaussian', bandwidth=bw).fit(X_H.reshape(-1,1)) \n",
    "estimator = np.linspace(-22, 88, 100) \n",
    "kde_est = np.exp(kde.score_samples(estimator.reshape(-1, 1))) \n",
    "\n",
    "plt.plot(estimator, kde_est) \n",
    "peaks_pos = signal.argrelextrema(kde_est, np.greater)[0] \n",
    "print(estimator[peaks_pos]) "
   ]
  },
  {
   "cell_type": "code",
   "execution_count": null,
   "metadata": {},
   "outputs": [],
   "source": [
    "start = time.time()\n",
    "bandwidths = 10 ** np.linspace(-1,1,100)\n",
    "grid = GridSearchCV(KernelDensity(),{'bandwidth' : bandwidths, 'kernel' : ['gaussian','tophat','epanechnikov','exponential','linear','cosine']} ,cv =LeaveOneOut())\n",
    "grid.fit(X_H.reshape(-1,1))\n",
    "end = time.time()\n",
    "print('running time:'+ str((end - start)) +' s')"
   ]
  },
  {
   "cell_type": "code",
   "execution_count": null,
   "metadata": {},
   "outputs": [],
   "source": [
    "grid.best_params_"
   ]
  },
  {
   "cell_type": "code",
   "execution_count": null,
   "metadata": {},
   "outputs": [],
   "source": [
    "grid = KernelDensity(kernel = grid.best_params_['kernel'], bandwidth = grid.best_params_['bandwidth']).fit(X.reshape(-1,1))\n",
    "estimator = np.linspace(-22,88,100)\n",
    "grid_est = np.exp(grid.score_samples(estimator.reshape(-1,1)))\n",
    "plt.plot(estimator, grid_est)\n",
    "peaks_pos = signal.argrelextrema(grid_est, np.greater)[0]\n",
    "print(estimator[peaks_pos])"
   ]
  },
  {
   "cell_type": "code",
   "execution_count": null,
   "metadata": {},
   "outputs": [],
   "source": []
  },
  {
   "cell_type": "markdown",
   "metadata": {},
   "source": [
    "### 以天聚合"
   ]
  },
  {
   "cell_type": "code",
   "execution_count": null,
   "metadata": {},
   "outputs": [],
   "source": [
    "data_D = data.resample(rule = '1D').mean()"
   ]
  },
  {
   "cell_type": "code",
   "execution_count": null,
   "metadata": {},
   "outputs": [],
   "source": [
    "X_D = data_D.value.values"
   ]
  },
  {
   "cell_type": "code",
   "execution_count": null,
   "metadata": {},
   "outputs": [],
   "source": [
    "X_D"
   ]
  },
  {
   "cell_type": "code",
   "execution_count": null,
   "metadata": {},
   "outputs": [],
   "source": [
    "bw = 1 \n",
    "kde = KernelDensity(kernel='gaussian', bandwidth=bw).fit(X_D.reshape(-1,1)) \n",
    "estimator = np.linspace(-22, 88, 100) \n",
    "kde_est = np.exp(kde.score_samples(estimator.reshape(-1, 1))) \n",
    "\n",
    "plt.plot(estimator, kde_est) \n",
    "\n",
    "peaks_pos = signal.argrelextrema(kde_est, np.greater)[0] \n",
    "\n",
    "print(estimator[peaks_pos]) "
   ]
  },
  {
   "cell_type": "code",
   "execution_count": null,
   "metadata": {},
   "outputs": [],
   "source": [
    "start = time.time()\n",
    "bandwidths = 10 ** np.linspace(-1,1,100)\n",
    "grid = GridSearchCV(KernelDensity(),{ 'bandwidth' : bandwidths, 'kernel' : ['gaussian','tophat','epanechnikov','exponential','linear','cosine']} ,cv =LeaveOneOut())\n",
    "grid.fit(X_D.reshape(-1,1))\n",
    "end = time.time()\n",
    "print('running time:'+ str((end - start)) +' s')"
   ]
  },
  {
   "cell_type": "code",
   "execution_count": null,
   "metadata": {},
   "outputs": [],
   "source": [
    "grid.best_params_"
   ]
  },
  {
   "cell_type": "code",
   "execution_count": null,
   "metadata": {},
   "outputs": [],
   "source": [
    "grid_D = KernelDensity(kernel = grid.best_params_['kernel'], bandwidth = grid.best_params_['bandwidth']).fit(X.reshape(-1,1))\n",
    "estimator = np.linspace(-22,88,100)\n",
    "grid_est = np.exp(grid_D.score_samples(estimator.reshape(-1,1)))\n",
    "plt.plot(estimator, grid_est)\n",
    "peaks_pos = signal.argrelextrema(grid_est, np.greater)[0]\n",
    "print(estimator[peaks_pos])"
   ]
  },
  {
   "cell_type": "code",
   "execution_count": null,
   "metadata": {},
   "outputs": [],
   "source": []
  },
  {
   "cell_type": "markdown",
   "metadata": {},
   "source": [
    "### 按天聚合"
   ]
  },
  {
   "cell_type": "code",
   "execution_count": 14,
   "metadata": {},
   "outputs": [
    {
     "data": {
      "text/html": [
       "<div>\n",
       "<style scoped>\n",
       "    .dataframe tbody tr th:only-of-type {\n",
       "        vertical-align: middle;\n",
       "    }\n",
       "\n",
       "    .dataframe tbody tr th {\n",
       "        vertical-align: top;\n",
       "    }\n",
       "\n",
       "    .dataframe thead th {\n",
       "        text-align: right;\n",
       "    }\n",
       "</style>\n",
       "<table border=\"1\" class=\"dataframe\">\n",
       "  <thead>\n",
       "    <tr style=\"text-align: right;\">\n",
       "      <th></th>\n",
       "      <th>timestamp</th>\n",
       "      <th>value</th>\n",
       "    </tr>\n",
       "  </thead>\n",
       "  <tbody>\n",
       "    <tr>\n",
       "      <th>0</th>\n",
       "      <td>2015-08-31 18:22:00</td>\n",
       "      <td>90</td>\n",
       "    </tr>\n",
       "    <tr>\n",
       "      <th>1</th>\n",
       "      <td>2015-08-31 18:32:00</td>\n",
       "      <td>80</td>\n",
       "    </tr>\n",
       "    <tr>\n",
       "      <th>2</th>\n",
       "      <td>2015-08-31 18:57:00</td>\n",
       "      <td>84</td>\n",
       "    </tr>\n",
       "    <tr>\n",
       "      <th>3</th>\n",
       "      <td>2015-08-31 19:07:00</td>\n",
       "      <td>94</td>\n",
       "    </tr>\n",
       "    <tr>\n",
       "      <th>4</th>\n",
       "      <td>2015-08-31 19:12:00</td>\n",
       "      <td>90</td>\n",
       "    </tr>\n",
       "  </tbody>\n",
       "</table>\n",
       "</div>"
      ],
      "text/plain": [
       "             timestamp  value\n",
       "0  2015-08-31 18:22:00     90\n",
       "1  2015-08-31 18:32:00     80\n",
       "2  2015-08-31 18:57:00     84\n",
       "3  2015-08-31 19:07:00     94\n",
       "4  2015-08-31 19:12:00     90"
      ]
     },
     "execution_count": 14,
     "metadata": {},
     "output_type": "execute_result"
    }
   ],
   "source": [
    "data = pd.read_csv('/home/weijunfei/NAB-master_new/data/realTraffic/speed_6005.csv')\n",
    "data.head()"
   ]
  },
  {
   "cell_type": "code",
   "execution_count": 15,
   "metadata": {},
   "outputs": [],
   "source": [
    "data['timestamp'] = pd.to_datetime(data['timestamp'])"
   ]
  },
  {
   "cell_type": "code",
   "execution_count": 16,
   "metadata": {},
   "outputs": [],
   "source": [
    "data['date'] = data['timestamp'].dt.date"
   ]
  },
  {
   "cell_type": "code",
   "execution_count": 17,
   "metadata": {},
   "outputs": [
    {
     "data": {
      "text/html": [
       "<div>\n",
       "<style scoped>\n",
       "    .dataframe tbody tr th:only-of-type {\n",
       "        vertical-align: middle;\n",
       "    }\n",
       "\n",
       "    .dataframe tbody tr th {\n",
       "        vertical-align: top;\n",
       "    }\n",
       "\n",
       "    .dataframe thead th {\n",
       "        text-align: right;\n",
       "    }\n",
       "</style>\n",
       "<table border=\"1\" class=\"dataframe\">\n",
       "  <thead>\n",
       "    <tr style=\"text-align: right;\">\n",
       "      <th></th>\n",
       "      <th>timestamp</th>\n",
       "      <th>value</th>\n",
       "      <th>date</th>\n",
       "    </tr>\n",
       "  </thead>\n",
       "  <tbody>\n",
       "    <tr>\n",
       "      <th>0</th>\n",
       "      <td>2015-08-31 18:22:00</td>\n",
       "      <td>90</td>\n",
       "      <td>2015-08-31</td>\n",
       "    </tr>\n",
       "    <tr>\n",
       "      <th>1</th>\n",
       "      <td>2015-08-31 18:32:00</td>\n",
       "      <td>80</td>\n",
       "      <td>2015-08-31</td>\n",
       "    </tr>\n",
       "    <tr>\n",
       "      <th>2</th>\n",
       "      <td>2015-08-31 18:57:00</td>\n",
       "      <td>84</td>\n",
       "      <td>2015-08-31</td>\n",
       "    </tr>\n",
       "    <tr>\n",
       "      <th>3</th>\n",
       "      <td>2015-08-31 19:07:00</td>\n",
       "      <td>94</td>\n",
       "      <td>2015-08-31</td>\n",
       "    </tr>\n",
       "    <tr>\n",
       "      <th>4</th>\n",
       "      <td>2015-08-31 19:12:00</td>\n",
       "      <td>90</td>\n",
       "      <td>2015-08-31</td>\n",
       "    </tr>\n",
       "  </tbody>\n",
       "</table>\n",
       "</div>"
      ],
      "text/plain": [
       "            timestamp  value        date\n",
       "0 2015-08-31 18:22:00     90  2015-08-31\n",
       "1 2015-08-31 18:32:00     80  2015-08-31\n",
       "2 2015-08-31 18:57:00     84  2015-08-31\n",
       "3 2015-08-31 19:07:00     94  2015-08-31\n",
       "4 2015-08-31 19:12:00     90  2015-08-31"
      ]
     },
     "execution_count": 17,
     "metadata": {},
     "output_type": "execute_result"
    }
   ],
   "source": [
    "data.head()"
   ]
  },
  {
   "cell_type": "code",
   "execution_count": 18,
   "metadata": {},
   "outputs": [],
   "source": [
    "data_date = data[['value','date']]"
   ]
  },
  {
   "cell_type": "code",
   "execution_count": 19,
   "metadata": {},
   "outputs": [],
   "source": [
    "data_date = data_date.groupby('date').mean()"
   ]
  },
  {
   "cell_type": "code",
   "execution_count": 8,
   "metadata": {},
   "outputs": [],
   "source": [
    "kde = KernelDensity(kernel = 'gaussian', bandwidth = 2).fit(data_date['value'].values.reshape(-1,1))\n",
    "kde.score_samples(data_date['value'].values.reshape(-1,1))\n",
    "data_date['score'] = np.exp(kde.score_samples(data_date['value'].values.reshape(-1,1)))"
   ]
  },
  {
   "cell_type": "code",
   "execution_count": 9,
   "metadata": {},
   "outputs": [
    {
     "data": {
      "text/plain": [
       "[<matplotlib.lines.Line2D at 0x7f619e15f910>]"
      ]
     },
     "execution_count": 9,
     "metadata": {},
     "output_type": "execute_result"
    },
    {
     "data": {
      "image/png": "[encoded data removed]",
      "text/plain": [
       "<Figure size 1296x432 with 1 Axes>"
      ]
     },
     "metadata": {
      "needs_background": "light"
     },
     "output_type": "display_data"
    }
   ],
   "source": [
    "fig,ax = plt.subplots(figsize = (18,6))\n",
    "ax.plot(data_date.index,data_date['score'])"
   ]
  },
  {
   "cell_type": "code",
   "execution_count": 15,
   "metadata": {},
   "outputs": [
    {
     "name": "stdout",
     "output_type": "stream",
     "text": [
      "running time:6.3139379024505615 s\n"
     ]
    },
    {
     "name": "stderr",
     "output_type": "stream",
     "text": [
      "/home/weijunfei/anaconda3/lib/python3.7/site-packages/sklearn/model_selection/_search.py:814: RuntimeWarning: invalid value encountered in subtract\n",
      "  array_means[:, np.newaxis]) ** 2,\n"
     ]
    }
   ],
   "source": [
    "start = time.time()\n",
    "bandwidths = 10 ** np.linspace(-1,1,100)\n",
    "grid = GridSearchCV(KernelDensity(),{ 'bandwidth' : bandwidths, 'kernel' : ['gaussian','tophat','epanechnikov','exponential','linear','cosine']} ,cv =LeaveOneOut())\n",
    "grid.fit(data_date['value'].values.reshape(-1,1))\n",
    "end = time.time()\n",
    "print('running time:'+ str((end - start)) +' s')"
   ]
  },
  {
   "cell_type": "code",
   "execution_count": 16,
   "metadata": {},
   "outputs": [
    {
     "data": {
      "text/plain": [
       "{'bandwidth': 0.9770099572992254, 'kernel': 'exponential'}"
      ]
     },
     "execution_count": 16,
     "metadata": {},
     "output_type": "execute_result"
    }
   ],
   "source": [
    "grid.best_params_"
   ]
  },
  {
   "cell_type": "code",
   "execution_count": 17,
   "metadata": {},
   "outputs": [
    {
     "data": {
      "text/plain": [
       "[<matplotlib.lines.Line2D at 0x7f7b2d59cad0>]"
      ]
     },
     "execution_count": 17,
     "metadata": {},
     "output_type": "execute_result"
    },
    {
     "data": {
      "image/png": "[encoded data removed]",
      "text/plain": [
       "<Figure size 1296x432 with 1 Axes>"
      ]
     },
     "metadata": {
      "needs_background": "light"
     },
     "output_type": "display_data"
    }
   ],
   "source": [
    "kde = KernelDensity(kernel = grid.best_params_['kernel'], bandwidth = 0.9770099572992254).fit(data_date['value'].values.reshape(-1,1))\n",
    "kde.score_samples(data_date['value'].values.reshape(-1,1))\n",
    "data_date['score'] = np.exp(kde.score_samples(data_date['value'].values.reshape(-1,1)))\n",
    "fig,ax = plt.subplots(figsize = (18,6))\n",
    "ax.plot(data_date.index,data_date['score'])"
   ]
  },
  {
   "cell_type": "code",
   "execution_count": 19,
   "metadata": {},
   "outputs": [
    {
     "data": {
      "text/html": [
       "<div>\n",
       "<style scoped>\n",
       "    .dataframe tbody tr th:only-of-type {\n",
       "        vertical-align: middle;\n",
       "    }\n",
       "\n",
       "    .dataframe tbody tr th {\n",
       "        vertical-align: top;\n",
       "    }\n",
       "\n",
       "    .dataframe thead th {\n",
       "        text-align: right;\n",
       "    }\n",
       "</style>\n",
       "<table border=\"1\" class=\"dataframe\">\n",
       "  <thead>\n",
       "    <tr style=\"text-align: right;\">\n",
       "      <th></th>\n",
       "      <th>value</th>\n",
       "      <th>score</th>\n",
       "    </tr>\n",
       "    <tr>\n",
       "      <th>date</th>\n",
       "      <th></th>\n",
       "      <th></th>\n",
       "    </tr>\n",
       "  </thead>\n",
       "  <tbody>\n",
       "    <tr>\n",
       "      <th>2015-08-31</th>\n",
       "      <td>81.043478</td>\n",
       "      <td>0.217329</td>\n",
       "    </tr>\n",
       "    <tr>\n",
       "      <th>2015-09-01</th>\n",
       "      <td>80.734694</td>\n",
       "      <td>0.196722</td>\n",
       "    </tr>\n",
       "    <tr>\n",
       "      <th>2015-09-02</th>\n",
       "      <td>81.375723</td>\n",
       "      <td>0.228359</td>\n",
       "    </tr>\n",
       "    <tr>\n",
       "      <th>2015-09-03</th>\n",
       "      <td>82.480663</td>\n",
       "      <td>0.156893</td>\n",
       "    </tr>\n",
       "    <tr>\n",
       "      <th>2015-09-04</th>\n",
       "      <td>84.068182</td>\n",
       "      <td>0.123692</td>\n",
       "    </tr>\n",
       "  </tbody>\n",
       "</table>\n",
       "</div>"
      ],
      "text/plain": [
       "                value     score\n",
       "date                           \n",
       "2015-08-31  81.043478  0.217329\n",
       "2015-09-01  80.734694  0.196722\n",
       "2015-09-02  81.375723  0.228359\n",
       "2015-09-03  82.480663  0.156893\n",
       "2015-09-04  84.068182  0.123692"
      ]
     },
     "execution_count": 19,
     "metadata": {},
     "output_type": "execute_result"
    }
   ],
   "source": [
    "data_date.head()"
   ]
  },
  {
   "cell_type": "code",
   "execution_count": 18,
   "metadata": {},
   "outputs": [],
   "source": [
    "from scipy import interpolate"
   ]
  },
  {
   "cell_type": "code",
   "execution_count": 22,
   "metadata": {},
   "outputs": [
    {
     "data": {
      "text/html": [
       "<div>\n",
       "<style scoped>\n",
       "    .dataframe tbody tr th:only-of-type {\n",
       "        vertical-align: middle;\n",
       "    }\n",
       "\n",
       "    .dataframe tbody tr th {\n",
       "        vertical-align: top;\n",
       "    }\n",
       "\n",
       "    .dataframe thead th {\n",
       "        text-align: right;\n",
       "    }\n",
       "</style>\n",
       "<table border=\"1\" class=\"dataframe\">\n",
       "  <thead>\n",
       "    <tr style=\"text-align: right;\">\n",
       "      <th></th>\n",
       "      <th>value</th>\n",
       "      <th>score</th>\n",
       "      <th>datetime</th>\n",
       "      <th>timestamp</th>\n",
       "    </tr>\n",
       "    <tr>\n",
       "      <th>date</th>\n",
       "      <th></th>\n",
       "      <th></th>\n",
       "      <th></th>\n",
       "      <th></th>\n",
       "    </tr>\n",
       "  </thead>\n",
       "  <tbody>\n",
       "    <tr>\n",
       "      <th>2015-08-31</th>\n",
       "      <td>81.043478</td>\n",
       "      <td>0.217329</td>\n",
       "      <td>2015-08-31</td>\n",
       "      <td>1440950400</td>\n",
       "    </tr>\n",
       "    <tr>\n",
       "      <th>2015-09-01</th>\n",
       "      <td>80.734694</td>\n",
       "      <td>0.196722</td>\n",
       "      <td>2015-09-01</td>\n",
       "      <td>1441036800</td>\n",
       "    </tr>\n",
       "    <tr>\n",
       "      <th>2015-09-02</th>\n",
       "      <td>81.375723</td>\n",
       "      <td>0.228359</td>\n",
       "      <td>2015-09-02</td>\n",
       "      <td>1441123200</td>\n",
       "    </tr>\n",
       "    <tr>\n",
       "      <th>2015-09-03</th>\n",
       "      <td>82.480663</td>\n",
       "      <td>0.156893</td>\n",
       "      <td>2015-09-03</td>\n",
       "      <td>1441209600</td>\n",
       "    </tr>\n",
       "    <tr>\n",
       "      <th>2015-09-04</th>\n",
       "      <td>84.068182</td>\n",
       "      <td>0.123692</td>\n",
       "      <td>2015-09-04</td>\n",
       "      <td>1441296000</td>\n",
       "    </tr>\n",
       "  </tbody>\n",
       "</table>\n",
       "</div>"
      ],
      "text/plain": [
       "                value     score   datetime   timestamp\n",
       "date                                                  \n",
       "2015-08-31  81.043478  0.217329 2015-08-31  1440950400\n",
       "2015-09-01  80.734694  0.196722 2015-09-01  1441036800\n",
       "2015-09-02  81.375723  0.228359 2015-09-02  1441123200\n",
       "2015-09-03  82.480663  0.156893 2015-09-03  1441209600\n",
       "2015-09-04  84.068182  0.123692 2015-09-04  1441296000"
      ]
     },
     "execution_count": 22,
     "metadata": {},
     "output_type": "execute_result"
    }
   ],
   "source": [
    "data_date['datetime'] = pd.to_datetime(data_date.index)\n",
    "data_date['timestamp'] = data_date.datetime.apply(lambda x :int(time.mktime(x.timetuple())))\n",
    "data_date.head()"
   ]
  },
  {
   "cell_type": "code",
   "execution_count": 21,
   "metadata": {},
   "outputs": [
    {
     "data": {
      "text/plain": [
       "Text(0, 0.5, 'probablity')"
      ]
     },
     "execution_count": 21,
     "metadata": {},
     "output_type": "execute_result"
    },
    {
     "data": {
      "image/png": "[encoded data removed]",
      "text/plain": [
       "<Figure size 864x432 with 1 Axes>"
      ]
     },
     "metadata": {
      "needs_background": "light"
     },
     "output_type": "display_data"
    }
   ],
   "source": [
    "xnew =np.arange(np.min(data_date['timestamp']),np.max(data_date['timestamp']),1)\n",
    "func = interpolate.interp1d(data_date.timestamp,data_date['score'].values,kind='cubic')\n",
    "ynew = func(xnew)\n",
    "fig = plt.figure(figsize = (12,6))\n",
    "plt.plot(xnew,ynew)\n",
    "#plt.xticks(list(data_date['value'].values),list(data_date['datetime'].astype('str').values), size=14, color='grey')\n",
    "plt.xlabel('date')\n",
    "plt.ylabel('probablity')"
   ]
  },
  {
   "cell_type": "markdown",
   "metadata": {},
   "source": [
    "#### HOUR"
   ]
  },
  {
   "cell_type": "code",
   "execution_count": null,
   "metadata": {},
   "outputs": [],
   "source": [
    "data['hour'] = data['timestamp'].dt.hour"
   ]
  },
  {
   "cell_type": "code",
   "execution_count": null,
   "metadata": {},
   "outputs": [],
   "source": [
    "data_hour = data[['hour','value']]\n",
    "data_hour = data_hour.groupby('hour').mean()"
   ]
  },
  {
   "cell_type": "code",
   "execution_count": null,
   "metadata": {},
   "outputs": [],
   "source": [
    "kde = KernelDensity(kernel = 'gaussian', bandwidth = 2).fit(data_hour['value'].values.reshape(-1,1))\n",
    "kde.score_samples(data_hour['value'].values.reshape(-1,1))\n",
    "data_hour['score'] = np.exp(kde.score_samples(data_hour['value'].values.reshape(-1,1)))\n",
    "data_hour.head()"
   ]
  },
  {
   "cell_type": "code",
   "execution_count": null,
   "metadata": {},
   "outputs": [],
   "source": [
    "fig,ax = plt.subplots(figsize = (12,6))\n",
    "ax.plot(data_hour.index,data_hour['score'])"
   ]
  },
  {
   "cell_type": "code",
   "execution_count": null,
   "metadata": {},
   "outputs": [],
   "source": [
    "from scipy import interpolate"
   ]
  },
  {
   "cell_type": "code",
   "execution_count": null,
   "metadata": {},
   "outputs": [],
   "source": [
    "xnew =np.arange(0,23,0.1)\n",
    "func = interpolate.interp1d(data_hour.index,data_hour['score'].values,kind='cubic')\n",
    "ynew = func(xnew)\n",
    "plt.plot(xnew,ynew)\n",
    "plt.xlabel('hour')\n",
    "plt.ylabel('probablity')"
   ]
  },
  {
   "cell_type": "markdown",
   "metadata": {},
   "source": [
    "#### WEEKDAY"
   ]
  },
  {
   "cell_type": "code",
   "execution_count": null,
   "metadata": {},
   "outputs": [],
   "source": [
    "data['weekday'] = data['timestamp'].dt.weekday"
   ]
  },
  {
   "cell_type": "code",
   "execution_count": null,
   "metadata": {},
   "outputs": [],
   "source": [
    "data_weekday = data[['weekday','value']]\n",
    "data_weekday = data_weekday.groupby('weekday').mean()"
   ]
  },
  {
   "cell_type": "code",
   "execution_count": null,
   "metadata": {},
   "outputs": [],
   "source": [
    "kde = KernelDensity(kernel = 'gaussian', bandwidth = 2).fit(data_weekday['value'].values.reshape(-1,1))\n",
    "kde.score_samples(data_weekday['value'].values.reshape(-1,1))\n",
    "data_weekday['score'] = np.exp(kde.score_samples(data_weekday['value'].values.reshape(-1,1)))\n",
    "data_weekday.head()"
   ]
  },
  {
   "cell_type": "code",
   "execution_count": null,
   "metadata": {},
   "outputs": [],
   "source": [
    "fig,ax = plt.subplots(figsize = (12,6))\n",
    "ax.plot(data_weekday.index,data_weekday['score'])"
   ]
  },
  {
   "cell_type": "code",
   "execution_count": null,
   "metadata": {},
   "outputs": [],
   "source": [
    "xnew =np.arange(0,6,0.1)\n",
    "func = interpolate.interp1d(data_weekday.index,data_weekday['score'].values,kind='cubic')\n",
    "ynew = func(xnew)\n",
    "plt.plot(xnew,ynew)\n",
    "plt.xlabel('weekday')\n",
    "plt.ylabel('probablity')"
   ]
  },
  {
   "cell_type": "code",
   "execution_count": null,
   "metadata": {},
   "outputs": [],
   "source": []
  }
 ],
 "metadata": {
  "kernelspec": {
   "display_name": "Python 3",
   "language": "python",
   "name": "python3"
  },
  "language_info": {
   "codemirror_mode": {
    "name": "ipython",
    "version": 3
   },
   "file_extension": ".py",
   "mimetype": "text/x-python",
   "name": "python",
   "nbconvert_exporter": "python",
   "pygments_lexer": "ipython3",
   "version": "3.7.6"
  }
 },
 "nbformat": 4,
 "nbformat_minor": 4
}
