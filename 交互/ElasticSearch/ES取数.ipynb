{
 "cells": [
  {
   "cell_type": "code",
   "execution_count": 1,
   "metadata": {
    "tags": []
   },
   "outputs": [],
   "source": [
    "from elasticsearch import Elasticsearch, helpers\n",
    "import json, datetime"
   ]
  },
  {
   "cell_type": "code",
   "execution_count": 2,
   "metadata": {
    "tags": []
   },
   "outputs": [],
   "source": [
    "elastic = {}\n",
    "elastic['http'] = '192.168.50.110:19200'\n",
    "elastic['index'] = 'dc_span'"
   ]
  },
  {
   "cell_type": "code",
   "execution_count": null,
   "metadata": {
    "tags": []
   },
   "outputs": [],
   "source": [
    "es = Elasticsearch(\n",
    "            elastic['http'], \n",
    "#             timeout=30, \n",
    "#             max_retries=10, \n",
    "#             retry_on_timeout=True\n",
    "        )"
   ]
  },
  {
   "cell_type": "code",
   "execution_count": 4,
   "metadata": {},
   "outputs": [
    {
     "data": {
      "text/plain": [
       "True"
      ]
     },
     "execution_count": 4,
     "metadata": {},
     "output_type": "execute_result"
    }
   ],
   "source": [
    "es.ping()"
   ]
  },
  {
   "cell_type": "code",
   "execution_count": 5,
   "metadata": {},
   "outputs": [
    {
     "data": {
      "text/plain": [
       "{'name': 'node107',\n",
       " 'cluster_name': 'databuff',\n",
       " 'cluster_uuid': '1E5Tv19MTricEHsSuqZfsQ',\n",
       " 'version': {'number': '7.17.1',\n",
       "  'build_flavor': 'default',\n",
       "  'build_type': 'docker',\n",
       "  'build_hash': 'e5acb99f822233d62d6444ce45a4543dc1c8059a',\n",
       "  'build_date': '2022-02-23T22:20:54.153567231Z',\n",
       "  'build_snapshot': False,\n",
       "  'lucene_version': '8.11.1',\n",
       "  'minimum_wire_compatibility_version': '6.8.0',\n",
       "  'minimum_index_compatibility_version': '6.0.0-beta1'},\n",
       " 'tagline': 'You Know, for Search'}"
      ]
     },
     "execution_count": 5,
     "metadata": {},
     "output_type": "execute_result"
    }
   ],
   "source": [
    "es.info()"
   ]
  },
  {
   "cell_type": "markdown",
   "metadata": {},
   "source": [
    "## 查询某个范围的数据"
   ]
  },
  {
   "cell_type": "code",
   "execution_count": 18,
   "metadata": {},
   "outputs": [],
   "source": [
    "body = {\n",
    "    \"query\":{\n",
    "        \"range\":{\n",
    "            \"timestamp\":{\n",
    "                \"gte\":1649263925,       # >=18\n",
    "                \"lte\":1649268125        # <=30\n",
    "            }\n",
    "        }\n",
    "    }\n",
    "}\n",
    "# 查询18<=age<=30的所有数据\n",
    "data = es.search(index=\"dc_agent_checks_20220407\",doc_type=\"_doc\",body=body)['hits']['hits']\n"
   ]
  },
  {
   "cell_type": "code",
   "execution_count": 20,
   "metadata": {},
   "outputs": [
    {
     "data": {
      "text/plain": [
       "{'_index': 'dc_agent_checks_20220407',\n",
       " '_type': '_doc',\n",
       " '_id': 'qeLK_38B-uvFIZjFWd2D',\n",
       " '_score': 1.0,\n",
       " '_source': {'agent_checks': [['disk',\n",
       "    'disk',\n",
       "    'disk:e5dffb8bef24336f',\n",
       "    'OK',\n",
       "    ''],\n",
       "   ['network', 'network', 'network:309e288096154402', 'OK', ''],\n",
       "   ['cpu', 'cpu', 'cpu', 'OK', ''],\n",
       "   ['ntp', 'ntp', 'ntp:d884b5186b651429', 'OK', ''],\n",
       "   ['file_handle', 'file_handle', 'file_handle', 'OK', ''],\n",
       "   ['io', 'io', 'io', 'OK', ''],\n",
       "   ['redisdb', 'redisdb', 'redisdb:992065597163bd7e', 'OK', ''],\n",
       "   ['uptime', 'uptime', 'uptime', 'OK', ''],\n",
       "   ['system_core', 'system_core', 'system_core:d884b5186b651429', 'OK', ''],\n",
       "   ['docker', 'docker', 'docker', 'OK', ''],\n",
       "   ['mysql',\n",
       "    'mysql',\n",
       "    'mysql:4d39010ce2e83f7d',\n",
       "    'ERROR',\n",
       "    '[{\"message\": \"(2003, \\\\\"Can\\'t connect to MySQL server on \\'127.0.0.1\\' ([Errno 111] Connection refused)\\\\\")\", \"traceback\": \"Traceback (most recent call last):\\\\n  File \\\\\"/opt/databuff-agent/embedded/lib/python3.8/site-packages/pymysql/connections.py\\\\\", line 581, in connect\\\\n    sock = socket.create_connection(\\\\n  File \\\\\"/opt/databuff-agent/embedded/lib/python3.8/socket.py\\\\\", line 808, in create_connection\\\\n    raise err\\\\n  File \\\\\"/opt/databuff-agent/embedded/lib/python3.8/socket.py\\\\\", line 796, in create_connection\\\\n    sock.connect(sa)\\\\nConnectionRefusedError: [Errno 111] Connection refused\\\\n\\\\nDuring handling of the above exception, another exception occurred:\\\\n\\\\nTraceback (most recent call last):\\\\n  File \\\\\"/opt/databuff-agent/embedded/lib/python3.8/site-packages/databuff_checks/base/checks/base.py\\\\\", line 993, in run\\\\n    self.check(instance)\\\\n  File \\\\\"/opt/databuff-agent/embedded/lib/python3.8/site-packages/databuff_checks/mysql/mysql.py\\\\\", line 107, in check\\\\n    with self._connect() as db:\\\\n  File \\\\\"/opt/databuff-agent/embedded/lib/python3.8/contextlib.py\\\\\", line 113, in __enter__\\\\n    return next(self.gen)\\\\n  File \\\\\"/opt/databuff-agent/embedded/lib/python3.8/site-packages/databuff_checks/mysql/mysql.py\\\\\", line 202, in _connect\\\\n    db = pymysql.connect(**connect_args)\\\\n  File \\\\\"/opt/databuff-agent/embedded/lib/python3.8/site-packages/pymysql/__init__.py\\\\\", line 94, in Connect\\\\n    return Connection(*args, **kwargs)\\\\n  File \\\\\"/opt/databuff-agent/embedded/lib/python3.8/site-packages/pymysql/connections.py\\\\\", line 325, in __init__\\\\n    self.connect()\\\\n  File \\\\\"/opt/databuff-agent/embedded/lib/python3.8/site-packages/pymysql/connections.py\\\\\", line 630, in connect\\\\n    raise exc\\\\npymysql.err.OperationalError: (2003, \\\\\"Can\\'t connect to MySQL server on \\'127.0.0.1\\' ([Errno 111] Connection refused)\\\\\")\\\\n\"}]'],\n",
       "   ['elastic', 'elastic', 'elastic:a02d94e5a3626606', 'OK', ''],\n",
       "   ['elastic', 'elastic', 'elastic:25330dc13860431a', 'OK', ''],\n",
       "   ['load', 'load', 'load', 'OK', ''],\n",
       "   ['memory', 'memory', 'memory', 'OK', '']],\n",
       "  'apiKey': 'f186854e-8cad-3dfb-942a-dabf985c44e3',\n",
       "  'meta': {'hostname': '107host',\n",
       "   'timezones': ['CST'],\n",
       "   'ec2-hostname': '',\n",
       "   'socket-fqdn': '107host',\n",
       "   'host_aliases': [],\n",
       "   'instance-id': '',\n",
       "   'socket-hostname': '107host'},\n",
       "  'dd-api-key': 'f186854e-8cad-3dfb-942a-dabf985c44e3',\n",
       "  'agentVersion': '2.3.0-1-dev',\n",
       "  'internalHostname': '107host',\n",
       "  'uuid': '6c3f4d56-6ad3-5a63-9b22-f94ce8d2938d',\n",
       "  'external_host_tags': [],\n",
       "  'timestamp': 1649263925,\n",
       "  'x-dd-hostname': '107host',\n",
       "  'user-agent': 'databuff-agent/2.3.0-1-dev'}}"
      ]
     },
     "execution_count": 20,
     "metadata": {},
     "output_type": "execute_result"
    }
   ],
   "source": [
    "data[0]"
   ]
  },
  {
   "cell_type": "markdown",
   "metadata": {},
   "source": [
    "## 模糊查询"
   ]
  },
  {
   "cell_type": "code",
   "execution_count": 2,
   "metadata": {
    "tags": []
   },
   "outputs": [],
   "source": [
    "es = Elasticsearch(\n",
    "    headers={'cluster_name': \"databuff\"},\n",
    "    hosts=f\"http://192.168.50.110:19200\",\n",
    "    basic_auth=(\n",
    "        \"elastic\",\n",
    "        \"Databuff@123\",\n",
    "    ),\n",
    "    connections_per_node = 9999\n",
    ")"
   ]
  },
  {
   "cell_type": "code",
   "execution_count": 48,
   "metadata": {
    "tags": []
   },
   "outputs": [],
   "source": [
    "query = {\n",
    "    \"query\": {\n",
    "        \"bool\": {\n",
    "            \"must\": [\n",
    "                {\n",
    "                    \"range\": {\n",
    "                        \"timestamp\": {\n",
    "                            \"gt\": 1687944540 -180,\n",
    "                            \"lt\": 1687944540 +180\n",
    "                        }\n",
    "                    }\n",
    "                },\n",
    "            ]\n",
    "        }\n",
    "    }\n",
    "}"
   ]
  },
  {
   "cell_type": "code",
   "execution_count": 49,
   "metadata": {
    "tags": []
   },
   "outputs": [
    {
     "name": "stderr",
     "output_type": "stream",
     "text": [
      "/tmp/ipykernel_43492/2958269756.py:1: DeprecationWarning: The 'body' parameter is deprecated and will be removed in a future version. Instead use individual parameters.\n",
      "  data = es.search(index=\"dc_rca_20230628\",body=query)\n"
     ]
    }
   ],
   "source": [
    "data = es.search(index=\"dc_rca_20230628\",body=query)"
   ]
  },
  {
   "cell_type": "code",
   "execution_count": 50,
   "metadata": {
    "tags": []
   },
   "outputs": [
    {
     "data": {
      "text/plain": [
       "[{'_index': 'dc_rca_20230628',\n",
       "  '_type': '_doc',\n",
       "  '_id': 'SPhWAYkBORD2vlQViwKB',\n",
       "  '_score': 1.0,\n",
       "  '_source': {'eventId': '57191a2ced2e4cdeM651',\n",
       "   'fault_tree': '{\"nodes\": [{\"id\": \"TnpoRU1qbEJPVGszTXpreFJqazVNalF5TXpNelF6STR8ZGZ0YXNrOjpvdGVsW2RhY2hlbmdub2RlMTExXQ==\", \"type\": \"service\", \"pid\": \"45a13e314e6c1044f9edc3896f1b7c01d36fb194e8fd48ad025e0941bf446354\"}, {\"id\": \"TnpoRU1qbEJPVGszTXpreFJqazVNalF5TXpNelF6STR8ZWxhc3RpY3NlYXJjaA==\", \"type\": \"service\", \"pid\": null}, {\"id\": \"TnpoRU1qbEJPVGszTXpreFJqazVNalF5TXpNelF6STR8ZWxhc3RpY3NlYXJjaC1zdmM=\", \"type\": \"service\", \"pid\": null}, {\"id\": \"TnpoRU1qbEJPVGszTXpreFJqazVNalF5TXpNelF6STR8ZGMtd2ViYXBwOjprOHNbazhzLTJd\", \"type\": \"service\", \"pid\": \"bc2aa1fd514d8074a76e440cd378687a\"}, {\"id\": \"TnpoRU1qbEJPVGszTXpreFJqazVNalF5TXpNelF6STR8cnVuMTE5OjpweV9hcHBfc2VydmVyWzExOWhvc3Rd\", \"type\": \"service\", \"pid\": \"b377ddb13fdc74b4df70625bac2fb655\"}], \"edges\": [{\"children\": \"TnpoRU1qbEJPVGszTXpreFJqazVNalF5TXpNelF6STR8ZWxhc3RpY3NlYXJjaA==\", \"parent\": \"TnpoRU1qbEJPVGszTXpreFJqazVNalF5TXpNelF6STR8ZWxhc3RpY3NlYXJjaC1zdmM=\", \"tag\": 1}, {\"children\": \"TnpoRU1qbEJPVGszTXpreFJqazVNalF5TXpNelF6STR8cnVuMTE5OjpweV9hcHBfc2VydmVyWzExOWhvc3Rd\", \"parent\": \"TnpoRU1qbEJPVGszTXpreFJqazVNalF5TXpNelF6STR8cnVuMTE5OjpweV9hcHBfc2VydmVyWzExOWhvc3Rd\", \"tag\": 1}, {\"children\": \"TnpoRU1qbEJPVGszTXpreFJqazVNalF5TXpNelF6STR8ZGZ0YXNrOjpvdGVsW2RhY2hlbmdub2RlMTExXQ==\", \"parent\": \"TnpoRU1qbEJPVGszTXpreFJqazVNalF5TXpNelF6STR8ZWxhc3RpY3NlYXJjaA==\", \"tag\": 1}, {\"children\": \"TnpoRU1qbEJPVGszTXpreFJqazVNalF5TXpNelF6STR8ZWxhc3RpY3NlYXJjaA==\", \"parent\": \"TnpoRU1qbEJPVGszTXpreFJqazVNalF5TXpNelF6STR8cnVuMTE5OjpweV9hcHBfc2VydmVyWzExOWhvc3Rd\", \"tag\": 1}, {\"children\": \"TnpoRU1qbEJPVGszTXpreFJqazVNalF5TXpNelF6STR8ZWxhc3RpY3NlYXJjaC1zdmM=\", \"parent\": \"TnpoRU1qbEJPVGszTXpreFJqazVNalF5TXpNelF6STR8ZGMtd2ViYXBwOjprOHNbazhzLTJd\", \"tag\": 1}], \"nodes_tag\": {\"TnpoRU1qbEJPVGszTXpreFJqazVNalF5TXpNelF6STR8ZGZ0YXNrOjpvdGVsW2RhY2hlbmdub2RlMTExXQ==\": {\"TnpoRU1qbEJPVGszTXpreFJqazVNalF5TXpNelF6STR8ZGZ0YXNrOjpvdGVsW2RhY2hlbmdub2RlMTExXQ==\": 2, \"TnpoRU1qbEJPVGszTXpreFJqazVNalF5TXpNelF6STR8ZWxhc3RpY3NlYXJjaA==\": 1, \"TnpoRU1qbEJPVGszTXpreFJqazVNalF5TXpNelF6STR8ZWxhc3RpY3NlYXJjaC1zdmM=\": 0, \"TnpoRU1qbEJPVGszTXpreFJqazVNalF5TXpNelF6STR8ZGMtd2ViYXBwOjprOHNbazhzLTJd\": 0, \"TnpoRU1qbEJPVGszTXpreFJqazVNalF5TXpNelF6STR8cnVuMTE5OjpweV9hcHBfc2VydmVyWzExOWhvc3Rd\": 0}}}',\n",
       "   'resource': '*',\n",
       "   'dd-api-key': 'NzhEMjlBOTk3MzkxRjk5MjQyMzMzQzI4',\n",
       "   'unique_key': 651,\n",
       "   'groupId': 13682,\n",
       "   'description': '【警告】当前服务所有请求的平均延迟达到41.9516毫秒,高于静态阈值14.0毫秒',\n",
       "   'duration': 1,\n",
       "   'rca': [{'root_type': 'service_id',\n",
       "     'root_kpi': {'host_id': 'cd1d469aaf3201921624efdb931246bf',\n",
       "      'container_id': '45a13e314e6c1044f9edc3896f1b7c01d36fb194e8fd48ad025e0941bf446354'},\n",
       "     'method': 'change',\n",
       "     'root_id': 'TnpoRU1qbEJPVGszTXpreFJqazVNalF5TXpNelF6STR8ZGZ0YXNrOjpvdGVsW2RhY2hlbmdub2RlMTExXQ==',\n",
       "     'metrics': '[]'}],\n",
       "   'event_type': '平均延迟偏高',\n",
       "   'service_id': 'TnpoRU1qbEJPVGszTXpreFJqazVNalF5TXpNelF6STR8ZWxhc3RpY3NlYXJjaA==',\n",
       "   'influenced_infrastructure': [],\n",
       "   'event_name': '领导建的监控 服务avgreptime告警了',\n",
       "   'influenced_service': ['TnpoRU1qbEJPVGszTXpreFJqazVNalF5TXpNelF6STR8ZGZ0YXNrOjpvdGVsW2RhY2hlbmdub2RlMTExXQ==',\n",
       "    'TnpoRU1qbEJPVGszTXpreFJqazVNalF5TXpNelF6STR8ZWxhc3RpY3NlYXJjaA=='],\n",
       "   'timestamp': 1687944420}},\n",
       " {'_index': 'dc_rca_20230628',\n",
       "  '_type': '_doc',\n",
       "  '_id': '1vlaAYkBORD2vlQVNJ22',\n",
       "  '_score': 1.0,\n",
       "  '_ignored': ['fault_tree'],\n",
       "  '_source': {'eventId': '2fd134b02558450fM651',\n",
       "   'fault_tree': '{\"nodes\": [{\"id\": \"TnpoRU1qbEJPVGszTXpreFJqazVNalF5TXpNelF6STR8ZGZ0YXNrOjpvdGVsW2RhY2hlbmdub2RlMTExXQ==\", \"type\": \"service\", \"pid\": \"45a13e314e6c1044f9edc3896f1b7c01d36fb194e8fd48ad025e0941bf446354\"}, {\"id\": \"TnpoRU1qbEJPVGszTXpreFJqazVNalF5TXpNelF6STR8ZGZ3YWJhcHA6Om90ZWxbZGFjaGVuZ25vZGUxMTFd\", \"type\": \"service\", \"pid\": \"fb4c54f9f01894db2da139a7783982cceca6090839877dd8ccbfd69d1e84623c\"}, {\"id\": \"TnpoRU1qbEJPVGszTXpreFJqazVNalF5TXpNelF6STR8ZWxhc3RpY3NlYXJjaA==\", \"type\": \"service\", \"pid\": null}, {\"id\": \"TnpoRU1qbEJPVGszTXpreFJqazVNalF5TXpNelF6STR8ZWxhc3RpY3NlYXJjaC1zdmM=\", \"type\": \"service\", \"pid\": null}, {\"id\": \"TnpoRU1qbEJPVGszTXpreFJqazVNalF5TXpNelF6STR8ZGMtd2ViYXBwOjprOHNbazhzLTJd\", \"type\": \"service\", \"pid\": \"bc2aa1fd514d8074a76e440cd378687a\"}, {\"id\": \"TnpoRU1qbEJPVGszTXpreFJqazVNalF5TXpNelF6STR8cnVuMTE5OjpweV9hcHBfc2VydmVyWzExOWhvc3Rd\", \"type\": \"service\", \"pid\": \"b377ddb13fdc74b4df70625bac2fb655\"}], \"edges\": [{\"children\": \"TnpoRU1qbEJPVGszTXpreFJqazVNalF5TXpNelF6STR8ZGZ3YWJhcHA6Om90ZWxbZGFjaGVuZ25vZGUxMTFd\", \"parent\": \"TnpoRU1qbEJPVGszTXpreFJqazVNalF5TXpNelF6STR8ZGZ3YWJhcHA6Om90ZWxbZGFjaGVuZ25vZGUxMTFd\", \"tag\": 1}, {\"children\": \"TnpoRU1qbEJPVGszTXpreFJqazVNalF5TXpNelF6STR8ZWxhc3RpY3NlYXJjaA==\", \"parent\": \"TnpoRU1qbEJPVGszTXpreFJqazVNalF5TXpNelF6STR8ZWxhc3RpY3NlYXJjaC1zdmM=\", \"tag\": 1}, {\"children\": \"TnpoRU1qbEJPVGszTXpreFJqazVNalF5TXpNelF6STR8cnVuMTE5OjpweV9hcHBfc2VydmVyWzExOWhvc3Rd\", \"parent\": \"TnpoRU1qbEJPVGszTXpreFJqazVNalF5TXpNelF6STR8cnVuMTE5OjpweV9hcHBfc2VydmVyWzExOWhvc3Rd\", \"tag\": 1}, {\"children\": \"TnpoRU1qbEJPVGszTXpreFJqazVNalF5TXpNelF6STR8ZGZ0YXNrOjpvdGVsW2RhY2hlbmdub2RlMTExXQ==\", \"parent\": \"TnpoRU1qbEJPVGszTXpreFJqazVNalF5TXpNelF6STR8ZWxhc3RpY3NlYXJjaA==\", \"tag\": 1}, {\"children\": \"TnpoRU1qbEJPVGszTXpreFJqazVNalF5TXpNelF6STR8ZWxhc3RpY3NlYXJjaA==\", \"parent\": \"TnpoRU1qbEJPVGszTXpreFJqazVNalF5TXpNelF6STR8cnVuMTE5OjpweV9hcHBfc2VydmVyWzExOWhvc3Rd\", \"tag\": 1}, {\"children\": \"TnpoRU1qbEJPVGszTXpreFJqazVNalF5TXpNelF6STR8ZGZ3YWJhcHA6Om90ZWxbZGFjaGVuZ25vZGUxMTFd\", \"parent\": \"TnpoRU1qbEJPVGszTXpreFJqazVNalF5TXpNelF6STR8ZWxhc3RpY3NlYXJjaA==\", \"tag\": 1}, {\"children\": \"TnpoRU1qbEJPVGszTXpreFJqazVNalF5TXpNelF6STR8ZWxhc3RpY3NlYXJjaA==\", \"parent\": \"TnpoRU1qbEJPVGszTXpreFJqazVNalF5TXpNelF6STR8ZGZ3YWJhcHA6Om90ZWxbZGFjaGVuZ25vZGUxMTFd\", \"tag\": 1}, {\"children\": \"TnpoRU1qbEJPVGszTXpreFJqazVNalF5TXpNelF6STR8ZWxhc3RpY3NlYXJjaC1zdmM=\", \"parent\": \"TnpoRU1qbEJPVGszTXpreFJqazVNalF5TXpNelF6STR8ZGMtd2ViYXBwOjprOHNbazhzLTJd\", \"tag\": 1}], \"nodes_tag\": {\"TnpoRU1qbEJPVGszTXpreFJqazVNalF5TXpNelF6STR8ZGZ0YXNrOjpvdGVsW2RhY2hlbmdub2RlMTExXQ==\": {\"TnpoRU1qbEJPVGszTXpreFJqazVNalF5TXpNelF6STR8ZGZ0YXNrOjpvdGVsW2RhY2hlbmdub2RlMTExXQ==\": 2, \"TnpoRU1qbEJPVGszTXpreFJqazVNalF5TXpNelF6STR8ZGZ3YWJhcHA6Om90ZWxbZGFjaGVuZ25vZGUxMTFd\": 0, \"TnpoRU1qbEJPVGszTXpreFJqazVNalF5TXpNelF6STR8ZWxhc3RpY3NlYXJjaA==\": 1, \"TnpoRU1qbEJPVGszTXpreFJqazVNalF5TXpNelF6STR8ZWxhc3RpY3NlYXJjaC1zdmM=\": 0, \"TnpoRU1qbEJPVGszTXpreFJqazVNalF5TXpNelF6STR8ZGMtd2ViYXBwOjprOHNbazhzLTJd\": 0, \"TnpoRU1qbEJPVGszTXpreFJqazVNalF5TXpNelF6STR8cnVuMTE5OjpweV9hcHBfc2VydmVyWzExOWhvc3Rd\": 0}}}',\n",
       "   'resource': '*',\n",
       "   'dd-api-key': 'NzhEMjlBOTk3MzkxRjk5MjQyMzMzQzI4',\n",
       "   'unique_key': 651,\n",
       "   'groupId': 13686,\n",
       "   'description': '【警告】当前服务所有请求的平均延迟达到88.4428毫秒,高于静态阈值14.0毫秒',\n",
       "   'duration': 1,\n",
       "   'rca': [{'root_type': 'service_id',\n",
       "     'root_kpi': {'host_id': 'cd1d469aaf3201921624efdb931246bf',\n",
       "      'container_id': '45a13e314e6c1044f9edc3896f1b7c01d36fb194e8fd48ad025e0941bf446354'},\n",
       "     'method': 'change',\n",
       "     'root_id': 'TnpoRU1qbEJPVGszTXpreFJqazVNalF5TXpNelF6STR8ZGZ0YXNrOjpvdGVsW2RhY2hlbmdub2RlMTExXQ==',\n",
       "     'metrics': '[]'}],\n",
       "   'event_type': '平均延迟偏高',\n",
       "   'service_id': 'TnpoRU1qbEJPVGszTXpreFJqazVNalF5TXpNelF6STR8ZWxhc3RpY3NlYXJjaA==',\n",
       "   'influenced_infrastructure': [],\n",
       "   'event_name': '领导建的监控 服务avgreptime告警了',\n",
       "   'influenced_service': ['TnpoRU1qbEJPVGszTXpreFJqazVNalF5TXpNelF6STR8ZGZ0YXNrOjpvdGVsW2RhY2hlbmdub2RlMTExXQ==',\n",
       "    'TnpoRU1qbEJPVGszTXpreFJqazVNalF5TXpNelF6STR8ZWxhc3RpY3NlYXJjaA=='],\n",
       "   'timestamp': 1687944660}},\n",
       " {'_index': 'dc_rca_20230628',\n",
       "  '_type': '_doc',\n",
       "  '_id': 'jvhWAYkBORD2vlQV1iSF',\n",
       "  '_score': 1.0,\n",
       "  '_source': {'eventId': '460e5d13ba1b42c8M654',\n",
       "   'resource': '*',\n",
       "   'dd-api-key': 'NzhEMjlBOTk3MzkxRjk5MjQyMzMzQzI4',\n",
       "   'unique_key': 654,\n",
       "   'groupId': 13684,\n",
       "   'description': '【紧急】当前服务的每分钟请求数达到152.0,高于静态阈值0.0001',\n",
       "   'duration': 1,\n",
       "   'event_type': '每分钟请求数偏高',\n",
       "   'service_id': 'TnpoRU1qbEJPVGszTXpreFJqazVNalF5TXpNelF6STR8bXlzcWxbZGV2MjEyXQ==',\n",
       "   'influenced_infrastructure': [],\n",
       "   'event_name': '研发领导建的服务每分钟请求数监控',\n",
       "   'influenced_service': ['TnpoRU1qbEJPVGszTXpreFJqazVNalF5TXpNelF6STR8bXlzcWxbZGV2MjEyXQ=='],\n",
       "   'timestamp': 1687944420}},\n",
       " {'_index': 'dc_rca_20230628',\n",
       "  '_type': '_doc',\n",
       "  '_id': 'QvhWAYkBORD2vlQVrxpy',\n",
       "  '_score': 1.0,\n",
       "  '_source': {'eventId': '47b33be15cfd4dd0M903',\n",
       "   'resource': '*',\n",
       "   'dd-api-key': 'NzhEMjlBOTk3MzkxRjk5MjQyMzMzQzI4',\n",
       "   'unique_key': 903,\n",
       "   'groupId': 13683,\n",
       "   'description': '【紧急】当前服务的每分钟请求数达到279.0,高于静态阈值0.0002',\n",
       "   'duration': 1,\n",
       "   'event_type': '每分钟请求数偏高',\n",
       "   'service_id': '4f1caa4959f4a198d10bdb9751d21482',\n",
       "   'influenced_infrastructure': [],\n",
       "   'event_name': 'host110上的应用服务jobmanager[host110]每分钟请求大于每分钟请求数>200.00',\n",
       "   'influenced_service': ['4f1caa4959f4a198d10bdb9751d21482'],\n",
       "   'timestamp': 1687944420}},\n",
       " {'_index': 'dc_rca_20230628',\n",
       "  '_type': '_doc',\n",
       "  '_id': '1PlZAYkBORD2vlQVRzOO',\n",
       "  '_score': 1.0,\n",
       "  '_source': {'eventId': 'a92f01bfcbae4991M903',\n",
       "   'resource': '*',\n",
       "   'dd-api-key': 'NzhEMjlBOTk3MzkxRjk5MjQyMzMzQzI4',\n",
       "   'unique_key': 903,\n",
       "   'groupId': 13685,\n",
       "   'description': '【紧急】当前服务的每分钟请求数达到246.0,高于静态阈值0.0002',\n",
       "   'duration': 1,\n",
       "   'event_type': '每分钟请求数偏高',\n",
       "   'service_id': '4f1caa4959f4a198d10bdb9751d21482',\n",
       "   'influenced_infrastructure': [],\n",
       "   'event_name': 'host110上的应用服务jobmanager[host110]每分钟请求大于每分钟请求数>200.00',\n",
       "   'influenced_service': ['4f1caa4959f4a198d10bdb9751d21482'],\n",
       "   'timestamp': 1687944600}},\n",
       " {'_index': 'dc_rca_20230628',\n",
       "  '_type': '_doc',\n",
       "  '_id': 'yvlaAYkBORD2vlQVWaok',\n",
       "  '_score': 1.0,\n",
       "  '_source': {'eventId': '3407d42bfa454943M903',\n",
       "   'resource': '*',\n",
       "   'dd-api-key': 'NzhEMjlBOTk3MzkxRjk5MjQyMzMzQzI4',\n",
       "   'unique_key': 903,\n",
       "   'groupId': 13685,\n",
       "   'description': '【紧急】当前服务的每分钟请求数达到219.0,高于静态阈值0.0002',\n",
       "   'duration': 1,\n",
       "   'event_type': '每分钟请求数偏高',\n",
       "   'service_id': '4f1caa4959f4a198d10bdb9751d21482',\n",
       "   'influenced_infrastructure': [],\n",
       "   'event_name': 'host110上的应用服务jobmanager[host110]每分钟请求大于每分钟请求数>200.00',\n",
       "   'influenced_service': ['4f1caa4959f4a198d10bdb9751d21482'],\n",
       "   'timestamp': 1687944660}},\n",
       " {'_index': 'dc_rca_20230628',\n",
       "  '_type': '_doc',\n",
       "  '_id': '_hDzBYkBORD2vlQVIT0w',\n",
       "  '_score': 1.0,\n",
       "  '_source': {'eventId': '5c1a9aa91da84209M651',\n",
       "   'fault_tree': '{\"nodes\": [{\"id\": \"TnpoRU1qbEJPVGszTXpreFJqazVNalF5TXpNelF6STR8ZGZ0YXNrOjpvdGVsW2RhY2hlbmdub2RlMTExXQ==\", \"type\": \"service\", \"pid\": \"45a13e314e6c1044f9edc3896f1b7c01d36fb194e8fd48ad025e0941bf446354\"}, {\"id\": \"TnpoRU1qbEJPVGszTXpreFJqazVNalF5TXpNelF6STR8ZWxhc3RpY3NlYXJjaA==\", \"type\": \"service\", \"pid\": null}, {\"id\": \"TnpoRU1qbEJPVGszTXpreFJqazVNalF5TXpNelF6STR8ZWxhc3RpY3NlYXJjaC1zdmM=\", \"type\": \"service\", \"pid\": null}, {\"id\": \"TnpoRU1qbEJPVGszTXpreFJqazVNalF5TXpNelF6STR8ZGMtd2ViYXBwOjprOHNbazhzLTJd\", \"type\": \"service\", \"pid\": \"bc2aa1fd514d8074a76e440cd378687a\"}, {\"id\": \"TnpoRU1qbEJPVGszTXpreFJqazVNalF5TXpNelF6STR8cnVuMTE5OjpweV9hcHBfc2VydmVyWzExOWhvc3Rd\", \"type\": \"service\", \"pid\": \"b377ddb13fdc74b4df70625bac2fb655\"}], \"edges\": [{\"children\": \"TnpoRU1qbEJPVGszTXpreFJqazVNalF5TXpNelF6STR8ZWxhc3RpY3NlYXJjaA==\", \"parent\": \"TnpoRU1qbEJPVGszTXpreFJqazVNalF5TXpNelF6STR8ZWxhc3RpY3NlYXJjaC1zdmM=\", \"tag\": 1}, {\"children\": \"TnpoRU1qbEJPVGszTXpreFJqazVNalF5TXpNelF6STR8cnVuMTE5OjpweV9hcHBfc2VydmVyWzExOWhvc3Rd\", \"parent\": \"TnpoRU1qbEJPVGszTXpreFJqazVNalF5TXpNelF6STR8cnVuMTE5OjpweV9hcHBfc2VydmVyWzExOWhvc3Rd\", \"tag\": 1}, {\"children\": \"TnpoRU1qbEJPVGszTXpreFJqazVNalF5TXpNelF6STR8ZGZ0YXNrOjpvdGVsW2RhY2hlbmdub2RlMTExXQ==\", \"parent\": \"TnpoRU1qbEJPVGszTXpreFJqazVNalF5TXpNelF6STR8ZWxhc3RpY3NlYXJjaA==\", \"tag\": 1}, {\"children\": \"TnpoRU1qbEJPVGszTXpreFJqazVNalF5TXpNelF6STR8ZWxhc3RpY3NlYXJjaA==\", \"parent\": \"TnpoRU1qbEJPVGszTXpreFJqazVNalF5TXpNelF6STR8cnVuMTE5OjpweV9hcHBfc2VydmVyWzExOWhvc3Rd\", \"tag\": 1}, {\"children\": \"TnpoRU1qbEJPVGszTXpreFJqazVNalF5TXpNelF6STR8ZWxhc3RpY3NlYXJjaC1zdmM=\", \"parent\": \"TnpoRU1qbEJPVGszTXpreFJqazVNalF5TXpNelF6STR8ZGMtd2ViYXBwOjprOHNbazhzLTJd\", \"tag\": 1}], \"nodes_tag\": {\"TnpoRU1qbEJPVGszTXpreFJqazVNalF5TXpNelF6STR8ZGZ0YXNrOjpvdGVsW2RhY2hlbmdub2RlMTExXQ==\": {\"TnpoRU1qbEJPVGszTXpreFJqazVNalF5TXpNelF6STR8ZGZ0YXNrOjpvdGVsW2RhY2hlbmdub2RlMTExXQ==\": 2, \"TnpoRU1qbEJPVGszTXpreFJqazVNalF5TXpNelF6STR8ZWxhc3RpY3NlYXJjaA==\": 1, \"TnpoRU1qbEJPVGszTXpreFJqazVNalF5TXpNelF6STR8ZWxhc3RpY3NlYXJjaC1zdmM=\": 0, \"TnpoRU1qbEJPVGszTXpreFJqazVNalF5TXpNelF6STR8ZGMtd2ViYXBwOjprOHNbazhzLTJd\": 0, \"TnpoRU1qbEJPVGszTXpreFJqazVNalF5TXpNelF6STR8cnVuMTE5OjpweV9hcHBfc2VydmVyWzExOWhvc3Rd\": 0}}}',\n",
       "   'resource': '*',\n",
       "   'dd-api-key': 'NzhEMjlBOTk3MzkxRjk5MjQyMzMzQzI4',\n",
       "   'unique_key': 651,\n",
       "   'groupId': 13682,\n",
       "   'description': '【警告】当前服务所有请求的平均延迟达到19.2701毫秒,高于静态阈值14.0毫秒',\n",
       "   'duration': 1,\n",
       "   'rca': [{'root_type': 'service_id',\n",
       "     'root_kpi': {'host_id': 'cd1d469aaf3201921624efdb931246bf',\n",
       "      'container_id': '45a13e314e6c1044f9edc3896f1b7c01d36fb194e8fd48ad025e0941bf446354'},\n",
       "     'method': 'change',\n",
       "     'root_id': 'TnpoRU1qbEJPVGszTXpreFJqazVNalF5TXpNelF6STR8ZGZ0YXNrOjpvdGVsW2RhY2hlbmdub2RlMTExXQ==',\n",
       "     'metrics': '[]'}],\n",
       "   'event_type': '平均延迟偏高',\n",
       "   'service_id': 'TnpoRU1qbEJPVGszTXpreFJqazVNalF5TXpNelF6STR8ZWxhc3RpY3NlYXJjaA==',\n",
       "   'influenced_infrastructure': [],\n",
       "   'event_name': '领导建的监控 服务avgreptime告警了',\n",
       "   'influenced_service': ['TnpoRU1qbEJPVGszTXpreFJqazVNalF5TXpNelF6STR8ZGZ0YXNrOjpvdGVsW2RhY2hlbmdub2RlMTExXQ==',\n",
       "    'TnpoRU1qbEJPVGszTXpreFJqazVNalF5TXpNelF6STR8ZWxhc3RpY3NlYXJjaA=='],\n",
       "   'timestamp': 1687944480}},\n",
       " {'_index': 'dc_rca_20230628',\n",
       "  '_type': '_doc',\n",
       "  '_id': 'txDzBYkBORD2vlQVQUGd',\n",
       "  '_score': 1.0,\n",
       "  '_source': {'eventId': 'c5c8f049d1fc4d71M903',\n",
       "   'resource': '*',\n",
       "   'dd-api-key': 'NzhEMjlBOTk3MzkxRjk5MjQyMzMzQzI4',\n",
       "   'unique_key': 903,\n",
       "   'groupId': 13683,\n",
       "   'description': '【紧急】当前服务的每分钟请求数达到270.0,高于静态阈值0.0002',\n",
       "   'duration': 1,\n",
       "   'event_type': '每分钟请求数偏高',\n",
       "   'service_id': '4f1caa4959f4a198d10bdb9751d21482',\n",
       "   'influenced_infrastructure': [],\n",
       "   'event_name': 'host110上的应用服务jobmanager[host110]每分钟请求大于每分钟请求数>200.00',\n",
       "   'influenced_service': ['4f1caa4959f4a198d10bdb9751d21482'],\n",
       "   'timestamp': 1687944480}},\n",
       " {'_index': 'dc_rca_20230628',\n",
       "  '_type': '_doc',\n",
       "  '_id': 'PxDzBYkBORD2vlQVaEav',\n",
       "  '_score': 1.0,\n",
       "  '_source': {'eventId': 'c103fad3fa5b429aM903',\n",
       "   'resource': '*',\n",
       "   'dd-api-key': 'NzhEMjlBOTk3MzkxRjk5MjQyMzMzQzI4',\n",
       "   'unique_key': 903,\n",
       "   'groupId': 13683,\n",
       "   'description': '【紧急】当前服务的每分钟请求数达到252.0,高于静态阈值0.0002',\n",
       "   'duration': 1,\n",
       "   'event_type': '每分钟请求数偏高',\n",
       "   'service_id': '4f1caa4959f4a198d10bdb9751d21482',\n",
       "   'influenced_infrastructure': [],\n",
       "   'event_name': 'host110上的应用服务jobmanager[host110]每分钟请求大于每分钟请求数>200.00',\n",
       "   'influenced_service': ['4f1caa4959f4a198d10bdb9751d21482'],\n",
       "   'timestamp': 1687944540}}]"
      ]
     },
     "execution_count": 50,
     "metadata": {},
     "output_type": "execute_result"
    }
   ],
   "source": [
    "[i for i in data['hits']['hits']]"
   ]
  },
  {
   "cell_type": "markdown",
   "metadata": {},
   "source": [
    "## 删除文档"
   ]
  },
  {
   "cell_type": "code",
   "execution_count": 41,
   "metadata": {
    "tags": []
   },
   "outputs": [
    {
     "name": "stdout",
     "output_type": "stream",
     "text": [
      "文档删除成功\n"
     ]
    }
   ],
   "source": [
    "# 删除文档\n",
    "index_name = 'dc_rca_20230628'\n",
    "# doc_type = '_doc'\n",
    "document_id = 'QcA9BYkBORD2vlQVJDgd'\n",
    "\n",
    "response = es.delete(index=index_name, id=document_id)\n",
    "\n",
    "# 检查删除操作是否成功\n",
    "if response['result'] == 'deleted':\n",
    "    print('文档删除成功')\n",
    "else:\n",
    "    print('文档删除失败')\n"
   ]
  },
  {
   "cell_type": "code",
   "execution_count": null,
   "metadata": {},
   "outputs": [],
   "source": []
  }
 ],
 "metadata": {
  "kernelspec": {
   "display_name": "Python 3 (ipykernel)",
   "language": "python",
   "name": "python3"
  },
  "language_info": {
   "codemirror_mode": {
    "name": "ipython",
    "version": 3
   },
   "file_extension": ".py",
   "mimetype": "text/x-python",
   "name": "python",
   "nbconvert_exporter": "python",
   "pygments_lexer": "ipython3",
   "version": "3.11.3"
  }
 },
 "nbformat": 4,
 "nbformat_minor": 4
}
