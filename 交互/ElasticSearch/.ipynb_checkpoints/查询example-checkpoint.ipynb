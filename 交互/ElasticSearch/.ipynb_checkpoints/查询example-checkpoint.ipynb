{
 "cells": [
  {
   "cell_type": "code",
   "execution_count": 1,
   "id": "d7435c10-7038-4218-a172-193c144ee938",
   "metadata": {},
   "outputs": [],
   "source": [
    "from elasticsearch import Elasticsearch, helpers\n",
    "import time"
   ]
  },
  {
   "cell_type": "code",
   "execution_count": 2,
   "id": "236b6d97-3c13-40e3-b1f5-3f5171ca92da",
   "metadata": {},
   "outputs": [],
   "source": [
    "configs = {\n",
    "    \"http\": \"192.168.50.85:19200\",\n",
    "    \"span_index\":\"dc_monitor_event_*\",\n",
    "    \"username\": \"elastic\",\n",
    "    \"password\": \"Databuff@123\"\n",
    "}"
   ]
  },
  {
   "cell_type": "code",
   "execution_count": 3,
   "id": "4a342cfe-8135-48f1-a644-f9e4588c5390",
   "metadata": {},
   "outputs": [],
   "source": [
    "es = Elasticsearch(\n",
    "            hosts=f\"http://{configs['http']}\",\n",
    "            basic_auth=(\n",
    "                configs[\"username\"],\n",
    "                configs[\"password\"],\n",
    "            )\n",
    "        )"
   ]
  },
  {
   "cell_type": "code",
   "execution_count": 6,
   "id": "93d3ab30-f9d3-43de-858f-a516d3074629",
   "metadata": {},
   "outputs": [
    {
     "data": {
      "text/plain": [
       "False"
      ]
     },
     "execution_count": 6,
     "metadata": {},
     "output_type": "execute_result"
    }
   ],
   "source": [
    "es.ping()"
   ]
  },
  {
   "cell_type": "code",
   "execution_count": 12,
   "id": "13fb3105-f442-43d4-8675-29dfedb6b87e",
   "metadata": {},
   "outputs": [],
   "source": [
    "def scroll_search(body, index):\n",
    "    batches = 10000  # 每一批数据量大小\n",
    "    queryData = es.search(index=index, scroll='5m', timeout='60s', size=batches, body=body)\n",
    "    metadata = queryData.get(\"hits\").get(\"hits\")\n",
    "    scroll_id = queryData[\"_scroll_id\"]\n",
    "    total = queryData[\"hits\"][\"total\"]['value']\n",
    "    for i in range(int(total / batches)):\n",
    "        res = es.scroll(scroll_id=scroll_id, scroll='5m')  # scroll参数必须指定否则会报错\n",
    "        metadata += res[\"hits\"][\"hits\"]\n",
    "    es.clear_scroll(scroll_id=scroll_id)\n",
    "    return metadata"
   ]
  },
  {
   "cell_type": "code",
   "execution_count": 19,
   "id": "c1427c83-47b0-42c6-bfaf-c85b353e77e0",
   "metadata": {},
   "outputs": [],
   "source": [
    "body = {\n",
    "            'query': {\n",
    "                'bool': {\n",
    "                    'must': [{'range': {'triggerTime': {'gte': 1694050100, 'lte': 1694050200}}}\n",
    "                             ]\n",
    "                }\n",
    "            }\n",
    "        }"
   ]
  },
  {
   "cell_type": "code",
   "execution_count": 20,
   "id": "ee636893-8eae-48f4-b84c-955e5f02970f",
   "metadata": {},
   "outputs": [
    {
     "name": "stderr",
     "output_type": "stream",
     "text": [
      "/tmp/ipykernel_3924648/3233793147.py:3: DeprecationWarning: The 'body' parameter is deprecated and will be removed in a future version. Instead use individual parameters.\n",
      "  queryData = es.search(index=index, scroll='5m', timeout='60s', size=batches, body=body)\n"
     ]
    }
   ],
   "source": [
    "data = scroll_search(body, configs['span_index'])"
   ]
  },
  {
   "cell_type": "code",
   "execution_count": 36,
   "id": "6417ac36-3c41-4357-8815-30ad5e450580",
   "metadata": {
    "scrolled": true
   },
   "outputs": [],
   "source": [
    "results = [i['_source'] for i in data if (i['_source']['classification'] == 'apm') & ('message' in i['_source'])]"
   ]
  },
  {
   "cell_type": "code",
   "execution_count": 38,
   "id": "1eeab51c-e7cb-46f9-926e-e6f8f8f2dd52",
   "metadata": {
    "scrolled": true
   },
   "outputs": [
    {
     "data": {
      "text/plain": [
       "[1694050140, 1694050200, 1694050200]"
      ]
     },
     "execution_count": 38,
     "metadata": {},
     "output_type": "execute_result"
    }
   ],
   "source": [
    "[i['triggerTime'] for i in results]"
   ]
  },
  {
   "cell_type": "code",
   "execution_count": null,
   "id": "563f20d1-d239-433e-a099-bae66dec529d",
   "metadata": {},
   "outputs": [],
   "source": []
  },
  {
   "cell_type": "code",
   "execution_count": null,
   "id": "7b1d6029-a2fe-4010-a6db-c80e80c8d707",
   "metadata": {},
   "outputs": [],
   "source": []
  },
  {
   "cell_type": "code",
   "execution_count": null,
   "id": "6c34e5a0-b865-4cad-9222-927c76626bc2",
   "metadata": {},
   "outputs": [],
   "source": []
  }
 ],
 "metadata": {
  "kernelspec": {
   "display_name": "Python 3 (ipykernel)",
   "language": "python",
   "name": "python3"
  },
  "language_info": {
   "codemirror_mode": {
    "name": "ipython",
    "version": 3
   },
   "file_extension": ".py",
   "mimetype": "text/x-python",
   "name": "python",
   "nbconvert_exporter": "python",
   "pygments_lexer": "ipython3",
   "version": "3.11.3"
  }
 },
 "nbformat": 4,
 "nbformat_minor": 5
}
