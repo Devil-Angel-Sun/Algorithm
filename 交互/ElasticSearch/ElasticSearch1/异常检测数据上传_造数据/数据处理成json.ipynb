{
 "cells": [
  {
   "cell_type": "code",
   "execution_count": 1,
   "metadata": {},
   "outputs": [],
   "source": [
    "import json\n",
    "import pandas as pd\n",
    "from glob import glob\n",
    "import time,datetime"
   ]
  },
  {
   "cell_type": "code",
   "execution_count": 2,
   "metadata": {},
   "outputs": [],
   "source": [
    "files = glob('/home/weijunfei/NAB/NAB-master_new/results/numenta/realTweets/*.csv')"
   ]
  },
  {
   "cell_type": "code",
   "execution_count": 3,
   "metadata": {},
   "outputs": [
    {
     "data": {
      "text/plain": [
       "['/home/weijunfei/NAB/NAB-master_new/results/numenta/realTweets/numenta_Twitter_volume_AAPL.csv',\n",
       " '/home/weijunfei/NAB/NAB-master_new/results/numenta/realTweets/numenta_Twitter_volume_AMZN.csv',\n",
       " '/home/weijunfei/NAB/NAB-master_new/results/numenta/realTweets/numenta_Twitter_volume_CRM.csv',\n",
       " '/home/weijunfei/NAB/NAB-master_new/results/numenta/realTweets/numenta_Twitter_volume_CVS.csv',\n",
       " '/home/weijunfei/NAB/NAB-master_new/results/numenta/realTweets/numenta_Twitter_volume_FB.csv',\n",
       " '/home/weijunfei/NAB/NAB-master_new/results/numenta/realTweets/numenta_Twitter_volume_GOOG.csv',\n",
       " '/home/weijunfei/NAB/NAB-master_new/results/numenta/realTweets/numenta_Twitter_volume_IBM.csv',\n",
       " '/home/weijunfei/NAB/NAB-master_new/results/numenta/realTweets/numenta_Twitter_volume_KO.csv',\n",
       " '/home/weijunfei/NAB/NAB-master_new/results/numenta/realTweets/numenta_Twitter_volume_PFE.csv',\n",
       " '/home/weijunfei/NAB/NAB-master_new/results/numenta/realTweets/numenta_Twitter_volume_UPS.csv']"
      ]
     },
     "execution_count": 3,
     "metadata": {},
     "output_type": "execute_result"
    }
   ],
   "source": [
    "files"
   ]
  },
  {
   "cell_type": "code",
   "execution_count": 10,
   "metadata": {},
   "outputs": [
    {
     "data": {
      "text/plain": [
       "array([1, 3])"
      ]
     },
     "execution_count": 10,
     "metadata": {},
     "output_type": "execute_result"
    }
   ],
   "source": [
    "data = pd.read_csv(files[0])\n",
    "data['timestamp'] = data['timestamp'].apply(lambda x: time.mktime(datetime.datetime.strptime(x,'%Y-%m-%d %H:%M:%S').timetuple()))\n",
    "delta = 1631517293 - int(data['timestamp'].values[-1])\n",
    "data['timestamp'] = data['timestamp'].apply(lambda x: x+delta)\n",
    "data['label'] = data['label'].apply(lambda x: 3 if x == 1 else 1)\n",
    "data['label'].unique()\n",
    "# data.to_json('./AAPL.json', orient = 'records')"
   ]
  },
  {
   "cell_type": "markdown",
   "metadata": {},
   "source": [
    "_____"
   ]
  },
  {
   "cell_type": "markdown",
   "metadata": {},
   "source": [
    "## 批量"
   ]
  },
  {
   "cell_type": "code",
   "execution_count": 5,
   "metadata": {},
   "outputs": [],
   "source": [
    "for file in files:\n",
    "    data = pd.read_csv(file)\n",
    "    data['timestamp'] = data['timestamp'].apply(lambda x: time.mktime(datetime.datetime.strptime(x,'%Y-%m-%d %H:%M:%S').timetuple()))\n",
    "    delta = int(time.time()) - int(data['timestamp'].values[-1])\n",
    "    data['timestamp'] = data['timestamp'].apply(lambda x: x+delta)\n",
    "    data['label'] = data['label'].apply(lambda x: 3 if x == 1 else 1)\n",
    "    data.to_json('./realTweets_json/{}.json'.format(file.split('/')[-1].split('.')[0]), orient = 'records')"
   ]
  },
  {
   "cell_type": "code",
   "execution_count": 6,
   "metadata": {},
   "outputs": [],
   "source": [
    "files = glob('/home/weijunfei/NAB/NAB-master_new/results/numenta/artificialWithAnomaly/*.csv')"
   ]
  },
  {
   "cell_type": "code",
   "execution_count": 7,
   "metadata": {},
   "outputs": [],
   "source": [
    "for file in files:\n",
    "    data = pd.read_csv(file)\n",
    "    data['timestamp'] = data['timestamp'].apply(lambda x: time.mktime(datetime.datetime.strptime(x,'%Y-%m-%d %H:%M:%S').timetuple()))\n",
    "    delta = int(time.time()) - int(data['timestamp'].values[-1])\n",
    "    data['timestamp'] = data['timestamp'].apply(lambda x: x+delta)\n",
    "    data['label'] = data['label'].apply(lambda x: 3 if x == 1 else 1)\n",
    "    data.to_json('./artificialWithAnomaly_json/{}.json'.format(file.split('/')[-1].split('.')[0]), orient = 'records')"
   ]
  },
  {
   "cell_type": "code",
   "execution_count": null,
   "metadata": {},
   "outputs": [],
   "source": []
  }
 ],
 "metadata": {
  "kernelspec": {
   "display_name": "Python 3",
   "language": "python",
   "name": "python3"
  },
  "language_info": {
   "codemirror_mode": {
    "name": "ipython",
    "version": 3
   },
   "file_extension": ".py",
   "mimetype": "text/x-python",
   "name": "python",
   "nbconvert_exporter": "python",
   "pygments_lexer": "ipython3",
   "version": "3.7.6"
  }
 },
 "nbformat": 4,
 "nbformat_minor": 4
}
