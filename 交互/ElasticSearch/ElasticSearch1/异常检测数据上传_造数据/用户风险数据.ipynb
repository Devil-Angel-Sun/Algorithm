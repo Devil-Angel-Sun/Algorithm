{
 "cells": [
  {
   "cell_type": "code",
   "execution_count": 1,
   "metadata": {},
   "outputs": [],
   "source": [
    "import pandas as pd\n",
    "import random\n",
    "import time, json\n",
    "import datetime\n",
    "data = pd.read_excel('./用户.xlsx')"
   ]
  },
  {
   "cell_type": "code",
   "execution_count": 2,
   "metadata": {},
   "outputs": [],
   "source": [
    "def strTimeProp(start, end, prop, frmt):\n",
    "    stime = time.mktime(time.strptime(start, frmt))\n",
    "    etime = time.mktime(time.strptime(end, frmt))\n",
    "    ptime = stime + prop * (etime - stime)\n",
    "    return int(ptime)"
   ]
  },
  {
   "cell_type": "code",
   "execution_count": 3,
   "metadata": {},
   "outputs": [],
   "source": [
    "def randomDate(start, end, frmt='%Y-%m-%d %H:%M:%S'):\n",
    "    return time.strftime(frmt, time.localtime(strTimeProp(start, end, random.random(), frmt)))"
   ]
  },
  {
   "cell_type": "code",
   "execution_count": 4,
   "metadata": {},
   "outputs": [],
   "source": [
    "def randomDateList(start, end, n, frmt='%Y-%m-%d %H:%M:%S'):\n",
    "    return [randomDate(start, end, frmt) for _ in range(n)]"
   ]
  },
  {
   "cell_type": "markdown",
   "metadata": {},
   "source": [
    "## 创建用户分数"
   ]
  },
  {
   "cell_type": "code",
   "execution_count": 30,
   "metadata": {},
   "outputs": [],
   "source": [
    "class Create: \n",
    "    def __init__(self, itemid, max_security_score = 74):\n",
    "        self.itemid = itemid\n",
    "        self.max_security_score = max_security_score\n",
    "        \n",
    "        self.data = pd.DataFrame()\n",
    "        self.data['datetime'] = pd.date_range(start = '2021-07-01', end = '2021-09-14', freq = '1D')\n",
    "        self.data['mingan_score'] = self.data.apply(lambda x: random.randint(10,self.max_security_score), axis = 1)\n",
    "        self.data['lizhi_score'] = self.data.apply(lambda x: random.randint(10,self.max_security_score), axis = 1)\n",
    "        self.data['siren_score'] = self.data.apply(lambda x: random.randint(10,self.max_security_score), axis = 1)\n",
    "        self.data['guanli_score'] = self.data.apply(lambda x: random.randint(10,self.max_security_score), axis = 1)\n",
    "        self.data['beicai_score'] = self.data.apply(lambda x: random.randint(10,self.max_security_score), axis = 1)\n",
    "        \n",
    "    def change_score(self, col, start_anomaly_timelist, end_anomaly_timelist):\n",
    "        # 异常分数设定\n",
    "        for i in range(len(start_anomaly_timelist)):\n",
    "            self.data[col] = self.data.apply(lambda x: random.randint(75,90) if (str(x['datetime']) > start_anomaly_timelist[i])& (str(x['datetime']) < end_anomaly_timelist[i]) else x[col], axis = 1)\n",
    "    \n",
    "    def save_json(self):\n",
    "        return self.data.to_json('./user_json/{}.json'.format(self.itemid),orient = 'records')"
   ]
  },
  {
   "cell_type": "code",
   "execution_count": 31,
   "metadata": {},
   "outputs": [],
   "source": [
    "start_date = ['2021-09-01', '2021-09-04', '2021-09-06']\n",
    "end_date = ['2021-09-03', '2021-09-05', '2021-09-08']\n",
    "create = Create('JLM0364')\n",
    "create.change_score('mingan_score', start_date, end_date)\n",
    "create.change_score('siren_score', start_date, end_date)\n",
    "create.save_json()"
   ]
  },
  {
   "cell_type": "markdown",
   "metadata": {},
   "source": [
    "## 为高于75分的数据创建事件"
   ]
  },
  {
   "cell_type": "code",
   "execution_count": 6,
   "metadata": {},
   "outputs": [],
   "source": [
    "events = {}\n",
    "events['敏感数据泄露'] = '测试页面泄露在外网，管理后台地址泄漏，QQ群敏感文件泄露，百度网盘敏感信息泄露，github源码泄露，运维监控系统弱口令泄露，Http认证信息泄露'.split('，')\n",
    "events['离职倾向用户风险'] = '长期停留在招聘网站，打开外部网页频率增加，文件上传百度网盘频率增加，某就业网站访问频率增加，网页查询消极信息频率增高'.split('，')\n",
    "events['私人文件盗取'] = 'github源码频繁下载'.split('，')\n",
    "events['管理员账号泄露'] = '账号异地登录，账号被多次输错后登录，账号不在工作时间内登录'.split('，')\n",
    "events['被裁员用户风险'] = '被多次线上约谈'.split('，')"
   ]
  },
  {
   "cell_type": "code",
   "execution_count": 47,
   "metadata": {},
   "outputs": [],
   "source": [
    "class Change:\n",
    "    def __init__(self, itemid):\n",
    "        self. itemid = itemid\n",
    "        with open('./user_json/{}.json'.format(self.itemid),'r',encoding='utf8')as fp:\n",
    "            self.json_data = json.load(fp)\n",
    "    def change(self, number, col_score, col_event, info):\n",
    "        for line in self.json_data:\n",
    "            line['timestamp'] = str(pd.to_datetime(datetime.datetime.fromtimestamp(int((line['datetime']-8*60*60*1000)/1000))))\n",
    "            if line[col_score] >= 75:\n",
    "                start = line['timestamp']\n",
    "                end = str(pd.to_datetime(datetime.datetime.fromtimestamp(int((line['datetime']-8*60*60*1000)/1000))+datetime.timedelta(days=1)))\n",
    "                lenth = number\n",
    "                randomdata = randomDateList(start, end, lenth)\n",
    "                datedict = {}\n",
    "                for i in randomdata:\n",
    "                    datedict[i] = random.sample(events[info], 1)[0]\n",
    "                line[col_event] = json.dumps(datedict, ensure_ascii = False)\n",
    "            else:\n",
    "                line[col_event] = ''\n",
    "        \n",
    "            \n",
    "    def multichange(self):\n",
    "        self.change(2, 'mingan_score', 'mingan_event', '敏感数据泄露')\n",
    "        self.change(2, 'lizhi_score', 'lizhi_event', '离职倾向用户风险')\n",
    "        self.change(3, 'siren_score', 'siren_event', '私人文件盗取')\n",
    "        self.change(2, 'guanli_score', 'guanli_event', '管理员账号泄露')\n",
    "        self.change(1, 'beicai_score', 'beicai_event', '被裁员用户风险')"
   ]
  },
  {
   "cell_type": "code",
   "execution_count": 49,
   "metadata": {},
   "outputs": [],
   "source": [
    "change = Change('JLM0364')\n",
    "change.multichange()"
   ]
  },
  {
   "cell_type": "markdown",
   "metadata": {},
   "source": [
    "## 上传elasticsearch数据"
   ]
  },
  {
   "cell_type": "code",
   "execution_count": 52,
   "metadata": {},
   "outputs": [],
   "source": [
    "from elasticsearch import Elasticsearch\n",
    "from elasticsearch import helpers"
   ]
  },
  {
   "cell_type": "code",
   "execution_count": 53,
   "metadata": {},
   "outputs": [],
   "source": [
    "es = Elasticsearch('192.168.50.98:19201')"
   ]
  },
  {
   "cell_type": "code",
   "execution_count": 64,
   "metadata": {},
   "outputs": [],
   "source": [
    "class Upload:\n",
    "    def __init__(self, json_data):\n",
    "        self.json_data = json_data\n",
    "        \n",
    "    def Actions(self,col_score, col_event, name):\n",
    "        ACTIONS = []\n",
    "        for line in self.json_data:\n",
    "            action = {\n",
    "                \"_index\": 'dc_emp_data',\n",
    "                \"_type\": '_doc',\n",
    "                \"_source\": {\n",
    "                    \"user\": 'JLM0364',\n",
    "                    \"score\": line[col_score],\n",
    "                    \"scenario\": name,\n",
    "                    \"events\": line[col_event],\n",
    "                    \"datetime\": line['timestamp']}\n",
    "            }\n",
    "            ACTIONS.append(action)\n",
    "        return ACTIONS\n",
    "    \n",
    "    def upload(self):\n",
    "        Actions1 = Actions(self.json_data, 'mingan_score', 'mingan_event', '敏感数据泄露')\n",
    "        Actions2 = Actions(self.json_data, 'lizhi_score', 'lizhi_event', '离职倾向用户风险')\n",
    "        Actions3 = Actions(self.json_data, 'siren_score', 'siren_event', '私人文件盗取')\n",
    "        Actions4 = Actions(self.json_data, 'guanli_score', 'guanli_event', '管理员账号泄露')\n",
    "        Actions5 = Actions(self.json_data, 'beicai_score', 'beicai_event', '被裁员用户风险')\n",
    "        \n",
    "        actions = [Actions1, Actions2, Actions3, Actions4, Actions5]\n",
    "        ACTIONS = [j for i in actions for j in i]\n",
    "        return ACTIONS"
   ]
  },
  {
   "cell_type": "code",
   "execution_count": 67,
   "metadata": {},
   "outputs": [],
   "source": [
    "upload = Upload(change.json_data)\n",
    "ACTIONS = upload.upload()"
   ]
  },
  {
   "cell_type": "code",
   "execution_count": null,
   "metadata": {},
   "outputs": [],
   "source": []
  },
  {
   "cell_type": "code",
   "execution_count": 70,
   "metadata": {},
   "outputs": [
    {
     "name": "stderr",
     "output_type": "stream",
     "text": [
      "/home/weijunfei/anaconda3/lib/python3.7/site-packages/elasticsearch/connection/base.py:190: ElasticsearchDeprecationWarning: [types removal] Specifying types in bulk requests is deprecated.\n",
      "  warnings.warn(message, category=ElasticsearchDeprecationWarning)\n"
     ]
    }
   ],
   "source": [
    "#批量更新也可以采用如下的方式进行json拼装，最后写入\n",
    "success, _ = helpers.bulk(es, ACTIONS, index='dc_emp_data', raise_on_error=True)"
   ]
  },
  {
   "cell_type": "markdown",
   "metadata": {},
   "source": [
    "### 批量处理"
   ]
  },
  {
   "cell_type": "code",
   "execution_count": null,
   "metadata": {},
   "outputs": [],
   "source": []
  }
 ],
 "metadata": {
  "kernelspec": {
   "display_name": "Python 3",
   "language": "python",
   "name": "python3"
  },
  "language_info": {
   "codemirror_mode": {
    "name": "ipython",
    "version": 3
   },
   "file_extension": ".py",
   "mimetype": "text/x-python",
   "name": "python",
   "nbconvert_exporter": "python",
   "pygments_lexer": "ipython3",
   "version": "3.7.6"
  }
 },
 "nbformat": 4,
 "nbformat_minor": 4
}
