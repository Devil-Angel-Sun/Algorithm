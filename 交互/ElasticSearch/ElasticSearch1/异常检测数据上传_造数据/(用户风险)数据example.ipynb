{
 "cells": [
  {
   "cell_type": "markdown",
   "metadata": {},
   "source": [
    "## 用户风险数据"
   ]
  },
  {
   "cell_type": "markdown",
   "metadata": {},
   "source": [
    "'user'\\\n",
    "'score'\\\n",
    "'scenario'\\\n",
    "'events'\\\n",
    "'date'"
   ]
  },
  {
   "cell_type": "code",
   "execution_count": 1,
   "metadata": {},
   "outputs": [],
   "source": [
    "events = {}\n",
    "events['敏感数据泄露'] = '测试页面泄露在外网，管理后台地址泄漏，QQ群敏感文件泄露，百度网盘敏感信息泄露，github源码泄露，运维监控系统弱口令泄露，Http认证信息泄露'.split('，')\n",
    "events['离职倾向用户风险'] = '长期停留在招聘网站，打开外部网页频率增加，文件上传百度网盘频率增加，某就业网站访问频率增加，网页查询消极信息频率增高'.split('，')\n",
    "events['私人文件盗取'] = 'github源码频繁下载'.split('，')\n",
    "events['管理员账号泄露'] = '账号异地登录，账号被多次输错后登录，账号不在工作时间内登录'.split('，')\n",
    "events['被裁员用户风险'] = '被多次线上约谈'.split('，')"
   ]
  },
  {
   "cell_type": "code",
   "execution_count": 2,
   "metadata": {},
   "outputs": [
    {
     "data": {
      "text/plain": [
       "{'敏感数据泄露': ['测试页面泄露在外网',\n",
       "  '管理后台地址泄漏',\n",
       "  'QQ群敏感文件泄露',\n",
       "  '百度网盘敏感信息泄露',\n",
       "  'github源码泄露',\n",
       "  '运维监控系统弱口令泄露',\n",
       "  'Http认证信息泄露'],\n",
       " '离职倾向用户风险': ['长期停留在招聘网站',\n",
       "  '打开外部网页频率增加',\n",
       "  '文件上传百度网盘频率增加',\n",
       "  '某就业网站访问频率增加',\n",
       "  '网页查询消极信息频率增高'],\n",
       " '私人文件盗取': ['github源码频繁下载'],\n",
       " '管理员账号泄露': ['账号异地登录', '账号被多次输错后登录', '账号不在工作时间内登录'],\n",
       " '被裁员用户风险': ['被多次线上约谈']}"
      ]
     },
     "execution_count": 2,
     "metadata": {},
     "output_type": "execute_result"
    }
   ],
   "source": [
    "events"
   ]
  },
  {
   "cell_type": "markdown",
   "metadata": {},
   "source": [
    "### event案例"
   ]
  },
  {
   "cell_type": "code",
   "execution_count": 3,
   "metadata": {},
   "outputs": [],
   "source": [
    "import pandas as pd\n",
    "import random\n",
    "import time, json\n",
    "from datetime import datetime\n",
    "data = pd.read_excel('./用户.xlsx')"
   ]
  },
  {
   "cell_type": "code",
   "execution_count": 4,
   "metadata": {},
   "outputs": [
    {
     "name": "stdout",
     "output_type": "stream",
     "text": [
      "['2021-09-02 18:21:31', '2021-09-02 18:24:02']\n"
     ]
    },
    {
     "data": {
      "text/plain": [
       "{'2021-09-01 14:37:23': '测试页面泄露在外网', '2021-09-01 06:53:21': 'QQ群敏感文件泄露'}"
      ]
     },
     "execution_count": 4,
     "metadata": {},
     "output_type": "execute_result"
    }
   ],
   "source": [
    "def strTimeProp(start, end, prop, frmt):\n",
    "    stime = time.mktime(time.strptime(start, frmt))\n",
    "    etime = time.mktime(time.strptime(end, frmt))\n",
    "    ptime = stime + prop * (etime - stime)\n",
    "    return int(ptime)\n",
    "\n",
    "\n",
    "def randomDate(start, end, frmt='%Y-%m-%d %H:%M:%S'):\n",
    "    return time.strftime(frmt, time.localtime(strTimeProp(start, end, random.random(), frmt)))\n",
    "\n",
    "def randomDateList(start, end, n, frmt='%Y-%m-%d %H:%M:%S'):\n",
    "    return [randomDate(start, end, frmt) for _ in range(n)]\n",
    "\n",
    "start = '2021-09-01 00:00:00'\n",
    "end = '2021-09-03 00:00:00'\n",
    "lenth = 2\n",
    "print(randomDateList(start, end, lenth))\n",
    "randomdata = randomDateList(start, end, lenth)\n",
    "datedict = {}\n",
    "for i in randomdata:\n",
    "    datedict[i] = random.sample(events['敏感数据泄露'], 1)[0]\n",
    "datedict"
   ]
  },
  {
   "cell_type": "code",
   "execution_count": 5,
   "metadata": {},
   "outputs": [
    {
     "data": {
      "text/plain": [
       "'{\"2021-09-01 14:37:23\": \"测试页面泄露在外网\", \"2021-09-01 06:53:21\": \"QQ群敏感文件泄露\"}'"
      ]
     },
     "execution_count": 5,
     "metadata": {},
     "output_type": "execute_result"
    }
   ],
   "source": [
    "# 转json\n",
    "json.dumps(datedict, ensure_ascii = False)"
   ]
  },
  {
   "cell_type": "markdown",
   "metadata": {},
   "source": [
    "### 单个用户案例"
   ]
  },
  {
   "cell_type": "code",
   "execution_count": 4,
   "metadata": {},
   "outputs": [
    {
     "data": {
      "text/plain": [
       "user    JLM0364\n",
       "name      安全工程师\n",
       "Name: 0, dtype: object"
      ]
     },
     "execution_count": 4,
     "metadata": {},
     "output_type": "execute_result"
    }
   ],
   "source": [
    "data.loc[0,:]"
   ]
  },
  {
   "cell_type": "code",
   "execution_count": 70,
   "metadata": {},
   "outputs": [],
   "source": [
    "JLM0364 = pd.DataFrame()"
   ]
  },
  {
   "cell_type": "code",
   "execution_count": 71,
   "metadata": {},
   "outputs": [],
   "source": [
    "JLM0364['datetime'] = pd.date_range(start = '2021-07-01 00:00:00', end = '2021-09-14 00:00:00', freq = '1D')\n",
    "JLM0364['mingan_score'] = JLM0364.apply(lambda x: random.randint(10,74), axis = 1)\n",
    "JLM0364['lizhi_score'] = JLM0364.apply(lambda x: random.randint(10,74), axis = 1)\n",
    "JLM0364['siren_score'] = JLM0364.apply(lambda x: random.randint(10,74), axis = 1)\n",
    "JLM0364['guanli_score'] = JLM0364.apply(lambda x: random.randint(10,74), axis = 1)\n",
    "JLM0364['beicai_score'] = JLM0364.apply(lambda x: random.randint(10,74), axis = 1)\n",
    "start_date = ['2021-09-01', '2021-09-04', '2021-09-06']\n",
    "end_date = ['2021-09-03', '2021-09-05', '2021-09-08']\n",
    "for i in range(len(start_date)):\n",
    "    JLM0364['mingan_score'] = JLM0364.apply(lambda x: random.randint(75,90) if (str(x['datetime']) > start_date[i])& (str(x['datetime']) < end_date[i]) else x['mingan_score'], axis = 1)"
   ]
  },
  {
   "cell_type": "code",
   "execution_count": 72,
   "metadata": {},
   "outputs": [
    {
     "data": {
      "text/html": [
       "<div>\n",
       "<style scoped>\n",
       "    .dataframe tbody tr th:only-of-type {\n",
       "        vertical-align: middle;\n",
       "    }\n",
       "\n",
       "    .dataframe tbody tr th {\n",
       "        vertical-align: top;\n",
       "    }\n",
       "\n",
       "    .dataframe thead th {\n",
       "        text-align: right;\n",
       "    }\n",
       "</style>\n",
       "<table border=\"1\" class=\"dataframe\">\n",
       "  <thead>\n",
       "    <tr style=\"text-align: right;\">\n",
       "      <th></th>\n",
       "      <th>datetime</th>\n",
       "      <th>mingan_score</th>\n",
       "      <th>lizhi_score</th>\n",
       "      <th>siren_score</th>\n",
       "      <th>guanli_score</th>\n",
       "      <th>beicai_score</th>\n",
       "    </tr>\n",
       "  </thead>\n",
       "  <tbody>\n",
       "    <tr>\n",
       "      <th>62</th>\n",
       "      <td>2021-09-01</td>\n",
       "      <td>76</td>\n",
       "      <td>45</td>\n",
       "      <td>51</td>\n",
       "      <td>30</td>\n",
       "      <td>16</td>\n",
       "    </tr>\n",
       "    <tr>\n",
       "      <th>63</th>\n",
       "      <td>2021-09-02</td>\n",
       "      <td>88</td>\n",
       "      <td>44</td>\n",
       "      <td>50</td>\n",
       "      <td>47</td>\n",
       "      <td>69</td>\n",
       "    </tr>\n",
       "    <tr>\n",
       "      <th>65</th>\n",
       "      <td>2021-09-04</td>\n",
       "      <td>80</td>\n",
       "      <td>61</td>\n",
       "      <td>73</td>\n",
       "      <td>44</td>\n",
       "      <td>63</td>\n",
       "    </tr>\n",
       "    <tr>\n",
       "      <th>67</th>\n",
       "      <td>2021-09-06</td>\n",
       "      <td>75</td>\n",
       "      <td>16</td>\n",
       "      <td>39</td>\n",
       "      <td>38</td>\n",
       "      <td>51</td>\n",
       "    </tr>\n",
       "    <tr>\n",
       "      <th>68</th>\n",
       "      <td>2021-09-07</td>\n",
       "      <td>84</td>\n",
       "      <td>71</td>\n",
       "      <td>33</td>\n",
       "      <td>21</td>\n",
       "      <td>44</td>\n",
       "    </tr>\n",
       "  </tbody>\n",
       "</table>\n",
       "</div>"
      ],
      "text/plain": [
       "     datetime  mingan_score  lizhi_score  siren_score  guanli_score  \\\n",
       "62 2021-09-01            76           45           51            30   \n",
       "63 2021-09-02            88           44           50            47   \n",
       "65 2021-09-04            80           61           73            44   \n",
       "67 2021-09-06            75           16           39            38   \n",
       "68 2021-09-07            84           71           33            21   \n",
       "\n",
       "    beicai_score  \n",
       "62            16  \n",
       "63            69  \n",
       "65            63  \n",
       "67            51  \n",
       "68            44  "
      ]
     },
     "execution_count": 72,
     "metadata": {},
     "output_type": "execute_result"
    }
   ],
   "source": [
    "JLM0364[JLM0364['mingan_score'] >= 75]"
   ]
  },
  {
   "cell_type": "code",
   "execution_count": 46,
   "metadata": {},
   "outputs": [],
   "source": [
    "JLM0364_dict = JLM0364.to_json('JLM0364.json',orient = 'records')"
   ]
  },
  {
   "cell_type": "code",
   "execution_count": 63,
   "metadata": {},
   "outputs": [],
   "source": [
    "with open('JLM0364.json','r',encoding='utf8')as fp:\n",
    "    json_data = json.load(fp)"
   ]
  },
  {
   "cell_type": "code",
   "execution_count": 65,
   "metadata": {},
   "outputs": [],
   "source": [
    "for line in json_data:\n",
    "    line['timestamp'] = str(pd.to_datetime(datetime.datetime.fromtimestamp(int((line['datetime']-8*60*60*1000)/1000))))\n",
    "    if line['mingan_score'] >= 75:\n",
    "        start = line['timestamp']\n",
    "        end = str(pd.to_datetime(datetime.datetime.fromtimestamp(int((line['datetime']-8*60*60*1000)/1000))+datetime.timedelta(days=1)))\n",
    "        lenth = 2\n",
    "        randomdata = randomDateList(start, end, lenth)\n",
    "        datedict = {}\n",
    "        for i in randomdata:\n",
    "            datedict[i] = random.sample(events['敏感数据泄露'], 1)[0]\n",
    "        line['mingan_event'] = json.dumps(datedict, ensure_ascii = False)\n",
    "    else:\n",
    "        line['mingan_event'] = ''"
   ]
  },
  {
   "cell_type": "code",
   "execution_count": 66,
   "metadata": {},
   "outputs": [],
   "source": [
    "from elasticsearch import Elasticsearch\n",
    "from elasticsearch import helpers"
   ]
  },
  {
   "cell_type": "code",
   "execution_count": 67,
   "metadata": {},
   "outputs": [],
   "source": [
    "es = Elasticsearch('192.168.50.98:19201')"
   ]
  },
  {
   "cell_type": "code",
   "execution_count": 68,
   "metadata": {},
   "outputs": [
    {
     "name": "stderr",
     "output_type": "stream",
     "text": [
      "/home/weijunfei/anaconda3/lib/python3.7/site-packages/elasticsearch/connection/base.py:190: ElasticsearchDeprecationWarning: [types removal] Specifying types in bulk requests is deprecated.\n",
      "  warnings.warn(message, category=ElasticsearchDeprecationWarning)\n"
     ]
    }
   ],
   "source": [
    "#批量更新也可以采用如下的方式进行json拼装，最后写入\n",
    "ACTIONS = []\n",
    "for line in json_data:\n",
    "    action = {\n",
    "        \"_index\": 'dc_emp_data',\n",
    "        \"_type\": '_doc',\n",
    "        \"_source\": {\n",
    "            \"user\": 'JLM0364',\n",
    "            \"score\": line['mingan_score'],\n",
    "            \"scenario\": '敏感数据泄露',\n",
    "            \"events\": line['mingan_event'],\n",
    "            \"datetime\": line['timestamp']}\n",
    "    }\n",
    "    ACTIONS.append(action)\n",
    "success, _ = helpers.bulk(es, ACTIONS, index='dc_emp_data', raise_on_error=True)"
   ]
  },
  {
   "cell_type": "code",
   "execution_count": null,
   "metadata": {},
   "outputs": [],
   "source": []
  }
 ],
 "metadata": {
  "kernelspec": {
   "display_name": "Python 3",
   "language": "python",
   "name": "python3"
  },
  "language_info": {
   "codemirror_mode": {
    "name": "ipython",
    "version": 3
   },
   "file_extension": ".py",
   "mimetype": "text/x-python",
   "name": "python",
   "nbconvert_exporter": "python",
   "pygments_lexer": "ipython3",
   "version": "3.7.6"
  }
 },
 "nbformat": 4,
 "nbformat_minor": 4
}
