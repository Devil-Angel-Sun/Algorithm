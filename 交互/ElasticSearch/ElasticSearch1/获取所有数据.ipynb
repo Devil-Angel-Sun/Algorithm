{
 "cells": [
  {
   "cell_type": "code",
   "execution_count": 1,
   "metadata": {},
   "outputs": [],
   "source": [
    "import pandas as pd\n",
    "from elasticsearch import Elasticsearch"
   ]
  },
  {
   "cell_type": "code",
   "execution_count": 9,
   "metadata": {},
   "outputs": [],
   "source": [
    "es = Elasticsearch('192.168.50.111:19200')"
   ]
  },
  {
   "cell_type": "code",
   "execution_count": 10,
   "metadata": {},
   "outputs": [
    {
     "data": {
      "text/plain": [
       "True"
      ]
     },
     "execution_count": 10,
     "metadata": {},
     "output_type": "execute_result"
    }
   ],
   "source": [
    "es.ping()"
   ]
  },
  {
   "cell_type": "markdown",
   "metadata": {},
   "source": [
    "## Elasticsearch利用scroll查询获取所有数据"
   ]
  },
  {
   "cell_type": "code",
   "execution_count": 12,
   "metadata": {},
   "outputs": [],
   "source": [
    "body = {\n",
    "    'query': {\n",
    "        'bool': {\n",
    "            'must': [{'term': {'metric_table': 'service_relation_client_resp_time'}}]\n",
    "        }\n",
    "    }\n",
    "}\n",
    "queryData = es.search(index = 'dc_service_metrics_avg_20210916', scroll='5m', timeout='60s', size=100, body=body)"
   ]
  },
  {
   "cell_type": "code",
   "execution_count": 13,
   "metadata": {},
   "outputs": [],
   "source": [
    "metadata = queryData.get(\"hits\").get(\"hits\")"
   ]
  },
  {
   "cell_type": "code",
   "execution_count": 16,
   "metadata": {},
   "outputs": [
    {
     "data": {
      "text/plain": [
       "100"
      ]
     },
     "execution_count": 16,
     "metadata": {},
     "output_type": "execute_result"
    }
   ],
   "source": [
    "len(metadata)"
   ]
  },
  {
   "cell_type": "code",
   "execution_count": 17,
   "metadata": {},
   "outputs": [],
   "source": [
    "scroll_id = queryData[\"_scroll_id\"]"
   ]
  },
  {
   "cell_type": "code",
   "execution_count": 18,
   "metadata": {},
   "outputs": [],
   "source": [
    "total = queryData[\"hits\"][\"total\"]"
   ]
  },
  {
   "cell_type": "code",
   "execution_count": 22,
   "metadata": {},
   "outputs": [],
   "source": [
    "for i in range(int(total / 100)):\n",
    "    res = es.scroll(scroll_id=scroll_id, scroll='5m')  \n",
    "    metadata += res[\"hits\"][\"hits\"]"
   ]
  },
  {
   "cell_type": "code",
   "execution_count": 23,
   "metadata": {},
   "outputs": [],
   "source": [
    "data = pd.DataFrame([x['_source'] for x in metadata])"
   ]
  },
  {
   "cell_type": "code",
   "execution_count": 24,
   "metadata": {},
   "outputs": [
    {
     "data": {
      "text/html": [
       "<div>\n",
       "<style scoped>\n",
       "    .dataframe tbody tr th:only-of-type {\n",
       "        vertical-align: middle;\n",
       "    }\n",
       "\n",
       "    .dataframe tbody tr th {\n",
       "        vertical-align: top;\n",
       "    }\n",
       "\n",
       "    .dataframe thead th {\n",
       "        text-align: right;\n",
       "    }\n",
       "</style>\n",
       "<table border=\"1\" class=\"dataframe\">\n",
       "  <thead>\n",
       "    <tr style=\"text-align: right;\">\n",
       "      <th></th>\n",
       "      <th>metric_table</th>\n",
       "      <th>count</th>\n",
       "      <th>entity_id</th>\n",
       "      <th>value</th>\n",
       "      <th>timestamp</th>\n",
       "      <th>summation</th>\n",
       "    </tr>\n",
       "  </thead>\n",
       "  <tbody>\n",
       "    <tr>\n",
       "      <th>0</th>\n",
       "      <td>service_relation_client_resp_time</td>\n",
       "      <td>6</td>\n",
       "      <td>YXBpLWtleXxkY2dsOjpzY3JlZW4=-YXBpLWtleXxteXNxbA==</td>\n",
       "      <td>4</td>\n",
       "      <td>1631721600</td>\n",
       "      <td>24</td>\n",
       "    </tr>\n",
       "    <tr>\n",
       "      <th>1</th>\n",
       "      <td>service_relation_client_resp_time</td>\n",
       "      <td>5</td>\n",
       "      <td>YXBpLWtleXxkY2dsOjpzdGFuZGFyZA==-YXBpLWtleXxkY...</td>\n",
       "      <td>55</td>\n",
       "      <td>1631721600</td>\n",
       "      <td>276</td>\n",
       "    </tr>\n",
       "    <tr>\n",
       "      <th>2</th>\n",
       "      <td>service_relation_client_resp_time</td>\n",
       "      <td>1</td>\n",
       "      <td>dGVzdC1hcGkta2V5LXNlbmQtY2hlY2t8ZGF0YWJ1ZmY6On...</td>\n",
       "      <td>1</td>\n",
       "      <td>1631721600</td>\n",
       "      <td>1</td>\n",
       "    </tr>\n",
       "    <tr>\n",
       "      <th>3</th>\n",
       "      <td>service_relation_client_resp_time</td>\n",
       "      <td>2</td>\n",
       "      <td>MTkyMTY4NTAzMTEwN3xsb2djdWJlOjpsb2djdWJlX3Njcm...</td>\n",
       "      <td>5</td>\n",
       "      <td>1631721600</td>\n",
       "      <td>10</td>\n",
       "    </tr>\n",
       "    <tr>\n",
       "      <th>4</th>\n",
       "      <td>service_relation_client_resp_time</td>\n",
       "      <td>2</td>\n",
       "      <td>dGVzdC1hcGkta2V5LXNlbmQtY2hlY2t8ZGF0YWJ1ZmY6On...</td>\n",
       "      <td>0</td>\n",
       "      <td>1631721600</td>\n",
       "      <td>0</td>\n",
       "    </tr>\n",
       "    <tr>\n",
       "      <th>...</th>\n",
       "      <td>...</td>\n",
       "      <td>...</td>\n",
       "      <td>...</td>\n",
       "      <td>...</td>\n",
       "      <td>...</td>\n",
       "      <td>...</td>\n",
       "    </tr>\n",
       "    <tr>\n",
       "      <th>16122</th>\n",
       "      <td>service_relation_client_resp_time</td>\n",
       "      <td>380</td>\n",
       "      <td>dGVzdC1hcGkta2V5LXNlbmQtY2hlY2t8ZGF0YWJ1ZmY6On...</td>\n",
       "      <td>0</td>\n",
       "      <td>1631807940</td>\n",
       "      <td>8</td>\n",
       "    </tr>\n",
       "    <tr>\n",
       "      <th>16123</th>\n",
       "      <td>service_relation_client_resp_time</td>\n",
       "      <td>2</td>\n",
       "      <td>YXBpLWtleXxkY2dsOjpzY3JlZW4=-YXBpLWtleXxlbGFzd...</td>\n",
       "      <td>14</td>\n",
       "      <td>1631807940</td>\n",
       "      <td>29</td>\n",
       "    </tr>\n",
       "    <tr>\n",
       "      <th>16124</th>\n",
       "      <td>service_relation_client_resp_time</td>\n",
       "      <td>208</td>\n",
       "      <td>dGVzdC1hcGkta2V5LXNlbmQtY2hlY2t8ZGF0YWJ1ZmY6On...</td>\n",
       "      <td>5</td>\n",
       "      <td>1631807940</td>\n",
       "      <td>1111</td>\n",
       "    </tr>\n",
       "    <tr>\n",
       "      <th>16125</th>\n",
       "      <td>service_relation_client_resp_time</td>\n",
       "      <td>8</td>\n",
       "      <td>MTkyMTY4NTAzMTEwN3xsb2djdWJlOjpsb2djdWJlX3Njcm...</td>\n",
       "      <td>0</td>\n",
       "      <td>1631807940</td>\n",
       "      <td>0</td>\n",
       "    </tr>\n",
       "    <tr>\n",
       "      <th>16126</th>\n",
       "      <td>service_relation_client_resp_time</td>\n",
       "      <td>3</td>\n",
       "      <td>MTkyMTY4NTAzMTEwN3xsb2djdWJlOjpsb2djdWJlX3Njcm...</td>\n",
       "      <td>0</td>\n",
       "      <td>1631807940</td>\n",
       "      <td>1</td>\n",
       "    </tr>\n",
       "  </tbody>\n",
       "</table>\n",
       "<p>16127 rows × 6 columns</p>\n",
       "</div>"
      ],
      "text/plain": [
       "                            metric_table  count  \\\n",
       "0      service_relation_client_resp_time      6   \n",
       "1      service_relation_client_resp_time      5   \n",
       "2      service_relation_client_resp_time      1   \n",
       "3      service_relation_client_resp_time      2   \n",
       "4      service_relation_client_resp_time      2   \n",
       "...                                  ...    ...   \n",
       "16122  service_relation_client_resp_time    380   \n",
       "16123  service_relation_client_resp_time      2   \n",
       "16124  service_relation_client_resp_time    208   \n",
       "16125  service_relation_client_resp_time      8   \n",
       "16126  service_relation_client_resp_time      3   \n",
       "\n",
       "                                               entity_id  value   timestamp  \\\n",
       "0      YXBpLWtleXxkY2dsOjpzY3JlZW4=-YXBpLWtleXxteXNxbA==      4  1631721600   \n",
       "1      YXBpLWtleXxkY2dsOjpzdGFuZGFyZA==-YXBpLWtleXxkY...     55  1631721600   \n",
       "2      dGVzdC1hcGkta2V5LXNlbmQtY2hlY2t8ZGF0YWJ1ZmY6On...      1  1631721600   \n",
       "3      MTkyMTY4NTAzMTEwN3xsb2djdWJlOjpsb2djdWJlX3Njcm...      5  1631721600   \n",
       "4      dGVzdC1hcGkta2V5LXNlbmQtY2hlY2t8ZGF0YWJ1ZmY6On...      0  1631721600   \n",
       "...                                                  ...    ...         ...   \n",
       "16122  dGVzdC1hcGkta2V5LXNlbmQtY2hlY2t8ZGF0YWJ1ZmY6On...      0  1631807940   \n",
       "16123  YXBpLWtleXxkY2dsOjpzY3JlZW4=-YXBpLWtleXxlbGFzd...     14  1631807940   \n",
       "16124  dGVzdC1hcGkta2V5LXNlbmQtY2hlY2t8ZGF0YWJ1ZmY6On...      5  1631807940   \n",
       "16125  MTkyMTY4NTAzMTEwN3xsb2djdWJlOjpsb2djdWJlX3Njcm...      0  1631807940   \n",
       "16126  MTkyMTY4NTAzMTEwN3xsb2djdWJlOjpsb2djdWJlX3Njcm...      0  1631807940   \n",
       "\n",
       "       summation  \n",
       "0             24  \n",
       "1            276  \n",
       "2              1  \n",
       "3             10  \n",
       "4              0  \n",
       "...          ...  \n",
       "16122          8  \n",
       "16123         29  \n",
       "16124       1111  \n",
       "16125          0  \n",
       "16126          1  \n",
       "\n",
       "[16127 rows x 6 columns]"
      ]
     },
     "execution_count": 24,
     "metadata": {},
     "output_type": "execute_result"
    }
   ],
   "source": [
    "data"
   ]
  },
  {
   "cell_type": "code",
   "execution_count": null,
   "metadata": {},
   "outputs": [],
   "source": []
  }
 ],
 "metadata": {
  "kernelspec": {
   "display_name": "Python 3",
   "language": "python",
   "name": "python3"
  },
  "language_info": {
   "codemirror_mode": {
    "name": "ipython",
    "version": 3
   },
   "file_extension": ".py",
   "mimetype": "text/x-python",
   "name": "python",
   "nbconvert_exporter": "python",
   "pygments_lexer": "ipython3",
   "version": "3.7.6"
  }
 },
 "nbformat": 4,
 "nbformat_minor": 4
}
