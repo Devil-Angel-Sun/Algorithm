{
 "cells": [
  {
   "cell_type": "code",
   "execution_count": 1,
   "id": "48ed4805-bd64-4a9f-ab82-47930da61911",
   "metadata": {},
   "outputs": [
    {
     "data": {
      "text/plain": [
       "ResultSet({})"
      ]
     },
     "execution_count": 1,
     "metadata": {},
     "output_type": "execute_result"
    }
   ],
   "source": [
    "from influxdb import InfluxDBClient\n",
    "\n",
    "# 连接到InfluxDB（包括用户名和密码）\n",
    "client = InfluxDBClient(host='192.168.50.193', port=18086, username = 'admin',password = 'Databuff@123', database='databuff_system')\n",
    "\n",
    "# 删除测量表\n",
    "measurement_name = 'aaamessages_read'\n",
    "query = f\"DROP MEASUREMENT {measurement_name}\"\n",
    "client.query(query)\n"
   ]
  },
  {
   "cell_type": "code",
   "execution_count": null,
   "id": "349482d8-6719-41dc-b3ac-5508658f56cd",
   "metadata": {},
   "outputs": [],
   "source": []
  },
  {
   "cell_type": "code",
   "execution_count": null,
   "id": "3191bad8-d6fa-4218-956e-d67cca94a997",
   "metadata": {},
   "outputs": [],
   "source": []
  },
  {
   "cell_type": "code",
   "execution_count": null,
   "id": "ca394891-6454-4ffe-8b2d-16beeb1edeb9",
   "metadata": {},
   "outputs": [],
   "source": []
  }
 ],
 "metadata": {
  "kernelspec": {
   "display_name": "Python 3 (ipykernel)",
   "language": "python",
   "name": "python3"
  },
  "language_info": {
   "codemirror_mode": {
    "name": "ipython",
    "version": 3
   },
   "file_extension": ".py",
   "mimetype": "text/x-python",
   "name": "python",
   "nbconvert_exporter": "python",
   "pygments_lexer": "ipython3",
   "version": "3.11.3"
  }
 },
 "nbformat": 4,
 "nbformat_minor": 5
}
