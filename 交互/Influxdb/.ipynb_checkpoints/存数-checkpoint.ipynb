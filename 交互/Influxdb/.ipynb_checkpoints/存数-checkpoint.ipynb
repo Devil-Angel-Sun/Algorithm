{
 "cells": [
  {
   "cell_type": "code",
   "execution_count": null,
   "id": "48ed4805-bd64-4a9f-ab82-47930da61911",
   "metadata": {},
   "outputs": [],
   "source": [
    "from influxdb import InfluxDBClient\n",
    "\n",
    "# 连接到InfluxDB\n",
    "client = InfluxDBClient(host='192.168.50.193', port=18086, username = 'admin',password = 'Databuff@123', database='databuff_system')\n",
    "\n",
    "# 编写数据点\n",
    "data = [\n",
    "    {\n",
    "        \"measurement\": \"test\",\n",
    "        \"tags\": {\n",
    "            \"service\": \"1111111\"\n",
    "        },\n",
    "        \"time\": \"2024-01-24T12:00:00Z\",\n",
    "        \"fields\": {\n",
    "            \"trace\": \"aaassdd\"\n",
    "        }\n",
    "    }\n",
    "]\n",
    "\n",
    "# 写入数据\n",
    "client.write_points(data)\n"
   ]
  }
 ],
 "metadata": {
  "kernelspec": {
   "display_name": "Python 3 (ipykernel)",
   "language": "python",
   "name": "python3"
  },
  "language_info": {
   "codemirror_mode": {
    "name": "ipython",
    "version": 3
   },
   "file_extension": ".py",
   "mimetype": "text/x-python",
   "name": "python",
   "nbconvert_exporter": "python",
   "pygments_lexer": "ipython3",
   "version": "3.11.3"
  }
 },
 "nbformat": 4,
 "nbformat_minor": 5
}
