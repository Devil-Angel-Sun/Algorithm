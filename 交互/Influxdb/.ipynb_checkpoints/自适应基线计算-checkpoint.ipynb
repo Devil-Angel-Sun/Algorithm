{
 "cells": [
  {
   "cell_type": "code",
   "execution_count": 1,
   "metadata": {},
   "outputs": [],
   "source": [
    "from influxdb import InfluxDBClient\n",
    "import time, json\n",
    "import pandas as pd\n",
    "import numpy as np"
   ]
  },
  {
   "cell_type": "code",
   "execution_count": 2,
   "metadata": {},
   "outputs": [],
   "source": [
    "config = {'influxDB': {'host': '192.168.50.110',\n",
    "  'port': 18086,\n",
    "  'user': 'admin',\n",
    "  'password': '234*(sdlj12',\n",
    "  'dbname': 'source_metric',\n",
    "  'table': 'NzhEMjlBOTk3MzkxRjk5MjQyMzMzQzI4'}}"
   ]
  },
  {
   "cell_type": "code",
   "execution_count": 3,
   "metadata": {},
   "outputs": [],
   "source": [
    "client = InfluxDBClient(\n",
    "    host=config[\"influxDB\"][\"host\"],  # new\n",
    "    port=config[\"influxDB\"][\"port\"],\n",
    "    username=config[\"influxDB\"][\"user\"],  # new\n",
    "    password=config[\"influxDB\"][\"password\"],\n",
    "    database=config[\"influxDB\"][\"dbname\"],\n",
    ")"
   ]
  },
  {
   "cell_type": "code",
   "execution_count": 4,
   "metadata": {},
   "outputs": [],
   "source": [
    "def getData(metric, timestamp):\n",
    "    t0 = str(timestamp - 3600*24*9)+'000000000'\n",
    "    t1 = str(timestamp)+'000000000'\n",
    "    table = 'NzhEMjlBOTk3MzkxRjk5MjQyMzMzQzI4'\n",
    "    sql = \"select host,metricsVal,time from {} where metric='{}' and time>{} and time<={} order by time asc\".format(table,metric, t0, t1)\n",
    "    return pd.DataFrame(client.query(sql, epoch=\"s\")[table])"
   ]
  },
  {
   "cell_type": "code",
   "execution_count": 5,
   "metadata": {},
   "outputs": [],
   "source": [
    "def getThreshold(data):\n",
    "    history = data[(data['time'] > 1666108800-3600*7*24)&(data['time'] < 1666108800)]['metricsVal'].values\n",
    "    history.sort()\n",
    "    history_p99 = np.percentile(history, 99)\n",
    "    history_p75 = np.percentile(history, 75)\n",
    "    history_p25 = np.percentile(history, 25)\n",
    "    history_p1 = np.percentile(history, 1)\n",
    "    threshold_high = history_p99+(history_p75-history_p25)\n",
    "    threshold_low = history_p1-(history_p75-history_p25)\n",
    "    return threshold_low,threshold_high"
   ]
  },
  {
   "cell_type": "code",
   "execution_count": 6,
   "metadata": {},
   "outputs": [],
   "source": [
    "timestamp = int(time.time())"
   ]
  },
  {
   "cell_type": "code",
   "execution_count": 10,
   "metadata": {},
   "outputs": [
    {
     "data": {
      "text/plain": [
       "2996.94453125"
      ]
     },
     "execution_count": 10,
     "metadata": {},
     "output_type": "execute_result"
    }
   ],
   "source": [
    "metric = 'system.mem.pagefile.used'\n",
    "data = getData(metric, timestamp)\n",
    "threshold_low,threshold_high = getThreshold(data[data['host'] == list(data['host'].unique())[0]])\n",
    "threshold_high"
   ]
  },
  {
   "cell_type": "code",
   "execution_count": 21,
   "metadata": {},
   "outputs": [
    {
     "data": {
      "text/plain": [
       "['WIN-28L3MIEC5GE', 'DESKTOP-1DSLVAP', 'DESKTOP-LHIPQIC', 'WIN-963C9APBE1F']"
      ]
     },
     "execution_count": 21,
     "metadata": {},
     "output_type": "execute_result"
    }
   ],
   "source": [
    "list(data['host'].unique())[]"
   ]
  },
  {
   "cell_type": "code",
   "execution_count": 11,
   "metadata": {},
   "outputs": [
    {
     "data": {
      "text/plain": [
       "-2.0"
      ]
     },
     "execution_count": 11,
     "metadata": {},
     "output_type": "execute_result"
    }
   ],
   "source": [
    "metric = 'mysql.can_connect'\n",
    "data = getData(metric, timestamp)\n",
    "threshold_low,threshold_high = getThreshold(data)\n",
    "threshold_low"
   ]
  },
  {
   "cell_type": "code",
   "execution_count": null,
   "metadata": {},
   "outputs": [],
   "source": []
  }
 ],
 "metadata": {
  "kernelspec": {
   "display_name": "Python 3 (ipykernel)",
   "language": "python",
   "name": "python3"
  },
  "language_info": {
   "codemirror_mode": {
    "name": "ipython",
    "version": 3
   },
   "file_extension": ".py",
   "mimetype": "text/x-python",
   "name": "python",
   "nbconvert_exporter": "python",
   "pygments_lexer": "ipython3",
   "version": "3.11.3"
  }
 },
 "nbformat": 4,
 "nbformat_minor": 4
}
