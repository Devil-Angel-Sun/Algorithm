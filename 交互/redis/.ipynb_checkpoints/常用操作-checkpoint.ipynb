{
 "cells": [
  {
   "cell_type": "code",
   "execution_count": 1,
   "id": "00167c3a-2033-402e-9f70-3be706aeeb50",
   "metadata": {
    "tags": []
   },
   "outputs": [],
   "source": [
    "import redis\n",
    "import pickle"
   ]
  },
  {
   "cell_type": "code",
   "execution_count": 2,
   "id": "7849bfac-afa0-448e-b9ad-28826cf38c69",
   "metadata": {
    "tags": []
   },
   "outputs": [],
   "source": [
    "config = {\"redis\": {\n",
    "        \"host\": \"192.168.50.85\",\n",
    "        \"port\": 16379,\n",
    "        \"db\": 0\n",
    "    }}"
   ]
  },
  {
   "cell_type": "code",
   "execution_count": 3,
   "id": "80aff3fe-692f-477f-b816-5a5904c80b71",
   "metadata": {
    "tags": []
   },
   "outputs": [],
   "source": [
    "pool = redis.ConnectionPool(\n",
    "    host=config[\"redis\"][\"host\"],\n",
    "    port=config[\"redis\"][\"port\"],\n",
    "    db=config[\"redis\"][\"db\"]\n",
    ")\n",
    "r = redis.Redis(connection_pool=pool)"
   ]
  },
  {
   "cell_type": "markdown",
   "id": "8197731e-5389-46fb-9a0f-1553abd1e961",
   "metadata": {},
   "source": [
    "## 读取数据"
   ]
  },
  {
   "cell_type": "code",
   "execution_count": 4,
   "id": "071b0d6f-6456-41ea-9757-6edb4a746152",
   "metadata": {
    "tags": []
   },
   "outputs": [
    {
     "data": {
      "text/plain": [
       "'7.866994752963622E7'"
      ]
     },
     "execution_count": 4,
     "metadata": {},
     "output_type": "execute_result"
    }
   ],
   "source": [
    "data = r.get('monitor:apm:line:177:*')\n",
    "data.decode('utf-8')"
   ]
  },
  {
   "cell_type": "markdown",
   "id": "e80e27e7-0955-48ea-9c02-80fbd00af24d",
   "metadata": {},
   "source": [
    "### 批量查询某个key下的所有值"
   ]
  },
  {
   "cell_type": "code",
   "execution_count": 5,
   "id": "2eef6881-cae9-4097-958b-6a9d7e49bc83",
   "metadata": {
    "collapsed": true,
    "jupyter": {
     "outputs_hidden": true
    }
   },
   "outputs": [
    {
     "name": "stdout",
     "output_type": "stream",
     "text": [
      "Key: monitor:apm:line:179:*, Value: 9012247.627711238\n",
      "Key: monitor:apm:line:159:*, Value: 2.6071386582026143E7\n",
      "Key: monitor:apm:line:195:*, Value: 0.0\n",
      "Key: monitor:apm:line:224:*, Value: 3.5577313382905975E7\n",
      "Key: monitor:apm:line:160:*, Value: 0.0\n",
      "Key: monitor:apm:line:239:*, Value: 0.0\n",
      "Key: monitor:apm:line:194:*, Value: 2.478193900990128E8\n",
      "Key: monitor:apm:line:155:*, Value: 8.197019304297616E8\n",
      "Key: monitor:apm:line:153:*, Value: 3.685540538785714E8\n",
      "Key: monitor:apm:line:123:*, Value: 9.417868381321838E7\n",
      "Key: monitor:apm:line:161:*, Value: 6.677447331833334E8\n",
      "Key: monitor:apm:line:198:*, Value: 9.594173349707367E8\n",
      "Key: monitor:apm:line:149:*, Value: 2.171551828125E7\n",
      "Key: monitor:apm:line:142:*, Value: 0.0\n",
      "Key: monitor:apm:line:148:*, Value: 0.0\n",
      "Key: monitor:apm:line:151:*, Value: 2.2594115488888882E7\n",
      "Key: monitor:apm:line:177:*, Value: 7.866994752963622E7\n",
      "Key: monitor:apm:line:240:*, Value: 9.141048760153769E8\n",
      "Key: monitor:apm:line:197:*, Value: 0.012048192771084338\n",
      "Key: monitor:apm:line:163:*, Value: 4.3423800747368425E7\n",
      "Key: monitor:apm:line:154:*, Value: 0.0\n",
      "Key: monitor:apm:line:170:*, Value: 0.0\n",
      "Key: monitor:apm:line:196:*, Value: 6.901726568285085E7\n",
      "Key: monitor:apm:line:201:*, Value: 0.9415384615384615\n",
      "Key: monitor:apm:line:172:*, Value: 0.0\n",
      "Key: monitor:apm:line:173:*, Value: 5.5066702655821584E7\n",
      "Key: monitor:apm:line:176:*, Value: 0.019919885267790913\n",
      "Key: monitor:apm:line:202:*, Value: 1.8224410112820514E7\n",
      "Key: monitor:apm:line:98:*, Value: 34855.7774985655\n",
      "Key: monitor:apm:line:97:*, Value: 0.0\n",
      "Key: monitor:apm:line:99:*, Value: 0.0\n",
      "Key: monitor:apm:line:143:*, Value: 8.198351248974359E8\n",
      "Key: monitor:apm:line:223:*, Value: 0.0\n",
      "Key: monitor:apm:line:199:*, Value: 0.0\n",
      "Key: monitor:apm:line:193:*, Value: 0.0\n",
      "Key: monitor:apm:line:210:*, Value: 1.8655732625641026E7\n",
      "Key: monitor:apm:line:191:*, Value: 0.0\n",
      "Key: monitor:apm:line:100:*, Value: 6951791.686575053\n",
      "Key: monitor:apm:line:152:*, Value: 0.0\n",
      "Key: monitor:apm:line:178:*, Value: 0.0\n",
      "Key: monitor:apm:line:145:*, Value: 2.647088533623832E7\n",
      "Key: monitor:apm:line:144:*, Value: 0.0\n",
      "Key: monitor:apm:line:150:*, Value: 0.0\n",
      "Key: monitor:apm:line:158:*, Value: 0.0\n",
      "Key: monitor:apm:line:192:*, Value: 1.0690293157759297E8\n",
      "Key: monitor:apm:line:200:*, Value: 1.9564419274676535E8\n",
      "Key: monitor:apm:line:209:*, Value: 0.0\n",
      "Key: monitor:apm:line:122:*, Value: 0.0\n",
      "Key: monitor:apm:line:171:*, Value: 1.8656120217001113E8\n",
      "Key: monitor:apm:line:162:*, Value: 0.0\n"
     ]
    }
   ],
   "source": [
    "pattern = \"monitor:apm:line:*\"\n",
    "\n",
    "# 使用SCAN命令来遍历匹配的键名\n",
    "cursor = 0\n",
    "keys = []\n",
    "while True:\n",
    "    cursor, partial_keys = r.scan(cursor, match=pattern)\n",
    "    keys.extend(partial_keys)\n",
    "    if cursor == 0:\n",
    "        break\n",
    "\n",
    "# 获取匹配键名的值\n",
    "for key in keys:\n",
    "    value = r.get(key)\n",
    "    print(f\"Key: {key.decode('utf-8')}, Value: {value.decode('utf-8')}\")"
   ]
  },
  {
   "cell_type": "markdown",
   "id": "9dca85e0-71af-4858-b28f-0db2df7c28ba",
   "metadata": {},
   "source": [
    "## 删除数据"
   ]
  },
  {
   "cell_type": "code",
   "execution_count": 9,
   "id": "08e8530c-2cd1-4fa2-ae0d-0689f5c3e0f1",
   "metadata": {
    "tags": []
   },
   "outputs": [
    {
     "data": {
      "text/plain": [
       "1"
      ]
     },
     "execution_count": 9,
     "metadata": {},
     "output_type": "execute_result"
    }
   ],
   "source": [
    "r.delete('rca:latency:trace:TnpoRU1qbEJPVGszTXpreFJqazVNalF5TXpNelF6STR8ZWxhc3RpY3NlYXJjaA==')"
   ]
  },
  {
   "cell_type": "markdown",
   "id": "893466ef-caa7-4f25-8e8c-c9736c065f25",
   "metadata": {},
   "source": [
    "## 存入数据"
   ]
  },
  {
   "cell_type": "code",
   "execution_count": null,
   "id": "1f665393-9884-4f98-a1df-a1f03cf3e438",
   "metadata": {},
   "outputs": [],
   "source": [
    "itemServer = 'TnpoRU1qbEJPVGszTXpreFJqazVNalF5TXpNelF6STR8ZWxhc3RpY3NlYXJjaA=='\n",
    "result = {}\n",
    "r.set(f'rca:latency:trace:{itemServer}',pickle.dumps(result))"
   ]
  }
 ],
 "metadata": {
  "kernelspec": {
   "display_name": "Python 3 (ipykernel)",
   "language": "python",
   "name": "python3"
  },
  "language_info": {
   "codemirror_mode": {
    "name": "ipython",
    "version": 3
   },
   "file_extension": ".py",
   "mimetype": "text/x-python",
   "name": "python",
   "nbconvert_exporter": "python",
   "pygments_lexer": "ipython3",
   "version": "3.11.3"
  }
 },
 "nbformat": 4,
 "nbformat_minor": 5
}
