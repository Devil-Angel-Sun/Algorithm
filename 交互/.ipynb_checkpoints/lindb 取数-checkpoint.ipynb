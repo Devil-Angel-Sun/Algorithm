{
 "cells": [
  {
   "cell_type": "markdown",
   "id": "3ae3e616-8a40-4396-8ce8-8d324d8b6b83",
   "metadata": {},
   "source": [
    "## 查有哪些数据库"
   ]
  },
  {
   "cell_type": "code",
   "execution_count": 15,
   "id": "c2ba96e6-99cf-474b-874b-da34ec8cddb0",
   "metadata": {},
   "outputs": [
    {
     "data": {
      "text/plain": [
       "{'queryType': 'SHOWDATABASES',\n",
       " 'result': {'data': ['NzhEMjlBOTk3MzkxRjk5MjQyMzMzQzI4_npm',\n",
       "   'databuff_system',\n",
       "   'test',\n",
       "   'NzhEMjlBOTk3MzkxRjk5MjQyMzMzQzI4_apm_metric',\n",
       "   'NzhEMjlBOTk3MzkxRjk5MjQyMzMzQzI4_message_queue',\n",
       "   'NzhEMjlBOTk3MzkxRjk5MjQyMzMzQzI4_databuff',\n",
       "   'NzhEMjlBOTk3MzkxRjk5MjQyMzMzQzI4_infrastructure',\n",
       "   'NzhEMjlBOTk3MzkxRjk5MjQyMzMzQzI4_cloud_or_virtualization',\n",
       "   'NzhEMjlBOTk3MzkxRjk5MjQyMzMzQzI4_data_storage',\n",
       "   'NzhEMjlBOTk3MzkxRjk5MjQyMzMzQzI4_network_equipment',\n",
       "   'NzhEMjlBOTk3MzkxRjk5MjQyMzMzQzI4_protocol',\n",
       "   'NzhEMjlBOTk3MzkxRjk5MjQyMzMzQzI4_application_service',\n",
       "   '_internal']}}"
      ]
     },
     "execution_count": 15,
     "metadata": {},
     "output_type": "execute_result"
    }
   ],
   "source": [
    "import requests\n",
    "\n",
    "url = 'http://192.168.50.193:8080/api/search'\n",
    "\n",
    "params = {\n",
    "    'q':\"SHOW DATABASES\",\n",
    "}\n",
    "\n",
    "response = requests.get(url, params=params)\n",
    "data = response.json()  \n",
    "data"
   ]
  },
  {
   "cell_type": "markdown",
   "id": "6c1dc2f1-e7ef-49fd-bbc2-ab43c4f505cb",
   "metadata": {},
   "source": [
    "## 查询单条数据"
   ]
  },
  {
   "cell_type": "code",
   "execution_count": 3,
   "id": "806a0200-ff6d-4a77-bbab-c6fa0c4279be",
   "metadata": {},
   "outputs": [
    {
     "data": {
      "text/plain": [
       "3600.0"
      ]
     },
     "execution_count": 3,
     "metadata": {},
     "output_type": "execute_result"
    }
   ],
   "source": [
    "(1711073700000-1711070100000)/1000"
   ]
  },
  {
   "cell_type": "code",
   "execution_count": 12,
   "id": "e3f192b7-e0cd-41c0-b1fe-c2ff7a4d3f33",
   "metadata": {
    "collapsed": true,
    "jupyter": {
     "outputs_hidden": true
    }
   },
   "outputs": [
    {
     "data": {
      "text/plain": [
       "{'queryType': 'QUERY',\n",
       " 'result': {'measurementName': 'jvm',\n",
       "  'startTime': 1711070280000,\n",
       "  'endTime': 1711073880000,\n",
       "  'interval': 60000,\n",
       "  'pointCount': 60,\n",
       "  'groups': [{'group': {},\n",
       "    'fields': {'thread_count': [45.0,\n",
       "      42.0,\n",
       "      45.0,\n",
       "      45.0,\n",
       "      45.0,\n",
       "      45.0,\n",
       "      45.0,\n",
       "      45.0,\n",
       "      42.0,\n",
       "      45.0,\n",
       "      45.0,\n",
       "      45.0,\n",
       "      45.0,\n",
       "      45.0,\n",
       "      45.0,\n",
       "      45.0,\n",
       "      45.0,\n",
       "      45.0,\n",
       "      45.0,\n",
       "      45.0,\n",
       "      45.0,\n",
       "      45.0,\n",
       "      45.0,\n",
       "      45.0,\n",
       "      45.0,\n",
       "      45.0,\n",
       "      45.0,\n",
       "      45.0,\n",
       "      45.0,\n",
       "      45.0,\n",
       "      45.0,\n",
       "      45.0,\n",
       "      45.0,\n",
       "      45.0,\n",
       "      45.0,\n",
       "      45.0,\n",
       "      45.0,\n",
       "      45.0,\n",
       "      45.0,\n",
       "      45.0,\n",
       "      45.0,\n",
       "      45.0,\n",
       "      82.0,\n",
       "      79.0,\n",
       "      82.0,\n",
       "      81.0,\n",
       "      85.0,\n",
       "      83.0,\n",
       "      74.0,\n",
       "      79.0,\n",
       "      83.0,\n",
       "      82.0,\n",
       "      80.0,\n",
       "      45.0,\n",
       "      45.0,\n",
       "      45.0,\n",
       "      45.0,\n",
       "      45.0,\n",
       "      45.0,\n",
       "      45.0]}}]}}"
      ]
     },
     "execution_count": 12,
     "metadata": {},
     "output_type": "execute_result"
    }
   ],
   "source": [
    "import requests\n",
    "\n",
    "url = 'http://192.168.50.193:8080/api/search'\n",
    "\n",
    "params = {\n",
    "    'q': \"SELECT 'thread_count' FROM 'jvm' WHERE time > now()-1h  GROUP BY time(-1s)\",\n",
    "    'db': 'NzhEMjlBOTk3MzkxRjk5MjQyMzMzQzI4_apm_metric'\n",
    "}\n",
    "\n",
    "response = requests.get(url, params=params)\n",
    "data = response.json()\n",
    "data"
   ]
  },
  {
   "cell_type": "code",
   "execution_count": 11,
   "id": "7aa0a302-b7a9-48b3-b476-d415252ac988",
   "metadata": {
    "collapsed": true,
    "jupyter": {
     "outputs_hidden": true
    }
   },
   "outputs": [
    {
     "data": {
      "text/plain": [
       "{'results': [{'series': [{'name': 'jvm',\n",
       "     'columns': ['time', 'thread_count'],\n",
       "     'values': [[1711070280000, 45.0],\n",
       "      [1711070340000, 42.0],\n",
       "      [1711070400000, 45.0],\n",
       "      [1711070460000, 45.0],\n",
       "      [1711070520000, 45.0],\n",
       "      [1711070580000, 45.0],\n",
       "      [1711070640000, 45.0],\n",
       "      [1711070700000, 45.0],\n",
       "      [1711070760000, 42.0],\n",
       "      [1711070820000, 45.0],\n",
       "      [1711070880000, 45.0],\n",
       "      [1711070940000, 45.0],\n",
       "      [1711071000000, 45.0],\n",
       "      [1711071060000, 45.0],\n",
       "      [1711071120000, 45.0],\n",
       "      [1711071180000, 45.0],\n",
       "      [1711071240000, 45.0],\n",
       "      [1711071300000, 45.0],\n",
       "      [1711071360000, 45.0],\n",
       "      [1711071420000, 45.0],\n",
       "      [1711071480000, 45.0],\n",
       "      [1711071540000, 45.0],\n",
       "      [1711071600000, 45.0],\n",
       "      [1711071660000, 45.0],\n",
       "      [1711071720000, 45.0],\n",
       "      [1711071780000, 45.0],\n",
       "      [1711071840000, 45.0],\n",
       "      [1711071900000, 45.0],\n",
       "      [1711071960000, 45.0],\n",
       "      [1711072020000, 45.0],\n",
       "      [1711072080000, 45.0],\n",
       "      [1711072140000, 45.0],\n",
       "      [1711072200000, 45.0],\n",
       "      [1711072260000, 45.0],\n",
       "      [1711072320000, 45.0],\n",
       "      [1711072380000, 45.0],\n",
       "      [1711072440000, 45.0],\n",
       "      [1711072500000, 45.0],\n",
       "      [1711072560000, 45.0],\n",
       "      [1711072620000, 45.0],\n",
       "      [1711072680000, 45.0],\n",
       "      [1711072740000, 45.0],\n",
       "      [1711072800000, 45.0],\n",
       "      [1711072860000, 45.0],\n",
       "      [1711072920000, 58.0],\n",
       "      [1711072980000, 45.0],\n",
       "      [1711073040000, 45.0],\n",
       "      [1711073100000, 45.0],\n",
       "      [1711073160000, 45.0],\n",
       "      [1711073220000, 45.0],\n",
       "      [1711073280000, 45.0],\n",
       "      [1711073340000, 45.0],\n",
       "      [1711073400000, 58.0],\n",
       "      [1711073460000, 45.0],\n",
       "      [1711073520000, 45.0],\n",
       "      [1711073580000, 45.0],\n",
       "      [1711073640000, 45.0],\n",
       "      [1711073700000, 45.0],\n",
       "      [1711073760000, 45.0],\n",
       "      [1711073820000, 45.0],\n",
       "      [1711073880000, None]]}],\n",
       "   'statement_id': 0}]}"
      ]
     },
     "execution_count": 11,
     "metadata": {},
     "output_type": "execute_result"
    }
   ],
   "source": [
    "import requests\n",
    "\n",
    "url = 'http://192.168.50.193:8080/api/query'\n",
    "\n",
    "params = {\n",
    "    'q': \"SELECT 'thread_count' FROM 'jvm' WHERE time > 1711070280000  GROUP BY time(60s)\",\n",
    "    'db': 'NzhEMjlBOTk3MzkxRjk5MjQyMzMzQzI4_apm_metric'\n",
    "}\n",
    "\n",
    "response = requests.get(url, params=params)\n",
    "data = response.json()\n",
    "data"
   ]
  },
  {
   "cell_type": "markdown",
   "id": "2290f846-2735-4e61-b2c4-110af0a017bf",
   "metadata": {},
   "source": [
    "### 多 select 下的取数"
   ]
  },
  {
   "cell_type": "code",
   "execution_count": 77,
   "id": "6d983671-e256-4189-a5db-8c4b0bcea10a",
   "metadata": {
    "collapsed": true,
    "jupyter": {
     "outputs_hidden": true
    }
   },
   "outputs": [
    {
     "name": "stdout",
     "output_type": "stream",
     "text": [
      "{'results': [{'series': [{'name': 'jvm.buffer_pool', 'columns': ['time', 'mapped.capacity'], 'values': [[1710745020, 1.0], [1710745080, 1.0], [1710745140, 0.0], [1710745200, 1.0], [1710745260, 1.0], [1710745320, 1.0], [1710745380, 0.0], [1710745440, 0.0], [1710745500, 0.0], [1710745560, 0.0], [1710745620, 0.0], [1710745680, 0.0], [1710745740, 0.0], [1710745800, 0.0], [1710745860, 0.0], [1710745920, 1.0], [1710745980, 1.0], [1710746040, 1.0], [1710746100, 1.0], [1710746160, 1.0], [1710746220, 1.0], [1710746280, 1.0], [1710746340, 1.0], [1710746400, 1.0], [1710746460, 1.0], [1710746520, 1.0], [1710746580, 1.0], [1710746640, 1.0], [1710746700, 1.0], [1710746760, 1.0], [1710746820, 1.0], [1710746880, 1.0], [1710746940, 1.0], [1710747000, 1.0], [1710747060, 0.0], [1710747120, 0.0], [1710747180, 0.0], [1710747240, 0.0], [1710747300, 0.0], [1710747360, 0.0], [1710747420, 0.0], [1710747480, 0.0], [1710747540, 0.0], [1710747600, 1.0], [1710747660, 1.0], [1710747720, 0.0], [1710747780, 1.0], [1710747840, 1.0], [1710747900, 1.0], [1710747960, 1.0], [1710748020, 1.0], [1710748080, 1.0], [1710748140, 1.0], [1710748200, 1.0], [1710748260, 1.0], [1710748320, 1.0], [1710748380, 1.0], [1710748440, 1.0], [1710748500, 1.0], [1710748560, 1.0]]}], 'statement_id': 0}]}\n",
      "{'results': [{'series': [{'name': 'jvm', 'columns': ['time', 'thread_count'], 'values': [[1710745020, 56.0], [1710745080, 56.0], [1710745140, 56.0], [1710745200, 56.0], [1710745260, 56.0], [1710745320, 56.0], [1710745380, 120.0], [1710745440, 119.0], [1710745500, 119.0], [1710745560, 119.0], [1710745620, 119.0], [1710745680, 119.0], [1710745740, 119.0], [1710745800, 119.0], [1710745860, 119.0], [1710745920, 56.0], [1710745980, 56.0], [1710746040, 52.0], [1710746100, 96.0], [1710746160, 117.0], [1710746220, 117.0], [1710746280, 118.0], [1710746340, 118.0], [1710746400, 118.0], [1710746460, 118.0], [1710746520, 118.0], [1710746580, 118.0], [1710746640, 118.0], [1710746700, 118.0], [1710746760, 118.0], [1710746820, 118.0], [1710746880, 121.0], [1710746940, 56.0], [1710747000, 31.0], [1710747060, 33.0], [1710747120, 23.0], [1710747180, 23.0], [1710747240, 23.0], [1710747300, 23.0], [1710747360, 23.0], [1710747420, 23.0], [1710747480, 23.0], [1710747540, 23.0], [1710747600, 56.0], [1710747660, 56.0], [1710747720, 95.0], [1710747780, 56.0], [1710747840, 56.0], [1710747900, 56.0], [1710747960, 56.0], [1710748020, 56.0], [1710748080, 56.0], [1710748140, 56.0], [1710748200, 56.0], [1710748260, 56.0], [1710748320, 56.0], [1710748380, 56.0], [1710748440, 56.0], [1710748500, 56.0], [1710748560, 56.0]]}], 'statement_id': 0}]}\n"
     ]
    }
   ],
   "source": [
    "import requests\n",
    "\n",
    "# 创建一个会话对象\n",
    "session = requests.Session() # 可以用requests，也可以用Session的方式\n",
    "\n",
    "# 构建查询参数\n",
    "query_params = [\n",
    "    {\n",
    "        \"db\": \"NzhEMjlBOTk3MzkxRjk5MjQyMzMzQzI4_apm_metric\",\n",
    "        \"q\": \"select 'mapped.capacity' from 'jvm.buffer_pool' where time > now()-1h group by time(1m)\",\n",
    "        \"epoch\": \"s\"\n",
    "    },\n",
    "    {\n",
    "        \"db\": \"NzhEMjlBOTk3MzkxRjk5MjQyMzMzQzI4_apm_metric\",\n",
    "        \"q\": \"select 'thread_count' from 'jvm' where time > now()-1h group by time(1m)\",\n",
    "        \"epoch\": \"s\"\n",
    "    }\n",
    "]\n",
    "\n",
    "# 存储查询结果的列表\n",
    "results = []\n",
    "\n",
    "# 发送多个 HTTP GET 请求\n",
    "for params in query_params:\n",
    "    response = session.get(\"http://192.168.50.193:8080/api/query\", params=params)\n",
    "    if response.status_code == 200:\n",
    "        result = response.json()\n",
    "        results.append(result)\n",
    "    else:\n",
    "        print(\"Query failed with status code:\", response.status_code)\n",
    "        print(\"Error message:\", response.text)\n",
    "\n",
    "# 输出所有查询结果\n",
    "for result in results:\n",
    "    print(result)\n",
    "\n",
    "# 关闭会话\n",
    "session.close()\n"
   ]
  },
  {
   "cell_type": "markdown",
   "id": "b45bf5d6-dfb4-4673-b611-a54751c7cb73",
   "metadata": {},
   "source": [
    "## 采用连接池"
   ]
  },
  {
   "cell_type": "code",
   "execution_count": 1,
   "id": "79ae2a58-1a5f-4ef4-a27b-98926757ce11",
   "metadata": {},
   "outputs": [],
   "source": [
    "import requests\n",
    "import queue\n",
    "\n",
    "class UrlSessionPool(queue.Queue):\n",
    "    def __init__(self, maxsize=0):\n",
    "        queue.Queue.__init__(self, maxsize=maxsize)\n",
    "        self._maxsize = maxsize\n",
    "    \n",
    "    def create_session(self):\n",
    "        return requests.Session()\n",
    "    \n",
    "    def get_session(self, timeout=None):\n",
    "        if self.qsize() < self._maxsize or self._maxsize == 0:\n",
    "            self.put(self.create_session())\n",
    "        return queue.Queue.get(self, timeout)\n",
    "    \n",
    "    def release_session(self, session):\n",
    "        self.put(session)\n",
    "\n",
    "class LinDB(object):\n",
    "    def __init__(self, maxsize=3):\n",
    "        self._pool = UrlSessionPool(maxsize=maxsize)\n",
    "        \n",
    "    def read(self, url, params):\n",
    "        # 从连接池获取会话\n",
    "        session = self._pool.get_session()\n",
    "        try:\n",
    "            # 发送请求\n",
    "            response = session.get(url, params=params)\n",
    "            response.raise_for_status()  # 抛出异常如果请求失败\n",
    "            return response.json()  # 返回响应的 JSON 数据\n",
    "        finally:\n",
    "            # 将会话归还到连接池\n",
    "            self._pool.release_session(session)"
   ]
  },
  {
   "cell_type": "code",
   "execution_count": 11,
   "id": "90b52353-1967-464c-9afd-f95cdd305ddb",
   "metadata": {},
   "outputs": [],
   "source": [
    "lindb = LinDB(maxsize=3)\n",
    "params = {\"db\": \"NzhEMjlBOTk3MzkxRjk5MjQyMzMzQzI4_apm_metric\", \"q\": \"select 'mapped.capacity' from 'jvm.buffer_pool' where time > now()-1h group by time(1m)\"}\n",
    "\n",
    "data = lindb.read(\"http://192.168.50.193:8080/api/query\", params)"
   ]
  },
  {
   "cell_type": "code",
   "execution_count": 13,
   "id": "e325549e-57c7-4192-8b55-ee14117337c8",
   "metadata": {},
   "outputs": [
    {
     "name": "stdout",
     "output_type": "stream",
     "text": [
      "{'results': [{'series': [{'name': 'jvm', 'columns': ['time', 'thread_count'], 'values': [[1710745560, 23.0], [1710745620, 23.0], [1710745680, 23.0], [1710745740, 23.0], [1710745800, 23.0], [1710745860, 23.0], [1710745920, 56.0], [1710745980, 56.0], [1710746040, 56.0], [1710746100, 56.0], [1710746160, 56.0], [1710746220, 56.0], [1710746280, 56.0], [1710746340, 56.0], [1710746400, 56.0], [1710746460, 56.0], [1710746520, 56.0], [1710746580, 56.0], [1710746640, 59.0], [1710746700, 56.0], [1710746760, 56.0], [1710746820, 24.0], [1710746880, 121.0], [1710746940, 56.0], [1710747000, 31.0], [1710747060, 33.0], [1710747120, 23.0], [1710747180, 23.0], [1710747240, 23.0], [1710747300, 23.0], [1710747360, 23.0], [1710747420, 23.0], [1710747480, 23.0], [1710747540, 23.0], [1710747600, 56.0], [1710747660, 56.0], [1710747720, 95.0], [1710747780, 56.0], [1710747840, 56.0], [1710747900, 56.0], [1710747960, 56.0], [1710748020, 56.0], [1710748080, 56.0], [1710748140, 56.0], [1710748200, 56.0], [1710748260, 56.0], [1710748320, 56.0], [1710748380, 56.0], [1710748440, 56.0], [1710748500, 56.0], [1710748560, 56.0], [1710748620, 56.0], [1710748680, 56.0], [1710748740, 56.0], [1710748800, 56.0], [1710748860, 56.0], [1710748920, 56.0], [1710748980, 56.0], [1710749040, 56.0], [1710749100, 56.0]]}], 'statement_id': 0}]}\n",
      "{'results': [{'series': [{'name': 'jvm', 'columns': ['time', 'thread_count'], 'values': [[1710745560, 23.0], [1710745620, 23.0], [1710745680, 23.0], [1710745740, 23.0], [1710745800, 23.0], [1710745860, 23.0], [1710745920, 56.0], [1710745980, 56.0], [1710746040, 56.0], [1710746100, 56.0], [1710746160, 56.0], [1710746220, 56.0], [1710746280, 56.0], [1710746340, 56.0], [1710746400, 56.0], [1710746460, 56.0], [1710746520, 56.0], [1710746580, 56.0], [1710746640, 59.0], [1710746700, 56.0], [1710746760, 56.0], [1710746820, 24.0], [1710746880, 121.0], [1710746940, 56.0], [1710747000, 31.0], [1710747060, 33.0], [1710747120, 23.0], [1710747180, 23.0], [1710747240, 23.0], [1710747300, 23.0], [1710747360, 23.0], [1710747420, 23.0], [1710747480, 23.0], [1710747540, 23.0], [1710747600, 56.0], [1710747660, 56.0], [1710747720, 95.0], [1710747780, 56.0], [1710747840, 56.0], [1710747900, 56.0], [1710747960, 56.0], [1710748020, 56.0], [1710748080, 56.0], [1710748140, 56.0], [1710748200, 56.0], [1710748260, 56.0], [1710748320, 56.0], [1710748380, 56.0], [1710748440, 56.0], [1710748500, 56.0], [1710748560, 56.0], [1710748620, 56.0], [1710748680, 56.0], [1710748740, 56.0], [1710748800, 56.0], [1710748860, 56.0], [1710748920, 56.0], [1710748980, 56.0], [1710749040, 56.0], [1710749100, 56.0]]}], 'statement_id': 0}]}\n"
     ]
    }
   ],
   "source": [
    "lindb = LinDB(maxsize=3)\n",
    "params_list = [\n",
    "    {\"db\": \"NzhEMjlBOTk3MzkxRjk5MjQyMzMzQzI4_apm_metric\", \"q\": \"select 'mapped.capacity' from 'jvm.buffer_pool' where time > now()-1h group by time(1m)\"},\n",
    "    {\"db\": \"NzhEMjlBOTk3MzkxRjk5MjQyMzMzQzI4_apm_metric\", \"q\": \"select 'thread_count' from 'jvm' where time > now()-1h group by time(1m)\"}\n",
    "]\n",
    "\n",
    "# results = lindb.read(\"http://192.168.50.193:8080/api/query\", params_list)\n",
    "results = []\n",
    "\n",
    "# 发送多个 HTTP GET 请求\n",
    "for params in params_list:\n",
    "    response = lindb.read(\"http://192.168.50.193:8080/api/query\", params=params)\n",
    "    results.append(result)\n",
    "    \n",
    "# 输出所有查询结果\n",
    "for result in results:\n",
    "    print(result)\n"
   ]
  },
  {
   "cell_type": "code",
   "execution_count": null,
   "id": "4ece3028-24d8-4f95-b055-0a8620ebed59",
   "metadata": {},
   "outputs": [],
   "source": []
  }
 ],
 "metadata": {
  "kernelspec": {
   "display_name": "Python 3 (ipykernel)",
   "language": "python",
   "name": "python3"
  },
  "language_info": {
   "codemirror_mode": {
    "name": "ipython",
    "version": 3
   },
   "file_extension": ".py",
   "mimetype": "text/x-python",
   "name": "python",
   "nbconvert_exporter": "python",
   "pygments_lexer": "ipython3",
   "version": "3.11.3"
  }
 },
 "nbformat": 4,
 "nbformat_minor": 5
}
