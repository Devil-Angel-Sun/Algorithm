{
 "cells": [
  {
   "cell_type": "code",
   "execution_count": 1,
   "id": "04e9743c-fc51-4523-b4bc-b4d4d97b6b22",
   "metadata": {},
   "outputs": [],
   "source": [
    "import redis, pickle, pymysql, json"
   ]
  },
  {
   "cell_type": "code",
   "execution_count": 41,
   "id": "388ec3bd-231d-47ec-8ffe-1959bc220729",
   "metadata": {},
   "outputs": [],
   "source": [
    "config = {\"redis\": {\n",
    "            \"host\": \"192.168.50.85\",\n",
    "            \"port\": 16379,\n",
    "            \"db\": 0\n",
    "        },\n",
    "         'mysql':{\n",
    "             'host': \"192.168.50.85\",\n",
    "              'port': 13306,\n",
    "              'user': 'root',\n",
    "              'password': '234*(sdlj12',\n",
    "             'database': 'dc_databuff'\n",
    "          \n",
    "        }}"
   ]
  },
  {
   "cell_type": "code",
   "execution_count": 15,
   "id": "fbaa844e-aa2e-423f-947d-61ada8365f9a",
   "metadata": {},
   "outputs": [],
   "source": [
    "pool = redis.ConnectionPool(\n",
    "    host = config[\"redis\"][\"host\"],\n",
    "    port = config[\"redis\"][\"port\"],\n",
    "    db = config[\"redis\"][\"db\"]\n",
    ")\n",
    "r = redis.Redis(connection_pool=pool)\n",
    "\n",
    "conn = pymysql.connect(\n",
    "    host = config[\"mysql\"][\"host\"],\n",
    "    port = config[\"mysql\"][\"port\"],\n",
    "    user = config[\"mysql\"]['user'],\n",
    "    password = config[\"mysql\"]['password'],\n",
    "    database = config[\"mysql\"]['database'],\n",
    "    charset = \"utf8mb4\"\n",
    ")"
   ]
  },
  {
   "cell_type": "code",
   "execution_count": 16,
   "id": "e1df9de3-b664-4400-b942-cabb50a11c24",
   "metadata": {},
   "outputs": [
    {
     "data": {
      "text/plain": [
       "136"
      ]
     },
     "execution_count": 16,
     "metadata": {},
     "output_type": "execute_result"
    }
   ],
   "source": [
    "sql = f\"select * from dc_databuff_monitor where classification='apm'\"\n",
    "cursor = conn.cursor(cursor=pymysql.cursors.DictCursor)\n",
    "cursor.execute(sql)\n",
    "result = cursor.fetchall()\n",
    "\n",
    "# 输出查询结果\n",
    "rules = {}\n",
    "for l in result:\n",
    "    query = json.loads(l[\"query\"])\n",
    "    try:\n",
    "        rules[l[\"id\"]] = {\n",
    "            \"service_id\": query[\"serviceId\"],\n",
    "            \"service\":query[\"service\"],\n",
    "            \"metric\": query[\"metric\"],\n",
    "            \"resource\": query[\"resource\"][0],\n",
    "            \"monitor_type\": l[\"type\"],\n",
    "            \"comparison\": \">\"\n",
    "            if l[\"type\"] == \"abnormal\"\n",
    "            else json.loads(l[\"params\"])[\"comparison\"],\n",
    "        }\n",
    "    except:\n",
    "        print(l['id'])\n",
    "        "
   ]
  },
  {
   "cell_type": "code",
   "execution_count": 8,
   "id": "2c1ea940-376c-493f-90f1-b1b1869a5ccf",
   "metadata": {
    "collapsed": true,
    "jupyter": {
     "outputs_hidden": true
    }
   },
   "outputs": [
    {
     "name": "stdout",
     "output_type": "stream",
     "text": [
      "Key: monitor:apm:line:179:*, Value: 9012247.627711238\n",
      "Key: monitor:apm:line:159:*, Value: 2.6071386582026143E7\n",
      "Key: monitor:apm:line:195:*, Value: 0.0\n",
      "Key: monitor:apm:line:224:*, Value: 3.5577313382905975E7\n",
      "Key: monitor:apm:line:160:*, Value: 0.0\n",
      "Key: monitor:apm:line:239:*, Value: 0.0\n",
      "Key: monitor:apm:line:194:*, Value: 2.478193900990128E8\n",
      "Key: monitor:apm:line:155:*, Value: 8.197019304297616E8\n",
      "Key: monitor:apm:line:153:*, Value: 3.685540538785714E8\n",
      "Key: monitor:apm:line:123:*, Value: 9.417868381321838E7\n",
      "Key: monitor:apm:line:161:*, Value: 6.677447331833334E8\n",
      "Key: monitor:apm:line:198:*, Value: 9.594173349707367E8\n",
      "Key: monitor:apm:line:149:*, Value: 2.171551828125E7\n",
      "Key: monitor:apm:line:142:*, Value: 0.0\n",
      "Key: monitor:apm:line:148:*, Value: 0.0\n",
      "Key: monitor:apm:line:151:*, Value: 2.2594115488888882E7\n",
      "Key: monitor:apm:line:177:*, Value: 7.866994752963622E7\n",
      "Key: monitor:apm:line:240:*, Value: 9.141048760153769E8\n",
      "Key: monitor:apm:line:197:*, Value: 0.012048192771084338\n",
      "Key: monitor:apm:line:163:*, Value: 4.3423800747368425E7\n",
      "Key: monitor:apm:line:154:*, Value: 0.0\n",
      "Key: monitor:apm:line:170:*, Value: 0.0\n",
      "Key: monitor:apm:line:196:*, Value: 6.901726568285085E7\n",
      "Key: monitor:apm:line:201:*, Value: 0.9415384615384615\n",
      "Key: monitor:apm:line:172:*, Value: 0.0\n",
      "Key: monitor:apm:line:173:*, Value: 5.5066702655821584E7\n",
      "Key: monitor:apm:line:176:*, Value: 0.019919885267790913\n",
      "Key: monitor:apm:line:202:*, Value: 1.8224410112820514E7\n",
      "Key: monitor:apm:line:98:*, Value: 34855.7774985655\n",
      "Key: monitor:apm:line:97:*, Value: 0.0\n",
      "Key: monitor:apm:line:99:*, Value: 0.0\n",
      "Key: monitor:apm:line:143:*, Value: 8.198351248974359E8\n",
      "Key: monitor:apm:line:223:*, Value: 0.0\n",
      "Key: monitor:apm:line:199:*, Value: 0.0\n",
      "Key: monitor:apm:line:193:*, Value: 0.0\n",
      "Key: monitor:apm:line:210:*, Value: 1.8655732625641026E7\n",
      "Key: monitor:apm:line:191:*, Value: 0.0\n",
      "Key: monitor:apm:line:100:*, Value: 6951791.686575053\n",
      "Key: monitor:apm:line:152:*, Value: 0.0\n",
      "Key: monitor:apm:line:178:*, Value: 0.0\n",
      "Key: monitor:apm:line:145:*, Value: 2.647088533623832E7\n",
      "Key: monitor:apm:line:144:*, Value: 0.0\n",
      "Key: monitor:apm:line:150:*, Value: 0.0\n",
      "Key: monitor:apm:line:158:*, Value: 0.0\n",
      "Key: monitor:apm:line:192:*, Value: 1.0690293157759297E8\n",
      "Key: monitor:apm:line:200:*, Value: 1.9564419274676535E8\n",
      "Key: monitor:apm:line:209:*, Value: 0.0\n",
      "Key: monitor:apm:line:122:*, Value: 0.0\n",
      "Key: monitor:apm:line:171:*, Value: 1.8656120217001113E8\n",
      "Key: monitor:apm:line:162:*, Value: 0.0\n"
     ]
    }
   ],
   "source": [
    "pattern = \"monitor:apm:line:*\"\n",
    "\n",
    "# 使用SCAN命令来遍历匹配的键名\n",
    "cursor = 0\n",
    "keys = []\n",
    "while True:\n",
    "    cursor, partial_keys = r.scan(cursor, match=pattern)\n",
    "    keys.extend(partial_keys)\n",
    "    if cursor == 0:\n",
    "        break"
   ]
  },
  {
   "cell_type": "code",
   "execution_count": 29,
   "id": "8560cd3a-d594-4965-8dbc-691ecdbaf32a",
   "metadata": {},
   "outputs": [
    {
     "name": "stdout",
     "output_type": "stream",
     "text": [
      "Key: localhost, metirc: avgLatency,values: 9012247.627711238\n",
      "Key: order-query-service::service[host182], metirc: avgLatency,values: 26071386.582026143\n",
      "Key: mysql-svc:3306, metirc: errRate,values: 0.0\n",
      "Key: dc-webapp::k8s[k8s-3], metirc: avgLatency,values: 35577313.382905975\n",
      "Key: order-dispatch-service::service[host185], metirc: errRate,values: 0.0\n",
      "Key: demo-service-b::k8s[k8s-9], metirc: errRate,values: 0.0\n",
      "Key: dts::k8s[k8s-6], metirc: avgLatency,values: 247819390.0990128\n",
      "Key: order-place-service::service[host184], metirc: avgLatency,values: 819701930.4297616\n",
      "Key: order-gateway-service::service[host182], metirc: avgLatency,values: 368554053.8785714\n",
      "Key: easytravel-backend::k8s[node2], metirc: avgLatency,values: 94178683.81321838\n",
      "Key: order-dispatch-service::service[host185], metirc: avgLatency,values: 667744733.1833334\n",
      "Key: demo-service-a::k8s[k8s-6], metirc: avgLatency,values: 959417334.9707367\n",
      "Key: order-coupon-service::service[host182], metirc: avgLatency,values: 21715518.28125\n",
      "Key: order-place-service::service[host181], metirc: errRate,values: 0.0\n",
      "Key: order-coupon-service::service[host182], metirc: errRate,values: 0.0\n",
      "Key: order-coupon-service::service[host184], metirc: avgLatency,values: 22594115.488888882\n",
      "Key: com.dynatrace.easytravel.customer.frontend.rest::auto[sortware], metirc: avgLatency,values: 78669947.52963622\n",
      "Key: demo-service-b::k8s[k8s-9], metirc: avgLatency,values: 914104876.0153769\n",
      "Key: demo-service-a::k8s[k8s-6], metirc: errRate,values: 0.012048192771084338\n",
      "Key: mysql[host186], metirc: avgLatency,values: 43423800.747368425\n",
      "Key: order-place-service::service[host184], metirc: errRate,values: 0.0\n",
      "Key: com.dynatrace.easytravel.weblauncher::auto[sortware], metirc: errRate,values: 0.0\n",
      "Key: mysql-svc:3306, metirc: avgLatency,values: 69017265.68285085\n",
      "Key: elasticsearch, metirc: errRate,values: 0.9415384615384615\n",
      "Key: com.dynatrace.easytravel.business.backend::auto[sortware], metirc: errRate,values: 0.0\n",
      "Key: com.dynatrace.easytravel.business.backend::auto[sortware], metirc: avgLatency,values: 55066702.655821584\n",
      "Key: com.dynatrace.easytravel.customer.frontend.rest::auto[sortware], metirc: errRate,values: 0.019919885267790913\n",
      "Key: elasticsearch, metirc: avgLatency,values: 18224410.112820514\n",
      "Key: redis, metirc: avgLatency,values: 34855.7774985655\n",
      "Key: redis, metirc: errRate,values: 0.0\n",
      "Key: 192.168.50.31:13306, metirc: errRate,values: 0.0\n",
      "Key: order-place-service::service[host181], metirc: avgLatency,values: 819835124.8974359\n",
      "Key: dc-webapp::k8s[k8s-3], metirc: errRate,values: 0.0\n",
      "Key: dts::k8s[k8s-4], metirc: errRate,values: 0.0\n",
      "Key: dts::k8s[k8s-6], metirc: errRate,values: 0.0\n",
      "Key: elasticsearch-svc, metirc: avgLatency,values: 18655732.625641026\n",
      "Key: kafka, metirc: errRate,values: 0.0\n",
      "Key: 192.168.50.31:13306, metirc: avgLatency,values: 6951791.686575053\n",
      "Key: order-gateway-service::service[host182], metirc: errRate,values: 0.0\n",
      "Key: localhost, metirc: errRate,values: 0.0\n",
      "Key: order-query-service::service[host181], metirc: avgLatency,values: 26470885.33623832\n",
      "Key: order-query-service::service[host181], metirc: errRate,values: 0.0\n",
      "Key: order-coupon-service::service[host184], metirc: errRate,values: 0.0\n",
      "Key: order-query-service::service[host182], metirc: errRate,values: 0.0\n",
      "Key: kafka, metirc: avgLatency,values: 106902931.57759297\n",
      "Key: dts::k8s[k8s-4], metirc: avgLatency,values: 195644192.74676535\n",
      "Key: elasticsearch-svc, metirc: errRate,values: 0.0\n",
      "Key: easytravel-backend::k8s[node2], metirc: errRate,values: 0.0\n",
      "Key: com.dynatrace.easytravel.weblauncher::auto[sortware], metirc: avgLatency,values: 186561202.17001113\n",
      "Key: mysql[host186], metirc: errRate,values: 0.0\n"
     ]
    }
   ],
   "source": [
    "import re\n",
    "# 获取匹配键名的值\n",
    "patterns = 'monitor:apm:line:(\\d+):*'\n",
    "for key in keys:\n",
    "    match = re.match(patterns, key.decode('utf-8'))\n",
    "    if match:\n",
    "        number_part = int(match.group(1))\n",
    "        print(f\"Key: {rules[number_part]['service']}, metirc: {rules[number_part]['metric']},values: {float(r.get(key).decode('utf-8'))}\")"
   ]
  },
  {
   "cell_type": "code",
   "execution_count": null,
   "id": "1c3df2d1-a0cd-4c8c-9e7e-51fedb872182",
   "metadata": {},
   "outputs": [],
   "source": []
  },
  {
   "cell_type": "code",
   "execution_count": null,
   "id": "0625ea87-9f17-4d82-b5f4-f5db60ea7746",
   "metadata": {},
   "outputs": [],
   "source": []
  },
  {
   "cell_type": "markdown",
   "id": "4c39ddc5-872a-4852-a8b9-255fdd9ba2d4",
   "metadata": {},
   "source": [
    "## 修改基线"
   ]
  },
  {
   "cell_type": "code",
   "execution_count": 42,
   "id": "4a71dc9c-3455-4db1-a543-1dbe5b45a5c5",
   "metadata": {},
   "outputs": [],
   "source": [
    "import pymysql\n",
    "conn = pymysql.connect(\n",
    "    host = config[\"mysql\"][\"host\"],\n",
    "    port = config[\"mysql\"][\"port\"],\n",
    "    user = config[\"mysql\"]['user'],\n",
    "    password = config[\"mysql\"]['password'],\n",
    "    database = config[\"mysql\"]['database'],\n",
    "    charset = \"utf8mb4\"\n",
    ")"
   ]
  },
  {
   "cell_type": "code",
   "execution_count": 45,
   "id": "c32956ba-bbae-4941-b1f3-5d88e763eff9",
   "metadata": {},
   "outputs": [
    {
     "data": {
      "text/plain": [
       "1"
      ]
     },
     "execution_count": 45,
     "metadata": {},
     "output_type": "execute_result"
    }
   ],
   "source": [
    "sql= \"\"\"SELECT options\n",
    "        FROM dc_databuff_monitor\n",
    "        WHERE name = 'easytravel-backend::k8s[node2]的响应时间默认监控（官方）';\"\"\"\n",
    "cursor = conn.cursor(cursor=pymysql.cursors.DictCursor)\n",
    "cursor.execute(sql)\n",
    "result = cursor.fetchall()"
   ]
  },
  {
   "cell_type": "code",
   "execution_count": 46,
   "id": "34de1d3c-f646-4299-bb6d-fd5de86b9fb8",
   "metadata": {},
   "outputs": [
    {
     "data": {
      "text/plain": [
       "[{'options': '{\"name\":\"resTime\",\"unit\":\"ns\",\"view_unit\":\"ns\",\"condition\":[[0,50,100,200],[1000,1000,1000,2000]],\"overAlarm\":[10,3]}'}]"
      ]
     },
     "execution_count": 46,
     "metadata": {},
     "output_type": "execute_result"
    }
   ],
   "source": [
    "result"
   ]
  },
  {
   "cell_type": "code",
   "execution_count": 47,
   "id": "cf3a92d8-9478-477a-8af3-ea5c8f0dda42",
   "metadata": {},
   "outputs": [
    {
     "data": {
      "text/plain": [
       "130"
      ]
     },
     "execution_count": 47,
     "metadata": {},
     "output_type": "execute_result"
    },
    {
     "data": {
      "text/plain": [
       "53"
      ]
     },
     "execution_count": 47,
     "metadata": {},
     "output_type": "execute_result"
    }
   ],
   "source": [
    "sql = f\"select * from dc_databuff_monitor where classification='apm'\"\n",
    "cursor = conn.cursor(cursor=pymysql.cursors.DictCursor)\n",
    "cursor.execute(sql)\n",
    "result = cursor.fetchall()\n",
    "\n",
    "cursor = conn.cursor()\n",
    "\n",
    "# 执行UPDATE语句：针对 options 中 [10,3]改为[10,1]\n",
    "# options 示例：{\"name\":\"resTime\",\"unit\":\"ns\",\"view_unit\":\"ns\",\"condition\":[[0,50,100,200],[1000,1000,1000,2000]],\"overAlarm\":[10,3]}\n",
    "update_sql = \"\"\"\n",
    "            UPDATE `dc_databuff`.`dc_databuff_monitor`\n",
    "            SET `options` = REPLACE(`options`, '\"view_unit\":\"ns\",\"condition\":[[0,50,100,200],[1000,1000,1000,2000]]', '\"view_unit\":\"ms\",\"_scale\":1000000,\"condition\":[[50,50,100000000,200000000]]')\n",
    "            WHERE `name` LIKE '%默认监控（官方）%';\n",
    "            \"\"\"\n",
    "cursor.execute(update_sql)\n",
    "\n",
    "# 提交事务\n",
    "conn.commit()"
   ]
  },
  {
   "cell_type": "code",
   "execution_count": null,
   "id": "c46ecc80-7147-4efe-9d0b-b901e2529c02",
   "metadata": {},
   "outputs": [],
   "source": []
  },
  {
   "cell_type": "code",
   "execution_count": 2,
   "id": "d470d3b6-22a2-44fa-8d76-e7ebb5082e5e",
   "metadata": {},
   "outputs": [],
   "source": [
    "config = {\n",
    "         'mysql':{\n",
    "             'host': \"192.168.50.110\",\n",
    "              'port': 13306,\n",
    "              'user': 'root',\n",
    "              'password': '234*(sdlj12',\n",
    "             'database': 'dc_databuff'\n",
    "          \n",
    "        }}"
   ]
  },
  {
   "cell_type": "code",
   "execution_count": 3,
   "id": "cb4d20a3-b6f7-4df1-b9ad-897d4917baaf",
   "metadata": {},
   "outputs": [],
   "source": [
    "conn = pymysql.connect(\n",
    "    host = config[\"mysql\"][\"host\"],\n",
    "    port = config[\"mysql\"][\"port\"],\n",
    "    user = config[\"mysql\"]['user'],\n",
    "    password = config[\"mysql\"]['password'],\n",
    "    database = config[\"mysql\"]['database'],\n",
    "    charset = \"utf8mb4\"\n",
    ")"
   ]
  },
  {
   "cell_type": "code",
   "execution_count": null,
   "id": "50098f9c-1bcd-4352-9962-5fb238335cbc",
   "metadata": {},
   "outputs": [],
   "source": [
    "cursor = conn.cursor()\n",
    "\n",
    "# 执行UPDATE语句：针对 options 中 [10,3]改为[10,1]\n",
    "# options 示例：{\"name\":\"resTime\",\"unit\":\"ns\",\"view_unit\":\"ns\",\"condition\":[[0,50,100,200],[1000,1000,1000,2000]],\"overAlarm\":[10,3]}\n",
    "update_sql = \"\"\"\n",
    "            UPDATE `dc_databuff`.`dc_databuff_monitor`\n",
    "            SET `message` = REPLACE(`message`, '{{事件等级}}', '{{告警等级}}')\n",
    "            WHERE `name` LIKE '%默认监控（官方）%';\n",
    "            \"\"\"\n",
    "cursor.execute(update_sql)\n",
    "\n",
    "# 提交事务\n",
    "conn.commit()"
   ]
  }
 ],
 "metadata": {
  "kernelspec": {
   "display_name": "Python 3 (ipykernel)",
   "language": "python",
   "name": "python3"
  },
  "language_info": {
   "codemirror_mode": {
    "name": "ipython",
    "version": 3
   },
   "file_extension": ".py",
   "mimetype": "text/x-python",
   "name": "python",
   "nbconvert_exporter": "python",
   "pygments_lexer": "ipython3",
   "version": "3.11.3"
  }
 },
 "nbformat": 4,
 "nbformat_minor": 5
}
