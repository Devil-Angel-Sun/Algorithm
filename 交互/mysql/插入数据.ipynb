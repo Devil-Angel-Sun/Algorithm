{
 "cells": [
  {
   "cell_type": "code",
   "execution_count": 1,
   "id": "c0903b9d-adba-48fe-9fab-5c1ff30f492c",
   "metadata": {},
   "outputs": [],
   "source": [
    "import pymysql, json\n",
    "database='dc_databuff'\n",
    "\n",
    "conn = pymysql.connect(\n",
    "    host='192.168.50.110',\n",
    "    port = 13306,\n",
    "    user='root',\n",
    "    password='234*(sdlj12',\n",
    "    database=database,\n",
    "    charset=\"utf8mb4\"\n",
    ")"
   ]
  },
  {
   "cell_type": "code",
   "execution_count": null,
   "id": "e24ce8e9-e692-4b32-a822-20d48e84126b",
   "metadata": {},
   "outputs": [],
   "source": [
    "a = {'1': {'A': {'types': ['基础设施', '主机', '内存'],\n",
    "   'metric': 'system.mem.pct_usable',\n",
    "   'by': ['host'],\n",
    "   'from': [],\n",
    "   'aggs': 'avg'},\n",
    "  'expr': 'A',\n",
    "  'way': 'threshold',\n",
    "  'thresholds': {'critical': 0.95, 'warning': 0.9},\n",
    "  'unit': 'fractions',\n",
    "  'view_unit': 'fractions',\n",
    "  '_scale': 1,\n",
    "  'period': 600,\n",
    "  'time_aggregator': 'avg',\n",
    "  'comparison': '>',\n",
    "  'no_data_timeframe': 0,\n",
    "  'require_full_window': False,\n",
    "  'evaluation_delay': 0},\n",
    " 'critical': 'AND',\n",
    " 'warning': 'AND',\n",
    " 'noData': 'AND'}"
   ]
  },
  {
   "cell_type": "code",
   "execution_count": 13,
   "id": "243eb2f4-16b7-4531-af45-c6822f24540e",
   "metadata": {},
   "outputs": [],
   "source": [
    "data = {\n",
    "    'id':2,\n",
    "    'api_key':'public',\n",
    "    'name':'主机{{触发对象}}内存使用率过高，达到{{阈值}}',\n",
    "\t'tags':'[\"系统监控\"]',\n",
    "\t'classification':'singleMetric',\n",
    "\t'type':'',\n",
    "\t'priority':'0',\n",
    "\t'multi':'1',\n",
    "\t'message':'在最近10分钟内，{{触发对象}}上【内存使用率】实际值为 {{指标实际值}}，高于 {{阈值}}，触发{{告警等级}}事件。',\n",
    "\t'query':json.dumps(a, ensure_ascii=False),\n",
    "\t'options':'{}',\n",
    "\t'params':'{\"autoRecoveryIndiv\":false,\"continuous\":{\"open\":0,\"firstNotify\":0}}',\n",
    "\t'monitor_notice':'{\"mail\":[],\"sms\":[],\"dingtalk\":0,\"wechat\":0,\"webhook\":0}',\n",
    "\t'create_time':'2023-11-23 10:33:24',\n",
    "\t'update_time':'2023-11-23 10:46:15',\n",
    "\t'user_id':'1',\n",
    "\t'rule_name':'【Memory】主机内存使用率过高',\n",
    "\t'service_ids': None,\n",
    "\t'service_instances': None,\n",
    "\t'target': None,\n",
    "    'monitor_object':'Memory',\n",
    "    'monitor_public':'1', \n",
    "    'default_open':'1'\n",
    "\n",
    "}"
   ]
  },
  {
   "cell_type": "code",
   "execution_count": null,
   "id": "586a958f-6785-4bb9-ba50-58fc9b5e4678",
   "metadata": {},
   "outputs": [],
   "source": [
    "cursor = conn.cursor()\n",
    "\n",
    "# 构造插入语句\n",
    "columns = ', '.join(data.keys())\n",
    "values = ', '.join(['%s'] * len(data))\n",
    "insert_query = f\"INSERT INTO dc_databuff_monitor_preset ({columns}) VALUES ({values})\"\n",
    "\n",
    "# 执行插入操作\n",
    "cursor.execute(insert_query, tuple(data.values()))\n",
    "\n",
    "# 提交事务\n",
    "conn.commit()\n"
   ]
  },
  {
   "cell_type": "code",
   "execution_count": null,
   "id": "b9c3c106-cb33-4c81-af72-987c154ffd33",
   "metadata": {},
   "outputs": [],
   "source": []
  },
  {
   "cell_type": "code",
   "execution_count": null,
   "id": "9b533621-c7bd-4816-9647-eccece083991",
   "metadata": {},
   "outputs": [],
   "source": []
  }
 ],
 "metadata": {
  "kernelspec": {
   "display_name": "Python 3 (ipykernel)",
   "language": "python",
   "name": "python3"
  },
  "language_info": {
   "codemirror_mode": {
    "name": "ipython",
    "version": 3
   },
   "file_extension": ".py",
   "mimetype": "text/x-python",
   "name": "python",
   "nbconvert_exporter": "python",
   "pygments_lexer": "ipython3",
   "version": "3.11.3"
  }
 },
 "nbformat": 4,
 "nbformat_minor": 5
}
