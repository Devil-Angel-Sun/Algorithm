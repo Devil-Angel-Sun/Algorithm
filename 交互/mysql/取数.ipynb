{
 "cells": [
  {
   "cell_type": "code",
   "execution_count": 1,
   "id": "85f4566d-e2bc-4114-8d7f-c303c710d6b9",
   "metadata": {},
   "outputs": [],
   "source": [
    "import pymysql, json\n",
    "database='dc_databuff'\n",
    "\n",
    "conn = pymysql.connect(\n",
    "    host='192.168.50.110',\n",
    "    port = 13306,\n",
    "    user='root',\n",
    "    password='234*(sdlj12',\n",
    "    database=database,\n",
    "    charset=\"utf8mb4\"\n",
    ")"
   ]
  },
  {
   "cell_type": "code",
   "execution_count": 2,
   "id": "e9d1732f-4b81-4f27-9278-752877904550",
   "metadata": {},
   "outputs": [
    {
     "data": {
      "text/plain": [
       "136"
      ]
     },
     "execution_count": 2,
     "metadata": {},
     "output_type": "execute_result"
    }
   ],
   "source": [
    "sql = f\"select * from dc_databuff_monitor where classification='apm'\"\n",
    "cursor = conn.cursor(cursor=pymysql.cursors.DictCursor)\n",
    "cursor.execute(sql)\n",
    "result = cursor.fetchall()\n",
    "\n",
    "# 输出查询结果\n",
    "rules = {}\n",
    "for l in result:\n",
    "    query = json.loads(l[\"query\"])\n",
    "    try:\n",
    "        rules[l[\"id\"]] = {\n",
    "            \"service_id\": query[\"serviceId\"],\n",
    "            \"service\":query[\"service\"],\n",
    "            \"metric\": query[\"metric\"],\n",
    "            \"resource\": query[\"resource\"][0],\n",
    "            \"monitor_type\": l[\"type\"],\n",
    "            \"comparison\": \">\"\n",
    "            if l[\"type\"] == \"abnormal\"\n",
    "            else json.loads(l[\"params\"])[\"comparison\"],\n",
    "        }\n",
    "    except:\n",
    "        print(l['id'])\n",
    "        "
   ]
  },
  {
   "cell_type": "code",
   "execution_count": 3,
   "id": "31b0bacd-8de1-49b8-a8a2-1b3501d4ddef",
   "metadata": {},
   "outputs": [
    {
     "data": {
      "text/plain": [
       "{'service_id': 'TnpoRU1qbEJPVGszTXpreFJqazVNalF5TXpNelF6STR8b3JkZXItcGxhY2Utc2VydmljZTo6c2VydmljZVtob3N0MTgxXQ==',\n",
       " 'service': 'order-place-service::service[host181]',\n",
       " 'metric': 'errRate',\n",
       " 'resource': '*',\n",
       " 'monitor_type': 'abnormal',\n",
       " 'comparison': '>'}"
      ]
     },
     "execution_count": 3,
     "metadata": {},
     "output_type": "execute_result"
    }
   ],
   "source": [
    "rules[142]"
   ]
  },
  {
   "cell_type": "markdown",
   "id": "b255aff9-61dc-48b1-a1fb-2214a094b2e9",
   "metadata": {},
   "source": [
    "## 更新值"
   ]
  },
  {
   "cell_type": "code",
   "execution_count": 2,
   "id": "31cab7f6-7b9b-429d-92be-3479c57db6ac",
   "metadata": {},
   "outputs": [
    {
     "data": {
      "text/plain": [
       "0"
      ]
     },
     "execution_count": 2,
     "metadata": {},
     "output_type": "execute_result"
    },
    {
     "data": {
      "text/plain": [
       "30"
      ]
     },
     "execution_count": 2,
     "metadata": {},
     "output_type": "execute_result"
    }
   ],
   "source": [
    "# sql = f\"select * from dc_databuff_monitor where classification='apm'\"\n",
    "# cursor = conn.cursor(cursor=pymysql.cursors.DictCursor)\n",
    "# cursor.execute(sql)\n",
    "# result = cursor.fetchall()\n",
    "\n",
    "cursor = conn.cursor()\n",
    "\n",
    "# 执行UPDATE语句：针对name中含有默认监控（官方）字样的行，将 options 中 [10,3]改为[10,1]\n",
    "# options 示例：{\"name\":\"resTime\",\"unit\":\"ns\",\"view_unit\":\"ns\",\"condition\":[[0,50,100,200],[1000,1000,1000,2000]],\"overAlarm\":[10,3]}\n",
    "update_sql = \"\"\"\n",
    "            UPDATE `dc_databuff`.`dc_databuff_monitor`\n",
    "            SET `options` = REPLACE(`options`, '[10,3]', '[10,1]')\n",
    "            WHERE `name` LIKE '%默认监控（官方）%';\n",
    "            \"\"\"\n",
    "cursor.execute(update_sql)\n",
    "\n",
    "# 提交事务\n",
    "conn.commit()"
   ]
  },
  {
   "cell_type": "code",
   "execution_count": 2,
   "id": "952f6c1a-2bfa-4cf4-a102-93644eb84862",
   "metadata": {},
   "outputs": [
    {
     "data": {
      "text/plain": [
       "99"
      ]
     },
     "execution_count": 2,
     "metadata": {},
     "output_type": "execute_result"
    }
   ],
   "source": [
    "cursor = conn.cursor()\n",
    "\n",
    "# 执行UPDATE语句：将 message 的内容更新到 name 中\n",
    "# 注意：name 为唯一Key,因此 message 的内容bicultural不重复才能更新\n",
    "\n",
    "update_sql = \"\"\"\n",
    "            UPDATE `dc_databuff`.`dc_databuff_monitor_preset` \n",
    "            SET `name` = `message`\n",
    "            \"\"\"\n",
    "cursor.execute(update_sql)\n",
    "\n",
    "# 提交事务\n",
    "conn.commit()"
   ]
  },
  {
   "cell_type": "code",
   "execution_count": null,
   "id": "2a74b4a9-6108-47b9-b047-ccbe973d4fa0",
   "metadata": {},
   "outputs": [],
   "source": []
  }
 ],
 "metadata": {
  "kernelspec": {
   "display_name": "Python 3 (ipykernel)",
   "language": "python",
   "name": "python3"
  },
  "language_info": {
   "codemirror_mode": {
    "name": "ipython",
    "version": 3
   },
   "file_extension": ".py",
   "mimetype": "text/x-python",
   "name": "python",
   "nbconvert_exporter": "python",
   "pygments_lexer": "ipython3",
   "version": "3.11.3"
  }
 },
 "nbformat": 4,
 "nbformat_minor": 5
}
