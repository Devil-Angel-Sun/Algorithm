{
 "cells": [
  {
   "cell_type": "code",
   "execution_count": 6,
   "id": "579fb2f6-6959-4745-acac-9cd25ba91167",
   "metadata": {},
   "outputs": [],
   "source": [
    "config = {'starrocks':\n",
    "              {\n",
    "                \"host\": [\"192.168.50.36\",\"192.168.50.37\",\"192.168.50.38\"], \n",
    "                \"port\": 19030,\n",
    "                \"user\": \"root\",\n",
    "                \"password\": \"Databuff@123\",\n",
    "                \"database\": \"databuff\",\n",
    "                \"mincached\": 1,\n",
    "                \"maxconnections\": 10,\n",
    "                \"index.rca\": \"dc_rca\",\n",
    "                \"index.aggregate\": \"dc_aggregate_result\",\n",
    "                \"index.span\": \"dc_span\"\n",
    "              }\n",
    "        }"
   ]
  },
  {
   "cell_type": "code",
   "execution_count": 12,
   "id": "dd5967a6-47ae-4484-acb3-5860aadfa374",
   "metadata": {},
   "outputs": [
    {
     "name": "stdout",
     "output_type": "stream",
     "text": [
      "<dbutils.pooled_db.PooledDedicatedDBConnection object at 0x7fa9713af6d0>\n",
      "()\n"
     ]
    }
   ],
   "source": [
    "from dbutils.pooled_db import PooledDB\n",
    "import pymysql\n",
    "\n",
    "class MultiHostDBPool(object):\n",
    "    def __init__(self, config):\n",
    "        self.hosts = config[\"starrocks\"][\"host\"]\n",
    "        self.port = config[\"starrocks\"][\"port\"]\n",
    "        self.user = config[\"starrocks\"][\"user\"]\n",
    "        self.password = config[\"starrocks\"][\"password\"]\n",
    "        self.database = config[\"starrocks\"][\"database\"]\n",
    "        self.mincached = config[\"starrocks\"][\"mincached\"]\n",
    "        self.maxconnections = config[\"starrocks\"][\"maxconnections\"]\n",
    "\n",
    "        self.__pool = self.create_pool()\n",
    "\n",
    "    def create_pool(self):\n",
    "        # 创建连接池\n",
    "        pools = []\n",
    "        for host in self.hosts:\n",
    "            pool = PooledDB(\n",
    "                creator = pymysql,\n",
    "                blocking = True,\n",
    "                mincached = self.mincached,\n",
    "                maxconnections = self.maxconnections,\n",
    "                host = host,\n",
    "                port = self.port,\n",
    "                user = self.user,\n",
    "                password = self.password,\n",
    "                database = self.database\n",
    "            )\n",
    "            pools.append(pool)\n",
    "        return pools\n",
    "\n",
    "    def get_connection(self):\n",
    "        # 从连接池中获取连接\n",
    "        for pool in self.__pool:\n",
    "            conn = pool.connection()\n",
    "            if conn:\n",
    "                return conn\n",
    "        raise Exception(\"Unable to get connection from any host.\")\n",
    "\n",
    "    def release_connection(self, conn):\n",
    "        # 将连接放回连接池中以供后续重用\n",
    "        conn.close()\n",
    "\n",
    "    def execute_query(self, sql):\n",
    "        conn = self.get_connection()\n",
    "        cursor = conn.cursor()\n",
    "        cursor.execute(sql)\n",
    "        data = cursor.fetchall()\n",
    "        cursor.close()\n",
    "        self.release_connection(conn)\n",
    "        return data\n",
    "\n",
    "db_pool = MultiHostDBPool(config)\n",
    "result = db_pool.execute_query(\"SELECT * FROM dc_span limit 1\")\n",
    "print(result)\n"
   ]
  },
  {
   "cell_type": "code",
   "execution_count": 11,
   "id": "0d58d61a-e8f5-4010-9a9b-5cf02584ade6",
   "metadata": {},
   "outputs": [
    {
     "data": {
      "text/plain": [
       "[<dbutils.pooled_db.PooledDB at 0x7fa972743650>,\n",
       " <dbutils.pooled_db.PooledDB at 0x7fa972347d50>,\n",
       " <dbutils.pooled_db.PooledDB at 0x7fa97234da10>]"
      ]
     },
     "execution_count": 11,
     "metadata": {},
     "output_type": "execute_result"
    }
   ],
   "source": [
    "db_pool.create_pool()"
   ]
  },
  {
   "cell_type": "code",
   "execution_count": null,
   "id": "ee80d412-b40e-43c3-b3df-7589a3c07470",
   "metadata": {},
   "outputs": [],
   "source": []
  },
  {
   "cell_type": "code",
   "execution_count": null,
   "id": "d9fcb7c1-12aa-4046-90a2-dcd908cd7e1b",
   "metadata": {},
   "outputs": [],
   "source": []
  }
 ],
 "metadata": {
  "kernelspec": {
   "display_name": "Python 3 (ipykernel)",
   "language": "python",
   "name": "python3"
  },
  "language_info": {
   "codemirror_mode": {
    "name": "ipython",
    "version": 3
   },
   "file_extension": ".py",
   "mimetype": "text/x-python",
   "name": "python",
   "nbconvert_exporter": "python",
   "pygments_lexer": "ipython3",
   "version": "3.11.3"
  }
 },
 "nbformat": 4,
 "nbformat_minor": 5
}
