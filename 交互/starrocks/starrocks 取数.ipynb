{
 "cells": [
  {
   "cell_type": "code",
   "execution_count": 1,
   "id": "627e8c7f-1896-45cb-a55d-c90bcc2d00cc",
   "metadata": {},
   "outputs": [],
   "source": [
    "import pymysql, json\n",
    "database='databuff'\n",
    "\n",
    "conn = pymysql.connect(\n",
    "    host='192.168.50.110',\n",
    "    port = 9030,\n",
    "    user='root',\n",
    "    password='Databuff@123',\n",
    "    database=database,\n",
    "    charset=\"utf8mb4\"\n",
    ")"
   ]
  },
  {
   "cell_type": "code",
   "execution_count": 2,
   "id": "a11cdce8-7c9e-4685-ba44-6e94fbcea709",
   "metadata": {},
   "outputs": [
    {
     "data": {
      "text/plain": [
       "0"
      ]
     },
     "execution_count": 2,
     "metadata": {},
     "output_type": "execute_result"
    },
    {
     "data": {
      "text/plain": [
       "()"
      ]
     },
     "execution_count": 2,
     "metadata": {},
     "output_type": "execute_result"
    }
   ],
   "source": [
    "# 删除表  dc_aggregate_result\n",
    "sql = f\"\"\"DROP TABLE IF EXISTS `dc_aggregate_result`\"\"\"\n",
    "cursor = conn.cursor(cursor=pymysql.cursors.DictCursor)\n",
    "cursor.execute(sql)\n",
    "result = cursor.fetchall()\n",
    "result"
   ]
  },
  {
   "cell_type": "code",
   "execution_count": 3,
   "id": "ebd35e62-17df-4db2-8416-6daf855825df",
   "metadata": {},
   "outputs": [
    {
     "data": {
      "text/plain": [
       "0"
      ]
     },
     "execution_count": 3,
     "metadata": {},
     "output_type": "execute_result"
    },
    {
     "data": {
      "text/plain": [
       "()"
      ]
     },
     "execution_count": 3,
     "metadata": {},
     "output_type": "execute_result"
    }
   ],
   "source": [
    "# 创建表 \n",
    "sql = f\"\"\"\n",
    "        CREATE TABLE\n",
    "        IF NOT EXISTS databuff.dc_aggregate_result (\n",
    "        \t`monitorId` INT NOT NULL COMMENT \"监控规则ID\",\n",
    "            `eventId` varchar(50) NULL COMMENT \"事件ID\",\n",
    "        \t`timestamp` DATETIME NULL COMMENT \"本次触发时间(异常点)\",\n",
    "        \t`triggerTime` BIGINT (20) NOT NULL COMMENT \"本次触发时间戳\",\n",
    "        \t`serviceId` VARCHAR (120) NOT NULL COMMENT \"服务id\",\n",
    "        \t`serviceInstance` VARCHAR (50) NOT NULL COMMENT \"服务实例\",\n",
    "        \t`nodes` VARCHAR (65533) NOT NULL COMMENT \"链路节点\",\n",
    "        \t`edges` VARCHAR (65533) NOT NULL COMMENT \"链路节点间的关系\",\n",
    "        \t`contribute_dict` VARCHAR (65533) NOT NULL COMMENT \"自身耗时\",\n",
    "        \t`aggResult_dict` VARCHAR (65533) NOT NULL COMMENT \"当前节点调用数和耗时总和\",\n",
    "        \t`compare_dict` VARCHAR (65533)  COMMENT \"比较的节点调用数和耗时总和\"\n",
    "        ) PARTITION BY RANGE (`timestamp`)() DISTRIBUTED BY HASH (`monitorId`, `timestamp`) PROPERTIES (\n",
    "        \t\"replication_num\" = \"1\",\n",
    "        \t\"dynamic_partition.enable\" = \"true\",\n",
    "        \t\"dynamic_partition.time_unit\" = \"DAY\",\n",
    "        \t\"dynamic_partition.start\" = \"-7\",\n",
    "        \t\"dynamic_partition.end\" = \"1\",\n",
    "        \t\"dynamic_partition.prefix\" = \"p\"\n",
    "        );\n",
    "\"\"\"\n",
    "cursor = conn.cursor(cursor=pymysql.cursors.DictCursor)\n",
    "cursor.execute(sql)\n",
    "result = cursor.fetchall()\n",
    "result\n"
   ]
  },
  {
   "cell_type": "code",
   "execution_count": 10,
   "id": "0af67528-c6b8-4f2a-b8c8-8ef28ff4ec7c",
   "metadata": {},
   "outputs": [
    {
     "ename": "ProgrammingError",
     "evalue": "(1064, 'Insert has filtered data in strict mode, txn_id = 5533929 tracking sql = select tracking_log from information_schema.load_tracking_logs where job_id=148953')",
     "output_type": "error",
     "traceback": [
      "\u001b[0;31m---------------------------------------------------------------------------\u001b[0m",
      "\u001b[0;31mProgrammingError\u001b[0m                          Traceback (most recent call last)",
      "Cell \u001b[0;32mIn[10], line 16\u001b[0m\n\u001b[1;32m      2\u001b[0m sql \u001b[38;5;241m=\u001b[39m \u001b[38;5;124m\"\"\"\u001b[39m\n\u001b[1;32m      3\u001b[0m \u001b[38;5;124m    INSERT INTO databuff.dc_aggregate_result\u001b[39m\n\u001b[1;32m      4\u001b[0m \u001b[38;5;124m    (`monitorId`,`timestamp`, `triggerTime`, `serviceId`, `serviceInstance`, `nodes`, `edges`, `contribute_dict`, `aggResult_dict`, `compare_dict`) \u001b[39m\n\u001b[0;32m   (...)\u001b[0m\n\u001b[1;32m     13\u001b[0m \u001b[38;5;124m  \u001b[39m\u001b[38;5;124m'\u001b[39m\u001b[38;5;124m{\u001b[39m\u001b[38;5;124m\"\u001b[39m\u001b[38;5;124mdatabuff_20220501:TnpoRU1qbEJPVGszTXpreFJqazVNalF5TXpNelF6STQ6ZGVtby1zZXJ2aWNlLWE6Oms4cw==<split>172.166.200.196:1\u001b[39m\u001b[38;5;124m\"\u001b[39m\u001b[38;5;124m: [601, 7012734034], \u001b[39m\u001b[38;5;124m\"\u001b[39m\u001b[38;5;124mTnpoRU1qbEJPVGszTXpreFJqazVNalF5TXpNelF6STQ6ZGVtby1zZXJ2aWNlLWE6Oms4cw==<split>172.166.200.196:TnpoRU1qbEJPVGszTXpreFJqazVNalF5TXpNelF6STQ6ZGVtby1zZXJ2aWNlLWE6Oms4cw==<split>172.166.200.196:2\u001b[39m\u001b[38;5;124m\"\u001b[39m\u001b[38;5;124m: [600, 6549388489], \u001b[39m\u001b[38;5;124m\"\u001b[39m\u001b[38;5;124mTnpoRU1qbEJPVGszTXpreFJqazVNalF5TXpNelF6STQ6ZGVtby1zZXJ2aWNlLWE6Oms4cw==<split>172.166.200.196:TnpoRU1qbEJPVGszTXpreFJqazVNalF5TXpNelF6STQ6ZGVtby1zZXJ2aWNlLWE6Oms4cw==<split>172.166.200.196:3\u001b[39m\u001b[38;5;124m\"\u001b[39m\u001b[38;5;124m: [600, 6369898410], \u001b[39m\u001b[38;5;124m\"\u001b[39m\u001b[38;5;124mTnpoRU1qbEJPVGszTXpreFJqazVNalF5TXpNelF6STQ6ZGVtby1zZXJ2aWNlLWE6Oms4cw==<split>172.166.200.196:TnpoRU1qbEJPVGszTXpreFJqazVNalF5TXpNelF6STQ6ZGVtby1zZXJ2aWNlLWE6Oms4cw==<split>172.166.200.196:4\u001b[39m\u001b[38;5;124m\"\u001b[39m\u001b[38;5;124m: [1800, 4226670277], \u001b[39m\u001b[38;5;124m\"\u001b[39m\u001b[38;5;124mTnpoRU1qbEJPVGszTXpreFJqazVNalF5TXpNelF6STQ6ZGVtby1zZXJ2aWNlLWE6Oms4cw==<split>172.166.200.196:TnpoRU1qbEJPVGszTXpreFJqazVNalF5TXpNelF6STQ6cmFiYml0bXE=<split>rabbitmq:4\u001b[39m\u001b[38;5;124m\"\u001b[39m\u001b[38;5;124m: [600, 134200954], \u001b[39m\u001b[38;5;124m\"\u001b[39m\u001b[38;5;124mTnpoRU1qbEJPVGszTXpreFJqazVNalF5TXpNelF6STQ6ZGVtby1zZXJ2aWNlLWE6Oms4cw==<split>172.166.200.196:TnpoRU1qbEJPVGszTXpreFJqazVNalF5TXpNelF6STQ6a2Fma2FfZGF0YWJ1ZmY=<split>kafka-0.kafka.test.svc.cluster.local:9092:4\u001b[39m\u001b[38;5;124m\"\u001b[39m\u001b[38;5;124m: [600, 1231551320], \u001b[39m\u001b[38;5;124m\"\u001b[39m\u001b[38;5;124mTnpoRU1qbEJPVGszTXpreFJqazVNalF5TXpNelF6STQ6ZGVtby1zZXJ2aWNlLWE6Oms4cw==<split>172.166.200.196:TnpoRU1qbEJPVGszTXpreFJqazVNalF5TXpNelF6STQ6cm9ja2V0bXFfZGF0YWJ1ZmY=<split>broker-a:4\u001b[39m\u001b[38;5;124m\"\u001b[39m\u001b[38;5;124m: [600, 1380279593], \u001b[39m\u001b[38;5;124m\"\u001b[39m\u001b[38;5;124mTnpoRU1qbEJPVGszTXpreFJqazVNalF5TXpNelF6STQ6ZGVtby1zZXJ2aWNlLWE6Oms4cw==<split>172.166.200.196:TnpoRU1qbEJPVGszTXpreFJqazVNalF5TXpNelF6STQ6ZGVtby1zZXJ2aWNlLWI6Oms4cw==<split>172.166.228.4:5\u001b[39m\u001b[38;5;124m\"\u001b[39m\u001b[38;5;124m: [689, 1207539688], \u001b[39m\u001b[38;5;124m\"\u001b[39m\u001b[38;5;124mTnpoRU1qbEJPVGszTXpreFJqazVNalF5TXpNelF6STQ6ZGVtby1zZXJ2aWNlLWE6Oms4cw==<split>172.166.200.196:TnpoRU1qbEJPVGszTXpreFJqazVNalF5TXpNelF6STQ6ZGVtby1zZXJ2aWNlLWE6Oms4cw==<split>172.166.200.196:5\u001b[39m\u001b[38;5;124m\"\u001b[39m\u001b[38;5;124m: [600, 10989848], \u001b[39m\u001b[38;5;124m\"\u001b[39m\u001b[38;5;124mTnpoRU1qbEJPVGszTXpreFJqazVNalF5TXpNelF6STQ6ZGVtby1zZXJ2aWNlLWE6Oms4cw==<split>172.166.200.196:TnpoRU1qbEJPVGszTXpreFJqazVNalF5TXpNelF6STQ6ZGVtby1zZXJ2aWNlLWI6Oms4cw==<split>172.166.133.196:5\u001b[39m\u001b[38;5;124m\"\u001b[39m\u001b[38;5;124m: [1111, 777481904], \u001b[39m\u001b[38;5;124m\"\u001b[39m\u001b[38;5;124mTnpoRU1qbEJPVGszTXpreFJqazVNalF5TXpNelF6STQ6cmFiYml0bXE=<split>rabbitmq:TnpoRU1qbEJPVGszTXpreFJqazVNalF5TXpNelF6STQ6cmFiYml0bXE=<split>rabbitmq:5\u001b[39m\u001b[38;5;124m\"\u001b[39m\u001b[38;5;124m: [600, 25000575], \u001b[39m\u001b[38;5;124m\"\u001b[39m\u001b[38;5;124mTnpoRU1qbEJPVGszTXpreFJqazVNalF5TXpNelF6STQ6a2Fma2FfZGF0YWJ1ZmY=<split>kafka-0.kafka.test.svc.cluster.local:9092:TnpoRU1qbEJPVGszTXpreFJqazVNalF5TXpNelF6STQ6ZGVtby1zZXJ2aWNlLWI6Oms4cw==<split>172.166.133.196:5\u001b[39m\u001b[38;5;124m\"\u001b[39m\u001b[38;5;124m: [600, 600], \u001b[39m\u001b[38;5;124m\"\u001b[39m\u001b[38;5;124mTnpoRU1qbEJPVGszTXpreFJqazVNalF5TXpNelF6STQ6cm9ja2V0bXFfZGF0YWJ1ZmY=<split>broker-a:TnpoRU1qbEJPVGszTXpreFJqazVNalF5TXpNelF6STQ6ZGVtby1zZXJ2aWNlLWI6Oms4cw==<split>172.166.228.4:5\u001b[39m\u001b[38;5;124m\"\u001b[39m\u001b[38;5;124m: [296, 59840863], \u001b[39m\u001b[38;5;124m\"\u001b[39m\u001b[38;5;124mTnpoRU1qbEJPVGszTXpreFJqazVNalF5TXpNelF6STQ6ZGVtby1zZXJ2aWNlLWI6Oms4cw==<split>172.166.228.4:TnpoRU1qbEJPVGszTXpreFJqazVNalF5TXpNelF6STQ6ZGVtby1zZXJ2aWNlLWI6Oms4cw==<split>172.166.228.4:6\u001b[39m\u001b[38;5;124m\"\u001b[39m\u001b[38;5;124m: [403, 1103922593], \u001b[39m\u001b[38;5;124m\"\u001b[39m\u001b[38;5;124mTnpoRU1qbEJPVGszTXpreFJqazVNalF5TXpNelF6STQ6ZGVtby1zZXJ2aWNlLWI6Oms4cw==<split>172.166.133.196:TnpoRU1qbEJPVGszTXpreFJqazVNalF5TXpNelF6STQ6ZGVtby1zZXJ2aWNlLWI6Oms4cw==<split>172.166.133.196:6\u001b[39m\u001b[38;5;124m\"\u001b[39m\u001b[38;5;124m: [1397, 645186828], \u001b[39m\u001b[38;5;124m\"\u001b[39m\u001b[38;5;124mTnpoRU1qbEJPVGszTXpreFJqazVNalF5TXpNelF6STQ6ZGVtby1zZXJ2aWNlLWI6Oms4cw==<split>172.166.228.4:TnpoRU1qbEJPVGszTXpreFJqazVNalF5TXpNelF6STQ6cmVkaXMtcmVkaXMudGVzdDo2Mzc5<split>redis.test:7\u001b[39m\u001b[38;5;124m\"\u001b[39m\u001b[38;5;124m: [806, 7785888], \u001b[39m\u001b[38;5;124m\"\u001b[39m\u001b[38;5;124mTnpoRU1qbEJPVGszTXpreFJqazVNalF5TXpNelF6STQ6ZGVtby1zZXJ2aWNlLWI6Oms4cw==<split>172.166.228.4:TnpoRU1qbEJPVGszTXpreFJqazVNalF5TXpNelF6STQ6ZGNnbA==<split>mysql:7\u001b[39m\u001b[38;5;124m\"\u001b[39m\u001b[38;5;124m: [806, 922918568], \u001b[39m\u001b[38;5;124m\"\u001b[39m\u001b[38;5;124mTnpoRU1qbEJPVGszTXpreFJqazVNalF5TXpNelF6STQ6cmVkaXMtcmVkaXMudGVzdDo2Mzc5<split>redis.test:TnpoRU1qbEJPVGszTXpreFJqazVNalF5TXpNelF6STQ6cmVkaXMtcmVkaXMudGVzdDo2Mzc5<split>redis.test:8\u001b[39m\u001b[38;5;124m\"\u001b[39m\u001b[38;5;124m: [600, 2227771], \u001b[39m\u001b[38;5;124m\"\u001b[39m\u001b[38;5;124mTnpoRU1qbEJPVGszTXpreFJqazVNalF5TXpNelF6STQ6cm9ja2V0bXFfZGF0YWJ1ZmY=<split>broker-a:TnpoRU1qbEJPVGszTXpreFJqazVNalF5TXpNelF6STQ6ZGVtby1zZXJ2aWNlLWI6Oms4cw==<split>172.166.133.196:5\u001b[39m\u001b[38;5;124m\"\u001b[39m\u001b[38;5;124m: [304, 37576571], \u001b[39m\u001b[38;5;124m\"\u001b[39m\u001b[38;5;124mTnpoRU1qbEJPVGszTXpreFJqazVNalF5TXpNelF6STQ6ZGVtby1zZXJ2aWNlLWI6Oms4cw==<split>172.166.133.196:TnpoRU1qbEJPVGszTXpreFJqazVNalF5TXpNelF6STQ6ZGNnbA==<split>mysql:7\u001b[39m\u001b[38;5;124m\"\u001b[39m\u001b[38;5;124m: [394, 502743330], \u001b[39m\u001b[38;5;124m\"\u001b[39m\u001b[38;5;124mTnpoRU1qbEJPVGszTXpreFJqazVNalF5TXpNelF6STQ6ZGVtby1zZXJ2aWNlLWI6Oms4cw==<split>172.166.133.196:TnpoRU1qbEJPVGszTXpreFJqazVNalF5TXpNelF6STQ6cmVkaXMtcmVkaXMudGVzdDo2Mzc5<split>redis.test:7\u001b[39m\u001b[38;5;124m\"\u001b[39m\u001b[38;5;124m: [394, 3666695]}\u001b[39m\u001b[38;5;124m'\u001b[39m\u001b[38;5;124m,\u001b[39m\n\u001b[1;32m     14\u001b[0m \u001b[38;5;124m  NULL)\u001b[39m\u001b[38;5;124m\"\"\"\u001b[39m\n\u001b[1;32m     15\u001b[0m cursor \u001b[38;5;241m=\u001b[39m conn\u001b[38;5;241m.\u001b[39mcursor(cursor\u001b[38;5;241m=\u001b[39mpymysql\u001b[38;5;241m.\u001b[39mcursors\u001b[38;5;241m.\u001b[39mDictCursor)\n\u001b[0;32m---> 16\u001b[0m cursor\u001b[38;5;241m.\u001b[39mexecute(sql)\n\u001b[1;32m     17\u001b[0m result \u001b[38;5;241m=\u001b[39m cursor\u001b[38;5;241m.\u001b[39mfetchall()\n\u001b[1;32m     18\u001b[0m result\n",
      "File \u001b[0;32m~/anaconda3/lib/python3.11/site-packages/pymysql/cursors.py:158\u001b[0m, in \u001b[0;36mCursor.execute\u001b[0;34m(self, query, args)\u001b[0m\n\u001b[1;32m    154\u001b[0m     \u001b[38;5;28;01mpass\u001b[39;00m\n\u001b[1;32m    156\u001b[0m query \u001b[38;5;241m=\u001b[39m \u001b[38;5;28mself\u001b[39m\u001b[38;5;241m.\u001b[39mmogrify(query, args)\n\u001b[0;32m--> 158\u001b[0m result \u001b[38;5;241m=\u001b[39m \u001b[38;5;28mself\u001b[39m\u001b[38;5;241m.\u001b[39m_query(query)\n\u001b[1;32m    159\u001b[0m \u001b[38;5;28mself\u001b[39m\u001b[38;5;241m.\u001b[39m_executed \u001b[38;5;241m=\u001b[39m query\n\u001b[1;32m    160\u001b[0m \u001b[38;5;28;01mreturn\u001b[39;00m result\n",
      "File \u001b[0;32m~/anaconda3/lib/python3.11/site-packages/pymysql/cursors.py:325\u001b[0m, in \u001b[0;36mCursor._query\u001b[0;34m(self, q)\u001b[0m\n\u001b[1;32m    323\u001b[0m conn \u001b[38;5;241m=\u001b[39m \u001b[38;5;28mself\u001b[39m\u001b[38;5;241m.\u001b[39m_get_db()\n\u001b[1;32m    324\u001b[0m \u001b[38;5;28mself\u001b[39m\u001b[38;5;241m.\u001b[39m_clear_result()\n\u001b[0;32m--> 325\u001b[0m conn\u001b[38;5;241m.\u001b[39mquery(q)\n\u001b[1;32m    326\u001b[0m \u001b[38;5;28mself\u001b[39m\u001b[38;5;241m.\u001b[39m_do_get_result()\n\u001b[1;32m    327\u001b[0m \u001b[38;5;28;01mreturn\u001b[39;00m \u001b[38;5;28mself\u001b[39m\u001b[38;5;241m.\u001b[39mrowcount\n",
      "File \u001b[0;32m~/anaconda3/lib/python3.11/site-packages/pymysql/connections.py:549\u001b[0m, in \u001b[0;36mConnection.query\u001b[0;34m(self, sql, unbuffered)\u001b[0m\n\u001b[1;32m    547\u001b[0m     sql \u001b[38;5;241m=\u001b[39m sql\u001b[38;5;241m.\u001b[39mencode(\u001b[38;5;28mself\u001b[39m\u001b[38;5;241m.\u001b[39mencoding, \u001b[38;5;124m\"\u001b[39m\u001b[38;5;124msurrogateescape\u001b[39m\u001b[38;5;124m\"\u001b[39m)\n\u001b[1;32m    548\u001b[0m \u001b[38;5;28mself\u001b[39m\u001b[38;5;241m.\u001b[39m_execute_command(COMMAND\u001b[38;5;241m.\u001b[39mCOM_QUERY, sql)\n\u001b[0;32m--> 549\u001b[0m \u001b[38;5;28mself\u001b[39m\u001b[38;5;241m.\u001b[39m_affected_rows \u001b[38;5;241m=\u001b[39m \u001b[38;5;28mself\u001b[39m\u001b[38;5;241m.\u001b[39m_read_query_result(unbuffered\u001b[38;5;241m=\u001b[39munbuffered)\n\u001b[1;32m    550\u001b[0m \u001b[38;5;28;01mreturn\u001b[39;00m \u001b[38;5;28mself\u001b[39m\u001b[38;5;241m.\u001b[39m_affected_rows\n",
      "File \u001b[0;32m~/anaconda3/lib/python3.11/site-packages/pymysql/connections.py:779\u001b[0m, in \u001b[0;36mConnection._read_query_result\u001b[0;34m(self, unbuffered)\u001b[0m\n\u001b[1;32m    777\u001b[0m \u001b[38;5;28;01melse\u001b[39;00m:\n\u001b[1;32m    778\u001b[0m     result \u001b[38;5;241m=\u001b[39m MySQLResult(\u001b[38;5;28mself\u001b[39m)\n\u001b[0;32m--> 779\u001b[0m     result\u001b[38;5;241m.\u001b[39mread()\n\u001b[1;32m    780\u001b[0m \u001b[38;5;28mself\u001b[39m\u001b[38;5;241m.\u001b[39m_result \u001b[38;5;241m=\u001b[39m result\n\u001b[1;32m    781\u001b[0m \u001b[38;5;28;01mif\u001b[39;00m result\u001b[38;5;241m.\u001b[39mserver_status \u001b[38;5;129;01mis\u001b[39;00m \u001b[38;5;129;01mnot\u001b[39;00m \u001b[38;5;28;01mNone\u001b[39;00m:\n",
      "File \u001b[0;32m~/anaconda3/lib/python3.11/site-packages/pymysql/connections.py:1157\u001b[0m, in \u001b[0;36mMySQLResult.read\u001b[0;34m(self)\u001b[0m\n\u001b[1;32m   1155\u001b[0m \u001b[38;5;28;01mdef\u001b[39;00m \u001b[38;5;21mread\u001b[39m(\u001b[38;5;28mself\u001b[39m):\n\u001b[1;32m   1156\u001b[0m     \u001b[38;5;28;01mtry\u001b[39;00m:\n\u001b[0;32m-> 1157\u001b[0m         first_packet \u001b[38;5;241m=\u001b[39m \u001b[38;5;28mself\u001b[39m\u001b[38;5;241m.\u001b[39mconnection\u001b[38;5;241m.\u001b[39m_read_packet()\n\u001b[1;32m   1159\u001b[0m         \u001b[38;5;28;01mif\u001b[39;00m first_packet\u001b[38;5;241m.\u001b[39mis_ok_packet():\n\u001b[1;32m   1160\u001b[0m             \u001b[38;5;28mself\u001b[39m\u001b[38;5;241m.\u001b[39m_read_ok_packet(first_packet)\n",
      "File \u001b[0;32m~/anaconda3/lib/python3.11/site-packages/pymysql/connections.py:729\u001b[0m, in \u001b[0;36mConnection._read_packet\u001b[0;34m(self, packet_type)\u001b[0m\n\u001b[1;32m    727\u001b[0m     \u001b[38;5;28;01mif\u001b[39;00m \u001b[38;5;28mself\u001b[39m\u001b[38;5;241m.\u001b[39m_result \u001b[38;5;129;01mis\u001b[39;00m \u001b[38;5;129;01mnot\u001b[39;00m \u001b[38;5;28;01mNone\u001b[39;00m \u001b[38;5;129;01mand\u001b[39;00m \u001b[38;5;28mself\u001b[39m\u001b[38;5;241m.\u001b[39m_result\u001b[38;5;241m.\u001b[39munbuffered_active \u001b[38;5;129;01mis\u001b[39;00m \u001b[38;5;28;01mTrue\u001b[39;00m:\n\u001b[1;32m    728\u001b[0m         \u001b[38;5;28mself\u001b[39m\u001b[38;5;241m.\u001b[39m_result\u001b[38;5;241m.\u001b[39munbuffered_active \u001b[38;5;241m=\u001b[39m \u001b[38;5;28;01mFalse\u001b[39;00m\n\u001b[0;32m--> 729\u001b[0m     packet\u001b[38;5;241m.\u001b[39mraise_for_error()\n\u001b[1;32m    730\u001b[0m \u001b[38;5;28;01mreturn\u001b[39;00m packet\n",
      "File \u001b[0;32m~/anaconda3/lib/python3.11/site-packages/pymysql/protocol.py:221\u001b[0m, in \u001b[0;36mMysqlPacket.raise_for_error\u001b[0;34m(self)\u001b[0m\n\u001b[1;32m    219\u001b[0m \u001b[38;5;28;01mif\u001b[39;00m DEBUG:\n\u001b[1;32m    220\u001b[0m     \u001b[38;5;28mprint\u001b[39m(\u001b[38;5;124m\"\u001b[39m\u001b[38;5;124merrno =\u001b[39m\u001b[38;5;124m\"\u001b[39m, errno)\n\u001b[0;32m--> 221\u001b[0m err\u001b[38;5;241m.\u001b[39mraise_mysql_exception(\u001b[38;5;28mself\u001b[39m\u001b[38;5;241m.\u001b[39m_data)\n",
      "File \u001b[0;32m~/anaconda3/lib/python3.11/site-packages/pymysql/err.py:143\u001b[0m, in \u001b[0;36mraise_mysql_exception\u001b[0;34m(data)\u001b[0m\n\u001b[1;32m    141\u001b[0m \u001b[38;5;28;01mif\u001b[39;00m errorclass \u001b[38;5;129;01mis\u001b[39;00m \u001b[38;5;28;01mNone\u001b[39;00m:\n\u001b[1;32m    142\u001b[0m     errorclass \u001b[38;5;241m=\u001b[39m InternalError \u001b[38;5;28;01mif\u001b[39;00m errno \u001b[38;5;241m<\u001b[39m \u001b[38;5;241m1000\u001b[39m \u001b[38;5;28;01melse\u001b[39;00m OperationalError\n\u001b[0;32m--> 143\u001b[0m \u001b[38;5;28;01mraise\u001b[39;00m errorclass(errno, errval)\n",
      "\u001b[0;31mProgrammingError\u001b[0m: (1064, 'Insert has filtered data in strict mode, txn_id = 5533929 tracking sql = select tracking_log from information_schema.load_tracking_logs where job_id=148953')"
     ]
    }
   ],
   "source": [
    "# 新增 sql\n",
    "sql = \"\"\"\n",
    "    INSERT INTO databuff.dc_aggregate_result\n",
    "    (`monitorId`,`timestamp`, `triggerTime`, `serviceId`, `serviceInstance`, `nodes`, `edges`, `contribute_dict`, `aggResult_dict`, `compare_dict`) \n",
    "    VALUES (6444,\n",
    "  '2024-03-11 18:36:00',\n",
    "  1710153360,\n",
    "  'TnpoRU1qbEJPVGszTXpreFJqazVNalF5TXpNelF6STQ6ZGVtby1zZXJ2aWNlLWE6Oms4cw==',\n",
    "  '172.166.200.196',\n",
    "  '[\"TnpoRU1qbEJPVGszTXpreFJqazVNalF5TXpNelF6STQ6ZGVtby1zZXJ2aWNlLWE6Oms4cw==<split>172.166.200.196\", \"TnpoRU1qbEJPVGszTXpreFJqazVNalF5TXpNelF6STQ6cm9ja2V0bXFfZGF0YWJ1ZmY=<split>broker-a\", \"TnpoRU1qbEJPVGszTXpreFJqazVNalF5TXpNelF6STQ6a2Fma2FfZGF0YWJ1ZmY=<split>kafka-0.kafka.test.svc.cluster.local:9092\", \"TnpoRU1qbEJPVGszTXpreFJqazVNalF5TXpNelF6STQ6cmVkaXMtcmVkaXMudGVzdDo2Mzc5<split>redis.test\", \"TnpoRU1qbEJPVGszTXpreFJqazVNalF5TXpNelF6STQ6ZGVtby1zZXJ2aWNlLWI6Oms4cw==<split>172.166.133.196\", \"TnpoRU1qbEJPVGszTXpreFJqazVNalF5TXpNelF6STQ6ZGNnbA==<split>mysql\", \"TnpoRU1qbEJPVGszTXpreFJqazVNalF5TXpNelF6STQ6ZGVtby1zZXJ2aWNlLWI6Oms4cw==<split>172.166.228.4\", \"TnpoRU1qbEJPVGszTXpreFJqazVNalF5TXpNelF6STQ6cmFiYml0bXE=<split>rabbitmq\"]',\n",
    "  '[\"TnpoRU1qbEJPVGszTXpreFJqazVNalF5TXpNelF6STQ6ZGVtby1zZXJ2aWNlLWI6Oms4cw==<split>172.166.133.196<call>TnpoRU1qbEJPVGszTXpreFJqazVNalF5TXpNelF6STQ6ZGVtby1zZXJ2aWNlLWI6Oms4cw==<split>172.166.133.196\", \"TnpoRU1qbEJPVGszTXpreFJqazVNalF5TXpNelF6STQ6cm9ja2V0bXFfZGF0YWJ1ZmY=<split>broker-a<call>TnpoRU1qbEJPVGszTXpreFJqazVNalF5TXpNelF6STQ6ZGVtby1zZXJ2aWNlLWI6Oms4cw==<split>172.166.228.4\", \"TnpoRU1qbEJPVGszTXpreFJqazVNalF5TXpNelF6STQ6ZGVtby1zZXJ2aWNlLWI6Oms4cw==<split>172.166.228.4<call>TnpoRU1qbEJPVGszTXpreFJqazVNalF5TXpNelF6STQ6ZGNnbA==<split>mysql\", \"TnpoRU1qbEJPVGszTXpreFJqazVNalF5TXpNelF6STQ6cm9ja2V0bXFfZGF0YWJ1ZmY=<split>broker-a<call>TnpoRU1qbEJPVGszTXpreFJqazVNalF5TXpNelF6STQ6ZGVtby1zZXJ2aWNlLWI6Oms4cw==<split>172.166.133.196\", \"TnpoRU1qbEJPVGszTXpreFJqazVNalF5TXpNelF6STQ6ZGVtby1zZXJ2aWNlLWE6Oms4cw==<split>172.166.200.196<call>TnpoRU1qbEJPVGszTXpreFJqazVNalF5TXpNelF6STQ6ZGVtby1zZXJ2aWNlLWI6Oms4cw==<split>172.166.228.4\", \"TnpoRU1qbEJPVGszTXpreFJqazVNalF5TXpNelF6STQ6ZGVtby1zZXJ2aWNlLWE6Oms4cw==<split>172.166.200.196<call>TnpoRU1qbEJPVGszTXpreFJqazVNalF5TXpNelF6STQ6ZGVtby1zZXJ2aWNlLWE6Oms4cw==<split>172.166.200.196\", \"TnpoRU1qbEJPVGszTXpreFJqazVNalF5TXpNelF6STQ6ZGVtby1zZXJ2aWNlLWE6Oms4cw==<split>172.166.200.196<call>TnpoRU1qbEJPVGszTXpreFJqazVNalF5TXpNelF6STQ6ZGVtby1zZXJ2aWNlLWI6Oms4cw==<split>172.166.133.196\", \"TnpoRU1qbEJPVGszTXpreFJqazVNalF5TXpNelF6STQ6a2Fma2FfZGF0YWJ1ZmY=<split>kafka-0.kafka.test.svc.cluster.local:9092<call>TnpoRU1qbEJPVGszTXpreFJqazVNalF5TXpNelF6STQ6ZGVtby1zZXJ2aWNlLWI6Oms4cw==<split>172.166.133.196\", \"TnpoRU1qbEJPVGszTXpreFJqazVNalF5TXpNelF6STQ6ZGVtby1zZXJ2aWNlLWE6Oms4cw==<split>172.166.200.196<call>TnpoRU1qbEJPVGszTXpreFJqazVNalF5TXpNelF6STQ6cmFiYml0bXE=<split>rabbitmq\", \"TnpoRU1qbEJPVGszTXpreFJqazVNalF5TXpNelF6STQ6ZGVtby1zZXJ2aWNlLWI6Oms4cw==<split>172.166.228.4<call>TnpoRU1qbEJPVGszTXpreFJqazVNalF5TXpNelF6STQ6cmVkaXMtcmVkaXMudGVzdDo2Mzc5<split>redis.test\", \"TnpoRU1qbEJPVGszTXpreFJqazVNalF5TXpNelF6STQ6ZGVtby1zZXJ2aWNlLWE6Oms4cw==<split>172.166.200.196<call>TnpoRU1qbEJPVGszTXpreFJqazVNalF5TXpNelF6STQ6cm9ja2V0bXFfZGF0YWJ1ZmY=<split>broker-a\", \"TnpoRU1qbEJPVGszTXpreFJqazVNalF5TXpNelF6STQ6cmFiYml0bXE=<split>rabbitmq<call>TnpoRU1qbEJPVGszTXpreFJqazVNalF5TXpNelF6STQ6cmFiYml0bXE=<split>rabbitmq\", \"TnpoRU1qbEJPVGszTXpreFJqazVNalF5TXpNelF6STQ6ZGVtby1zZXJ2aWNlLWI6Oms4cw==<split>172.166.133.196<call>TnpoRU1qbEJPVGszTXpreFJqazVNalF5TXpNelF6STQ6cmVkaXMtcmVkaXMudGVzdDo2Mzc5<split>redis.test\", \"TnpoRU1qbEJPVGszTXpreFJqazVNalF5TXpNelF6STQ6cmVkaXMtcmVkaXMudGVzdDo2Mzc5<split>redis.test<call>TnpoRU1qbEJPVGszTXpreFJqazVNalF5TXpNelF6STQ6cmVkaXMtcmVkaXMudGVzdDo2Mzc5<split>redis.test\", \"TnpoRU1qbEJPVGszTXpreFJqazVNalF5TXpNelF6STQ6ZGVtby1zZXJ2aWNlLWE6Oms4cw==<split>172.166.200.196<call>TnpoRU1qbEJPVGszTXpreFJqazVNalF5TXpNelF6STQ6a2Fma2FfZGF0YWJ1ZmY=<split>kafka-0.kafka.test.svc.cluster.local:9092\", \"TnpoRU1qbEJPVGszTXpreFJqazVNalF5TXpNelF6STQ6ZGVtby1zZXJ2aWNlLWI6Oms4cw==<split>172.166.228.4<call>TnpoRU1qbEJPVGszTXpreFJqazVNalF5TXpNelF6STQ6ZGVtby1zZXJ2aWNlLWI6Oms4cw==<split>172.166.228.4\", \"TnpoRU1qbEJPVGszTXpreFJqazVNalF5TXpNelF6STQ6ZGVtby1zZXJ2aWNlLWI6Oms4cw==<split>172.166.133.196<call>TnpoRU1qbEJPVGszTXpreFJqazVNalF5TXpNelF6STQ6ZGNnbA==<split>mysql\"]',\n",
    "  '{\"TnpoRU1qbEJPVGszTXpreFJqazVNalF5TXpNelF6STQ6ZGVtby1zZXJ2aWNlLWE6Oms4cw==<split>172.166.200.196\": 3668796529, \"TnpoRU1qbEJPVGszTXpreFJqazVNalF5TXpNelF6STQ6cmFiYml0bXE=<split>rabbitmq\": 127987990, \"TnpoRU1qbEJPVGszTXpreFJqazVNalF5TXpNelF6STQ6cm9ja2V0bXFfZGF0YWJ1ZmY=<split>broker-a\": 1244633475, \"TnpoRU1qbEJPVGszTXpreFJqazVNalF5TXpNelF6STQ6ZGVtby1zZXJ2aWNlLWI6Oms4cw==<split>172.166.228.4\": 822916189, \"TnpoRU1qbEJPVGszTXpreFJqazVNalF5TXpNelF6STQ6ZGVtby1zZXJ2aWNlLWI6Oms4cw==<split>172.166.133.196\": 685718269, \"TnpoRU1qbEJPVGszTXpreFJqazVNalF5TXpNelF6STQ6cmVkaXMtcmVkaXMudGVzdDo2Mzc5<split>redis.test\": 10925663, \"TnpoRU1qbEJPVGszTXpreFJqazVNalF5TXpNelF6STQ6ZGNnbA==<split>mysql\": 451755919}',\n",
    "  '{\"databuff_20220501:TnpoRU1qbEJPVGszTXpreFJqazVNalF5TXpNelF6STQ6ZGVtby1zZXJ2aWNlLWE6Oms4cw==<split>172.166.200.196:1\": [601, 7012734034], \"TnpoRU1qbEJPVGszTXpreFJqazVNalF5TXpNelF6STQ6ZGVtby1zZXJ2aWNlLWE6Oms4cw==<split>172.166.200.196:TnpoRU1qbEJPVGszTXpreFJqazVNalF5TXpNelF6STQ6ZGVtby1zZXJ2aWNlLWE6Oms4cw==<split>172.166.200.196:2\": [600, 6549388489], \"TnpoRU1qbEJPVGszTXpreFJqazVNalF5TXpNelF6STQ6ZGVtby1zZXJ2aWNlLWE6Oms4cw==<split>172.166.200.196:TnpoRU1qbEJPVGszTXpreFJqazVNalF5TXpNelF6STQ6ZGVtby1zZXJ2aWNlLWE6Oms4cw==<split>172.166.200.196:3\": [600, 6369898410], \"TnpoRU1qbEJPVGszTXpreFJqazVNalF5TXpNelF6STQ6ZGVtby1zZXJ2aWNlLWE6Oms4cw==<split>172.166.200.196:TnpoRU1qbEJPVGszTXpreFJqazVNalF5TXpNelF6STQ6ZGVtby1zZXJ2aWNlLWE6Oms4cw==<split>172.166.200.196:4\": [1800, 4226670277], \"TnpoRU1qbEJPVGszTXpreFJqazVNalF5TXpNelF6STQ6ZGVtby1zZXJ2aWNlLWE6Oms4cw==<split>172.166.200.196:TnpoRU1qbEJPVGszTXpreFJqazVNalF5TXpNelF6STQ6cmFiYml0bXE=<split>rabbitmq:4\": [600, 134200954], \"TnpoRU1qbEJPVGszTXpreFJqazVNalF5TXpNelF6STQ6ZGVtby1zZXJ2aWNlLWE6Oms4cw==<split>172.166.200.196:TnpoRU1qbEJPVGszTXpreFJqazVNalF5TXpNelF6STQ6a2Fma2FfZGF0YWJ1ZmY=<split>kafka-0.kafka.test.svc.cluster.local:9092:4\": [600, 1231551320], \"TnpoRU1qbEJPVGszTXpreFJqazVNalF5TXpNelF6STQ6ZGVtby1zZXJ2aWNlLWE6Oms4cw==<split>172.166.200.196:TnpoRU1qbEJPVGszTXpreFJqazVNalF5TXpNelF6STQ6cm9ja2V0bXFfZGF0YWJ1ZmY=<split>broker-a:4\": [600, 1380279593], \"TnpoRU1qbEJPVGszTXpreFJqazVNalF5TXpNelF6STQ6ZGVtby1zZXJ2aWNlLWE6Oms4cw==<split>172.166.200.196:TnpoRU1qbEJPVGszTXpreFJqazVNalF5TXpNelF6STQ6ZGVtby1zZXJ2aWNlLWI6Oms4cw==<split>172.166.228.4:5\": [689, 1207539688], \"TnpoRU1qbEJPVGszTXpreFJqazVNalF5TXpNelF6STQ6ZGVtby1zZXJ2aWNlLWE6Oms4cw==<split>172.166.200.196:TnpoRU1qbEJPVGszTXpreFJqazVNalF5TXpNelF6STQ6ZGVtby1zZXJ2aWNlLWE6Oms4cw==<split>172.166.200.196:5\": [600, 10989848], \"TnpoRU1qbEJPVGszTXpreFJqazVNalF5TXpNelF6STQ6ZGVtby1zZXJ2aWNlLWE6Oms4cw==<split>172.166.200.196:TnpoRU1qbEJPVGszTXpreFJqazVNalF5TXpNelF6STQ6ZGVtby1zZXJ2aWNlLWI6Oms4cw==<split>172.166.133.196:5\": [1111, 777481904], \"TnpoRU1qbEJPVGszTXpreFJqazVNalF5TXpNelF6STQ6cmFiYml0bXE=<split>rabbitmq:TnpoRU1qbEJPVGszTXpreFJqazVNalF5TXpNelF6STQ6cmFiYml0bXE=<split>rabbitmq:5\": [600, 25000575], \"TnpoRU1qbEJPVGszTXpreFJqazVNalF5TXpNelF6STQ6a2Fma2FfZGF0YWJ1ZmY=<split>kafka-0.kafka.test.svc.cluster.local:9092:TnpoRU1qbEJPVGszTXpreFJqazVNalF5TXpNelF6STQ6ZGVtby1zZXJ2aWNlLWI6Oms4cw==<split>172.166.133.196:5\": [600, 600], \"TnpoRU1qbEJPVGszTXpreFJqazVNalF5TXpNelF6STQ6cm9ja2V0bXFfZGF0YWJ1ZmY=<split>broker-a:TnpoRU1qbEJPVGszTXpreFJqazVNalF5TXpNelF6STQ6ZGVtby1zZXJ2aWNlLWI6Oms4cw==<split>172.166.228.4:5\": [296, 59840863], \"TnpoRU1qbEJPVGszTXpreFJqazVNalF5TXpNelF6STQ6ZGVtby1zZXJ2aWNlLWI6Oms4cw==<split>172.166.228.4:TnpoRU1qbEJPVGszTXpreFJqazVNalF5TXpNelF6STQ6ZGVtby1zZXJ2aWNlLWI6Oms4cw==<split>172.166.228.4:6\": [403, 1103922593], \"TnpoRU1qbEJPVGszTXpreFJqazVNalF5TXpNelF6STQ6ZGVtby1zZXJ2aWNlLWI6Oms4cw==<split>172.166.133.196:TnpoRU1qbEJPVGszTXpreFJqazVNalF5TXpNelF6STQ6ZGVtby1zZXJ2aWNlLWI6Oms4cw==<split>172.166.133.196:6\": [1397, 645186828], \"TnpoRU1qbEJPVGszTXpreFJqazVNalF5TXpNelF6STQ6ZGVtby1zZXJ2aWNlLWI6Oms4cw==<split>172.166.228.4:TnpoRU1qbEJPVGszTXpreFJqazVNalF5TXpNelF6STQ6cmVkaXMtcmVkaXMudGVzdDo2Mzc5<split>redis.test:7\": [806, 7785888], \"TnpoRU1qbEJPVGszTXpreFJqazVNalF5TXpNelF6STQ6ZGVtby1zZXJ2aWNlLWI6Oms4cw==<split>172.166.228.4:TnpoRU1qbEJPVGszTXpreFJqazVNalF5TXpNelF6STQ6ZGNnbA==<split>mysql:7\": [806, 922918568], \"TnpoRU1qbEJPVGszTXpreFJqazVNalF5TXpNelF6STQ6cmVkaXMtcmVkaXMudGVzdDo2Mzc5<split>redis.test:TnpoRU1qbEJPVGszTXpreFJqazVNalF5TXpNelF6STQ6cmVkaXMtcmVkaXMudGVzdDo2Mzc5<split>redis.test:8\": [600, 2227771], \"TnpoRU1qbEJPVGszTXpreFJqazVNalF5TXpNelF6STQ6cm9ja2V0bXFfZGF0YWJ1ZmY=<split>broker-a:TnpoRU1qbEJPVGszTXpreFJqazVNalF5TXpNelF6STQ6ZGVtby1zZXJ2aWNlLWI6Oms4cw==<split>172.166.133.196:5\": [304, 37576571], \"TnpoRU1qbEJPVGszTXpreFJqazVNalF5TXpNelF6STQ6ZGVtby1zZXJ2aWNlLWI6Oms4cw==<split>172.166.133.196:TnpoRU1qbEJPVGszTXpreFJqazVNalF5TXpNelF6STQ6ZGNnbA==<split>mysql:7\": [394, 502743330], \"TnpoRU1qbEJPVGszTXpreFJqazVNalF5TXpNelF6STQ6ZGVtby1zZXJ2aWNlLWI6Oms4cw==<split>172.166.133.196:TnpoRU1qbEJPVGszTXpreFJqazVNalF5TXpNelF6STQ6cmVkaXMtcmVkaXMudGVzdDo2Mzc5<split>redis.test:7\": [394, 3666695]}',\n",
    "  'null')\"\"\"\n",
    "cursor = conn.cursor(cursor=pymysql.cursors.DictCursor)\n",
    "cursor.execute(sql)\n",
    "result = cursor.fetchall()\n",
    "result"
   ]
  },
  {
   "cell_type": "code",
   "execution_count": 36,
   "id": "023523bc-481a-435e-981d-90ea1f118112",
   "metadata": {},
   "outputs": [
    {
     "data": {
      "text/plain": [
       "1"
      ]
     },
     "execution_count": 36,
     "metadata": {},
     "output_type": "execute_result"
    },
    {
     "data": {
      "text/plain": [
       "[{'startTime': datetime.datetime(2024, 1, 4, 10, 10, 49),\n",
       "  'serviceId': 'TnpoRU1qbEJPVGszTXpreFJqazVNalF5TXpNelF6STQ6ZGY6OndlYmFwcDE5Mw==',\n",
       "  'serviceInstance': '192.168.24.14',\n",
       "  'resource': 'POST /metrics/findMetric',\n",
       "  'end': 1704334249391007174,\n",
       "  'hostName': 'host193',\n",
       "  'error': 0,\n",
       "  'type': 'web',\n",
       "  'duration': 78539562,\n",
       "  'isIn': 1,\n",
       "  'x-dd-hostname': 'host193',\n",
       "  'trace_id': '3564337739221272096',\n",
       "  'span_id': '6919157778042292368',\n",
       "  'dd-api-key': 'NzhEMjlBOTk3MzkxRjk5MjQyMzMzQzI4',\n",
       "  'start': 1704334249312467612,\n",
       "  'host_id': 'fa9880f4582d8076a2c2a76290a8ed71',\n",
       "  'reportService': 'df::webapp193',\n",
       "  'service': 'df::webapp193',\n",
       "  'parent_id': '0',\n",
       "  'meta': '{\"servlet.path\":\"/metrics/findMetric\",\"http.url\":\"http://192.168.50.193/metrics/findMetric\",\"language\":\"jvm\",\"thread.name\":\"http-nio-18080-exec-9\",\"peer.ipv4\":\"192.168.24.1\",\"http.hostname\":\"192.168.50.193\",\"http.status_code\":\"200\",\"component\":\"tomcat-server\",\"span.kind\":\"server\",\"http.route\":\"/metrics/findMetric\",\"servlet.context\":\"/\",\"generate.ip\":\"192.168.24.14\",\"runtime-id\":\"a4b9df89-7a72-4806-857b-dd9ebaa54e15\",\"_df.p.dm\":\"-1\",\"http.method\":\"POST\",\"generate.service\":\"df::webapp193\",\"http.useragent\":\"Mozilla/5.0 (Macintosh; Intel Mac OS X 10_15_7) AppleWebKit/537.36 (KHTML, like Gecko) Chrome/120.0.0.0 Safari/537.36\"}',\n",
       "  'name': 'servlet.request',\n",
       "  'isOut': 0,\n",
       "  'metrics': '{\"process_id\":9,\"_top_level\":1,\"_df.measured\":1,\"_sampling_priority_v1\":1,\"peer.port\":47700,\"_df.agent_psr\":1,\"thread.id\":144,\"_df.top_level\":1}',\n",
       "  'user-agent': 'Databuff Trace Agent/2.7.1..42.63494/e6349d4',\n",
       "  'meta.http.status_code': '200',\n",
       "  'meta.error.type': None,\n",
       "  'meta.peer.hostname': None,\n",
       "  'meta.http.method': 'POST',\n",
       "  'meta.http.url': 'http://192.168.50.193/metrics/findMetric'}]"
      ]
     },
     "execution_count": 36,
     "metadata": {},
     "output_type": "execute_result"
    }
   ],
   "source": [
    "sql = f\"SELECT * FROM dc_span WHERE resource LIKE '% /metrics/findMetric' LIMIT 1;\"\n",
    "cursor = conn.cursor(cursor=pymysql.cursors.DictCursor)\n",
    "cursor.execute(sql)\n",
    "result = cursor.fetchall()\n",
    "result   "
   ]
  },
  {
   "cell_type": "code",
   "execution_count": null,
   "id": "33ae1800-af59-420f-862d-389cd0c4e7f7",
   "metadata": {},
   "outputs": [],
   "source": [
    "timestamp = errorobj.event[\"triggerTime\"]\n",
    "cycle = errorobj.event['cycle']\n",
    "start = f'{timestamp - cycle}000000000'\n",
    "end = f'{timestamp + 60}000000000'\n",
    "serviceId = errorobj.event['serviceId']\n",
    "base_sql = f\"SELECT DISTINCT trace_id FROM {config['starrocks']['index.span']} WHERE serviceId = '{serviceId}' AND end >= '{start}' AND end < '{end}' AND error = 1\" # 应取链路结束时间\n",
    "\n",
    "if not errorobj.event['fuzzy']:\n",
    "    conditions = [f\"{key} = '{value}'\" for key, value in errorobj.event.items() if value and key in ['serviceInstance', 'resource']]\n",
    "    conditions_sql = \" AND \".join(conditions) if conditions else \"\"\n",
    "    sql = f\"{base_sql} AND {conditions_sql}\" if conditions_sql else base_sql\n",
    "else:\n",
    "    conditions_sql1 = f\"resource like '{errorobj.event['resource']}%'\"\n",
    "    conditions_sql2 = f\"serviceInstance = '{errorobj.event['serviceInstance']}'\" if 'serviceInstance' in self.event['by'] else \"\"\n",
    "    conditions_sql2 = f\" AND {conditions_sql2}\" if conditions_sql2 else \"\"\n",
    "    sql = f\"{base_sql} AND {conditions_sql1}{conditions_sql2}\"\n",
    "print(sql)\n",
    "\n",
    "start = f'{timestamp - cycle - 60}000000000'\n",
    "end = f'{timestamp + 120}000000000'\n",
    "sqls = f\"\"\"\n",
    "            SELECT a.*\n",
    "            FROM dc_span AS a INNER JOIN ( {sql} ) AS b ON a.trace_id = b.trace_id\n",
    "            WHERE a.end >= '{start}' AND a.end < '{end}'\n",
    "        \"\"\"\n",
    "data1 = db.starrocks.read(sqls)"
   ]
  },
  {
   "cell_type": "code",
   "execution_count": null,
   "id": "d8bbab5e-99f7-41a2-a610-645de73a2c14",
   "metadata": {},
   "outputs": [],
   "source": []
  },
  {
   "cell_type": "code",
   "execution_count": null,
   "id": "ad5785ef-46a5-42c4-83a3-ce5e6c524cd6",
   "metadata": {},
   "outputs": [],
   "source": []
  }
 ],
 "metadata": {
  "kernelspec": {
   "display_name": "Python 3 (ipykernel)",
   "language": "python",
   "name": "python3"
  },
  "language_info": {
   "codemirror_mode": {
    "name": "ipython",
    "version": 3
   },
   "file_extension": ".py",
   "mimetype": "text/x-python",
   "name": "python",
   "nbconvert_exporter": "python",
   "pygments_lexer": "ipython3",
   "version": "3.11.3"
  }
 },
 "nbformat": 4,
 "nbformat_minor": 5
}
