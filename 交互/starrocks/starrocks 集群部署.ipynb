{
 "cells": [
  {
   "cell_type": "code",
   "execution_count": 28,
   "id": "2530313f-d116-46a6-98ed-88c01d83bcc9",
   "metadata": {},
   "outputs": [
    {
     "data": {
      "text/plain": [
       "1"
      ]
     },
     "execution_count": 28,
     "metadata": {},
     "output_type": "execute_result"
    }
   ],
   "source": [
    "config['starrocks']['multi']"
   ]
  },
  {
   "cell_type": "code",
   "execution_count": 27,
   "id": "579fb2f6-6959-4745-acac-9cd25ba91167",
   "metadata": {},
   "outputs": [],
   "source": [
    "config = {'starrocks':\n",
    "              {\n",
    "                \"host\": [\"192.168.50.36\",\"192.168.50.37\",\"192.168.50.38\"], \n",
    "                \"port\": 19030,\n",
    "                \"user\": \"root\",\n",
    "                \"password\": \"Databuff@123\",\n",
    "                \"database\": \"databuff\",\n",
    "                \"mincached\": 1,\n",
    "                \"maxconnections\": 10,\n",
    "                \"index.rca\": \"dc_rca\",\n",
    "                \"index.aggregate\": \"dc_aggregate_result\",\n",
    "                \"index.span\": \"dc_span\",\n",
    "                \"multi\": 1\n",
    "              }\n",
    "        }"
   ]
  },
  {
   "cell_type": "code",
   "execution_count": 26,
   "id": "dd5967a6-47ae-4484-acb3-5860aadfa374",
   "metadata": {},
   "outputs": [
    {
     "name": "stdout",
     "output_type": "stream",
     "text": [
      "()\n"
     ]
    }
   ],
   "source": [
    "from dbutils.pooled_db import PooledDB\n",
    "import pymysql\n",
    "\n",
    "class MultiHostDBPool():\n",
    "    def __init__(self, config):\n",
    "        self.config = config\n",
    "        self.current_host_index = 0\n",
    "\n",
    "        if config[\"starrocks\"]['multi']:\n",
    "            self.__pools = {}\n",
    "            for index, host in enumerate(config[\"starrocks\"][\"host\"]):\n",
    "                # 创建每个主机的连接池\n",
    "                pool = PooledDB(\n",
    "                    creator = pymysql,\n",
    "                    maxconnections = config[\"starrocks\"][\"maxconnections\"],\n",
    "                    mincached = config[\"starrocks\"][\"mincached\"],\n",
    "                    host = host,\n",
    "                    port = config[\"starrocks\"][\"port\"],\n",
    "                    user = config[\"starrocks\"][\"user\"],\n",
    "                    password = config[\"starrocks\"][\"password\"],\n",
    "                    database = config[\"starrocks\"][\"database\"]\n",
    "                )\n",
    "                self.__pools[host] = pool\n",
    "        else:\n",
    "             self.__pool = PooledDB(\n",
    "                    creator = pymysql,\n",
    "                    maxconnections = config[\"starrocks\"][\"maxconnections\"],\n",
    "                    mincached = config[\"starrocks\"][\"mincached\"],\n",
    "                    host = config[\"starrocks\"][\"host\"],\n",
    "                    port = config[\"starrocks\"][\"port\"],\n",
    "                    user = config[\"starrocks\"][\"user\"],\n",
    "                    password = config[\"starrocks\"][\"password\"],\n",
    "                    database = config[\"starrocks\"][\"database\"]\n",
    "                )\n",
    "\n",
    "    def get_connection_multi(self):\n",
    "        # 轮询选择主机的连接池\n",
    "        for _ in range(len(self.config[\"starrocks\"][\"host\"])):\n",
    "            host = self.config[\"starrocks\"][\"host\"][self.current_host_index]\n",
    "            self.current_host_index = (self.current_host_index + 1) % len(self.config[\"starrocks\"][\"host\"])\n",
    "            try:\n",
    "                return self.__pools[host].connection()\n",
    "            except Exception as e:\n",
    "                print(f\"Failed to connect to {host}: {e}\")\n",
    "        raise Exception(\"Unable to connect to any host.\")\n",
    "\n",
    "    def get_connection(self):\n",
    "        return self.__pool.connection()\n",
    "\n",
    "    def release_connection(self, conn):\n",
    "        # 将连接放回连接池中以供后续重用\n",
    "        conn.close()\n",
    "\n",
    "    def execute_query(self, sql):\n",
    "        if self.config[\"starrocks\"]['multi']:\n",
    "            conn = self.get_connection_multi()\n",
    "        else:\n",
    "            conn = self.get_connection()\n",
    "        cursor = conn.cursor()\n",
    "        cursor.execute(sql)\n",
    "        data = cursor.fetchall()\n",
    "        cursor.close()\n",
    "        self.release_connection(conn)\n",
    "        return data\n",
    "\n",
    "db_pool = MultiHostDBPool(config)\n",
    "result = db_pool.execute_query(\"SELECT * FROM dc_span limit 1\")\n",
    "print(result)\n"
   ]
  },
  {
   "cell_type": "code",
   "execution_count": null,
   "id": "0d58d61a-e8f5-4010-9a9b-5cf02584ade6",
   "metadata": {},
   "outputs": [],
   "source": []
  },
  {
   "cell_type": "code",
   "execution_count": null,
   "id": "ee80d412-b40e-43c3-b3df-7589a3c07470",
   "metadata": {},
   "outputs": [],
   "source": []
  },
  {
   "cell_type": "code",
   "execution_count": null,
   "id": "d9fcb7c1-12aa-4046-90a2-dcd908cd7e1b",
   "metadata": {},
   "outputs": [],
   "source": []
  }
 ],
 "metadata": {
  "kernelspec": {
   "display_name": "Python 3 (ipykernel)",
   "language": "python",
   "name": "python3"
  },
  "language_info": {
   "codemirror_mode": {
    "name": "ipython",
    "version": 3
   },
   "file_extension": ".py",
   "mimetype": "text/x-python",
   "name": "python",
   "nbconvert_exporter": "python",
   "pygments_lexer": "ipython3",
   "version": "3.11.3"
  }
 },
 "nbformat": 4,
 "nbformat_minor": 5
}
