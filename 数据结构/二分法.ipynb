{
 "cells": [
  {
   "cell_type": "code",
   "execution_count": 1,
   "id": "ef2428d4-ec22-4247-b838-f0498f0b0729",
   "metadata": {},
   "outputs": [],
   "source": [
    "from typing import List"
   ]
  },
  {
   "cell_type": "markdown",
   "id": "65dc7b87-b05c-4a60-a793-941e5cb9188d",
   "metadata": {},
   "source": [
    "0704. 二分查找\\\n",
    "描述：给定一个升序的数组 num ，和一个目标值 target。\\\n",
    "要求：返回 target 在数组中的位置，如果找不到，则返回 -1"
   ]
  },
  {
   "cell_type": "code",
   "execution_count": 2,
   "id": "0f8be917-ec25-4f2a-a712-4633a08d1407",
   "metadata": {},
   "outputs": [
    {
     "data": {
      "text/plain": [
       "4"
      ]
     },
     "execution_count": 2,
     "metadata": {},
     "output_type": "execute_result"
    }
   ],
   "source": [
    "class Solution:\n",
    "    def search(self, nums: List[int], target: int) -> int:\n",
    "        left ,right = 0, len(nums)-1\n",
    "        while left <= right:\n",
    "            mid = (left+right) // 2\n",
    "            if target == nums[mid]:\n",
    "                return mid\n",
    "            elif target > nums[mid]:\n",
    "                left = mid + 1\n",
    "            elif target < nums[mid]:\n",
    "                right = mid - 1\n",
    "        return -1\n",
    "Solution().search([-1,0,3,5,9,1], 9)"
   ]
  },
  {
   "cell_type": "markdown",
   "id": "d54dbfab-f076-4a7a-ba54-9990cf0c2b49",
   "metadata": {},
   "source": [
    "__________________"
   ]
  },
  {
   "cell_type": "markdown",
   "id": "74137247-b19a-4e48-8eac-4a7231b1fb68",
   "metadata": {},
   "source": [
    "0035. 搜索插入位置\\\n",
    "描述：给定一个排好序的数组 num ，和一个目标值 target。\\\n",
    "要求：在数组中找到目标值，并返回下标。如果找不到，则返回目标值按顺序插入数组的位置。"
   ]
  },
  {
   "cell_type": "code",
   "execution_count": 5,
   "id": "9341356d-fbbf-447c-a48f-3bf25a4792ac",
   "metadata": {},
   "outputs": [
    {
     "data": {
      "text/plain": [
       "0"
      ]
     },
     "execution_count": 5,
     "metadata": {},
     "output_type": "execute_result"
    },
    {
     "data": {
      "text/plain": [
       "1"
      ]
     },
     "execution_count": 5,
     "metadata": {},
     "output_type": "execute_result"
    },
    {
     "data": {
      "text/plain": [
       "2"
      ]
     },
     "execution_count": 5,
     "metadata": {},
     "output_type": "execute_result"
    },
    {
     "data": {
      "text/plain": [
       "4"
      ]
     },
     "execution_count": 5,
     "metadata": {},
     "output_type": "execute_result"
    }
   ],
   "source": [
    "class Solution:\n",
    "    def searchInsert(self, nums: List[int], target: int) -> int:\n",
    "        left, right = 0, len(nums)-1 \n",
    "        while left <= right:\n",
    "            mid = left + (right - left) // 2\n",
    "            if nums[mid] == target:\n",
    "                return mid\n",
    "            elif nums[mid] > target:\n",
    "                right = mid - 1\n",
    "            else:\n",
    "                left = mid + 1\n",
    "        return left\n",
    "Solution().searchInsert([1],1)\n",
    "Solution().searchInsert([1,3,5,6],2)\n",
    "Solution().searchInsert([1,3,5,6],5)\n",
    "Solution().searchInsert([1,3,5,6],7)"
   ]
  },
  {
   "cell_type": "markdown",
   "id": "f2570906-278d-4873-8e51-f09df0bb9f9a",
   "metadata": {},
   "source": [
    "_______________________"
   ]
  },
  {
   "cell_type": "markdown",
   "id": "2e91e602-7e93-48a5-b6c4-debfa852b02c",
   "metadata": {},
   "source": [
    "0374. 猜数字大小\\\n",
    "题目：猜数字游戏。给定一个整数 n 和一个接口 def guess(num: int) -> int:，题目会从 1~n 中随机选取一个数 \n",
    "。我们只能通过调用接口来判断自己猜测的数是否正确 \\\n",
    "要求：要求返回题目选取的数字 x"
   ]
  },
  {
   "cell_type": "code",
   "execution_count": 9,
   "id": "2b09aa2d-5a9e-4095-8c15-dcb49b9d925b",
   "metadata": {},
   "outputs": [],
   "source": [
    "# The guess API is already defined for you.\n",
    "# @param num, your guess\n",
    "# @return -1 if num is higher than the picked number\n",
    "#          1 if num is lower than the picked number\n",
    "#          otherwise return 0\n",
    "# def guess(num: int) -> int:\n",
    "\n",
    "class Solution:\n",
    "    def guessNumber(self, n: int) -> int:\n",
    "        left, right = 1, n\n",
    "        while left <= right:\n",
    "            mid = left + (right - left) // 2\n",
    "            if guess(mid) == 1:\n",
    "                left = mid + 1\n",
    "            elif guess(mid) == -1:\n",
    "                right = mid - 1\n",
    "            else:\n",
    "                return mid"
   ]
  },
  {
   "cell_type": "code",
   "execution_count": null,
   "id": "2b515e05-0e7c-424a-8557-ab284f34be46",
   "metadata": {},
   "outputs": [],
   "source": []
  }
 ],
 "metadata": {
  "kernelspec": {
   "display_name": "Python 3 (ipykernel)",
   "language": "python",
   "name": "python3"
  },
  "language_info": {
   "codemirror_mode": {
    "name": "ipython",
    "version": 3
   },
   "file_extension": ".py",
   "mimetype": "text/x-python",
   "name": "python",
   "nbconvert_exporter": "python",
   "pygments_lexer": "ipython3",
   "version": "3.11.3"
  }
 },
 "nbformat": 4,
 "nbformat_minor": 5
}
