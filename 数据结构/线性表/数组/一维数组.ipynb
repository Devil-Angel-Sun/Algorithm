{
 "cells": [
  {
   "cell_type": "code",
   "execution_count": 1,
   "id": "d15cdd6d-1129-4fdb-8b43-e16ecc613ca9",
   "metadata": {},
   "outputs": [],
   "source": [
    "from typing import List"
   ]
  },
  {
   "cell_type": "markdown",
   "id": "52cbce86-f132-4ee8-8b99-13b1c693e47b",
   "metadata": {},
   "source": [
    "题目：0066. 加一 \\\n",
    "描述：给定一个非负整数数组，数组每一位对应整数的一位数字。\\\n",
    "要求：计算整数加1后的结果。\n",
    "\n",
    "示例：\\\n",
    "输入：digits = [1,2,3]\\\n",
    "输出：[1,2,4]\\\n",
    "解释：输入数组表示数字 123，加 1 之后为 124。"
   ]
  },
  {
   "cell_type": "code",
   "execution_count": 13,
   "id": "b41394f9-6eea-4452-b4b1-4ff86fda410a",
   "metadata": {},
   "outputs": [
    {
     "name": "stdout",
     "output_type": "stream",
     "text": [
      "123\n"
     ]
    },
    {
     "data": {
      "text/plain": [
       "[1, 2, 4]"
      ]
     },
     "execution_count": 13,
     "metadata": {},
     "output_type": "execute_result"
    }
   ],
   "source": [
    "class Solution:\n",
    "    def plusOne(self, digits: List[int]) -> List[int]:\n",
    "        nums = 0\n",
    "        for i in range(len(digits)):\n",
    "            nums += 10 ** (len(digits) - i-1) * digits[i]\n",
    "        return [int(i) for i in str(nums+1)]\n",
    "num = [1,2,3]\n",
    "Solution().plusOne(num)"
   ]
  },
  {
   "cell_type": "code",
   "execution_count": 14,
   "id": "5fe17236-54cf-4273-84ad-4e3ab6ca2e3b",
   "metadata": {},
   "outputs": [
    {
     "data": {
      "text/plain": [
       "[1, 2, 4]"
      ]
     },
     "execution_count": 14,
     "metadata": {},
     "output_type": "execute_result"
    }
   ],
   "source": [
    "class Solution:\n",
    "    def plusOne(self, digits: List[int]) -> List[int]:\n",
    "        num = int(\"\".join([str(d) for d in digits]))\n",
    "        return [int(i) for i in list(str(num+1))]\n",
    "num = [1,2,3]\n",
    "Solution().plusOne(num)"
   ]
  },
  {
   "cell_type": "markdown",
   "id": "7c74b020-4a7f-4415-861a-769d93cb7a5b",
   "metadata": {},
   "source": [
    "______"
   ]
  },
  {
   "cell_type": "markdown",
   "id": "27663e86-9fb3-4040-a45f-62f10b48ac5c",
   "metadata": {},
   "source": [
    "题目：0724. 寻找数组的中心下标\\\n",
    "描述：给定一个数组 num \\\n",
    "要求：找到「左侧元素和」与「右侧元素和相等」的位置，若找不到，则返回 -1。\n",
    "\n",
    "示例：\\\n",
    "输入：nums = [1, 7, 3, 6, 5, 6]\\\n",
    "输出：3\\\n",
    "解释：\\\n",
    "中心下标是 3 。\\\n",
    "左侧数之和 sum = nums[0] + nums[1] + nums[2] = 1 + 7 + 3 = 11 ，\\\n",
    "右侧数之和 sum = nums[4] + nums[5] = 5 + 6 = 11 ，二者相等。"
   ]
  },
  {
   "cell_type": "code",
   "execution_count": 2,
   "id": "92914dd3-12f5-4d7b-9bb5-eec2afffb5b1",
   "metadata": {},
   "outputs": [
    {
     "data": {
      "text/plain": [
       "3"
      ]
     },
     "execution_count": 2,
     "metadata": {},
     "output_type": "execute_result"
    }
   ],
   "source": [
    "class Solution:\n",
    "    def pivotIndex(self, nums: List[int]) -> int:\n",
    "        sumleft, sumright = 0,sum(nums)\n",
    "        for i in range(len(nums)):\n",
    "            sumright -= nums[i]\n",
    "            if sumleft == sumright:\n",
    "                return i\n",
    "            sumleft += nums[i]\n",
    "        return -1\n",
    "nums = [1,7,3,6,5,6]\n",
    "Solution().pivotIndex(nums)"
   ]
  },
  {
   "cell_type": "markdown",
   "id": "85e5e29e-0527-4117-9eeb-b99f5fbde246",
   "metadata": {},
   "source": [
    "____"
   ]
  },
  {
   "cell_type": "markdown",
   "id": "f61b845c-7390-4ea0-82be-c2570eaf292a",
   "metadata": {},
   "source": [
    "题目：0189. 轮转数组\\\n",
    "描述：给定一个数组 num ，再给定一个数字 k。\\\n",
    "要求：将数组中的元素向右移动 k 个位置。\n",
    "\n",
    "示例：\\\n",
    "输入: nums = [1,2,3,4,5,6,7], k = 3\\\n",
    "输出: [5,6,7,1,2,3,4]\\\n",
    "解释:\\\n",
    "向右轮转 1 步: [7,1,2,3,4,5,6]\\\n",
    "向右轮转 2 步: [6,7,1,2,3,4,5]\\\n",
    "向右轮转 3 步: [5,6,7,1,2,3,4]\n"
   ]
  },
  {
   "cell_type": "code",
   "execution_count": null,
   "id": "39d988df-1070-43dd-8b7f-0759fa68f65d",
   "metadata": {},
   "outputs": [],
   "source": [
    "class Solution:\n",
    "    def rotate(self, nums: List[int], k: int) -> None:\n",
    "        \"\"\"\n",
    "        Do not return anything, modify nums in-place instead.\n",
    "        \"\"\"\n",
    "        for i in range(k):\n",
    "            nums.insert(0, nums.pop())\n"
   ]
  },
  {
   "cell_type": "code",
   "execution_count": null,
   "id": "eb8b3501-07fe-445e-ac2a-ef237a337fdf",
   "metadata": {},
   "outputs": [],
   "source": []
  }
 ],
 "metadata": {
  "kernelspec": {
   "display_name": "Python 3 (ipykernel)",
   "language": "python",
   "name": "python3"
  },
  "language_info": {
   "codemirror_mode": {
    "name": "ipython",
    "version": 3
   },
   "file_extension": ".py",
   "mimetype": "text/x-python",
   "name": "python",
   "nbconvert_exporter": "python",
   "pygments_lexer": "ipython3",
   "version": "3.11.3"
  }
 },
 "nbformat": 4,
 "nbformat_minor": 5
}
