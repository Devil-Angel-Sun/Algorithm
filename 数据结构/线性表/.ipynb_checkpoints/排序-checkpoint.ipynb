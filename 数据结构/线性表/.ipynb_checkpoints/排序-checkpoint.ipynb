{
 "cells": [
  {
   "cell_type": "markdown",
   "id": "8f4d4946-9758-4313-9982-a282d7b23cf1",
   "metadata": {},
   "source": [
    "### 选择排序"
   ]
  },
  {
   "cell_type": "markdown",
   "id": "44706f53-ed3a-4b81-92b1-58f5f03923cd",
   "metadata": {},
   "source": [
    "基本原理：在未排序列表中找出最小值，放到已排序列表的首位；然后在剩下的未排序列表中找出最小值，放在已排序列表的末尾；以此类推，直至排序结束\\\n",
    "稳定性：不稳定\\\n",
    "时间复杂度：$O(n^2)$ \\\n",
    "空间复杂度：$O(1)\\qquad$      in-place 算法"
   ]
  },
  {
   "cell_type": "code",
   "execution_count": 4,
   "id": "ad3a93e2-c3b6-4bca-be23-03abe6ba6303",
   "metadata": {},
   "outputs": [
    {
     "data": {
      "text/plain": [
       "[11, 64, 12, 22, 25]"
      ]
     },
     "execution_count": 4,
     "metadata": {},
     "output_type": "execute_result"
    }
   ],
   "source": [
    "sample = [64, 25, 12, 22, 11]\n",
    "def selectionSort(arr):\n",
    "    for i in range(len(arr)-1):\n",
    "        minIndex = i\n",
    "        for j in range(i+1, len(arr)):\n",
    "            if arr[j] < arr[minIndex]:\n",
    "                minIndex = j\n",
    "        if i != minIndex:\n",
    "            arr[i], arr[j] = arr[j], arr[i]\n",
    "    return arr\n",
    "selectionSort(sample)"
   ]
  },
  {
   "cell_type": "markdown",
   "id": "3a80ee90-598c-47cc-9f13-808ef94ad352",
   "metadata": {},
   "source": [
    "### 冒泡排序"
   ]
  },
  {
   "cell_type": "markdown",
   "id": "b668e9f0-4aae-468c-9c67-0114419cb599",
   "metadata": {},
   "source": [
    "基本原理：经过多次迭代，逐次比较相邻的两个元素，使得较小的元素慢慢向前移动，较大的元素从前面移到后面。\\\n",
    "稳定性：稳定\\\n",
    "时间复杂度：$O(n^2)$\\\n",
    "空间复杂度：$O(1)\\qquad$ in-place算法"
   ]
  },
  {
   "cell_type": "code",
   "execution_count": 5,
   "id": "47cdaa59-2185-4042-998e-c36c51b955eb",
   "metadata": {},
   "outputs": [
    {
     "data": {
      "text/plain": [
       "[11, 12, 22, 25, 64]"
      ]
     },
     "execution_count": 5,
     "metadata": {},
     "output_type": "execute_result"
    }
   ],
   "source": [
    "sample = [64, 25, 12, 22, 11]\n",
    "def selectionSort(arr):\n",
    "    for i in range(len(arr)):\n",
    "        for j in range(i, len(arr)):\n",
    "            if arr[i] > arr[j]:\n",
    "                arr[i], arr[j] = arr[j], arr[i]\n",
    "    return arr\n",
    "selectionSort(sample)"
   ]
  },
  {
   "cell_type": "markdown",
   "id": "574d21be-af7e-493b-94cc-c1ce1fc37f11",
   "metadata": {},
   "source": [
    "### 插入排序"
   ]
  },
  {
   "cell_type": "markdown",
   "id": "8025e2f6-a3e0-498e-8877-0e2e61406a43",
   "metadata": {},
   "source": [
    "基本原理：数组分成两个区间，左侧为有序区间，右侧为无序区间，每次从无序区间中选择一个元素，然后将其插入到合适的有序区间位置。\\\n",
    "稳定性：不稳定\\\n",
    "时间复杂度：$O(n^2)$\\\n",
    "空间复杂度：$O(1)\\qquad$ in-place算法"
   ]
  },
  {
   "cell_type": "code",
   "execution_count": 9,
   "id": "57045446-bf45-4a47-bd0c-2705e6bb5b99",
   "metadata": {},
   "outputs": [
    {
     "data": {
      "text/plain": [
       "[11, 12, 22, 25, 64]"
      ]
     },
     "execution_count": 9,
     "metadata": {},
     "output_type": "execute_result"
    }
   ],
   "source": [
    "sample = [64, 25, 12, 22, 11]\n",
    "def insertionSort(nums):\n",
    "    if len(nums) == 1:\n",
    "        return nums\n",
    "    for i in range(1, len(nums)):\n",
    "        for j in range(i, 0, -1):\n",
    "            if nums[j] < nums[j-1]:\n",
    "                nums[j],nums[j-1] = nums[j-1],nums[j]\n",
    "    return nums\n",
    "insertionSort(sample)"
   ]
  },
  {
   "cell_type": "code",
   "execution_count": null,
   "id": "5607a9cc-c593-482f-b1b8-a2cd0aa92649",
   "metadata": {},
   "outputs": [],
   "source": []
  }
 ],
 "metadata": {
  "kernelspec": {
   "display_name": "Python 3 (ipykernel)",
   "language": "python",
   "name": "python3"
  },
  "language_info": {
   "codemirror_mode": {
    "name": "ipython",
    "version": 3
   },
   "file_extension": ".py",
   "mimetype": "text/x-python",
   "name": "python",
   "nbconvert_exporter": "python",
   "pygments_lexer": "ipython3",
   "version": "3.11.3"
  }
 },
 "nbformat": 4,
 "nbformat_minor": 5
}
