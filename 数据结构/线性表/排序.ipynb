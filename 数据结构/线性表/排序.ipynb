{
 "cells": [
  {
   "cell_type": "markdown",
   "id": "8f4d4946-9758-4313-9982-a282d7b23cf1",
   "metadata": {},
   "source": [
    "### 选择排序"
   ]
  },
  {
   "cell_type": "markdown",
   "id": "44706f53-ed3a-4b81-92b1-58f5f03923cd",
   "metadata": {},
   "source": [
    "基本原理：在未排序列表中找出最小值，放到已排序列表的首位；然后在剩下的未排序列表中找出最小值，放在已排序列表的末尾；以此类推，直至排序结束\\\n",
    "稳定性：不稳定\\\n",
    "时间复杂度：$O(n^2)$ \\\n",
    "空间复杂度：$O(1)\\qquad$      in-place 算法"
   ]
  },
  {
   "cell_type": "code",
   "execution_count": 4,
   "id": "ad3a93e2-c3b6-4bca-be23-03abe6ba6303",
   "metadata": {},
   "outputs": [
    {
     "data": {
      "text/plain": [
       "[11, 64, 12, 22, 25]"
      ]
     },
     "execution_count": 4,
     "metadata": {},
     "output_type": "execute_result"
    }
   ],
   "source": [
    "sample = [64, 25, 12, 22, 11]\n",
    "def selectionSort(arr):\n",
    "    for i in range(len(arr)-1):\n",
    "        minIndex = i\n",
    "        for j in range(i+1, len(arr)):\n",
    "            if arr[j] < arr[minIndex]:\n",
    "                minIndex = j\n",
    "        if i != minIndex:\n",
    "            arr[i], arr[j] = arr[j], arr[i]\n",
    "    return arr\n",
    "selectionSort(sample)"
   ]
  },
  {
   "cell_type": "markdown",
   "id": "3a80ee90-598c-47cc-9f13-808ef94ad352",
   "metadata": {},
   "source": [
    "### 冒泡排序"
   ]
  },
  {
   "cell_type": "markdown",
   "id": "b668e9f0-4aae-468c-9c67-0114419cb599",
   "metadata": {},
   "source": [
    "基本原理：经过多次迭代，逐次比较相邻的两个元素，使得较小的元素慢慢向前移动，较大的元素从前面移到后面。\\\n",
    "稳定性：稳定\\\n",
    "时间复杂度：$O(n^2)$\\\n",
    "空间复杂度：$O(1)\\qquad$ in-place算法"
   ]
  },
  {
   "cell_type": "code",
   "execution_count": 5,
   "id": "47cdaa59-2185-4042-998e-c36c51b955eb",
   "metadata": {},
   "outputs": [
    {
     "data": {
      "text/plain": [
       "[11, 12, 22, 25, 64]"
      ]
     },
     "execution_count": 5,
     "metadata": {},
     "output_type": "execute_result"
    }
   ],
   "source": [
    "sample = [64, 25, 12, 22, 11]\n",
    "def selectionSort(arr):\n",
    "    for i in range(len(arr)):\n",
    "        for j in range(i, len(arr)):\n",
    "            if arr[i] > arr[j]:\n",
    "                arr[i], arr[j] = arr[j], arr[i]\n",
    "\n",
    "    return arr\n",
    "selectionSort(sample)"
   ]
  },
  {
   "cell_type": "markdown",
   "id": "574d21be-af7e-493b-94cc-c1ce1fc37f11",
   "metadata": {},
   "source": [
    "### 插入排序"
   ]
  },
  {
   "cell_type": "markdown",
   "id": "8025e2f6-a3e0-498e-8877-0e2e61406a43",
   "metadata": {},
   "source": [
    "基本原理：数组分成两个区间，左侧为有序区间，右侧为无序区间，每次从无序区间中选择一个元素，然后将其插入到合适的有序区间位置。\\\n",
    "稳定性：不稳定\\\n",
    "时间复杂度：$O(n^2)$\\\n",
    "空间复杂度：$O(1)\\qquad$ in-place算法"
   ]
  },
  {
   "cell_type": "code",
   "execution_count": 9,
   "id": "57045446-bf45-4a47-bd0c-2705e6bb5b99",
   "metadata": {},
   "outputs": [
    {
     "data": {
      "text/plain": [
       "[11, 12, 22, 25, 64]"
      ]
     },
     "execution_count": 9,
     "metadata": {},
     "output_type": "execute_result"
    }
   ],
   "source": [
    "sample = [64, 25, 12, 22, 11]\n",
    "def insertionSort(nums):\n",
    "    if len(nums) == 1:\n",
    "        return nums\n",
    "    for i in range(1, len(nums)):\n",
    "        for j in range(i, 0, -1):\n",
    "            if nums[j] < nums[j-1]:\n",
    "                nums[j],nums[j-1] = nums[j-1],nums[j]\n",
    "    return nums\n",
    "insertionSort(sample)"
   ]
  },
  {
   "cell_type": "code",
   "execution_count": 12,
   "id": "5607a9cc-c593-482f-b1b8-a2cd0aa92649",
   "metadata": {},
   "outputs": [
    {
     "data": {
      "text/plain": [
       "'123'"
      ]
     },
     "execution_count": 12,
     "metadata": {},
     "output_type": "execute_result"
    }
   ],
   "source": [
    "''.join([\"1\",\"2\",\"3\"])"
   ]
  },
  {
   "cell_type": "code",
   "execution_count": 14,
   "id": "94005d12-d9b3-41e8-846d-441a82cdc4af",
   "metadata": {},
   "outputs": [
    {
     "name": "stdout",
     "output_type": "stream",
     "text": [
      "已有序数组: [38]\n",
      "已有序数组: [27]\n",
      "已有序数组: [43]\n",
      "合并步骤: [27, 43]\n",
      "合并后数组: [27, 43]\n",
      "合并步骤: [27, 38, 43]\n",
      "合并后数组: [27, 38, 43]\n",
      "已有序数组: [3]\n",
      "已有序数组: [9]\n",
      "合并步骤: [3, 9]\n",
      "合并后数组: [3, 9]\n",
      "已有序数组: [82]\n",
      "已有序数组: [10]\n",
      "合并步骤: [10, 82]\n",
      "合并后数组: [10, 82]\n",
      "合并步骤: [3, 9, 10, 82]\n",
      "合并后数组: [3, 9, 10, 82]\n",
      "合并步骤: [3, 9, 10, 27, 38, 43, 82]\n",
      "合并后数组: [3, 9, 10, 27, 38, 43, 82]\n",
      "最终排序结果: [3, 9, 10, 27, 38, 43, 82]\n"
     ]
    }
   ],
   "source": [
    "def MergeSort(nums): \n",
    "    n = len(nums)  # 数组长度\n",
    "    if n <= 1:     # 如果 nums 为空或只有一个元素\n",
    "        print(f\"已有序数组: {nums}\")\n",
    "        return nums  # 不需要归并排序，直接返回\n",
    "    mid = n // 2  # 划分\n",
    "    left, right = MergeSort(nums[:mid]), MergeSort(nums[mid:])  # 递归调用左右两半\n",
    "    result = merge(left, right)  # 合并\n",
    "    print(f\"合并后数组: {result}\")\n",
    "    return result\n",
    "\n",
    "def merge(left, right):\n",
    "    '''合并函数，将两个有序子数组 left 和 right 合并成一个完整的有序数组'''\n",
    "    res = []  # 存放合并后的有序数组\n",
    "    l, r = 0, 0  # left 和 right 两个子数组的下标指针\n",
    "    while l < len(left) and r < len(right):  # 遍历两个子数组\n",
    "        if left[l] < right[r]:  # 将最小的放入 res 数组中\n",
    "            res.append(left[l])\n",
    "            l += 1\n",
    "        else:\n",
    "            res.append(right[r])\n",
    "            r += 1\n",
    "    res += left[l:]  # 将剩余的元素加入 res 数组中\n",
    "    res += right[r:]\n",
    "    print(f\"合并步骤: {res}\")\n",
    "    return res  # 返回 res 数组\n",
    "\n",
    "# 示例用法\n",
    "nums = [38, 27, 43, 3, 9, 82, 10]\n",
    "sorted_nums = MergeSort(nums)\n",
    "print(\"最终排序结果:\", sorted_nums)\n"
   ]
  },
  {
   "cell_type": "code",
   "execution_count": null,
   "id": "3cb606c3-2185-408a-a83c-355f93420183",
   "metadata": {},
   "outputs": [],
   "source": []
  }
 ],
 "metadata": {
  "kernelspec": {
   "display_name": "Python 3 (ipykernel)",
   "language": "python",
   "name": "python3"
  },
  "language_info": {
   "codemirror_mode": {
    "name": "ipython",
    "version": 3
   },
   "file_extension": ".py",
   "mimetype": "text/x-python",
   "name": "python",
   "nbconvert_exporter": "python",
   "pygments_lexer": "ipython3",
   "version": "3.11.3"
  }
 },
 "nbformat": 4,
 "nbformat_minor": 5
}
