{
 "cells": [
  {
   "cell_type": "code",
   "execution_count": 2,
   "id": "f70553b0-03e5-4a95-a951-ab9da3b3c043",
   "metadata": {},
   "outputs": [],
   "source": [
    "from typing import List"
   ]
  },
  {
   "cell_type": "markdown",
   "id": "358f657a-12aa-4c5f-8f96-d6c65893fabe",
   "metadata": {},
   "source": [
    "LCR 164. 破解闯关密码\\\n",
    "描述：给定一个非负整数数组 nums。\\\n",
    "要求：将数组中的数字拼接起来排成一个数，打印能拼接出的所有数字中的最小的一个。\n",
    "\n",
    "示例：\\\n",
    "输入：[3,30,34,5,9]\\\n",
    "输出：\"3033459\""
   ]
  },
  {
   "cell_type": "markdown",
   "id": "2a25e418-0d5b-4c2c-bca0-56a65564ac41",
   "metadata": {},
   "source": [
    "解题思路：\\\n",
    "若拼接字符串 x + y > y + x，则 x “大于” y；\\\n",
    "反之，若 x + y < y + x，则 x “小于” y ；"
   ]
  },
  {
   "cell_type": "code",
   "execution_count": 4,
   "id": "4ba505e9-a591-47f2-b475-b76206868c21",
   "metadata": {},
   "outputs": [
    {
     "data": {
      "text/plain": [
       "'3033459'"
      ]
     },
     "execution_count": 4,
     "metadata": {},
     "output_type": "execute_result"
    },
    {
     "data": {
      "text/plain": [
       "'1'"
      ]
     },
     "execution_count": 4,
     "metadata": {},
     "output_type": "execute_result"
    }
   ],
   "source": [
    "class Solution:\n",
    "    def crackPassword(self, password: List[int]) -> str:\n",
    "        n = len(password)\n",
    "        if n == 1:\n",
    "            return str(password[0])\n",
    "        for i in range(n):\n",
    "            for j in range(i,n):\n",
    "                if str(password[i]) + str(password[j])>str(password[j]) + str(password[i]):\n",
    "                    password[i], password[j] = str(password[j]),str(password[i])\n",
    "                else:\n",
    "                    password[i], password[j] = str(password[i]),str(password[j])\n",
    "        return ''.join(password)\n",
    "Solution().crackPassword([3,30,34,5,9])\n",
    "Solution().crackPassword([1])"
   ]
  },
  {
   "cell_type": "code",
   "execution_count": 10,
   "id": "8caddfa2-44ad-4919-840a-51223d1a5f1a",
   "metadata": {},
   "outputs": [
    {
     "data": {
      "text/plain": [
       "'3033459'"
      ]
     },
     "execution_count": 10,
     "metadata": {},
     "output_type": "execute_result"
    },
    {
     "data": {
      "text/plain": [
       "'1'"
      ]
     },
     "execution_count": 10,
     "metadata": {},
     "output_type": "execute_result"
    }
   ],
   "source": [
    "import functools\n",
    "class Solution:\n",
    "    def crackPassword(self, password: List[int]) -> str:\n",
    "        def cmp(a, b):\n",
    "            if a+b > b+a: \n",
    "                return 1\n",
    "            elif a+b < b+a: \n",
    "                return -1\n",
    "            else: \n",
    "                return 0\n",
    "        password = list(map(str, password))\n",
    "        password.sort(key = functools.cmp_to_key(cmp))\n",
    "        return ''.join(password)\n",
    "Solution().crackPassword([3,30,34,5,9])\n",
    "Solution().crackPassword([1])        "
   ]
  },
  {
   "cell_type": "code",
   "execution_count": null,
   "id": "86f97a96-bca9-466f-b84a-d24b55cbcb75",
   "metadata": {},
   "outputs": [],
   "source": [
    "import functools\n",
    "class Solution:\n",
    "    def crackPassword(self, password: List[int]) -> str:\n",
    "              "
   ]
  }
 ],
 "metadata": {
  "kernelspec": {
   "display_name": "Python 3 (ipykernel)",
   "language": "python",
   "name": "python3"
  },
  "language_info": {
   "codemirror_mode": {
    "name": "ipython",
    "version": 3
   },
   "file_extension": ".py",
   "mimetype": "text/x-python",
   "name": "python",
   "nbconvert_exporter": "python",
   "pygments_lexer": "ipython3",
   "version": "3.11.3"
  }
 },
 "nbformat": 4,
 "nbformat_minor": 5
}
