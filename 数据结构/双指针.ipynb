{
 "cells": [
  {
   "cell_type": "code",
   "execution_count": 2,
   "id": "3cd25796-c6b3-430c-8633-7d65089dd1e7",
   "metadata": {},
   "outputs": [],
   "source": [
    "from typing import List"
   ]
  },
  {
   "cell_type": "markdown",
   "id": "76b651d5-6b84-4054-9f64-c816219b2810",
   "metadata": {},
   "source": [
    "## 对撞指针"
   ]
  },
  {
   "cell_type": "markdown",
   "id": "4fff4dc2-696c-4eba-aacb-0fb3db9b2822",
   "metadata": {},
   "source": [
    "167. 两数之和 II - 输入有序数组\n",
    "\n",
    "题目：给你一个下标从 1 开始的整数数组 numbers ，该数组已按 非递减顺序排列  ，请你从数组中找出满足相加之和等于目标数 target 的两个数。如果设这两个数分别是 numbers[index1] 和 numbers[index2] ，则 1 <= index1 < index2 <= numbers.length 。\n",
    "\n",
    "示例\\\n",
    "输入：numbers = [2,7,11,15], target = 9\\\n",
    "输出：[1,2]\\\n",
    "解释：2 与 7 之和等于目标数 9 。因此 index1 = 1, index2 = 2 。返回 [1, 2] 。"
   ]
  },
  {
   "cell_type": "code",
   "execution_count": 5,
   "id": "00162f72-a99a-4d18-8e85-0871f0a9159d",
   "metadata": {},
   "outputs": [
    {
     "data": {
      "text/plain": [
       "[2, 3]"
      ]
     },
     "execution_count": 5,
     "metadata": {},
     "output_type": "execute_result"
    }
   ],
   "source": [
    "class Solution:\n",
    "    def twoSum(self, numbers: List[int], target: int) -> List[int]:\n",
    "        left, right = 0, len(numbers)-1\n",
    "        while left < right:\n",
    "            sums = numbers[left] + numbers[right]\n",
    "            if sums > target:\n",
    "                right -= 1\n",
    "            elif sums < target:\n",
    "                left += 1\n",
    "            else:\n",
    "                return [left+1, right+1]\n",
    "        return []\n",
    "Solution().twoSum([5,25,75],100)"
   ]
  },
  {
   "cell_type": "code",
   "execution_count": 6,
   "id": "149166cf-f4cb-4fb2-b9ae-5906b29dd106",
   "metadata": {},
   "outputs": [
    {
     "data": {
      "text/plain": [
       "502788049.5"
      ]
     },
     "execution_count": 6,
     "metadata": {},
     "output_type": "execute_result"
    }
   ],
   "source": [
    "5.027880495E8"
   ]
  },
  {
   "cell_type": "code",
   "execution_count": null,
   "id": "6b5abdad-e63b-425c-a3b0-b9a0484a4914",
   "metadata": {},
   "outputs": [],
   "source": []
  }
 ],
 "metadata": {
  "kernelspec": {
   "display_name": "Python 3 (ipykernel)",
   "language": "python",
   "name": "python3"
  },
  "language_info": {
   "codemirror_mode": {
    "name": "ipython",
    "version": 3
   },
   "file_extension": ".py",
   "mimetype": "text/x-python",
   "name": "python",
   "nbconvert_exporter": "python",
   "pygments_lexer": "ipython3",
   "version": "3.11.3"
  }
 },
 "nbformat": 4,
 "nbformat_minor": 5
}
