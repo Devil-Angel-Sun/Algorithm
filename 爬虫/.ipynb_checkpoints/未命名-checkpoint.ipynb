{
 "cells": [
  {
   "cell_type": "code",
   "execution_count": 1,
   "id": "b0491a18-4459-4558-8f7c-d9a1fdbcacda",
   "metadata": {},
   "outputs": [],
   "source": [
    "import requests"
   ]
  },
  {
   "cell_type": "code",
   "execution_count": 2,
   "id": "9658789e-0671-49fd-9779-c96b96ccfbff",
   "metadata": {},
   "outputs": [
    {
     "name": "stdout",
     "output_type": "stream",
     "text": [
      "Traceresponse: 00-63d66de3f78602a40c7064f4cb270ce5-d27ee13b642eb3a3-01\n",
      "Status Code: 200\n",
      "Response Content: timeout\n",
      "\n"
     ]
    }
   ],
   "source": [
    "url = \"https://one.bonree.com/rest/analysis/system/getMetricInfo\"  # 将YOUR_URL_HERE替换为你要请求的URL\n",
    "\n",
    "# 这是一个示例的Traceresponse列表，你可以根据实际情况修改\n",
    "traceresponse_list = [\"00-63d66de3f78602a40c7064f4cb270ce5-d27ee13b642eb3a3-01\"]\n",
    "\n",
    "for traceresponse in traceresponse_list:\n",
    "    headers = {\"Traceresponse\": traceresponse}\n",
    "    \n",
    "    try:\n",
    "        response = requests.get(url, headers=headers)\n",
    "        # 在这里处理响应\n",
    "        print(f\"Traceresponse: {traceresponse}\")\n",
    "        print(f\"Status Code: {response.status_code}\")\n",
    "        print(f\"Response Content: {response.text}\\n\")\n",
    "        \n",
    "        # 在这里可以将响应值保存到文件或进行其他处理\n",
    "    except requests.exceptions.RequestException as e:\n",
    "        print(f\"Error: {e}\")\n"
   ]
  },
  {
   "cell_type": "code",
   "execution_count": null,
   "id": "0956c449-59b4-4eb6-ad85-1731ef9df778",
   "metadata": {},
   "outputs": [],
   "source": []
  }
 ],
 "metadata": {
  "kernelspec": {
   "display_name": "Python 3 (ipykernel)",
   "language": "python",
   "name": "python3"
  },
  "language_info": {
   "codemirror_mode": {
    "name": "ipython",
    "version": 3
   },
   "file_extension": ".py",
   "mimetype": "text/x-python",
   "name": "python",
   "nbconvert_exporter": "python",
   "pygments_lexer": "ipython3",
   "version": "3.11.3"
  }
 },
 "nbformat": 4,
 "nbformat_minor": 5
}
