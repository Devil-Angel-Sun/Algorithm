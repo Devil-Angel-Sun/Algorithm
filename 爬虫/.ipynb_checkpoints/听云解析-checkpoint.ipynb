{
 "cells": [
  {
   "cell_type": "code",
   "execution_count": 1,
   "id": "e6501e49-beb0-4731-8f19-0fed2102bbc2",
   "metadata": {},
   "outputs": [],
   "source": [
    "import json\n",
    "with open('./tingyun.json', 'r') as f:\n",
    "    datas = json.load(f)"
   ]
  },
  {
   "cell_type": "code",
   "execution_count": 2,
   "id": "86fee313-ae3b-45e9-86af-a00ebd54a436",
   "metadata": {},
   "outputs": [],
   "source": [
    "from bs4 import BeautifulSoup\n",
    "import html2text"
   ]
  },
  {
   "cell_type": "code",
   "execution_count": 59,
   "id": "5b78392a-55b5-4116-a19d-bb82124c9c2c",
   "metadata": {
    "tags": []
   },
   "outputs": [
    {
     "data": {
      "text/plain": [
       "(['可以按照 Doris 官网文档中的元数据运维文档进行恢复。'],\n",
       " ['链接文本：元数据运维文档，链接：https://cloud.tencent.com/document/product/1387/70722'])"
      ]
     },
     "execution_count": 59,
     "metadata": {},
     "output_type": "execute_result"
    }
   ],
   "source": [
    "def has_link(name, string):\n",
    "    soup = BeautifulSoup(name, 'html.parser')\n",
    "    text = [li.get_text(strip=True) for li in soup.find_all(string)]\n",
    "    links = ['链接文本：{}，链接：{}'.format(li.find('a').get_text(),li.find('a').get('href')) for li in soup.find_all(string)]\n",
    "    return text,links\n",
    "has_link(datas[12]['解决问题及方案'], 'p')"
   ]
  },
  {
   "cell_type": "code",
   "execution_count": 37,
   "id": "faa715f7-7acc-43b4-905b-590a687bec9e",
   "metadata": {
    "tags": []
   },
   "outputs": [
    {
     "data": {
      "text/plain": [
       "['尝试本地登录故障主机资源，或者登录同网段的其他资源进行测试；',\n",
       " '检查主机/etc/hosts.deny文件配置，是否将CBH系统IP加入了黑名单',\n",
       " '检查CBH系统与故障主机的网络层，是否有服务协议拦截CBH系统IP；',\n",
       " '请填写工单反馈问题现象，联系技术支持。']"
      ]
     },
     "execution_count": 37,
     "metadata": {},
     "output_type": "execute_result"
    }
   ],
   "source": [
    "def has_normal(name, string):\n",
    "    soup = BeautifulSoup(name, 'html.parser')\n",
    "    return [li.get_text(strip=True) for li in soup.find_all(string)]\n",
    "has_normal(datas[11]['解决问题及方案'], 'li')"
   ]
  },
  {
   "cell_type": "code",
   "execution_count": 3,
   "id": "0d03ef13-e0c3-4f75-8a4d-02777185c3e0",
   "metadata": {
    "tags": []
   },
   "outputs": [
    {
     "data": {
      "text/plain": [
       "[['日志分析：下发上电动作时，存在发送上电请求信息给管理平台时，表明当前环境上电受控'],\n",
       " ['https://download.huawei.com/mdl/image/download?uuid=8c67c5afb31c495c9589d950f80810bc'],\n",
       " ['ipmcget -d poweronpermit查询受控状态'],\n",
       " ['https://download.huawei.com/mdl/image/download?uuid=9b5f498dcf364bb096d5f1416195f1d8']]"
      ]
     },
     "execution_count": 3,
     "metadata": {},
     "output_type": "execute_result"
    }
   ],
   "source": [
    "def has_img(name, string):\n",
    "    contexts = []\n",
    "    soup = BeautifulSoup(name, 'html.parser')\n",
    "    for li in soup.find_all(string):\n",
    "        if li.get_text(strip=True):\n",
    "            context = [li.get_text(strip=True)]\n",
    "        else:\n",
    "            context = []\n",
    "        if  li.find('img'):\n",
    "            links = li.find('img').get('src')\n",
    "            context.append(links)\n",
    "        if context:\n",
    "            contexts.append(context)\n",
    "    return contexts\n",
    "has_img(datas[13]['原因分析'], 'p')"
   ]
  },
  {
   "cell_type": "code",
   "execution_count": 38,
   "id": "adb3755f-d2b9-4eae-b060-777dc68274cb",
   "metadata": {
    "tags": []
   },
   "outputs": [
    {
     "data": {
      "text/plain": [
       "[['法一：下发上电命令后再管理平台处理来自BMC的上电请求'],\n",
       " ['法二：先关闭受控上电，在执行上电动作，再恢复受控上电'],\n",
       " ['https://download.huawei.com/mdl/image/download?uuid=b04cb5039c5f4860b4a52ccb81c3ca7f']]"
      ]
     },
     "execution_count": 38,
     "metadata": {},
     "output_type": "execute_result"
    }
   ],
   "source": [
    "def has_img_links(name, string):\n",
    "    contexts = []\n",
    "    soup = BeautifulSoup(name, 'html.parser')\n",
    "    for li in soup.find_all(string):\n",
    "        if li.get_text(strip=True):\n",
    "            context = [li.get_text(strip=True)]\n",
    "        else:\n",
    "            context = []\n",
    "            \n",
    "        if  li.find('img'):\n",
    "            imgs = li.find('img').get('src')\n",
    "            context.append(imgs)\n",
    "            \n",
    "        if li.find('a'):\n",
    "            text = li.find('a').get_text()\n",
    "            get_text = li.find('a').get('href')\n",
    "            context.append('链接文本：{}，链接：{}'.format(text, get_text))\n",
    "            \n",
    "        if context:\n",
    "            contexts.append(context)\n",
    "    return contexts\n",
    "has_img_links(datas[13]['解决问题及方案'], 'p')"
   ]
  },
  {
   "cell_type": "code",
   "execution_count": null,
   "id": "5c6c4efc-11e0-49b4-b9f3-e0d7e3fcc397",
   "metadata": {
    "tags": []
   },
   "outputs": [],
   "source": []
  },
  {
   "cell_type": "code",
   "execution_count": 50,
   "id": "2bac66d7-fcf6-4a1f-bab7-386b1ca2604d",
   "metadata": {
    "tags": []
   },
   "outputs": [],
   "source": [
    "import re\n",
    "pattern = r\"</([^>]*)>\"\n",
    "for data in datas:\n",
    "    for key,value in data.items():\n",
    "        contexts = None\n",
    "        if '<ol>' in value:  # 无序列表\n",
    "            contexts = has_img_links(value, 'li')\n",
    "        elif '<ul>' in value:  # 有序列表\n",
    "            contexts = has_img_links(value, 'li')\n",
    "        elif '<p>' in value:  # 段落\n",
    "            contexts = has_img_links(value, 'p')\n",
    "        \n",
    "        if contexts:\n",
    "            data[key] = contexts"
   ]
  },
  {
   "cell_type": "code",
   "execution_count": null,
   "id": "f01fd60e-79ba-4a10-b6a9-f47271c349af",
   "metadata": {
    "tags": []
   },
   "outputs": [],
   "source": []
  },
  {
   "cell_type": "code",
   "execution_count": 47,
   "id": "1e87a472-a705-4377-934d-8eaf876ef673",
   "metadata": {
    "tags": []
   },
   "outputs": [],
   "source": []
  },
  {
   "cell_type": "markdown",
   "id": "73a755bf-ff2a-4b4a-b1a8-85af4dd2fd80",
   "metadata": {},
   "source": [
    "html 语言转换成 markdown"
   ]
  },
  {
   "cell_type": "code",
   "execution_count": 7,
   "id": "8ae5297d-832e-4e2c-8ed6-953c9393c6ba",
   "metadata": {
    "tags": []
   },
   "outputs": [
    {
     "name": "stdout",
     "output_type": "stream",
     "text": [
      "<p>可以按照 Doris 官网文档中的&nbsp;<a href=\"https://cloud.tencent.com/document/product/1387/70722\" target=\"_blank\">元数据运维文档</a>&nbsp;进行恢复。<br/></p>\n",
      "可以按照 Doris 官网文档中的\n",
      "[元数据运维文档](https://cloud.tencent.com/document/product/1387/70722) 进行恢复。  \n",
      "\n",
      "\n"
     ]
    }
   ],
   "source": [
    "import html2text\n",
    "print(datas[12]['解决问题及方案'])\n",
    "markdown_text = html2text.html2text(datas[12]['解决问题及方案'])\n",
    "print(markdown_text)"
   ]
  },
  {
   "cell_type": "markdown",
   "id": "78c9030d-5aa8-45d0-ac1f-91168e180840",
   "metadata": {},
   "source": [
    "____________"
   ]
  },
  {
   "cell_type": "markdown",
   "id": "07c9244c-aae7-4901-b3d1-079c934a4840",
   "metadata": {},
   "source": [
    "单独写入 markdown"
   ]
  },
  {
   "cell_type": "code",
   "execution_count": 21,
   "id": "eaadd28f-7bc5-4f07-aacd-1cd1623fdafb",
   "metadata": {
    "tags": []
   },
   "outputs": [],
   "source": [
    "data = datas[11]\n",
    "with open('output.md', 'w') as f:\n",
    "    f.write('标题：{}\\n'.format(html2text.html2text(data['标题'])))\n",
    "    f.write('问题描述: {}\\n'.format(html2text.html2text(data['问题描述'])))\n",
    "    f.write('所选分组：{}\\n'.format(html2text.html2text(data['所选分组'])))\n",
    "    f.write('原因分析：\\n{}\\n'.format(html2text.html2text(data['原因分析'])))\n",
    "    f.write('解决问题及方案：\\n\\n{}\\n'.format(html2text.html2text(data['解决问题及方案'])))"
   ]
  },
  {
   "cell_type": "markdown",
   "id": "d7d78ea3-feed-40ad-b063-1da5a189b9b3",
   "metadata": {},
   "source": [
    "每个数据写入不同的 markdown"
   ]
  },
  {
   "cell_type": "code",
   "execution_count": 3,
   "id": "56790ee7-adc3-4126-9bd7-a6cdbad30c3f",
   "metadata": {
    "tags": []
   },
   "outputs": [],
   "source": [
    "for index, data in enumerate(datas):\n",
    "    with open('./听云/{}.md'.format(index), 'w') as f:\n",
    "        f.write('标题：{}\\n'.format(html2text.html2text(data['标题'])))\n",
    "        f.write('问题描述: {}\\n'.format(html2text.html2text(data['问题描述'])))\n",
    "        f.write('所选分组：{}\\n'.format(html2text.html2text(data['所选分组'])))\n",
    "        f.write('原因分析：\\n{}\\n'.format(html2text.html2text(data['原因分析'])))\n",
    "        f.write('解决问题及方案：\\n\\n{}\\n'.format(html2text.html2text(data['解决问题及方案'])))"
   ]
  },
  {
   "cell_type": "markdown",
   "id": "1ac02f6d-d54a-4644-a204-bef3af7eccd2",
   "metadata": {},
   "source": [
    "所有数据写入同一个 markdown"
   ]
  },
  {
   "cell_type": "code",
   "execution_count": 6,
   "id": "2df63b60-4864-427d-8872-61b2228ef846",
   "metadata": {
    "tags": []
   },
   "outputs": [],
   "source": [
    "with open('./听云/all.md', 'w') as f:\n",
    "    for index, data in enumerate(datas):\n",
    "        f.write('## index：{}\\n'.format(index))\n",
    "        f.write('标题：{}\\n'.format(html2text.html2text(data['标题'])))\n",
    "        f.write('问题描述: {}\\n'.format(html2text.html2text(data['问题描述'])))\n",
    "        f.write('所选分组：{}\\n'.format(html2text.html2text(data['所选分组'])))\n",
    "        f.write('原因分析：\\n{}\\n'.format(html2text.html2text(data['原因分析'])))\n",
    "        f.write('解决问题及方案：\\n\\n{}\\n'.format(html2text.html2text(data['解决问题及方案'])))"
   ]
  },
  {
   "cell_type": "code",
   "execution_count": null,
   "id": "ffa7f683-da41-45be-8d27-9e7d0eb0451e",
   "metadata": {},
   "outputs": [],
   "source": []
  }
 ],
 "metadata": {
  "kernelspec": {
   "display_name": "Python 3 (ipykernel)",
   "language": "python",
   "name": "python3"
  },
  "language_info": {
   "codemirror_mode": {
    "name": "ipython",
    "version": 3
   },
   "file_extension": ".py",
   "mimetype": "text/x-python",
   "name": "python",
   "nbconvert_exporter": "python",
   "pygments_lexer": "ipython3",
   "version": "3.11.3"
  }
 },
 "nbformat": 4,
 "nbformat_minor": 5
}
