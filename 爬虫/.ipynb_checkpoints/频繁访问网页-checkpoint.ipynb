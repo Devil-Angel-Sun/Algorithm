{
 "cells": [
  {
   "cell_type": "code",
   "execution_count": 1,
   "id": "d798aefd-1cfd-462c-af3e-755883d5385c",
   "metadata": {},
   "outputs": [],
   "source": [
    "import requests"
   ]
  },
  {
   "cell_type": "code",
   "execution_count": 2,
   "id": "ba107b30-558a-4bc8-81c2-0a64337ae89f",
   "metadata": {},
   "outputs": [],
   "source": [
    "# 创建一个会话，以便在多个请求之间保持状态\n",
    "session = requests.Session()"
   ]
  },
  {
   "cell_type": "code",
   "execution_count": 3,
   "id": "14599b49-ea24-48d1-8629-7b9805e84913",
   "metadata": {},
   "outputs": [
    {
     "data": {
      "text/plain": [
       "'<!doctype html><html lang=\"en\"><head><meta charset=\"utf-8\"><meta name=\"viewport\" content=\"width=device-width,initial-scale=1,shrink-to-fit=no\"><meta name=\"theme-color\" content=\"#000000\"><link rel=\"shortcut icon\" href=\"./images/logo.png\"><title>LinDB</title><link href=\"./static/css/main.0306_174305.css\" rel=\"stylesheet\"></head><body><noscript>You need to enable JavaScript to run this app.</noscript><div id=\"root\"></div><script type=\"text/javascript\" src=\"./static/js/main.0306_174305.js\"></script></body></html>'"
      ]
     },
     "execution_count": 3,
     "metadata": {},
     "output_type": "execute_result"
    }
   ],
   "source": [
    "import requests\n",
    "\n",
    "# 请求URL\n",
    "url = 'http://192.168.50.193:8080/console/#/search'\n",
    "\n",
    "# 请求负载数据\n",
    "payload = {\n",
    "    'q': \"SELECT 'thread_count' FROM 'jvm' WHERE time > now()-1h GROUP BY time(-1s)\",\n",
    "    'db': \"NzhEMjlBOTk3MzkxRjk5MjQyMzMzQzI4_apm_metric\"\n",
    "}\n",
    "\n",
    "# 发送POST请求\n",
    "response = session.post(url, data=payload)\n",
    "\n",
    "response.text\n"
   ]
  },
  {
   "cell_type": "code",
   "execution_count": 25,
   "id": "7380f08d-5b06-484d-aafb-b5d246793fd1",
   "metadata": {},
   "outputs": [
    {
     "data": {
      "text/plain": [
       "'<!doctype html><html lang=\"en\"><head><meta charset=\"utf-8\"><meta name=\"viewport\" content=\"width=device-width,initial-scale=1,shrink-to-fit=no\"><meta name=\"theme-color\" content=\"#000000\"><link rel=\"shortcut icon\" href=\"./images/logo.png\"><title>LinDB</title><link href=\"./static/css/main.0306_174305.css\" rel=\"stylesheet\"></head><body><noscript>You need to enable JavaScript to run this app.</noscript><div id=\"root\"></div><script type=\"text/javascript\" src=\"./static/js/main.0306_174305.js\"></script></body></html>'"
      ]
     },
     "execution_count": 25,
     "metadata": {},
     "output_type": "execute_result"
    }
   ],
   "source": []
  },
  {
   "cell_type": "code",
   "execution_count": 19,
   "id": "79d434b2-c413-4914-a2a7-2f26fb011381",
   "metadata": {},
   "outputs": [
    {
     "data": {
      "text/plain": [
       "True"
      ]
     },
     "execution_count": 19,
     "metadata": {},
     "output_type": "execute_result"
    }
   ],
   "source": [
    "response.status_code == 200"
   ]
  },
  {
   "cell_type": "code",
   "execution_count": 20,
   "id": "f6e9b846-6bed-4139-9a2b-5e9fdf6d6887",
   "metadata": {},
   "outputs": [
    {
     "data": {
      "text/plain": [
       "b'<!doctype html><html lang=\"en\"><head><meta charset=\"utf-8\"><meta name=\"viewport\" content=\"width=device-width,initial-scale=1,shrink-to-fit=no\"><meta name=\"theme-color\" content=\"#000000\"><link rel=\"shortcut icon\" href=\"./images/logo.png\"><title>LinDB</title><link href=\"./static/css/main.0306_174305.css\" rel=\"stylesheet\"></head><body><noscript>You need to enable JavaScript to run this app.</noscript><div id=\"root\"></div><script type=\"text/javascript\" src=\"./static/js/main.0306_174305.js\"></script></body></html>'"
      ]
     },
     "execution_count": 20,
     "metadata": {},
     "output_type": "execute_result"
    }
   ],
   "source": [
    "response.content"
   ]
  },
  {
   "cell_type": "code",
   "execution_count": 21,
   "id": "f0f9c462-9747-42df-b18f-4a9700ff5a80",
   "metadata": {},
   "outputs": [
    {
     "data": {
      "text/plain": [
       "{'Date': 'Thu, 14 Mar 2024 10:04:10 GMT', 'Last-Modified': 'Thu, 07 Mar 2024 07:22:43 GMT', 'Content-Type': 'text/html', 'Accept-Ranges': 'bytes', 'Content-Length': '514', 'Server': 'Jetty(9.3.6.v20151106)'}"
      ]
     },
     "execution_count": 21,
     "metadata": {},
     "output_type": "execute_result"
    }
   ],
   "source": [
    "response.headers"
   ]
  },
  {
   "cell_type": "code",
   "execution_count": null,
   "id": "95f601d2-32b7-40cd-a0ea-64cac694792f",
   "metadata": {},
   "outputs": [],
   "source": []
  }
 ],
 "metadata": {
  "kernelspec": {
   "display_name": "Python 3 (ipykernel)",
   "language": "python",
   "name": "python3"
  },
  "language_info": {
   "codemirror_mode": {
    "name": "ipython",
    "version": 3
   },
   "file_extension": ".py",
   "mimetype": "text/x-python",
   "name": "python",
   "nbconvert_exporter": "python",
   "pygments_lexer": "ipython3",
   "version": "3.11.3"
  }
 },
 "nbformat": 4,
 "nbformat_minor": 5
}
