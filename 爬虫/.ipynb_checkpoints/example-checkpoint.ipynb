{
 "cells": [
  {
   "cell_type": "code",
   "execution_count": 60,
   "id": "2b4aca0f-3824-4ad0-9170-bba052d6b1e7",
   "metadata": {},
   "outputs": [],
   "source": [
    "import urllib\n",
    "import json\n",
    "def get_data(link):\n",
    "    ug = \"Mozilla/5.0 (Windows NT 10.0; Win64; x64) AppleWebKit/537.36 (KHTML, like Gecko) Chrome/114.0.0.0 Safari/537.36 Edg/114.0.1823.51\"\n",
    "    cookie = 'refreshToken=93419113f3f447acbc75b91cd21f05e562e264aaaa455ab8ed35048567b2860e; accessToken=6e2918eae12af5fb220699a7f20bd82f5e1376ca86483bdca8628701b7ea2091; _token=Bearer%206e2918eae12af5fb220699a7f20bd82f5e1376ca86483bdca8628701b7ea2091; _csrf=a5dfc541a541ce418a3abe97e1f108093ad0131d7b818c300ef928d5ecec5d45a%3A2%3A%7Bi%3A0%3Bs%3A5%3A%22_csrf%22%3Bi%3A1%3Bs%3A32%3A%223eNx8yV-9bEZd981QnOQKX1ygNp6NBZ0%22%3B%7D'\n",
    "    au = 'Bearer 6e2918eae12af5fb220699a7f20bd82f5e1376ca86483bdca8628701b7ea2091'\n",
    "    r = urllib.request.Request(link)\n",
    "    r.add_header('User-Agent', ug)\n",
    "    r.add_header(\"Cookie\",cookie)\n",
    "    r.add_header('Authorization', au)\n",
    "    html = urllib.request.urlopen(r).read()\n",
    "    return json.loads(html.decode('utf-8'))"
   ]
  },
  {
   "cell_type": "code",
   "execution_count": 57,
   "id": "67eead2d-4b81-4afa-8d78-130402f0c19a",
   "metadata": {},
   "outputs": [],
   "source": [
    "data = get_data('https://6.lwops.cn/backend_api/api/zikoo/knowledge/147')"
   ]
  },
  {
   "cell_type": "code",
   "execution_count": 61,
   "id": "39991bef-90ac-4198-b045-7e908430f7e3",
   "metadata": {},
   "outputs": [],
   "source": [
    "# link = 'https://6.lwops.cn/backend_api/api/zikoo/knowledge?page=1&pageSize=200&keyword=&category_ids=&sortName=&sortOrder=asc'\n",
    "link = 'https://6.lwops.cn/backend_api/api/zikoo/knowledge?page=1&pageSize=200&keyword=&category_ids=&sortName=&sortOrder=asc'\n",
    "# link = 'https://6.lwops.cn/backend_api/api/zikoo/knowledge/431'\n",
    "df = get_data(link)"
   ]
  },
  {
   "cell_type": "code",
   "execution_count": null,
   "id": "d1823656-82c9-4762-980d-d9aa4df3de68",
   "metadata": {},
   "outputs": [],
   "source": []
  },
  {
   "cell_type": "code",
   "execution_count": 128,
   "id": "ab71e5e8-f29f-4161-a610-9513d08295d0",
   "metadata": {},
   "outputs": [],
   "source": [
    "import urllib\n",
    "import json\n",
    "link = 'https://www.dodocloud.cn:8423/kb/kb_detail.action?requestFor=subject_detail&topicId=11754'\n",
    "ug = \"Mozilla/5.0 (Windows NT 10.0; Win64; x64) AppleWebKit/537.36 (KHTML, like Gecko) Chrome/114.0.0.0 Safari/537.36 Edg/114.0.1823.51\"\n",
    "cookie = 'readTopic_11754=11754; JSESSIONID=7387881E74B706628DFCE4CFB00C32B5'\n",
    "r = urllib.request.Request(link)\n",
    "r.add_header('User-Agent', ug)\n",
    "r.add_header(\"Cookie\",cookie)\n",
    "html1 = urllib.request.urlopen(r).read()\n",
    "# html.decode('utf-8')"
   ]
  },
  {
   "cell_type": "code",
   "execution_count": 70,
   "id": "0b0cb91f-32d6-41d2-8518-5c21db73e303",
   "metadata": {},
   "outputs": [],
   "source": [
    "from bs4 import BeautifulSoup"
   ]
  },
  {
   "cell_type": "code",
   "execution_count": null,
   "id": "7314a962-418f-4bb8-8dce-31176371a15a",
   "metadata": {},
   "outputs": [],
   "source": [
    "soup = BeautifulSoup(html.decode('utf-8'), 'html.parser')\n",
    "kw = soup.find('div',class_='detail-keyword').text.replace('\\t','').replace('\\r','').replace('\\n','').split('：')[1]\n",
    "title = soup.find('strong').text.replace('\\t','').replace('\\r','').replace('\\n','')\n",
    "contents = []\n",
    "for i in soup.find_all('p'):\n",
    "    contents.append(i.text.replace('\\t','').replace('\\r','').replace('\\n',''))\n",
    "    if i.img:\n",
    "        contents.append(i.img)"
   ]
  },
  {
   "cell_type": "code",
   "execution_count": 141,
   "id": "c671923a-d445-4b15-a6d1-8ac7a4ea411d",
   "metadata": {},
   "outputs": [
    {
     "name": "stdout",
     "output_type": "stream",
     "text": [
      "关键词:  金仓数据库客户端无法连接数据库\n",
      "金仓数据库客户端无法连接数据库\n",
      "故障原因：\n",
      "金仓数据库客户端无法连接数据库，一般从以下几个方面分析\n",
      "\n",
      "故障分析：\n",
      "1.服务端服务是否启动，linux检查命令， ps -ef|grep kingbase  查看是否存在kingbase 进程 （例如：） ，WIN\n",
      "<img alt=\"image.png\" src=\"https://bbs.kingbase.com.cn/data/attachment/chess/image/20200901/1598930725451567.png\"/>\n",
      "\n",
      "2.网络或者端口是否可以访问，金仓数据库默认端口为54321，如果客户端和服务端在不同的服务器上，首先要确保服务端防火墙没有禁止54321端口。一般linux系统开启防火墙后，默认是禁止54321端口的，需要关闭防火墙或者单独放开54321端口， 根据版本不同，linux系统关闭防火墙有一下两种方式, service iptables stop  （临时关闭，开机仍然会自启动），chkconfig iptables off （开机禁止启动）;   systemctl stop firewalld（临时关闭，开机仍然会自启动）， systemctl disable firewalld（开机禁止启动） 。 \n",
      "\n",
      "解决方案：\n",
      "解决了这两个问题，基本上就可以访问了。 另外遇到一些权限管理，部分主机访问被限制的情况，具体问题具体分析了\n",
      "解决了这两个问题，基本上就可以访问了。\n",
      " 另外遇到一些权限管理，部分主机访问被限制的情况，具体问题具体分析了\n"
     ]
    }
   ],
   "source": [
    "print('关键词: ',kw)\n",
    "print(title)\n",
    "for i in contents:\n",
    "    print(i)"
   ]
  },
  {
   "cell_type": "code",
   "execution_count": 153,
   "id": "c85f1b51-63fa-4ea5-8a39-830552497faa",
   "metadata": {},
   "outputs": [
    {
     "data": {
      "text/plain": [
       "<p>\n",
       "<span style='color:#666666;font-family:PingFangSC-Light, \"font-size:14px;background-color:#FFFFFF;'>1.服务端服务是否启动，linux检查命令， ps -ef|grep kingbase  查看是否存在kingbase 进程 （例如：</span><img alt=\"image.png\" src=\"https://bbs.kingbase.com.cn/data/attachment/chess/image/20200901/1598930725451567.png\"/><span style='color:#666666;font-family:PingFangSC-Light, \"font-size:14px;background-color:#FFFFFF;'>） ，WIN</span>\n",
       "</p>"
      ]
     },
     "execution_count": 153,
     "metadata": {},
     "output_type": "execute_result"
    }
   ],
   "source": [
    "soup.find_all('p')[4]"
   ]
  },
  {
   "cell_type": "code",
   "execution_count": null,
   "id": "5d2b985d-0f10-4ef4-aa15-882c2a2ab714",
   "metadata": {},
   "outputs": [],
   "source": [
    "soup.find_all('p')[4].find('span')"
   ]
  }
 ],
 "metadata": {
  "kernelspec": {
   "display_name": "Python 3 (ipykernel)",
   "language": "python",
   "name": "python3"
  },
  "language_info": {
   "codemirror_mode": {
    "name": "ipython",
    "version": 3
   },
   "file_extension": ".py",
   "mimetype": "text/x-python",
   "name": "python",
   "nbconvert_exporter": "python",
   "pygments_lexer": "ipython3",
   "version": "3.11.3"
  }
 },
 "nbformat": 4,
 "nbformat_minor": 5
}
