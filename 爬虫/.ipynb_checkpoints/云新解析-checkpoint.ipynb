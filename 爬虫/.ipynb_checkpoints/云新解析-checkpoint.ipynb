{
 "cells": [
  {
   "cell_type": "code",
   "execution_count": 1,
   "id": "2c4cae12-f43e-466b-bf74-31ecfa981960",
   "metadata": {
    "tags": []
   },
   "outputs": [],
   "source": [
    "import pickle\n",
    "with open('./yunxin.pkl', 'rb') as file:\n",
    "    datas = pickle.load(file)"
   ]
  },
  {
   "cell_type": "code",
   "execution_count": 2,
   "id": "71910780-c38b-449d-8833-8ba5f5138249",
   "metadata": {
    "tags": []
   },
   "outputs": [],
   "source": [
    "import html2text\n",
    "from tqdm import tqdm"
   ]
  },
  {
   "cell_type": "code",
   "execution_count": 3,
   "id": "5936705c-7e9d-4148-b60b-b3b891b6cf99",
   "metadata": {
    "tags": []
   },
   "outputs": [
    {
     "name": "stderr",
     "output_type": "stream",
     "text": [
      "11755it [02:05, 93.67it/s] \n"
     ]
    }
   ],
   "source": [
    "indexs = []\n",
    "for index, data in enumerate(tqdm(datas)):\n",
    "    try:\n",
    "        with open('./云新/{}.md'.format(index), 'w') as f:\n",
    "            text = html2text.html2text(data)\n",
    "            start_marker = '\\n\\n导入\\n\\n'\n",
    "            end_marker = '* * *\\n\\nKb.NoReply\\n\\n* * *\\n\\n'\n",
    "            start_index = text.index(start_marker) + len(start_marker)\n",
    "            end_index = text.index(end_marker)\n",
    "            extracted_content = text[start_index:end_index]\n",
    "            f.write('{}'.format(html2text.html2text(extracted_content)))\n",
    "    except:\n",
    "        indexs.append(index)"
   ]
  },
  {
   "cell_type": "code",
   "execution_count": 3,
   "id": "8fd04f73-12ca-4a8f-af2b-9b0466820fbc",
   "metadata": {
    "tags": []
   },
   "outputs": [],
   "source": [
    "text = html2text.html2text(datas[10000])\n",
    "start_marker = '\\n\\n导入\\n\\n'\n",
    "end_marker = '* * *\\n\\nKb.NoReply\\n\\n* * *\\n\\n'\n",
    "start_index = text.index(start_marker) + len(start_marker)\n",
    "end_index = text.index(end_marker)\n",
    "extracted_content = text[start_index:end_index]"
   ]
  },
  {
   "cell_type": "code",
   "execution_count": 4,
   "id": "b6880667-5a31-4570-904a-7d9771dc6add",
   "metadata": {
    "tags": []
   },
   "outputs": [],
   "source": [
    "with open('./{}.md'.format(10000), 'w') as f:\n",
    "    f.write('{}'.format(extracted_content))"
   ]
  },
  {
   "cell_type": "code",
   "execution_count": 26,
   "id": "ff1ff6a4-0deb-4bbd-b7a5-ab40bdc061f1",
   "metadata": {
    "tags": []
   },
   "outputs": [
    {
     "data": {
      "text/plain": [
       "'Kb.Keywords：SunServerX4-4\\n\\n**Sun Server X4-4:使用电源按钮正常关机**\\n\\n###  使用电源按钮正常关机\\n\\n  1. **快速按下并立即松开前面板上的电源按钮 [1]。**\\n\\n这会使启用高级配置与电源接口 (Advanced Configuration and Power Interface, ACPI)\\n功能的操作系统按正常顺序关闭。如果服务器运行的操作系统未启用 ACPI 功能，则服务器会立即关闭并进入备用电源模式。\\n\\n  \\n![image:图中显示了附有电源按钮标注数字的前面板。](https://docs.oracle.com/cd/E55042_01/html/E54123/figures/Pwr_buttn.jpg)\\n|\\n\\n标注\\n\\n|\\n\\n说明  \\n  \\n---|---  \\n  \\n1\\n\\n|\\n\\n电源按钮  \\n  \\n关闭主电源后，系统进入备用模式。在备用电源模式中，“正常”指示灯闪烁。\\n\\n  2. **要在备用电源模式下完全关闭服务器电源，请断开电源线与服务器的连接。**\\n\\n服务器将彻底关闭电源。\\n\\n**另请参见**\\n\\n  * [前面板功能部件](https://docs.oracle.com/cd/E55042_01/html/E54123/z400092a1045070.html#scrolltoc)\\n\\n  * [使用 Oracle ILOM CLI 正常关机](https://docs.oracle.com/cd/E55042_01/html/E54123/z40004d51299847.html#scrolltoc)\\n\\n  * [使用 Oracle ILOM Web 界面正常关机](https://docs.oracle.com/cd/E55042_01/html/E54123/z40004d51020171.html#scrolltoc)\\n\\n  * [使用电源按钮立即关机](https://docs.oracle.com/cd/E55042_01/html/E54123/gnhnr.html#scrolltoc)\\n\\nKb.By **刘彬** Kb.PostOn2021-12-19 14:54\\n\\n'"
      ]
     },
     "execution_count": 26,
     "metadata": {},
     "output_type": "execute_result"
    }
   ],
   "source": [
    "extracted_content"
   ]
  },
  {
   "cell_type": "code",
   "execution_count": null,
   "id": "da3c4c7b-0120-4c18-838f-2ec241e86bfc",
   "metadata": {},
   "outputs": [],
   "source": []
  }
 ],
 "metadata": {
  "kernelspec": {
   "display_name": "Python 3 (ipykernel)",
   "language": "python",
   "name": "python3"
  },
  "language_info": {
   "codemirror_mode": {
    "name": "ipython",
    "version": 3
   },
   "file_extension": ".py",
   "mimetype": "text/x-python",
   "name": "python",
   "nbconvert_exporter": "python",
   "pygments_lexer": "ipython3",
   "version": "3.11.3"
  }
 },
 "nbformat": 4,
 "nbformat_minor": 5
}
