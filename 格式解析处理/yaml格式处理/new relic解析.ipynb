{
 "cells": [
  {
   "cell_type": "code",
   "execution_count": 1,
   "metadata": {},
   "outputs": [],
   "source": [
    "import yaml\n",
    "import os\n",
    "import pandas as pd\n",
    "totalfiles = './newrelic-quickstarts/quickstarts/'"
   ]
  },
  {
   "cell_type": "code",
   "execution_count": 2,
   "metadata": {},
   "outputs": [
    {
     "name": "stderr",
     "output_type": "stream",
     "text": [
      "/home/weijunfei/anaconda3/lib/python3.7/site-packages/ipykernel_launcher.py:2: YAMLLoadWarning: calling yaml.load() without Loader=... is deprecated, as the default Loader is unsafe. Please read https://msg.pyyaml.org/load for full details.\n",
      "  \n"
     ]
    },
    {
     "data": {
      "text/plain": [
       "{'name': 'Name of this alert condition',\n",
       " 'details': 'Describe the purpose of this alert condition.\\nYou can use multiple lines.\\nTry to be as descriptive as possible and provide \"The Why\".\\n\\n',\n",
       " 'type': 'STATIC',\n",
       " 'nrql': {'query': 'FROM SystemSample SELECT average(cpuPercent) FACET entityName'},\n",
       " 'valueFunction': 'SINGLE_VALUE | SUM',\n",
       " 'terms': [{'priority': 'CRITICAL',\n",
       "   'operator': 'ABOVE | BELOW | EQUALS',\n",
       "   'threshold': 90,\n",
       "   'thresholdDuration': 600,\n",
       "   'thresholdOccurrences': 'ALL | AT_LEAST_ONCE'},\n",
       "  {'priority': 'WARNING',\n",
       "   'threshold': 80,\n",
       "   'operator': 'ABOVE | BELOW | EQUALS',\n",
       "   'thresholdDuration': 300,\n",
       "   'thresholdOccurrences': 'ALL | AT_LEAST_ONCE'}],\n",
       " 'expiration': {'closeViolationsOnExpiration': 'true | false',\n",
       "  'openViolationOnExpiration': 'true | false',\n",
       "  'expirationDuration': None},\n",
       " 'signal': {'aggregationWindow': 60,\n",
       "  'evaluationOffset': 3,\n",
       "  'fillOption': 'LAST_VALUE | NONE | STATIC',\n",
       "  'fillValue': None},\n",
       " 'runbookUrl': None,\n",
       " 'description': None,\n",
       " 'violationTimeLimitSeconds': 86400}"
      ]
     },
     "execution_count": 2,
     "metadata": {},
     "output_type": "execute_result"
    }
   ],
   "source": [
    "with open('./newrelic-quickstarts/_template/alerts/static-alert.yml','r') as f:\n",
    "    data = yaml.load(f)\n",
    "data"
   ]
  },
  {
   "cell_type": "code",
   "execution_count": 3,
   "metadata": {},
   "outputs": [
    {
     "name": "stderr",
     "output_type": "stream",
     "text": [
      "/home/weijunfei/anaconda3/lib/python3.7/site-packages/ipykernel_launcher.py:2: YAMLLoadWarning: calling yaml.load() without Loader=... is deprecated, as the default Loader is unsafe. Please read https://msg.pyyaml.org/load for full details.\n",
      "  \n"
     ]
    },
    {
     "data": {
      "text/plain": [
       "{'name': 'Name of this alert condition',\n",
       " 'details': 'Describe the purpose of this alert condition.\\nYou can use multiple lines.\\nTry to be as descriptive as possible and provide \"The Why\".\\n\\n',\n",
       " 'type': 'BASELINE',\n",
       " 'nrql': {'query': 'FROM Metric SELECT average(metric.name) FACET entity.name'},\n",
       " 'baselineDirection': 'LOWER_ONLY | UPPER_AND_LOWER | UPPER_ONLY',\n",
       " 'terms': [{'priority': 'CRITICAL',\n",
       "   'threshold': 3,\n",
       "   'thresholdDuration': 60,\n",
       "   'thresholdOccurrences': 'ALL | AT_LEAST_ONCE'},\n",
       "  {'priority': 'WARNING',\n",
       "   'threshold': 1,\n",
       "   'thresholdDuration': 300,\n",
       "   'thresholdOccurrences': 'ALL | AT_LEAST_ONCE'}],\n",
       " 'expiration': {'closeViolationsOnExpiration': 'true | false',\n",
       "  'openViolationOnExpiration': 'true | false',\n",
       "  'expirationDuration': None},\n",
       " 'signal': {'evaluationOffset': 3,\n",
       "  'fillOption': 'LAST_VALUE | NONE | STATIC',\n",
       "  'fillValue': None},\n",
       " 'runbookUrl': None,\n",
       " 'description': None,\n",
       " 'violationTimeLimitSeconds': 86400}"
      ]
     },
     "execution_count": 3,
     "metadata": {},
     "output_type": "execute_result"
    }
   ],
   "source": [
    "with open('./newrelic-quickstarts/_template/alerts/baseline-alert.yml','r') as f:\n",
    "    data = yaml.load(f)\n",
    "data"
   ]
  },
  {
   "cell_type": "markdown",
   "metadata": {},
   "source": [
    "## 解析文件夹\n",
    "选取含有alert文件的文件名"
   ]
  },
  {
   "cell_type": "code",
   "execution_count": 4,
   "metadata": {},
   "outputs": [],
   "source": [
    "def getpath(pathname, filename):\n",
    "    return os.path.join(pathname, filename)"
   ]
  },
  {
   "cell_type": "markdown",
   "metadata": {},
   "source": [
    "如果 'alert' 在 文件中，那么就返回含'alert'的文件名；\\\n",
    "如果 'alert' 不在 文件中，同时已经到最后一层，返回None;\\\n",
    "除此之外（即还未到最后一层），那就到下一层继续上述判断，通过递归的方式"
   ]
  },
  {
   "cell_type": "code",
   "execution_count": 5,
   "metadata": {},
   "outputs": [],
   "source": [
    "def getalert(pathname, filename):\n",
    "    num = []\n",
    "    config = ['config.yml', 'config.yaml']\n",
    "    condition1 = [i for i in config if i in os.listdir(getpath(pathname, filename))]\n",
    "    if len(condition1) != 0  and 'alerts' not in os.listdir(getpath(pathname, filename)) :\n",
    "        return None\n",
    "    elif len(condition1) != 0 and 'alerts' in os.listdir(getpath(pathname, filename)) :\n",
    "        return getpath(getpath(pathname, filename), 'alerts')\n",
    "    else:\n",
    "        for i in os.listdir(getpath(pathname, filename)):\n",
    "            num.append(getalert(getpath(pathname, filename), i))\n",
    "        return num\n",
    "        \n",
    "# print(getalert(totalfiles, 'android')) # 一级，不含有alerts\n",
    "# print(getalert(totalfiles, 'fastly')) # 一级，含有alerts\n",
    "# print(getalert(totalfiles, 'golang')) # 多级，含有alerts\n",
    "# print(getalert(totalfiles, 'ads')) # 多级，不含有alerts"
   ]
  },
  {
   "cell_type": "code",
   "execution_count": 6,
   "metadata": {},
   "outputs": [],
   "source": [
    "# 将所有含alerts的文件路径汇总，但是里面存在None值\n",
    "filenames = os.listdir(totalfiles)\n",
    "hasalerts = []\n",
    "for i in filenames:\n",
    "    hasalerts.append(getalert(totalfiles, i))"
   ]
  },
  {
   "cell_type": "markdown",
   "metadata": {},
   "source": [
    "去除None值"
   ]
  },
  {
   "cell_type": "code",
   "execution_count": 7,
   "metadata": {},
   "outputs": [],
   "source": [
    "nums = []\n",
    "for i in hasalerts:\n",
    "    if isinstance(i,list):\n",
    "        if any(i):\n",
    "            nums.append([j for j in i if j != None])\n",
    "       \n",
    "    else:\n",
    "        if not pd.isnull(i):\n",
    "            nums.append([i])       "
   ]
  },
  {
   "cell_type": "code",
   "execution_count": 8,
   "metadata": {},
   "outputs": [],
   "source": [
    "nums = [j for i in nums for j in i]\n",
    "finalalerts = []\n",
    "for i in nums:\n",
    "    if isinstance(i, list):\n",
    "        if all(i):\n",
    "            finalalerts.append([j for j in i])\n",
    "    else:\n",
    "        finalalerts.append([i])"
   ]
  },
  {
   "cell_type": "code",
   "execution_count": 9,
   "metadata": {},
   "outputs": [],
   "source": [
    "finalalertsfilepath = [j for i in finalalerts for j in i]"
   ]
  },
  {
   "cell_type": "code",
   "execution_count": 10,
   "metadata": {},
   "outputs": [
    {
     "data": {
      "text/plain": [
       "184"
      ]
     },
     "execution_count": 10,
     "metadata": {},
     "output_type": "execute_result"
    }
   ],
   "source": [
    "len(finalalertsfilepath)"
   ]
  },
  {
   "cell_type": "markdown",
   "metadata": {},
   "source": [
    "## 读取yaml文件"
   ]
  },
  {
   "cell_type": "code",
   "execution_count": 11,
   "metadata": {},
   "outputs": [],
   "source": [
    "import glob\n",
    "files = glob.glob(finalalertsfilepath[0]+'/*.yml')"
   ]
  },
  {
   "cell_type": "code",
   "execution_count": 12,
   "metadata": {},
   "outputs": [
    {
     "data": {
      "text/plain": [
       "['./newrelic-quickstarts/quickstarts/c/alerts/CPUUtilization.yml',\n",
       " './newrelic-quickstarts/quickstarts/c/alerts/HighMemoryUsage.yml',\n",
       " './newrelic-quickstarts/quickstarts/c/alerts/LowApdexScore.yml',\n",
       " './newrelic-quickstarts/quickstarts/c/alerts/TransactionError.yml']"
      ]
     },
     "execution_count": 12,
     "metadata": {},
     "output_type": "execute_result"
    }
   ],
   "source": [
    "files"
   ]
  },
  {
   "cell_type": "code",
   "execution_count": 13,
   "metadata": {},
   "outputs": [
    {
     "data": {
      "text/plain": [
       "[{'name': 'High CPU Utilization',\n",
       "  'details': 'This alert is triggered when the CPU Utilization is above 90%.\\n',\n",
       "  'type': 'STATIC',\n",
       "  'nrql': {'query': \"SELECT rate(sum(apm.service.cpu.usertime.utilization), 1 second) * 100 as cpuUsage FROM Metric WHERE appName like '%'\"},\n",
       "  'valueFunction': 'SINGLE_VALUE',\n",
       "  'terms': [{'priority': 'CRITICAL',\n",
       "    'operator': 'ABOVE',\n",
       "    'threshold': 90,\n",
       "    'thresholdDuration': 300,\n",
       "    'thresholdOccurrences': 'ALL'}],\n",
       "  'violationTimeLimitSeconds': 86400}]"
      ]
     },
     "execution_count": 13,
     "metadata": {},
     "output_type": "execute_result"
    }
   ],
   "source": [
    "# 单个文件\n",
    "f = open(files[0], 'r')\n",
    "data = yaml.load_all(f, Loader=yaml.FullLoader)\n",
    "resList = []\n",
    "for doc in data:\n",
    "    resList.append(doc)\n",
    "[i for i in resList if not i == None]"
   ]
  },
  {
   "cell_type": "markdown",
   "metadata": {},
   "source": [
    "### 读取数据"
   ]
  },
  {
   "cell_type": "code",
   "execution_count": 14,
   "metadata": {},
   "outputs": [
    {
     "data": {
      "text/plain": [
       "[{'name': 'High CPU Utilization',\n",
       "  'details': 'This alert is triggered when the CPU Utilization is above 90%.\\n',\n",
       "  'type': 'STATIC',\n",
       "  'nrql': {'query': \"SELECT rate(sum(apm.service.cpu.usertime.utilization), 1 second) * 100 as cpuUsage FROM Metric WHERE appName like '%'\"},\n",
       "  'valueFunction': 'SINGLE_VALUE',\n",
       "  'terms': [{'priority': 'CRITICAL',\n",
       "    'operator': 'ABOVE',\n",
       "    'threshold': 90,\n",
       "    'thresholdDuration': 300,\n",
       "    'thresholdOccurrences': 'ALL'}],\n",
       "  'violationTimeLimitSeconds': 86400},\n",
       " {'name': 'Memory Usage',\n",
       "  'details': 'This alert is triggered when Memory usage is above 90%\\n',\n",
       "  'type': 'STATIC',\n",
       "  'nrql': {'query': 'SELECT average(memoryUsedBytes/memoryTotalBytes) * 100 FROM SystemSample'},\n",
       "  'valueFunction': 'SINGLE_VALUE',\n",
       "  'terms': [{'priority': 'CRITICAL',\n",
       "    'operator': 'ABOVE',\n",
       "    'threshold': 90,\n",
       "    'thresholdDuration': 300,\n",
       "    'thresholdOccurrences': 'ALL'}],\n",
       "  'violationTimeLimitSeconds': 86400},\n",
       " {'name': 'Apdex Score',\n",
       "  'details': 'This alert is triggered when the Apdex score is below 0.5 for 5 minutes\\n',\n",
       "  'type': 'STATIC',\n",
       "  'nrql': {'query': \"SELECT apdex(duration, t: 0.5) FROM Transaction WHERE appName like '%'\"},\n",
       "  'valueFunction': 'SINGLE_VALUE',\n",
       "  'terms': [{'priority': 'CRITICAL',\n",
       "    'operator': 'BELOW',\n",
       "    'threshold': 0.5,\n",
       "    'thresholdDuration': 300,\n",
       "    'thresholdOccurrences': 'ALL'}],\n",
       "  'violationTimeLimitSeconds': 86400},\n",
       " {'name': 'Transaction Errors',\n",
       "  'details': 'This alert is triggered when the the transactions fail more than 10% of the time in 5 minutes.\\n',\n",
       "  'type': 'STATIC',\n",
       "  'nrql': {'query': \"SELECT count(apm.service.error.count) / count(apm.service.transaction.duration) * 100 as 'Web errors' FROM Metric WHERE appName like '%' AND (transactionType = 'Web')\"},\n",
       "  'valueFunction': 'SINGLE_VALUE',\n",
       "  'terms': [{'priority': 'CRITICAL',\n",
       "    'operator': 'ABOVE',\n",
       "    'threshold': 10,\n",
       "    'thresholdDuration': 300,\n",
       "    'thresholdOccurrences': 'ALL'}],\n",
       "  'violationTimeLimitSeconds': 86400}]"
      ]
     },
     "execution_count": 14,
     "metadata": {},
     "output_type": "execute_result"
    }
   ],
   "source": [
    "def readyaml(file):\n",
    "    f = open(file, 'r')\n",
    "    datas = yaml.load_all(f, Loader = yaml.FullLoader)\n",
    "    return [i for i in [doc for doc in datas] if not i == None]\n",
    "[j for i in [readyaml(file) for file in files] for j in i]"
   ]
  },
  {
   "cell_type": "markdown",
   "metadata": {},
   "source": [
    "### 处理数据"
   ]
  },
  {
   "cell_type": "code",
   "execution_count": 15,
   "metadata": {},
   "outputs": [
    {
     "data": {
      "text/plain": [
       "{'name': 'High CPU Utilization',\n",
       " 'details': 'This alert is triggered when the CPU Utilization is above 90%.\\n',\n",
       " 'type': 'STATIC',\n",
       " 'nrql_query': \"SELECT rate(sum(apm.service.cpu.usertime.utilization), 1 second) * 100 as cpuUsage FROM Metric WHERE appName like '%'\",\n",
       " 'valueFunction': 'SINGLE_VALUE',\n",
       " 'terms_critical_priority': 'CRITICAL',\n",
       " 'terms_critical_operator': 'ABOVE',\n",
       " 'terms_critical_threshold': 90,\n",
       " 'terms_critical_thresholdDuration': 300,\n",
       " 'terms_critical_thresholdOccurrences': 'ALL',\n",
       " 'violationTimeLimitSeconds': 86400}"
      ]
     },
     "execution_count": 15,
     "metadata": {},
     "output_type": "execute_result"
    }
   ],
   "source": [
    "def handledata(results):\n",
    "    results1 = {}\n",
    "    for keys,values in results.items():\n",
    "        if isinstance(values, dict):\n",
    "            for key,value in values.items():\n",
    "                results1['{}_{}'.format(keys, key)] = value\n",
    "        elif isinstance(values, list):\n",
    "            for value in values:\n",
    "                if isinstance(value, dict):\n",
    "                    if 'priority' in value.keys():\n",
    "                        if value['priority'] == 'CRITICAL':\n",
    "                            for subkey,subvalue in value.items():\n",
    "                                results1['{}_{}_{}'.format(keys, 'critical', subkey)] = subvalue\n",
    "                        elif value['priority'] == 'WARNING':\n",
    "                            for subkey,subvalue in value.items():\n",
    "                                results1['{}_{}_{}'.format(keys, 'WARNING', subkey)] = subvalue            \n",
    "                else:\n",
    "                    print(value)\n",
    "        else:\n",
    "            results1[keys] = values\n",
    "    return results1\n",
    "results = readyaml(files[0])[0]\n",
    "handledata(results)"
   ]
  },
  {
   "cell_type": "markdown",
   "metadata": {},
   "source": [
    "### 汇总数据"
   ]
  },
  {
   "cell_type": "code",
   "execution_count": 16,
   "metadata": {},
   "outputs": [],
   "source": [
    "results = []\n",
    "for result in [j for i in [readyaml(file) for file in files] for j in i]:\n",
    "    results.append(handledata(result))"
   ]
  },
  {
   "cell_type": "code",
   "execution_count": 36,
   "metadata": {},
   "outputs": [],
   "source": [
    "def getdata(final):\n",
    "    files = glob.glob(final+'/*.yml')\n",
    "    addname = []\n",
    "    for file in files:\n",
    "        origin = readyaml(file)\n",
    "        for i in origin:\n",
    "            i['filename'] = file.split('/',3)[-1]\n",
    "        addname.append(origin)\n",
    "        \n",
    "    results = []\n",
    "    for result in [j for i in addname for j in i]:\n",
    "        results.append(handledata(result))\n",
    "    return results"
   ]
  },
  {
   "cell_type": "code",
   "execution_count": 37,
   "metadata": {
    "tags": []
   },
   "outputs": [
    {
     "data": {
      "text/plain": [
       "561"
      ]
     },
     "execution_count": 37,
     "metadata": {},
     "output_type": "execute_result"
    }
   ],
   "source": [
    "finals = [getdata(final) for final in finalalertsfilepath]\n",
    "len([j for i in finals for j in i])"
   ]
  },
  {
   "cell_type": "code",
   "execution_count": 38,
   "metadata": {},
   "outputs": [],
   "source": [
    "data = pd.DataFrame([j for i in finals for j in i])"
   ]
  },
  {
   "cell_type": "code",
   "execution_count": 39,
   "metadata": {},
   "outputs": [],
   "source": [
    "data.to_excel('./new relic.xlsx', index = False)"
   ]
  },
  {
   "cell_type": "code",
   "execution_count": 40,
   "metadata": {},
   "outputs": [
    {
     "data": {
      "text/plain": [
       "Index(['name', 'details', 'type', 'nrql_query', 'valueFunction',\n",
       "       'terms_critical_priority', 'terms_critical_operator',\n",
       "       'terms_critical_threshold', 'terms_critical_thresholdDuration',\n",
       "       'terms_critical_thresholdOccurrences', 'violationTimeLimitSeconds',\n",
       "       'filename', 'terms_WARNING_priority', 'terms_WARNING_operator',\n",
       "       'terms_WARNING_threshold', 'terms_WARNING_thresholdDuration',\n",
       "       'terms_WARNING_thresholdOccurrences', 'signal_aggregationWindow',\n",
       "       'signal_evaluationOffset', 'signal_fillOption', 'signal_fillValue',\n",
       "       'baselineDirection', 'expiration_closeViolationsOnExpiration',\n",
       "       'expiration_openViolationOnExpiration', 'expiration_expirationDuration',\n",
       "       'runbookUrl', 'description', 'expectedGroups'],\n",
       "      dtype='object')"
      ]
     },
     "execution_count": 40,
     "metadata": {},
     "output_type": "execute_result"
    }
   ],
   "source": [
    "data.columns"
   ]
  },
  {
   "cell_type": "code",
   "execution_count": null,
   "metadata": {},
   "outputs": [],
   "source": []
  }
 ],
 "metadata": {
  "kernelspec": {
   "display_name": "Python 3",
   "language": "python",
   "name": "python3"
  },
  "language_info": {
   "codemirror_mode": {
    "name": "ipython",
    "version": 3
   },
   "file_extension": ".py",
   "mimetype": "text/x-python",
   "name": "python",
   "nbconvert_exporter": "python",
   "pygments_lexer": "ipython3",
   "version": "3.7.6"
  }
 },
 "nbformat": 4,
 "nbformat_minor": 4
}
