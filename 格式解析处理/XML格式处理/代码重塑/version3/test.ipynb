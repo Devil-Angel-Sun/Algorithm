{
 "cells": [
  {
   "cell_type": "code",
   "execution_count": 8,
   "metadata": {},
   "outputs": [
    {
     "name": "stdout",
     "output_type": "stream",
     "text": [
      "data写入数据成功\n",
      "---------------\n",
      "读取的数据：\n",
      "{'version': '5.0', 'group': 'SNMP', 'name': 'LINUX_SNMP', 'template': 'LINUX_SNMP', 'description': 'the template of snmp in linux', 'applications': ['Network Interface', 'Storage', 'CPU', 'Memory']}\n",
      "写入\n"
     ]
    }
   ],
   "source": [
    "%run creat_xml.py"
   ]
  },
  {
   "cell_type": "code",
   "execution_count": null,
   "metadata": {},
   "outputs": [],
   "source": []
  }
 ],
 "metadata": {
  "kernelspec": {
   "display_name": "Python 3",
   "language": "python",
   "name": "python3"
  },
  "language_info": {
   "codemirror_mode": {
    "name": "ipython",
    "version": 3
   },
   "file_extension": ".py",
   "mimetype": "text/x-python",
   "name": "python",
   "nbconvert_exporter": "python",
   "pygments_lexer": "ipython3",
   "version": "3.7.6"
  }
 },
 "nbformat": 4,
 "nbformat_minor": 4
}
