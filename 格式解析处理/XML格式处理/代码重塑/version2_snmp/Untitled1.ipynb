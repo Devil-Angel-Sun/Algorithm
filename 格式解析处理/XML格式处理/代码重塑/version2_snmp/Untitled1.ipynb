{
 "cells": [
  {
   "cell_type": "code",
   "execution_count": 1,
   "metadata": {},
   "outputs": [],
   "source": [
    "import xml.etree.ElementTree as ET\n",
    "import xlrd \n",
    "from handle_data import handle_data\n",
    "from handle_application import handle_application"
   ]
  },
  {
   "cell_type": "code",
   "execution_count": 2,
   "metadata": {},
   "outputs": [
    {
     "name": "stdout",
     "output_type": "stream",
     "text": [
      "['id', 'itname', 'key', 'value_type', 'units', 'description', 'application', 'type', 'snmp_oid', 'master_item', 'params']\n"
     ]
    }
   ],
   "source": [
    "data1 = xlrd.open_workbook('zabbix_system.xlsx')\n",
    "table = data1.sheets()[3]\n",
    "new_tables = handle_data.handle_data(table)"
   ]
  },
  {
   "cell_type": "code",
   "execution_count": 3,
   "metadata": {},
   "outputs": [],
   "source": [
    "applications = ['Disk', 'General', 'Ping', 'Network', 'Memory', 'CPU', 'Filesystems']\n",
    "infomations = ['5.0','Templates','DC_snmp_system','DC_snmp_system','the system in snmp']"
   ]
  },
  {
   "cell_type": "code",
   "execution_count": 4,
   "metadata": {},
   "outputs": [],
   "source": [
    "def create_xml(xml_file, tables, applications, infomation):\n",
    "    \"\"\"\n",
    "    将excel表格中的内容处理成xml格式\n",
    "    Args:\n",
    "        xml_file: 待输出的xml文件名，一个空的xml格式\n",
    "        tables:需要转为xml格式的表格，列表嵌套字典格式\n",
    "        applications:唯一值的application集，列表格式\n",
    "        infomation:基础信息，包含version,主机组名称，模板信息等，列表格式\n",
    "        \n",
    "    Return:\n",
    "        \n",
    "    \"\"\"\n",
    "    with open(xml_file, 'w') as f:\n",
    "        f.write('<?xml version=\"1.0\" encoding=\"UTF-8\"?>\\n')\n",
    "        f.write('<zabbix_export>\\n')\n",
    "        f.write('</zabbix_export>\\n')\n",
    "    \n",
    "    #使用ET模块对xml文件进行解析\n",
    "    tree = ET.parse(xml_file)\n",
    "    root = tree.getroot()\n",
    "    \n",
    "    # 创建版本标签\n",
    "    sub_version = ET.SubElement(root,'version')\n",
    "    sub_version.text = infomation[0]\n",
    "    \n",
    "    #创建groups标签 -- 模板来自的主机组\n",
    "    sub_groups = ET.SubElement(root,'groups')\n",
    "    groups_group = ET.SubElement(sub_groups, 'group')\n",
    "    group_name = ET.SubElement(groups_group,'name')\n",
    "    group_name.text = infomation[1]\n",
    "    \n",
    "    # 创建模板\n",
    "    sub_templates = ET.SubElement(root,'templates')\n",
    "    templates_templete = ET.SubElement(sub_templates, 'template')\n",
    "    template_templete = ET.SubElement(templates_templete, 'template')\n",
    "    template_templete.text = infomation[2] # 输入模板名称\n",
    "    template_name = ET.SubElement(templates_templete, 'name')\n",
    "    template_name.text = infomation[3] #输入模板的可见的名称\n",
    "    template_description = ET.SubElement(templates_templete, 'description')\n",
    "    template_description.text = infomation[4] # 输入模板的描述\n",
    "    \n",
    "    #创建模板中的元素 -- group\n",
    "    templates_groups = ET.SubElement(templates_templete, 'groups')\n",
    "    groups_group = ET.SubElement(templates_groups, 'group')\n",
    "    group_name = ET.SubElement(groups_group, 'name')\n",
    "    group_name.text = 'Templates'\n",
    "    \n",
    "    # 创建模板中的元素 -- application\n",
    "    templates_applications = ET.SubElement(templates_templete, 'applications')\n",
    "    for i in applications:\n",
    "        application_application = ET.SubElement(templates_applications, 'application')\n",
    "        application_name = ET.SubElement(application_application, 'name')\n",
    "        application_name.text = i   # 这里只需要修改文本即可\n",
    "        \n",
    "    \n",
    "    # 创建模板中的元素 -- items\n",
    "    templiates_items = ET.SubElement(templates_templete, 'items')\n",
    "    for i in tables:\n",
    "        items_item = ET.SubElement(templiates_items, 'item')\n",
    "        item_name = ET.SubElement(items_item, 'name')\n",
    "        item_name.text = i['itname']   # itname\n",
    "        item_key = ET.SubElement(items_item, 'key')\n",
    "        item_key.text = i['key']    # key_ \n",
    "        if isinstance('value_type', type(i.keys())):\n",
    "            item_value_type = ET.SubElement(items_item, 'value_type')\n",
    "            item_value_type.text = i['value_type']  # 数值类型\n",
    "        else:\n",
    "            pass\n",
    "        if isinstance('units', type(i.keys())):\n",
    "            item_units = ET.SubElement(items_item, 'units')\n",
    "            item_units.text = i['units'] # 数值单位\n",
    "        else:\n",
    "            pass\n",
    "        item_description = ET.SubElement(items_item, 'description')\n",
    "        item_description.text = i['description'] #描述\n",
    "        item_applications = ET.SubElement(items_item, 'applications')\n",
    "        applications_application = ET.SubElement(item_applications, 'application')\n",
    "        application_name = ET.SubElement(applications_application, 'name')\n",
    "        application_name.text = i['application']   # 应用集    \n",
    "        \n",
    "        item_type = ET.SubElement(items_item, 'type')\n",
    "        item_type.text = i['type']\n",
    "        if i['type'] == 'SNMP_AGENT':\n",
    "            item_snmp = ET.SubElement(items_item, 'snmp_oid')\n",
    "            item_snmp.text = i['snmp_oid']\n",
    "        elif i['type'] == 'DEPENDENT':\n",
    "            item_master = ET.SubElement(items_item, 'master_item')\n",
    "            master_key = ET.SubElement(item_master, 'key')\n",
    "            master_key.text = i['master_item']\n",
    "        elif i['type'] == 'CALCULATED':\n",
    "            item_params = ET.SubElement(items_item, 'params')\n",
    "            item_params.text = i['params']\n",
    "        \n",
    "    #sub_value_maps = ET.SubElement(root,'value_maps')\n",
    "    \n",
    "    #上面创建的内容都在一行上面显示，不利于我们的查看，对标签执行美化，标签前面添加是的的缩进\n",
    "    prettyXml(root, '   ', '\\n')            #执行美化方法\n",
    "    #ET.dump(root)                 #显示出美化后的XML内容\n",
    "\n",
    "    tree.write(xml_file)                   #将修改写入本地xml文件"
   ]
  },
  {
   "cell_type": "code",
   "execution_count": 5,
   "metadata": {},
   "outputs": [],
   "source": [
    "def prettyXml(element, indent, newline, level = 0): \n",
    "    \"\"\"\n",
    "    对标签执行美化，为标签添加缩进\n",
    "    Args:\n",
    "        element:craet_xml中的Elment类\n",
    "        indent:用于缩进\n",
    "        newline:用于换行\n",
    "        level:\n",
    "        \n",
    "    \"\"\"\n",
    "    # 判断element是否有子元素\n",
    "    if element:  \n",
    "        if element.text == None or element.text.isspace(): # 如果element的text没有内容\n",
    "            element.text = newline + indent * (level + 1)\n",
    "        else:\n",
    "            element.text = newline + indent * (level + 1) + element.text.strip() + newline + indent * (level + 1)\n",
    "\n",
    "    # 将elemnt转成list\n",
    "    temp = list(element) \n",
    "    for subelement in temp:\n",
    "        if temp.index(subelement) < (len(temp) - 1): # 如果不是list的最后一个元素，说明下一个行是同级别元素的起始，缩进应一致\n",
    "            subelement.tail = newline + indent * (level + 1)\n",
    "        else:  # 如果是list的最后一个元素， 说明下一行是母元素的结束，缩进应该少一个\n",
    "            subelement.tail = newline + indent * level\n",
    "        prettyXml(subelement, indent, newline, level = level + 1) # 对子元素进行递归操作"
   ]
  },
  {
   "cell_type": "code",
   "execution_count": 6,
   "metadata": {},
   "outputs": [],
   "source": [
    "xml_file = 'xml_file.xml'\n",
    "create_xml(xml_file,new_tables, applications, infomations)"
   ]
  },
  {
   "cell_type": "code",
   "execution_count": null,
   "metadata": {},
   "outputs": [],
   "source": []
  }
 ],
 "metadata": {
  "kernelspec": {
   "display_name": "Python 3",
   "language": "python",
   "name": "python3"
  },
  "language_info": {
   "codemirror_mode": {
    "name": "ipython",
    "version": 3
   },
   "file_extension": ".py",
   "mimetype": "text/x-python",
   "name": "python",
   "nbconvert_exporter": "python",
   "pygments_lexer": "ipython3",
   "version": "3.7.6"
  }
 },
 "nbformat": 4,
 "nbformat_minor": 4
}
