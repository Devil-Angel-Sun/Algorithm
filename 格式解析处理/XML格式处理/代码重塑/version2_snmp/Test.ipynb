{
 "cells": [
  {
   "cell_type": "code",
   "execution_count": 1,
   "metadata": {},
   "outputs": [],
   "source": [
    "import main"
   ]
  },
  {
   "cell_type": "code",
   "execution_count": 2,
   "metadata": {},
   "outputs": [
    {
     "name": "stdout",
     "output_type": "stream",
     "text": [
      "['id', 'itname', 'key', 'value_type', 'units', 'description', 'application', 'type', 'snmp_oid', 'master_item', 'params']\n"
     ]
    }
   ],
   "source": [
    "infomations = ['5.0','Templates','DC_SNMP_system','DC_SNMP_system','关于snmp的系统指标']\n",
    "main.xml('/home/weijunfei/XML格式处理/zabbix_system.xlsx',3,'/home/weijunfei/XML格式处理/xml_data/DC_SNMP_system.xml', infomations)"
   ]
  },
  {
   "cell_type": "code",
   "execution_count": null,
   "metadata": {},
   "outputs": [],
   "source": []
  }
 ],
 "metadata": {
  "kernelspec": {
   "display_name": "Python 3",
   "language": "python",
   "name": "python3"
  },
  "language_info": {
   "codemirror_mode": {
    "name": "ipython",
    "version": 3
   },
   "file_extension": ".py",
   "mimetype": "text/x-python",
   "name": "python",
   "nbconvert_exporter": "python",
   "pygments_lexer": "ipython3",
   "version": "3.7.6"
  }
 },
 "nbformat": 4,
 "nbformat_minor": 4
}
