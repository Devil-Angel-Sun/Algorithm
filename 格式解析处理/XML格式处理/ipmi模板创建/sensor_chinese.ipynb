{
 "cells": [
  {
   "cell_type": "code",
   "execution_count": 1,
   "metadata": {},
   "outputs": [],
   "source": [
    "import pandas as pd"
   ]
  },
  {
   "cell_type": "code",
   "execution_count": 2,
   "metadata": {},
   "outputs": [],
   "source": [
    "sensor = {'add_in_card': '附加卡',\n",
    "         'battery': '电池',\n",
    "         'boot_error': '启动错误',\n",
    "          'button':'按钮',\n",
    "          'cable_interconnect':' 电缆/互连',\n",
    "          'critical_interrupt':'紧急中断',\n",
    "          'chip_set':'芯片组',\n",
    "          'cooling_device':'冷却设备',\n",
    "          'drive_slot':'驱动器插糟/托架',\n",
    "          'event_logging_disabled':'已禁用事件日志',\n",
    "          'entity_presence':'实体',\n",
    "          'fan': '风扇',\n",
    "          'fan_status':'风扇',\n",
    "          'management_subsystem_health':'子系统健康',\n",
    "          'memory':'内存',\n",
    "          'microcontroller_coprocessor':' 微控制器/微处理器',\n",
    "          'module_board':'模块/电路板',\n",
    "          'other_units_based_sensor':'其他',\n",
    "          'power_supply':'电源',\n",
    "          'ps_status':'电源',\n",
    "          'processor':'处理器',\n",
    "          'slot_connector':'插槽/连接器',\n",
    "          'system_acpi_power_state':'',\n",
    "          'system_boot_initiated':'系统引导启动',\n",
    "          'system_event':'系统事件日志',\n",
    "          'system_firmware_progress':'系统固件',\n",
    "          'temperature':'温度',\n",
    "          'temperature_status':'温度',\n",
    "          'terminator':'',\n",
    "          'voltage':'电压',\n",
    "          'voltage_state':'电压',\n",
    "          'watchdog_2':'看门狗',\n",
    "         'chassis_intru':'物理健康',\n",
    "          'physical_security': '物理健康'\n",
    "         }"
   ]
  },
  {
   "cell_type": "code",
   "execution_count": 3,
   "metadata": {},
   "outputs": [],
   "source": [
    "sensor = pd.DataFrame(sensor, index = [0])\n",
    "sensor.to_json('./sensor.json',orient = 'index')"
   ]
  },
  {
   "cell_type": "code",
   "execution_count": 4,
   "metadata": {},
   "outputs": [],
   "source": [
    "sensor = pd.read_json('./sensor.json',orient = 'index')\n",
    "sensor = sensor.to_dict(orient = 'list')"
   ]
  }
 ],
 "metadata": {
  "kernelspec": {
   "display_name": "Python 3",
   "language": "python",
   "name": "python3"
  },
  "language_info": {
   "codemirror_mode": {
    "name": "ipython",
    "version": 3
   },
   "file_extension": ".py",
   "mimetype": "text/x-python",
   "name": "python",
   "nbconvert_exporter": "python",
   "pygments_lexer": "ipython3",
   "version": "3.7.6"
  }
 },
 "nbformat": 4,
 "nbformat_minor": 4
}
