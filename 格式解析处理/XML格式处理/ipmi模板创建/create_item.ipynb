{
 "cells": [
  {
   "cell_type": "code",
   "execution_count": 1,
   "metadata": {},
   "outputs": [],
   "source": [
    "import pandas as pd\n",
    "from xml.dom import minidom\n",
    "from pyzabbix import ZabbixAPI\n",
    "import json\n",
    "zapi = ZabbixAPI('http://192.168.50.100:18080')\n",
    "zapi.login('Admin','zabbix')"
   ]
  },
  {
   "cell_type": "code",
   "execution_count": 2,
   "metadata": {},
   "outputs": [],
   "source": [
    "def create_element(text):\n",
    "    return dom.createElement(text)"
   ]
  },
  {
   "cell_type": "code",
   "execution_count": 3,
   "metadata": {},
   "outputs": [],
   "source": [
    "def create_text(text):\n",
    "    return dom.createTextNode(text)"
   ]
  },
  {
   "cell_type": "code",
   "execution_count": 4,
   "metadata": {},
   "outputs": [
    {
     "data": {
      "text/plain": [
       "<DOM Element: zabbix_export at 0x7fb6783560f0>"
      ]
     },
     "execution_count": 4,
     "metadata": {},
     "output_type": "execute_result"
    }
   ],
   "source": [
    "dom = minidom.Document()\n",
    "root_node = create_element('zabbix_export')\n",
    "dom.appendChild(root_node)"
   ]
  },
  {
   "cell_type": "code",
   "execution_count": 5,
   "metadata": {},
   "outputs": [
    {
     "data": {
      "text/plain": [
       "<DOM Text node \"'IPMI'\">"
      ]
     },
     "execution_count": 5,
     "metadata": {},
     "output_type": "execute_result"
    }
   ],
   "source": [
    "root_node.appendChild(create_element('version')).appendChild(create_text('5.0'))\n",
    "root_node.appendChild(create_element('groups')).appendChild(create_element('group')).appendChild(create_element('name')).appendChild(create_text('IPMI'))\n",
    "template = root_node.appendChild(create_element('templates')).appendChild(create_element('template'))\n",
    "template.appendChild(create_element('template')).appendChild(create_text('Template ipmi_get of IPMI'))\n",
    "template.appendChild(create_element('name')).appendChild(create_text('Template ipmi_get of IPMI'))\n",
    "template.appendChild(create_element('groups')).appendChild(create_element('group')).appendChild(create_element('name')).appendChild(create_text('IPMI'))"
   ]
  },
  {
   "cell_type": "code",
   "execution_count": 6,
   "metadata": {},
   "outputs": [
    {
     "data": {
      "text/plain": [
       "<DOM Text node \"'IPMI_LLD'\">"
      ]
     },
     "execution_count": 6,
     "metadata": {},
     "output_type": "execute_result"
    }
   ],
   "source": [
    "template.appendChild(create_element('applications')).appendChild(create_element('application')).appendChild(create_element('name')).appendChild(create_text('IPMI_LLD'))\n",
    "template_item = template.appendChild(create_element('items')).appendChild(create_element('item'))\n",
    "dict_item = {'name':'IPMI Discovery', 'type' : 'IPMI', 'key': 'ipmi.get', 'history' : '2h', 'value_type' : 'TEXT'}\n",
    "for i in dict_item:\n",
    "    template_item.appendChild(create_element(i)).appendChild(create_text(dict_item[i]))\n",
    "template_item.appendChild(create_element('applications')).appendChild(create_element('application')).appendChild(create_element('name')).appendChild(create_text('IPMI_LLD'))\n"
   ]
  },
  {
   "cell_type": "code",
   "execution_count": 7,
   "metadata": {},
   "outputs": [
    {
     "name": "stdout",
     "output_type": "stream",
     "text": [
      "写入xml OK!\n"
     ]
    }
   ],
   "source": [
    "try:\n",
    "    with open('./ipmi_get.xml','w',encoding='UTF-8') as fh:\n",
    "        dom.writexml(fh,indent='',addindent='\\t',newl='\\n',encoding='UTF-8')\n",
    "        print('写入xml OK!')\n",
    "except Exception as err:\n",
    "    print('错误信息：{0}'.format(err))"
   ]
  },
  {
   "cell_type": "code",
   "execution_count": 8,
   "metadata": {},
   "outputs": [
    {
     "name": "stdout",
     "output_type": "stream",
     "text": [
      "写入xml OK!\n"
     ]
    }
   ],
   "source": [
    "%run create_ipmi.py"
   ]
  },
  {
   "cell_type": "code",
   "execution_count": null,
   "metadata": {},
   "outputs": [],
   "source": []
  }
 ],
 "metadata": {
  "kernelspec": {
   "display_name": "Python 3",
   "language": "python",
   "name": "python3"
  },
  "language_info": {
   "codemirror_mode": {
    "name": "ipython",
    "version": 3
   },
   "file_extension": ".py",
   "mimetype": "text/x-python",
   "name": "python",
   "nbconvert_exporter": "python",
   "pygments_lexer": "ipython3",
   "version": "3.7.6"
  }
 },
 "nbformat": 4,
 "nbformat_minor": 4
}
