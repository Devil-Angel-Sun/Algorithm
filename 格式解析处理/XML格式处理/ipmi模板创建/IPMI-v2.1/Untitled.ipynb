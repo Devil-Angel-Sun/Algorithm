{
 "cells": [
  {
   "cell_type": "code",
   "execution_count": 1,
   "metadata": {},
   "outputs": [
    {
     "name": "stdout",
     "output_type": "stream",
     "text": [
      "./templates_xml/host.xml\n",
      "./templates_xml/ipmi_get.xml\n",
      "当前时刻：1619591755.6746085\n",
      "延迟运行2 minute分钟\n",
      "{'10599': '192.168.50.20', '10600': '192.168.50.22', '10601': '192.168.50.23', '10602': '192.168.50.11'}\n",
      "./templates_xml/host.xml\n",
      "./templates_xml/ipmi_get.xml\n",
      "./templates_xml/10599_192.168.50.20.xml\n",
      "./templates_xml/10600_192.168.50.22.xml\n",
      "./templates_xml/10601_192.168.50.23.xml\n",
      "./templates_xml/10602_192.168.50.11.xml\n"
     ]
    }
   ],
   "source": [
    "%run src/main.py --excel_path './host.xlsx' --html 'http://192.168.50.100:18080'"
   ]
  },
  {
   "cell_type": "code",
   "execution_count": null,
   "metadata": {},
   "outputs": [],
   "source": []
  }
 ],
 "metadata": {
  "kernelspec": {
   "display_name": "Python 3",
   "language": "python",
   "name": "python3"
  },
  "language_info": {
   "codemirror_mode": {
    "name": "ipython",
    "version": 3
   },
   "file_extension": ".py",
   "mimetype": "text/x-python",
   "name": "python",
   "nbconvert_exporter": "python",
   "pygments_lexer": "ipython3",
   "version": "3.7.6"
  }
 },
 "nbformat": 4,
 "nbformat_minor": 4
}
