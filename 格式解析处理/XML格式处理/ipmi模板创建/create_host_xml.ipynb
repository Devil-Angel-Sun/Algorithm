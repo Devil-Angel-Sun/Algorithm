{
 "cells": [
  {
   "cell_type": "code",
   "execution_count": 6,
   "metadata": {},
   "outputs": [],
   "source": [
    "import pandas as pd\n",
    "from xml.dom import minidom"
   ]
  },
  {
   "cell_type": "code",
   "execution_count": 2,
   "metadata": {},
   "outputs": [],
   "source": [
    "def create_element(text):\n",
    "    return dom.createElement(text)"
   ]
  },
  {
   "cell_type": "code",
   "execution_count": 3,
   "metadata": {},
   "outputs": [],
   "source": [
    "def create_text(text):\n",
    "    return dom.createTextNode(text)"
   ]
  },
  {
   "cell_type": "code",
   "execution_count": 4,
   "metadata": {},
   "outputs": [
    {
     "data": {
      "text/plain": [
       "<DOM Element: zabbix_export at 0x7fa4e64e34b0>"
      ]
     },
     "execution_count": 4,
     "metadata": {},
     "output_type": "execute_result"
    }
   ],
   "source": [
    "dom = minidom.Document()\n",
    "root_node = create_element('zabbix_export')\n",
    "dom.appendChild(root_node)"
   ]
  },
  {
   "cell_type": "code",
   "execution_count": 8,
   "metadata": {},
   "outputs": [],
   "source": [
    "xlsx_file = './Test//host.xlsx'\n",
    "data = pd.read_excel(xlsx_file)"
   ]
  },
  {
   "cell_type": "code",
   "execution_count": 6,
   "metadata": {},
   "outputs": [],
   "source": [
    "root_node.appendChild(create_element('version')).appendChild(create_text('5.0'))\n",
    "root_node.appendChild(create_element('groups')).appendChild(create_element('group')).appendChild(create_element('name')).appendChild(create_text('IPMI'))\n",
    "hosts = root_node.appendChild(create_element('hosts'))\n",
    "for i in range(data.shape[0]):\n",
    "    host = hosts.appendChild(create_element('host'))\n",
    "    host.appendChild(create_element('host')).appendChild(create_text(data.loc[i]['host']))\n",
    "    host.appendChild(create_element('name')).appendChild(create_text(data.loc[i]['name']))\n",
    "    host.appendChild(create_element('ipmi_username')).appendChild(create_text(data.loc[i]['username']))\n",
    "    host.appendChild(create_element('ipmi_password')).appendChild(create_text(data.loc[i]['password']))\n",
    "    host.appendChild(create_element('groups')).appendChild(create_element('group')).appendChild(create_element('name')).appendChild(create_text('IPMI'))\n",
    "    interface = host.appendChild(create_element('interfaces')).appendChild(create_element('interface'))\n",
    "    interface.appendChild(create_element('type')).appendChild(create_text('IPMI'))\n",
    "    interface.appendChild(create_element('ip')).appendChild(create_text(data.loc[i]['host']))\n",
    "    interface.appendChild(create_element('port')).appendChild(create_text('623'))\n",
    "    interface.appendChild(create_element('interface_ref')).appendChild(create_text('if1'))\n",
    "    host.appendChild(create_element('inventory_mode')).appendChild(create_text('DISABLED'))"
   ]
  },
  {
   "cell_type": "code",
   "execution_count": 7,
   "metadata": {},
   "outputs": [
    {
     "name": "stdout",
     "output_type": "stream",
     "text": [
      "写入xml OK!\n"
     ]
    }
   ],
   "source": [
    "try:\n",
    "    with open('./host_ipmi.xml','w',encoding='UTF-8') as fh:\n",
    "        dom.writexml(fh,indent='',addindent='\\t',newl='\\n',encoding='UTF-8')\n",
    "        print('写入xml OK!')\n",
    "except Exception as err:\n",
    "    print('错误信息：{0}'.format(err))"
   ]
  },
  {
   "cell_type": "code",
   "execution_count": 2,
   "metadata": {},
   "outputs": [],
   "source": [
    "import os\n",
    "from pyzabbix import ZabbixAPI\n",
    "import json\n",
    "zapi = ZabbixAPI('http://192.168.50.100:18080')\n",
    "zapi.login('Admin','zabbix')"
   ]
  },
  {
   "cell_type": "code",
   "execution_count": 10,
   "metadata": {},
   "outputs": [
    {
     "name": "stdout",
     "output_type": "stream",
     "text": [
      "./host_ipmi.xml\n",
      "\n"
     ]
    }
   ],
   "source": [
    "rules = {\n",
    "    'applications': {\n",
    "        'createMissing': True,\n",
    "    },\n",
    "    'discoveryRules': {\n",
    "        'createMissing': True,\n",
    "        'updateExisting': True\n",
    "    },\n",
    "    'graphs': {\n",
    "        'createMissing': True,\n",
    "        'updateExisting': True\n",
    "    },\n",
    "    'groups': {\n",
    "        'createMissing': True\n",
    "    },\n",
    "    'hosts': {\n",
    "        'createMissing': True,\n",
    "        'updateExisting': True\n",
    "    },\n",
    "    'images': {\n",
    "        'createMissing': True,\n",
    "        'updateExisting': True\n",
    "    },\n",
    "    'items': {\n",
    "        'createMissing': True,\n",
    "        'updateExisting': True\n",
    "    },\n",
    "    'maps': {\n",
    "        'createMissing': True,\n",
    "        'updateExisting': True\n",
    "    },\n",
    "    'screens': {\n",
    "        'createMissing': True,\n",
    "        'updateExisting': True\n",
    "    },\n",
    "    'templateLinkage': {\n",
    "        'createMissing': True,\n",
    "    },\n",
    "    'templates': {\n",
    "        'createMissing': True,\n",
    "        'updateExisting': True\n",
    "    },\n",
    "    'templateScreens': {\n",
    "        'createMissing': True,\n",
    "        'updateExisting': True\n",
    "    },\n",
    "    'triggers': {\n",
    "        'createMissing': True,\n",
    "        'updateExisting': True\n",
    "    },\n",
    "    'valueMaps': {\n",
    "        'createMissing': True,\n",
    "        'updateExisting': True\n",
    "    },\n",
    "}\n",
    "file = './host_ipmi.xml'\n",
    "if os.path.isfile(file):\n",
    "    #file = path/*.xml\n",
    "    print(file)\n",
    "    with open(file, 'r') as f:\n",
    "        template = f.read()\n",
    "        try:\n",
    "            zapi.confimport('xml', template, rules)\n",
    "        except ZabbixAPIException as e:\n",
    "            print(e)\n",
    "    print('')\n",
    "else:\n",
    "    print('I need a xml file')"
   ]
  },
  {
   "cell_type": "markdown",
   "metadata": {},
   "source": [
    "### 获取hostid"
   ]
  },
  {
   "cell_type": "code",
   "execution_count": 36,
   "metadata": {},
   "outputs": [],
   "source": [
    "host_list = zapi.host.get(\n",
    "    output=['hostid', 'host'],\n",
    ")"
   ]
  },
  {
   "cell_type": "code",
   "execution_count": 37,
   "metadata": {},
   "outputs": [
    {
     "data": {
      "text/plain": [
       "[{'hostid': '10355', 'host': '192.168.50.25'},\n",
       " {'hostid': '10357', 'host': '192.168.50.71'},\n",
       " {'hostid': '10359', 'host': '192.168.50.72'},\n",
       " {'hostid': '10360', 'host': '192.168.50.73'},\n",
       " {'hostid': '10363', 'host': '192.168.50.251'},\n",
       " {'hostid': '10364', 'host': '192.168.50.1'},\n",
       " {'hostid': '10369', 'host': '192.168.50.190'},\n",
       " {'hostid': '10373', 'host': '192.168.50.53'},\n",
       " {'hostid': '10383', 'host': '192.168.50.11'},\n",
       " {'hostid': '10385', 'host': '192.168.50.112'},\n",
       " {'hostid': '10388', 'host': '192.168.50.23'},\n",
       " {'hostid': '10403', 'host': '192.168.50.20'},\n",
       " {'hostid': '10404', 'host': '192.168.50.22'}]"
      ]
     },
     "execution_count": 37,
     "metadata": {},
     "output_type": "execute_result"
    }
   ],
   "source": [
    "host_list"
   ]
  },
  {
   "cell_type": "code",
   "execution_count": 14,
   "metadata": {},
   "outputs": [
    {
     "data": {
      "text/html": [
       "<div>\n",
       "<style scoped>\n",
       "    .dataframe tbody tr th:only-of-type {\n",
       "        vertical-align: middle;\n",
       "    }\n",
       "\n",
       "    .dataframe tbody tr th {\n",
       "        vertical-align: top;\n",
       "    }\n",
       "\n",
       "    .dataframe thead th {\n",
       "        text-align: right;\n",
       "    }\n",
       "</style>\n",
       "<table border=\"1\" class=\"dataframe\">\n",
       "  <thead>\n",
       "    <tr style=\"text-align: right;\">\n",
       "      <th></th>\n",
       "      <th>host</th>\n",
       "      <th>name</th>\n",
       "      <th>username</th>\n",
       "      <th>password</th>\n",
       "    </tr>\n",
       "  </thead>\n",
       "  <tbody>\n",
       "    <tr>\n",
       "      <th>0</th>\n",
       "      <td>192.168.50.20</td>\n",
       "      <td>IPMI: 192.168.50.111</td>\n",
       "      <td>root</td>\n",
       "      <td>Dacheng@123</td>\n",
       "    </tr>\n",
       "    <tr>\n",
       "      <th>1</th>\n",
       "      <td>192.168.50.22</td>\n",
       "      <td>IPMI: 192.168.50.112</td>\n",
       "      <td>root</td>\n",
       "      <td>Dacheng@123</td>\n",
       "    </tr>\n",
       "  </tbody>\n",
       "</table>\n",
       "</div>"
      ],
      "text/plain": [
       "            host                  name username     password\n",
       "0  192.168.50.20  IPMI: 192.168.50.111     root  Dacheng@123\n",
       "1  192.168.50.22  IPMI: 192.168.50.112     root  Dacheng@123"
      ]
     },
     "execution_count": 14,
     "metadata": {},
     "output_type": "execute_result"
    }
   ],
   "source": [
    "data"
   ]
  },
  {
   "cell_type": "code",
   "execution_count": 33,
   "metadata": {},
   "outputs": [
    {
     "data": {
      "text/plain": [
       "{'10403': '192.168.50.20', '10404': '192.168.50.22'}"
      ]
     },
     "execution_count": 33,
     "metadata": {},
     "output_type": "execute_result"
    }
   ],
   "source": [
    "host_dict = {}\n",
    "for i in host_list:\n",
    "    if i['host'] in list(data['host']):\n",
    "        host_dict[i['hostid']] = i['host']\n",
    "host_dict"
   ]
  },
  {
   "cell_type": "markdown",
   "metadata": {},
   "source": [
    "### 获取templateid"
   ]
  },
  {
   "cell_type": "code",
   "execution_count": 17,
   "metadata": {},
   "outputs": [],
   "source": [
    "template_list = zapi.template.get(\n",
    "    output=[\"templateid\",\"name\"],\n",
    ")"
   ]
  },
  {
   "cell_type": "code",
   "execution_count": 18,
   "metadata": {},
   "outputs": [
    {
     "name": "stdout",
     "output_type": "stream",
     "text": [
      "10401\n"
     ]
    }
   ],
   "source": [
    "for i in template_list:\n",
    "    if i['name'] == 'Template ipmi_get of IPMI':\n",
    "        print(i['templateid'])"
   ]
  },
  {
   "cell_type": "code",
   "execution_count": 25,
   "metadata": {},
   "outputs": [],
   "source": [
    "def get_template_id(template_list):\n",
    "    '''获取所有模板的id和名字信息'''\n",
    "    template_list = zapi.template.get(output=[\"templateid\",\"name\"])\n",
    "\n",
    "    return int([i['templateid'] for i in template_list if i['name'] == 'Template ipmi_get of IPMI'][0])"
   ]
  },
  {
   "cell_type": "code",
   "execution_count": 26,
   "metadata": {},
   "outputs": [
    {
     "data": {
      "text/plain": [
       "10402"
      ]
     },
     "execution_count": 26,
     "metadata": {},
     "output_type": "execute_result"
    }
   ],
   "source": [
    "get_template_id(template_list)"
   ]
  },
  {
   "cell_type": "markdown",
   "metadata": {},
   "source": [
    "### 新增itemid"
   ]
  },
  {
   "cell_type": "code",
   "execution_count": 8,
   "metadata": {},
   "outputs": [],
   "source": [
    "hosts = zapi.host.get(filter={\"host\": '192.168.50.20'}, selectInterfaces=[\"interfaceid\"])"
   ]
  },
  {
   "cell_type": "code",
   "execution_count": 35,
   "metadata": {},
   "outputs": [
    {
     "name": "stdout",
     "output_type": "stream",
     "text": [
      "10403 192.168.50.20\n",
      "10404 192.168.50.22\n"
     ]
    }
   ],
   "source": [
    "for i in host_dict:\n",
    "    print(i,host_dict[i])"
   ]
  },
  {
   "cell_type": "code",
   "execution_count": 19,
   "metadata": {},
   "outputs": [],
   "source": [
    "add_template = zapi.template.massadd(templates=10401, hosts={\"hostid\": 10399})"
   ]
  },
  {
   "cell_type": "code",
   "execution_count": 31,
   "metadata": {},
   "outputs": [
    {
     "data": {
      "text/plain": [
       "'28'"
      ]
     },
     "execution_count": 31,
     "metadata": {},
     "output_type": "execute_result"
    }
   ],
   "source": [
    "hosts[0][\"interfaces\"][0][\"interfaceid\"]"
   ]
  },
  {
   "cell_type": "markdown",
   "metadata": {},
   "source": [
    "### 获取数据"
   ]
  },
  {
   "cell_type": "code",
   "execution_count": 27,
   "metadata": {},
   "outputs": [
    {
     "name": "stdout",
     "output_type": "stream",
     "text": [
      "1619415847.5371385\n",
      "1619415907.5827217 Hello Sched! 1分钟\n",
      "1619415907.5829704\n"
     ]
    }
   ],
   "source": [
    "import sched,time\n",
    "def func(a):\n",
    "  print(time.time(),\"Hello Sched!\",a)\n",
    "print(time.time())\n",
    "s = sched.scheduler(time.time,time.sleep)\n",
    "# 2为延后时间，1为优先级，func为函数名，(\"test1\",)为函数参数\n",
    "s.enter(60,0,func,(\"1分钟\",))\n",
    "s.run()\n",
    "print(time.time())"
   ]
  },
  {
   "cell_type": "code",
   "execution_count": 32,
   "metadata": {},
   "outputs": [],
   "source": [
    "item_list = zapi.item.get(\n",
    "    hostids='10399',\n",
    "    search = {\n",
    "        \"key_\" : 'ipmi.get'\n",
    "    },\n",
    "    output=\"extend\",\n",
    ")"
   ]
  },
  {
   "cell_type": "markdown",
   "metadata": {},
   "source": [
    "### 删除模板"
   ]
  },
  {
   "cell_type": "code",
   "execution_count": 37,
   "metadata": {},
   "outputs": [],
   "source": [
    "del_template = zapi.host.update(hostid=10399,templates_clear={\"templateid\": 10401})"
   ]
  },
  {
   "cell_type": "code",
   "execution_count": null,
   "metadata": {},
   "outputs": [],
   "source": []
  }
 ],
 "metadata": {
  "kernelspec": {
   "display_name": "Python 3",
   "language": "python",
   "name": "python3"
  },
  "language_info": {
   "codemirror_mode": {
    "name": "ipython",
    "version": 3
   },
   "file_extension": ".py",
   "mimetype": "text/x-python",
   "name": "python",
   "nbconvert_exporter": "python",
   "pygments_lexer": "ipython3",
   "version": "3.7.6"
  }
 },
 "nbformat": 4,
 "nbformat_minor": 4
}
