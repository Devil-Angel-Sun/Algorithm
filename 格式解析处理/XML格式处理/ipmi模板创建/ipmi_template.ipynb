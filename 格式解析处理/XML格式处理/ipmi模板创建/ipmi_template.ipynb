{
 "cells": [
  {
   "cell_type": "code",
   "execution_count": 1,
   "metadata": {},
   "outputs": [],
   "source": [
    "import pandas as pd\n",
    "from xml.dom import minidom\n",
    "from pyzabbix import ZabbixAPI\n",
    "import json\n",
    "zapi = ZabbixAPI('http://192.168.50.100:18080')\n",
    "zapi.login('Admin','zabbix')"
   ]
  },
  {
   "cell_type": "code",
   "execution_count": 2,
   "metadata": {},
   "outputs": [],
   "source": [
    "def create_element(text):\n",
    "    return dom.createElement(text)"
   ]
  },
  {
   "cell_type": "code",
   "execution_count": 3,
   "metadata": {},
   "outputs": [],
   "source": [
    "def create_text(text):\n",
    "    return dom.createTextNode(text)"
   ]
  },
  {
   "cell_type": "code",
   "execution_count": 4,
   "metadata": {},
   "outputs": [
    {
     "data": {
      "text/plain": [
       "<DOM Element: zabbix_export at 0x7fd3ee9a40f0>"
      ]
     },
     "execution_count": 4,
     "metadata": {},
     "output_type": "execute_result"
    }
   ],
   "source": [
    "dom = minidom.Document()\n",
    "root_node = create_element('zabbix_export')\n",
    "dom.appendChild(root_node)"
   ]
  },
  {
   "cell_type": "code",
   "execution_count": 5,
   "metadata": {},
   "outputs": [
    {
     "data": {
      "text/plain": [
       "<DOM Text node \"'IPMI'\">"
      ]
     },
     "execution_count": 5,
     "metadata": {},
     "output_type": "execute_result"
    }
   ],
   "source": [
    "root_node.appendChild(create_element('version')).appendChild(create_text('5.0'))\n",
    "root_node.appendChild(create_element('groups')).appendChild(create_element('group')).appendChild(create_element('name')).appendChild(create_text('IPMI'))\n",
    "template = root_node.appendChild(create_element('templates')).appendChild(create_element('template'))\n",
    "template.appendChild(create_element('template')).appendChild(create_text('Template Huawei of IPMI'))\n",
    "template.appendChild(create_element('name')).appendChild(create_text('Template Huawei of IPMI'))\n",
    "template.appendChild(create_element('groups')).appendChild(create_element('group')).appendChild(create_element('name')).appendChild(create_text('IPMI'))"
   ]
  },
  {
   "cell_type": "code",
   "execution_count": 6,
   "metadata": {},
   "outputs": [],
   "source": [
    "item_list = zapi.item.get(\n",
    "    hostids='10388',\n",
    "    search = {\n",
    "        \"key_\" : 'ipmi.get'\n",
    "    },\n",
    "    output=\"extend\",\n",
    ")"
   ]
  },
  {
   "cell_type": "code",
   "execution_count": null,
   "metadata": {},
   "outputs": [],
   "source": []
  },
  {
   "cell_type": "code",
   "execution_count": 7,
   "metadata": {},
   "outputs": [],
   "source": [
    "data = pd.DataFrame(json.loads(item_list[0]['lastvalue']))\n",
    "data.to_json('./data.json')"
   ]
  },
  {
   "cell_type": "code",
   "execution_count": 8,
   "metadata": {},
   "outputs": [
    {
     "data": {
      "text/html": [
       "<div>\n",
       "<style scoped>\n",
       "    .dataframe tbody tr th:only-of-type {\n",
       "        vertical-align: middle;\n",
       "    }\n",
       "\n",
       "    .dataframe tbody tr th {\n",
       "        vertical-align: top;\n",
       "    }\n",
       "\n",
       "    .dataframe thead th {\n",
       "        text-align: right;\n",
       "    }\n",
       "</style>\n",
       "<table border=\"1\" class=\"dataframe\">\n",
       "  <thead>\n",
       "    <tr style=\"text-align: right;\">\n",
       "      <th></th>\n",
       "      <th>id</th>\n",
       "      <th>name</th>\n",
       "      <th>sensor</th>\n",
       "      <th>reading</th>\n",
       "      <th>state</th>\n",
       "      <th>value</th>\n",
       "      <th>units</th>\n",
       "      <th>threshold</th>\n",
       "    </tr>\n",
       "  </thead>\n",
       "  <tbody>\n",
       "    <tr>\n",
       "      <th>0</th>\n",
       "      <td>PS1 Temp Status</td>\n",
       "      <td>(r0.32.10.0).PS1 Temp Status</td>\n",
       "      <td>{'type': 33, 'text': 'slot_connector'}</td>\n",
       "      <td>{'type': 111, 'text': 'sensor specific'}</td>\n",
       "      <td>{'state': 0, 'text': ''}</td>\n",
       "      <td>NaN</td>\n",
       "      <td>None</td>\n",
       "      <td>None</td>\n",
       "    </tr>\n",
       "    <tr>\n",
       "      <th>1</th>\n",
       "      <td>PS1 Fan Status</td>\n",
       "      <td>(r0.32.10.0).PS1 Fan Status</td>\n",
       "      <td>{'type': 33, 'text': 'slot_connector'}</td>\n",
       "      <td>{'type': 111, 'text': 'sensor specific'}</td>\n",
       "      <td>{'state': 0, 'text': ''}</td>\n",
       "      <td>NaN</td>\n",
       "      <td>None</td>\n",
       "      <td>None</td>\n",
       "    </tr>\n",
       "    <tr>\n",
       "      <th>2</th>\n",
       "      <td>PS1 Status</td>\n",
       "      <td>(r0.32.10.0).PS1 Status</td>\n",
       "      <td>{'type': 8, 'text': 'power_supply'}</td>\n",
       "      <td>{'type': 111, 'text': 'sensor specific'}</td>\n",
       "      <td>{'state': 1, 'text': 'presence detected'}</td>\n",
       "      <td>NaN</td>\n",
       "      <td>None</td>\n",
       "      <td>None</td>\n",
       "    </tr>\n",
       "    <tr>\n",
       "      <th>3</th>\n",
       "      <td>DISK7</td>\n",
       "      <td>(r0.32.4.7).DISK7</td>\n",
       "      <td>{'type': 13, 'text': 'drive_slot'}</td>\n",
       "      <td>{'type': 111, 'text': 'sensor specific'}</td>\n",
       "      <td>{'state': 0, 'text': ''}</td>\n",
       "      <td>NaN</td>\n",
       "      <td>None</td>\n",
       "      <td>None</td>\n",
       "    </tr>\n",
       "    <tr>\n",
       "      <th>4</th>\n",
       "      <td>DISK6</td>\n",
       "      <td>(r0.32.4.6).DISK6</td>\n",
       "      <td>{'type': 13, 'text': 'drive_slot'}</td>\n",
       "      <td>{'type': 111, 'text': 'sensor specific'}</td>\n",
       "      <td>{'state': 1, 'text': 'drive presence'}</td>\n",
       "      <td>NaN</td>\n",
       "      <td>None</td>\n",
       "      <td>None</td>\n",
       "    </tr>\n",
       "    <tr>\n",
       "      <th>...</th>\n",
       "      <td>...</td>\n",
       "      <td>...</td>\n",
       "      <td>...</td>\n",
       "      <td>...</td>\n",
       "      <td>...</td>\n",
       "      <td>...</td>\n",
       "      <td>...</td>\n",
       "      <td>...</td>\n",
       "    </tr>\n",
       "    <tr>\n",
       "      <th>134</th>\n",
       "      <td>CPU2 Core Rem</td>\n",
       "      <td>(r0.32.3.1).CPU2 Core Rem</td>\n",
       "      <td>{'type': 1, 'text': 'temperature'}</td>\n",
       "      <td>{'type': 1, 'text': 'threshold'}</td>\n",
       "      <td>{'state': 0, 'text': ''}</td>\n",
       "      <td>46.0</td>\n",
       "      <td>C</td>\n",
       "      <td>{'lower': {}, 'upper': {}}</td>\n",
       "    </tr>\n",
       "    <tr>\n",
       "      <th>135</th>\n",
       "      <td>CPU1 Core Rem</td>\n",
       "      <td>(r0.32.3.0).CPU1 Core Rem</td>\n",
       "      <td>{'type': 1, 'text': 'temperature'}</td>\n",
       "      <td>{'type': 1, 'text': 'threshold'}</td>\n",
       "      <td>{'state': 0, 'text': ''}</td>\n",
       "      <td>45.0</td>\n",
       "      <td>C</td>\n",
       "      <td>{'lower': {}, 'upper': {}}</td>\n",
       "    </tr>\n",
       "    <tr>\n",
       "      <th>136</th>\n",
       "      <td>PCH Temp</td>\n",
       "      <td>(r0.32.7.0).PCH Temp</td>\n",
       "      <td>{'type': 1, 'text': 'temperature'}</td>\n",
       "      <td>{'type': 1, 'text': 'threshold'}</td>\n",
       "      <td>{'state': 0, 'text': ''}</td>\n",
       "      <td>57.0</td>\n",
       "      <td>C</td>\n",
       "      <td>{'lower': {}, 'upper': {'non_crit': 86.0}}</td>\n",
       "    </tr>\n",
       "    <tr>\n",
       "      <th>137</th>\n",
       "      <td>Outlet Temp</td>\n",
       "      <td>(r0.32.7.0).Outlet Temp</td>\n",
       "      <td>{'type': 1, 'text': 'temperature'}</td>\n",
       "      <td>{'type': 1, 'text': 'threshold'}</td>\n",
       "      <td>{'state': 0, 'text': ''}</td>\n",
       "      <td>35.0</td>\n",
       "      <td>C</td>\n",
       "      <td>{'lower': {}, 'upper': {'non_crit': 75.0}}</td>\n",
       "    </tr>\n",
       "    <tr>\n",
       "      <th>138</th>\n",
       "      <td>Inlet Temp</td>\n",
       "      <td>(r0.32.7.0).Inlet Temp</td>\n",
       "      <td>{'type': 1, 'text': 'temperature'}</td>\n",
       "      <td>{'type': 1, 'text': 'threshold'}</td>\n",
       "      <td>{'state': 0, 'text': ''}</td>\n",
       "      <td>29.0</td>\n",
       "      <td>C</td>\n",
       "      <td>{'lower': {}, 'upper': {'non_crit': 46.0, 'cri...</td>\n",
       "    </tr>\n",
       "  </tbody>\n",
       "</table>\n",
       "<p>139 rows × 8 columns</p>\n",
       "</div>"
      ],
      "text/plain": [
       "                  id                          name  \\\n",
       "0    PS1 Temp Status  (r0.32.10.0).PS1 Temp Status   \n",
       "1     PS1 Fan Status   (r0.32.10.0).PS1 Fan Status   \n",
       "2         PS1 Status       (r0.32.10.0).PS1 Status   \n",
       "3              DISK7             (r0.32.4.7).DISK7   \n",
       "4              DISK6             (r0.32.4.6).DISK6   \n",
       "..               ...                           ...   \n",
       "134    CPU2 Core Rem     (r0.32.3.1).CPU2 Core Rem   \n",
       "135    CPU1 Core Rem     (r0.32.3.0).CPU1 Core Rem   \n",
       "136         PCH Temp          (r0.32.7.0).PCH Temp   \n",
       "137      Outlet Temp       (r0.32.7.0).Outlet Temp   \n",
       "138       Inlet Temp        (r0.32.7.0).Inlet Temp   \n",
       "\n",
       "                                     sensor  \\\n",
       "0    {'type': 33, 'text': 'slot_connector'}   \n",
       "1    {'type': 33, 'text': 'slot_connector'}   \n",
       "2       {'type': 8, 'text': 'power_supply'}   \n",
       "3        {'type': 13, 'text': 'drive_slot'}   \n",
       "4        {'type': 13, 'text': 'drive_slot'}   \n",
       "..                                      ...   \n",
       "134      {'type': 1, 'text': 'temperature'}   \n",
       "135      {'type': 1, 'text': 'temperature'}   \n",
       "136      {'type': 1, 'text': 'temperature'}   \n",
       "137      {'type': 1, 'text': 'temperature'}   \n",
       "138      {'type': 1, 'text': 'temperature'}   \n",
       "\n",
       "                                      reading  \\\n",
       "0    {'type': 111, 'text': 'sensor specific'}   \n",
       "1    {'type': 111, 'text': 'sensor specific'}   \n",
       "2    {'type': 111, 'text': 'sensor specific'}   \n",
       "3    {'type': 111, 'text': 'sensor specific'}   \n",
       "4    {'type': 111, 'text': 'sensor specific'}   \n",
       "..                                        ...   \n",
       "134          {'type': 1, 'text': 'threshold'}   \n",
       "135          {'type': 1, 'text': 'threshold'}   \n",
       "136          {'type': 1, 'text': 'threshold'}   \n",
       "137          {'type': 1, 'text': 'threshold'}   \n",
       "138          {'type': 1, 'text': 'threshold'}   \n",
       "\n",
       "                                         state  value units  \\\n",
       "0                     {'state': 0, 'text': ''}    NaN  None   \n",
       "1                     {'state': 0, 'text': ''}    NaN  None   \n",
       "2    {'state': 1, 'text': 'presence detected'}    NaN  None   \n",
       "3                     {'state': 0, 'text': ''}    NaN  None   \n",
       "4       {'state': 1, 'text': 'drive presence'}    NaN  None   \n",
       "..                                         ...    ...   ...   \n",
       "134                   {'state': 0, 'text': ''}   46.0     C   \n",
       "135                   {'state': 0, 'text': ''}   45.0     C   \n",
       "136                   {'state': 0, 'text': ''}   57.0     C   \n",
       "137                   {'state': 0, 'text': ''}   35.0     C   \n",
       "138                   {'state': 0, 'text': ''}   29.0     C   \n",
       "\n",
       "                                             threshold  \n",
       "0                                                 None  \n",
       "1                                                 None  \n",
       "2                                                 None  \n",
       "3                                                 None  \n",
       "4                                                 None  \n",
       "..                                                 ...  \n",
       "134                         {'lower': {}, 'upper': {}}  \n",
       "135                         {'lower': {}, 'upper': {}}  \n",
       "136         {'lower': {}, 'upper': {'non_crit': 86.0}}  \n",
       "137         {'lower': {}, 'upper': {'non_crit': 75.0}}  \n",
       "138  {'lower': {}, 'upper': {'non_crit': 46.0, 'cri...  \n",
       "\n",
       "[139 rows x 8 columns]"
      ]
     },
     "execution_count": 8,
     "metadata": {},
     "output_type": "execute_result"
    }
   ],
   "source": [
    "pd.read_json('./data.json')"
   ]
  },
  {
   "cell_type": "code",
   "execution_count": 9,
   "metadata": {},
   "outputs": [],
   "source": [
    "applications = []\n",
    "for i in data['sensor']:\n",
    "    applications.append(i['text'])\n",
    "applications = list(set(applications))\n",
    "applications.append('IPMI_LLD')"
   ]
  },
  {
   "cell_type": "code",
   "execution_count": 10,
   "metadata": {},
   "outputs": [],
   "source": [
    "template_applications = template.appendChild(create_element('applications'))\n",
    "for application in applications:\n",
    "    template_applications.appendChild(create_element('application')).appendChild(create_element('name')).appendChild(create_text(application))"
   ]
  },
  {
   "cell_type": "code",
   "execution_count": 11,
   "metadata": {},
   "outputs": [],
   "source": [
    "applications.remove('IPMI_LLD')"
   ]
  },
  {
   "cell_type": "code",
   "execution_count": 12,
   "metadata": {},
   "outputs": [
    {
     "data": {
      "text/plain": [
       "<DOM Text node \"'IPMI_LLD'\">"
      ]
     },
     "execution_count": 12,
     "metadata": {},
     "output_type": "execute_result"
    }
   ],
   "source": [
    "template_item = template.appendChild(create_element('items')).appendChild(create_element('item'))\n",
    "dict_item = {'name':'IPMI Discovery', 'type' : 'IPMI', 'key': 'ipmi.get', 'history' : '2h', 'value_type' : 'TEXT'}\n",
    "for i in dict_item:\n",
    "    template_item.appendChild(create_element(i)).appendChild(create_text(dict_item[i]))\n",
    "template_item.appendChild(create_element('applications')).appendChild(create_element('application')).appendChild(create_element('name')).appendChild(create_text('IPMI_LLD'))"
   ]
  },
  {
   "cell_type": "code",
   "execution_count": 13,
   "metadata": {},
   "outputs": [],
   "source": [
    "lld_macro_dict = {'{#READING_TYPE}':'$.reading.type', \n",
    "            '{#SENSOR_ID}':'$.id',\n",
    "            '{#SENSOR_NAME}':'$.name',\n",
    "            '{#SENSOR_TYPE_STR}':'$.sensor.text',\n",
    "            '{#SENSOR_TYPE}':'$.sensor.type',\n",
    "            '{#SENSOR_UNIT}':'$.units',\n",
    "            '{#THRESH_HIGH_AVG}':'$.threshold.upper.crit',\n",
    "            '{#THRESH_HIGH_CRIT}':'$.threshold.upper.non_recover',\n",
    "            '{#THRESH_HIGH_WARN}':'$.threshold.upper.non_crit',\n",
    "            '{#THRESH_LOW_AVG}':'$.threshold.lower.crit',\n",
    "            '{#THRESH_LOW_CRIT}':'$.threshold.lower.non_recover',\n",
    "            '{#THRESH_LOW_WARN}':'$.threshold.lower.non_crit'\n",
    "           }"
   ]
  },
  {
   "cell_type": "code",
   "execution_count": 14,
   "metadata": {},
   "outputs": [],
   "source": [
    "sensor_chinese = pd.read_json('./sensor.json',orient = 'index')\n",
    "sensor_chinese = sensor_chinese.to_dict(orient = 'list')"
   ]
  },
  {
   "cell_type": "code",
   "execution_count": 15,
   "metadata": {},
   "outputs": [],
   "source": [
    "template_discovery = template.appendChild(create_element('discovery_rules'))\n",
    "for application in applications:\n",
    "    discovery_rule = template_discovery.appendChild(create_element('discovery_rule'))\n",
    "    discovery_rule.appendChild(create_element('name')).appendChild(create_text('IPMI Discovery: {}'.format(' '.join([i.capitalize() for i in application.split('_')]))))\n",
    "    discovery_rule.appendChild(create_element('type')).appendChild(create_text('DEPENDENT'))\n",
    "    discovery_rule.appendChild(create_element('key')).appendChild(create_text('ipmi.sensor.discovery.{}'.format(application)))\n",
    "    discovery_rule.appendChild(create_element('delay')).appendChild(create_text('0'))\n",
    "    discovery_rule.appendChild(create_element('lifetime')).appendChild(create_text('7d'))\n",
    "    discovery_rule.appendChild(create_element('master_item')).appendChild(create_element('key')).appendChild(create_text('ipmi.get'))\n",
    "    \n",
    "    rule_filter = discovery_rule.appendChild(create_element('filter')).appendChild(create_element('conditions'))\n",
    "    filter_condition = rule_filter.appendChild(create_element('condition'))\n",
    "    filter_condition.appendChild(create_element('macro')).appendChild(create_text('{#SENSOR_TYPE}'))\n",
    "    value_sensor = '^{}$'.format(str(list(set([i['type'] for i in data[data['sensor'].apply(lambda x: x['text'] == application)]['sensor']]))[0]))\n",
    "    filter_condition.appendChild(create_element('value')).appendChild(create_text(value_sensor))\n",
    "    filter_condition.appendChild(create_element('formulaid')).appendChild(create_text('B'))\n",
    "\n",
    "    filter_condition = rule_filter.appendChild(create_element('condition'))\n",
    "    filter_condition.appendChild(create_element('macro')).appendChild(create_text('{#READING_TYPE}'))\n",
    "    reading = list(set([i['type'] for i in data[data['sensor'].apply(lambda x: x['text'] == application)]['reading']]))\n",
    "    if len(reading) == 1:\n",
    "        value_sensor = '^{}$'.format(reading[0])\n",
    "    else:\n",
    "        value_sensor = '^({})$'.format('|'.join([str(i) for i in reading]))\n",
    "    filter_condition.appendChild(create_element('value')).appendChild(create_text(value_sensor))\n",
    "    filter_condition.appendChild(create_element('formulaid')).appendChild(create_text('A'))\n",
    "    item_prototypes = discovery_rule.appendChild(create_element('item_prototypes'))\n",
    "    item_prototype = item_prototypes.appendChild(create_element('item_prototype'))\n",
    "    sensor = data[data['reading'].apply(lambda x : x['text'] == 'threshold')]['sensor']\n",
    "    \n",
    "    application_chinese = [sensor_chinese[i][0] for i in sensor_chinese if application == i]\n",
    "    if application_chinese:\n",
    "        state_description = application_chinese[0]+'传感器ID: {#SENSOR_ID}'+application_chinese[0]+'传感器名字: {#SENSOR_NAME}'+application_chinese[0]+'传感器状态: {#STATE_TEXT}'\n",
    "        threshold_description = application_chinese[0]+'传感器ID: {#SENSOR_ID}\\n' + application_chinese[0] +'传感器名字: {#SENSOR_NAME}\\n' + application_chinese[0]+'传感器阈值\\n'+'严重告警: {#THRESH_HIGH_WARN} , {#THRESH_HIGH_AVG} , {#THRESH_HIGH_CRIT} \\n轻微告警: {#THRESH_LOW_WARN} , {#THRESH_LOW_AVG} , {#THRESH_LOW_CRIT}'\n",
    "    else:\n",
    "        application_chinese = [' ']\n",
    "        state_description = application_chinese[0]+'传感器ID: {#SENSOR_ID}'+application_chinese[0]+'传感器名字: {#SENSOR_NAME}'+application_chinese[0]+'传感器状态: {#STATE_TEXT}'\n",
    "        threshold_description = application_chinese[0]+'传感器ID: {#SENSOR_ID}\\n' + application_chinese[0] +'传感器名字: {#SENSOR_NAME}\\n' + application_chinese[0]+'传感器阈值\\n'+'严重告警: {#THRESH_HIGH_WARN} , {#THRESH_HIGH_AVG} , {#THRESH_HIGH_CRIT} \\n轻微告警: {#THRESH_LOW_WARN} , {#THRESH_LOW_AVG} , {#THRESH_LOW_CRIT}'\n",
    "        \n",
    "    preprocessing = item_prototype.appendChild(create_element('preprocessing')).appendChild(create_element('step'))\n",
    "    preprocessing.appendChild(create_element('type')).appendChild(create_text('JSONPATH'))\n",
    "    item_prototype.appendChild(create_element('name')).appendChild(create_text(application_chinese[0] + '传感器: {#SENSOR_ID}的当前状态值'))\n",
    "    item_prototype.appendChild(create_element('description')).appendChild(create_text(state_description))\n",
    "    preprocessing.appendChild(create_element('params')).appendChild(create_text(\"$.[?(@.id=='{#SENSOR_ID}')].state.state.first()\"))        \n",
    "    item_prototype.appendChild(create_element('type')).appendChild(create_text('DEPENDENT'))\n",
    "    item_prototype.appendChild(create_element('key')).appendChild(create_text('ipmi.sensor.'+ application +'[{#SENSOR_ID}]'))\n",
    "    item_prototype.appendChild(create_element('delay')).appendChild(create_text('0'))\n",
    "    item_prototype.appendChild(create_element('history')).appendChild(create_text('7d'))\n",
    "    item_prototype.appendChild(create_element('applications')).appendChild(create_element('application')).appendChild(create_element('name')).appendChild(create_text(application))\n",
    "    item_prototype.appendChild(create_element('master_item')).appendChild(create_element('key')).appendChild(create_text('ipmi.get'))\n",
    "    \n",
    "    if application in [i['text'] for i in sensor]:\n",
    "        item_prototype = item_prototypes.appendChild(create_element('item_prototype'))\n",
    "        item_prototype.appendChild(create_element('name')).appendChild(create_text(application_chinese[0] + '传感器: {#SENSOR_ID}的当前值'))\n",
    "        item_prototype.appendChild(create_element('description')).appendChild(create_text(threshold_description))\n",
    "        if application == 'temperature':\n",
    "            item_prototype.appendChild(create_element('units')).appendChild(create_text('℃')) \n",
    "        else:\n",
    "            units = list(set(data[data['sensor'].apply(lambda x :x['text'] == application)]['units']))[0]\n",
    "            item_prototype.appendChild(create_element('units')).appendChild(create_text(units))  \n",
    "        preprocessing = item_prototype.appendChild(create_element('preprocessing')).appendChild(create_element('step'))\n",
    "        preprocessing.appendChild(create_element('type')).appendChild(create_text('JSONPATH'))\n",
    "        preprocessing.appendChild(create_element('params')).appendChild(create_text(\"$.[?(@.id=='{#SENSOR_ID}')].value.first()\"))\n",
    "        item_prototype.appendChild(create_element('type')).appendChild(create_text('DEPENDENT'))\n",
    "        item_prototype.appendChild(create_element('key')).appendChild(create_text('ipmi.sensor.'+ application +'[{#SENSOR_ID}]'))\n",
    "        item_prototype.appendChild(create_element('delay')).appendChild(create_text('0'))\n",
    "        item_prototype.appendChild(create_element('history')).appendChild(create_text('7d'))\n",
    "        item_prototype.appendChild(create_element('applications')).appendChild(create_element('application')).appendChild(create_element('name')).appendChild(create_text(application))\n",
    "        item_prototype.appendChild(create_element('master_item')).appendChild(create_element('key')).appendChild(create_text('ipmi.get'))\n",
    "\n",
    "    \n",
    "    lld_macros = discovery_rule.appendChild(create_element('lld_macro_paths'))\n",
    "    for macro in lld_macro_dict:\n",
    "        lld_macro = lld_macros.appendChild(create_element('lld_macro_path'))\n",
    "        lld_macro.appendChild(create_element('lld_macro')).appendChild(create_text(macro))\n",
    "        lld_macro.appendChild(create_element('path')).appendChild(create_text(lld_macro_dict[macro]))"
   ]
  },
  {
   "cell_type": "code",
   "execution_count": 16,
   "metadata": {},
   "outputs": [
    {
     "name": "stdout",
     "output_type": "stream",
     "text": [
      "写入xml OK!\n"
     ]
    }
   ],
   "source": [
    "try:\n",
    "    with open('./huawei_ipmi.xml','w',encoding='UTF-8') as fh:\n",
    "        dom.writexml(fh,indent='',addindent='\\t',newl='\\n',encoding='UTF-8')\n",
    "        print('写入xml OK!')\n",
    "except Exception as err:\n",
    "    print('错误信息：{0}'.format(err))"
   ]
  },
  {
   "cell_type": "code",
   "execution_count": null,
   "metadata": {},
   "outputs": [],
   "source": []
  }
 ],
 "metadata": {
  "kernelspec": {
   "display_name": "Python 3",
   "language": "python",
   "name": "python3"
  },
  "language_info": {
   "codemirror_mode": {
    "name": "ipython",
    "version": 3
   },
   "file_extension": ".py",
   "mimetype": "text/x-python",
   "name": "python",
   "nbconvert_exporter": "python",
   "pygments_lexer": "ipython3",
   "version": "3.7.6"
  }
 },
 "nbformat": 4,
 "nbformat_minor": 4
}
