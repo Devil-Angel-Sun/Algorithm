{
 "cells": [
  {
   "cell_type": "code",
   "execution_count": 1,
   "metadata": {},
   "outputs": [],
   "source": [
    "import xml.dom.minidom as xmldom"
   ]
  },
  {
   "cell_type": "code",
   "execution_count": 2,
   "metadata": {},
   "outputs": [],
   "source": [
    "path = '/home/weijunfei/XML格式处理/zbx_export_templates.xml'"
   ]
  },
  {
   "cell_type": "code",
   "execution_count": 3,
   "metadata": {},
   "outputs": [],
   "source": [
    "# 解析文件\n",
    "doc = xmldom.parse(path) \n",
    "root = doc.documentElement"
   ]
  },
  {
   "cell_type": "code",
   "execution_count": 4,
   "metadata": {},
   "outputs": [
    {
     "data": {
      "text/plain": [
       "136"
      ]
     },
     "execution_count": 4,
     "metadata": {},
     "output_type": "execute_result"
    }
   ],
   "source": [
    "# 获得templates下所有template节点\n",
    "templates = root.getElementsByTagName('template')\n",
    "node_templates = []\n",
    "names_templates = []\n",
    "# 遍历节点，选择符合条件，获得当前模板的template名称\n",
    "for template in templates:\n",
    "    if (template.parentNode.nodeName == 'templates') and (template.parentNode.parentNode.nodeName == 'zabbix_export'):\n",
    "        node_template = template\n",
    "        name = template.firstChild.data\n",
    "        node_templates.append(node_template)\n",
    "        names_templates.append(name)\n",
    "        \n",
    "len(names_templates) # 这里的节点就是templates下每一层template中的内容（即'\\n      ')"
   ]
  },
  {
   "cell_type": "code",
   "execution_count": 5,
   "metadata": {},
   "outputs": [],
   "source": [
    "## 对模板中的节点遍历\n",
    "## 获取的是模板的相关组别信息\n",
    "informations = []\n",
    "for node in node_templates:\n",
    "    information = {}\n",
    "    # 获取当前模板名称\n",
    "    name_template = node.getElementsByTagName('template')\n",
    "    for i in name_template:\n",
    "        if i.parentNode.parentNode.parentNode.nodeName == 'zabbix_export':\n",
    "            template_name = i.firstChild.data\n",
    "            information['template'] = template_name\n",
    "            \n",
    "    # 获取当前groups名称\n",
    "    names = node.getElementsByTagName('name')\n",
    "    sub_groups = []\n",
    "    for name in names:\n",
    "        if (name.parentNode.nodeName == 'group') and (name.parentNode.parentNode.parentNode.nodeName == 'template'):\n",
    "            group_name = name.firstChild.data\n",
    "            #print(group_name)\n",
    "            sub_groups.append(group_name)\n",
    "            #print('---')\n",
    "            information['groups'] = sub_groups\n",
    "    \n",
    "    # 获取当前applications内容\n",
    "    sub_applications = []\n",
    "    for name in names:\n",
    "        if (name.parentNode.nodeName == 'application') and (name.parentNode.parentNode.parentNode.nodeName == 'template'):\n",
    "            application_name = name.firstChild.data\n",
    "            #print(group_name)\n",
    "            sub_applications.append(application_name)\n",
    "            #print('---')\n",
    "            information['applications'] = sub_applications\n",
    "    \n",
    "    informations.append(information)"
   ]
  },
  {
   "cell_type": "code",
   "execution_count": 6,
   "metadata": {},
   "outputs": [
    {
     "data": {
      "text/plain": [
       "136"
      ]
     },
     "execution_count": 6,
     "metadata": {},
     "output_type": "execute_result"
    }
   ],
   "source": [
    "len(informations)"
   ]
  },
  {
   "cell_type": "code",
   "execution_count": null,
   "metadata": {},
   "outputs": [],
   "source": [
    "informations"
   ]
  }
 ],
 "metadata": {
  "kernelspec": {
   "display_name": "Python 3",
   "language": "python",
   "name": "python3"
  },
  "language_info": {
   "codemirror_mode": {
    "name": "ipython",
    "version": 3
   },
   "file_extension": ".py",
   "mimetype": "text/x-python",
   "name": "python",
   "nbconvert_exporter": "python",
   "pygments_lexer": "ipython3",
   "version": "3.7.6"
  }
 },
 "nbformat": 4,
 "nbformat_minor": 4
}
