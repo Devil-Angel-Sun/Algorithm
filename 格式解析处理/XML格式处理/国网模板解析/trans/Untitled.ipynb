{
 "cells": [
  {
   "cell_type": "code",
   "execution_count": 1,
   "metadata": {},
   "outputs": [],
   "source": [
    "import pandas as pd\n",
    "import re"
   ]
  },
  {
   "cell_type": "code",
   "execution_count": 2,
   "metadata": {},
   "outputs": [],
   "source": [
    "data = pd.read_excel('./国网业务详细指标.xlsx', sheet_name = 0)\n",
    "data_dict = pd.read_excel('./data.xlsx', sheet_name = 0)"
   ]
  },
  {
   "cell_type": "code",
   "execution_count": 3,
   "metadata": {},
   "outputs": [],
   "source": [
    "data_dict['key'] = data_dict['key'].apply(lambda x: x.strip())"
   ]
  },
  {
   "cell_type": "code",
   "execution_count": 4,
   "metadata": {},
   "outputs": [],
   "source": [
    "data_dict = dict(zip(data_dict['key'],data_dict['value']))"
   ]
  },
  {
   "cell_type": "code",
   "execution_count": 5,
   "metadata": {},
   "outputs": [],
   "source": [
    "def trans(x):\n",
    "    trans_x = 0\n",
    "    if re.search('Free disk space on [/a-z0-9]+ \\(percentage\\)', x):\n",
    "        if re.search('/[a-z0-9]+', x):\n",
    "            trans_x = '{}目录下磁盘空间空闲百分比'.format(re.search('/[a-z0-9]+', x).group())\n",
    "        else:\n",
    "            trans_x = '/目录下磁盘空间空闲百分比'\n",
    "    elif re.search('Used disk space on [/a-z0-9]+', x):\n",
    "        if re.search('/[a-z0-9]+', x):\n",
    "            trans_x = '{}目录下磁盘空间已使用字节数'.format(re.search('/[a-z0-9]+', x).group())\n",
    "        else:\n",
    "            trans_x = '/目录下磁盘空间空闲百分比'\n",
    "    elif re.search('Free inodes on [/a-z0-9]+ \\(percentage\\)', x):\n",
    "        if re.search('/[a-z0-9]+', x):\n",
    "            trans_x = '{}目录下inodes空间空闲百分比'.format(re.search('/[a-z0-9]+', x).group())\n",
    "        else:\n",
    "            trans_x = '/目录下磁盘空间空闲百分比'\n",
    "    elif re.search('Free disk space on [/a-z0-9]+', x):\n",
    "        if re.search('/[a-z0-9]+', x):\n",
    "            trans_x = '{}目录下磁盘空间空闲字节数'.format(re.search('/[a-z0-9]+', x).group())\n",
    "        else:\n",
    "            trans_x = '/目录下磁盘空间空闲百分比'\n",
    "    elif re.search('Total disk space on [/a-z0-9]+', x):\n",
    "        if re.search('/[a-z0-9]+', x):\n",
    "            trans_x = '{}目录下磁盘总空间字节数'.format(re.search('/[a-z0-9]+', x).group())\n",
    "        else:\n",
    "            trans_x = '/目录下磁盘总空间字节数'\n",
    "    elif re.search('Incoming network traffic on [a-z0-9]+', x):\n",
    "        trans_x = '网卡{}: 进口流量'.format(re.search('[a-z0-9-]+$', x).group())\n",
    "    elif re.search('Outgoing network traffic on [a-z0-9]+', x):\n",
    "        trans_x = '网卡{}: 出口流量'.format(re.search('[a-z0-9-]+$', x).group())\n",
    "    elif re.search('ceph-droped-in[-a-z0-9]+', x):\n",
    "        new = re.search('ceph-droped-[in0-9]+-', x).group()\n",
    "        trans_x = '网卡{}: 进口丢包数'.format(x.split(new)[1])\n",
    "    elif re.search('Incoming network dropped packets on [-a-z0-9]+', x):\n",
    "        new = re.search('Incoming network dropped packets on ', x).group()\n",
    "        trans_x = '网卡{}: 进口丢包数'.format(x.split(new)[1])\n",
    "    elif re.search('[A-Za-z ]+ process is running', x):\n",
    "        new = re.search(' process is running', x).group()\n",
    "        trans_x = '{}进程正在运行'.format(x.split(new)[0])\n",
    "    elif re.search('[A-Za-z ]+ is listening on port', x):\n",
    "        new = re.search(' is listening on port', x).group()\n",
    "        trans_x = '{}进程正在被侦听'.format(x.split(new)[0])\n",
    "    elif re.search('OpscDB storage Assigned volume [{}a-z0-9-]+', x):\n",
    "        new = re.search('OpscDB storage Assigned volume ', x).group()\n",
    "        trans_x = '{}分配存储卷'.format(x.split(new)[1])\n",
    "    elif x in list(data_dict.keys()):\n",
    "        for i in list(data_dict.keys()):\n",
    "            if i == x:\n",
    "                trans_x = data_dict[i]\n",
    "    return trans_x"
   ]
  },
  {
   "cell_type": "code",
   "execution_count": null,
   "metadata": {},
   "outputs": [],
   "source": []
  },
  {
   "cell_type": "code",
   "execution_count": 6,
   "metadata": {},
   "outputs": [],
   "source": [
    "data = data[['indexName']].dropna()"
   ]
  },
  {
   "cell_type": "code",
   "execution_count": 7,
   "metadata": {},
   "outputs": [],
   "source": [
    "data['itemname'] = data['indexName'].apply(lambda x: trans(x.strip()))"
   ]
  },
  {
   "cell_type": "code",
   "execution_count": null,
   "metadata": {},
   "outputs": [],
   "source": []
  },
  {
   "cell_type": "code",
   "execution_count": 8,
   "metadata": {},
   "outputs": [],
   "source": [
    "data.to_excel('data1.xlsx', sheet_name = 'APM')"
   ]
  },
  {
   "cell_type": "code",
   "execution_count": 6,
   "metadata": {},
   "outputs": [
    {
     "name": "stdout",
     "output_type": "stream",
     "text": [
      "APM\n",
      "Ceph,Discovered hosts\n",
      "Discovered hosts,K8s\n",
      "Openstack，MySQL\n",
      "Openstack Cluster\n",
      "Mysql_Server,Openstack Cluster\n",
      "MySQL\n",
      "Zabbixserver\n"
     ]
    }
   ],
   "source": [
    "xl = pd.ExcelFile('./国网业务详细指标.xlsx').sheet_names\n",
    "write = pd.ExcelWriter('./data1.xlsx')\n",
    "for i in xl:\n",
    "    print(i)\n",
    "    data = pd.read_excel('./国网业务详细指标.xlsx', sheet_name = i)\n",
    "    data = data[['indexName']].dropna()\n",
    "    data['itemname'] = data['indexName'].apply(lambda x: trans(x.strip()))\n",
    "#     print(data.iloc[0])\n",
    "    data.to_excel(write, sheet_name = i)\n",
    "write.save()\n",
    "write.close()"
   ]
  },
  {
   "cell_type": "markdown",
   "metadata": {},
   "source": [
    "### 修改关于mysql的内容"
   ]
  },
  {
   "cell_type": "code",
   "execution_count": 39,
   "metadata": {},
   "outputs": [],
   "source": [
    "data = pd.read_excel('./国网业务详细指标.xlsx', sheet_name = 'Zabbixserver')"
   ]
  },
  {
   "cell_type": "code",
   "execution_count": 40,
   "metadata": {},
   "outputs": [],
   "source": [
    "data = data[['indexName']].iloc[83:].dropna()"
   ]
  },
  {
   "cell_type": "code",
   "execution_count": 41,
   "metadata": {},
   "outputs": [],
   "source": [
    "data_dict = pd.read_excel('./data.xlsx', sheet_name = 2)\n",
    "data_dict['key'] = data_dict['key'].apply(lambda x: x.strip())\n",
    "data_dict = dict(zip(data_dict['key'],data_dict['value']))"
   ]
  },
  {
   "cell_type": "code",
   "execution_count": 42,
   "metadata": {},
   "outputs": [],
   "source": [
    "def trans_mysql(x):\n",
    "    trans_x = 0\n",
    "    if x in list(data_dict.keys()):\n",
    "        for i in list(data_dict.keys()):\n",
    "            if i == x:\n",
    "                trans_x = data_dict[i]\n",
    "    return trans_x"
   ]
  },
  {
   "cell_type": "code",
   "execution_count": 43,
   "metadata": {},
   "outputs": [],
   "source": [
    "data['itemname'] = data['indexName'].apply(lambda x: trans(x.strip()))"
   ]
  },
  {
   "cell_type": "code",
   "execution_count": 44,
   "metadata": {},
   "outputs": [],
   "source": [
    "data.to_excel('./data1.xlsx')"
   ]
  },
  {
   "cell_type": "code",
   "execution_count": null,
   "metadata": {},
   "outputs": [],
   "source": []
  },
  {
   "cell_type": "markdown",
   "metadata": {},
   "source": [
    "### 添加Application"
   ]
  },
  {
   "cell_type": "code",
   "execution_count": 60,
   "metadata": {},
   "outputs": [],
   "source": [
    "def application(x):\n",
    "    application = 0\n",
    "    if re.search('Free disk space on [/a-z0-9]+ \\(percentage\\)', x):\n",
    "        application = 'Filesystems'\n",
    "    elif re.search('Used disk space on [/a-z0-9]+', x):\n",
    "        application = 'Filesystems'\n",
    "    elif re.search('Free inodes on [/a-z0-9]+ \\(percentage\\)', x):\n",
    "        application = 'Filesystems'\n",
    "    elif re.search('Free disk space on [/a-z0-9]+', x):\n",
    "        application = 'Filesystems'\n",
    "    elif re.search('Total disk space on [/a-z0-9]+', x):\n",
    "        application = 'Filesystems'\n",
    "    elif re.search('Incoming network traffic on [a-z0-9]+', x):\n",
    "        application = 'Network'\n",
    "    elif re.search('Outgoing network traffic on [a-z0-9]+', x):\n",
    "        application = 'Network'\n",
    "    elif re.search('ceph-droped-in[-a-z0-9]+', x):\n",
    "        application = 'Network'\n",
    "    elif re.search('Incoming network dropped packets on [-a-z0-9]+', x):\n",
    "        application = 'Network'\n",
    "    elif re.search('[A-Za-z ]+ process is running', x):\n",
    "        application = 'Process'\n",
    "    elif re.search('[A-Za-z ]+ is listening on port', x):\n",
    "        application = 'Service'\n",
    "    elif re.search('OpscDB storage Assigned volume [{}a-z0-9-]+', x):\n",
    "        application = 'Volume'\n",
    "    elif x in list(data_dict.keys()):\n",
    "        for i in list(data_dict.keys()):\n",
    "            if i == x:\n",
    "                application = data_dict[i]\n",
    "    return application"
   ]
  },
  {
   "cell_type": "code",
   "execution_count": 61,
   "metadata": {},
   "outputs": [],
   "source": [
    "data_dict = pd.read_excel('./data.xlsx', sheet_name = 0)\n",
    "data_dict['key'] = data_dict['key'].apply(lambda x: x.strip())\n",
    "data_dict = dict(zip(data_dict['key'],data_dict['application']))"
   ]
  },
  {
   "cell_type": "code",
   "execution_count": null,
   "metadata": {},
   "outputs": [],
   "source": []
  },
  {
   "cell_type": "code",
   "execution_count": null,
   "metadata": {},
   "outputs": [],
   "source": []
  },
  {
   "cell_type": "code",
   "execution_count": 62,
   "metadata": {},
   "outputs": [
    {
     "name": "stdout",
     "output_type": "stream",
     "text": [
      "APM\n",
      "Ceph,Discovered hosts\n",
      "Discovered hosts,K8s\n",
      "Openstack，MySQL\n",
      "Openstack Cluster\n",
      "Mysql_Server,Openstack Cluster\n",
      "MySQL\n",
      "Zabbixserver\n"
     ]
    }
   ],
   "source": [
    "xl = pd.ExcelFile('./国网业务详细指标.xlsx').sheet_names\n",
    "write = pd.ExcelWriter('./data1.xlsx')\n",
    "for i in xl:\n",
    "    print(i)\n",
    "    data = pd.read_excel('./国网业务详细指标.xlsx', sheet_name = i)\n",
    "    data = data[['indexName']].dropna()\n",
    "    data['application'] = data['indexName'].apply(lambda x: application(x.strip()))\n",
    "#     print(data.iloc[0])\n",
    "    data.to_excel(write, sheet_name = i)\n",
    "write.save()\n",
    "write.close()"
   ]
  },
  {
   "cell_type": "code",
   "execution_count": null,
   "metadata": {},
   "outputs": [],
   "source": []
  }
 ],
 "metadata": {
  "kernelspec": {
   "display_name": "Python 3",
   "language": "python",
   "name": "python3"
  },
  "language_info": {
   "codemirror_mode": {
    "name": "ipython",
    "version": 3
   },
   "file_extension": ".py",
   "mimetype": "text/x-python",
   "name": "python",
   "nbconvert_exporter": "python",
   "pygments_lexer": "ipython3",
   "version": "3.7.6"
  }
 },
 "nbformat": 4,
 "nbformat_minor": 4
}
