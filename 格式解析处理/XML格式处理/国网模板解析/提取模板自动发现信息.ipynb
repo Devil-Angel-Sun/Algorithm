{
 "cells": [
  {
   "cell_type": "code",
   "execution_count": 1,
   "metadata": {},
   "outputs": [],
   "source": [
    "import xml.dom.minidom as xmldom"
   ]
  },
  {
   "cell_type": "code",
   "execution_count": 2,
   "metadata": {},
   "outputs": [],
   "source": [
    "path = './zbx_export_templates.xml'"
   ]
  },
  {
   "cell_type": "code",
   "execution_count": 3,
   "metadata": {},
   "outputs": [],
   "source": [
    "# 解析文件\n",
    "doc = xmldom.parse(path) \n",
    "root = doc.documentElement"
   ]
  },
  {
   "cell_type": "code",
   "execution_count": 4,
   "metadata": {},
   "outputs": [
    {
     "data": {
      "text/plain": [
       "159"
      ]
     },
     "execution_count": 4,
     "metadata": {},
     "output_type": "execute_result"
    }
   ],
   "source": [
    "# 获得templates下所有template节点\n",
    "templates = root.getElementsByTagName('template')\n",
    "node_templates = []\n",
    "# 遍历节点，选择符合条件，获得当前模板的template名称\n",
    "for template in templates:\n",
    "    if (template.parentNode.nodeName == 'templates') and (template.parentNode.parentNode.nodeName == 'zabbix_export'):\n",
    "        node_templates.append(template)\n",
    "len(node_templates) # 这里的节点就是templates下每一层template中的内容（即'\\n      ')"
   ]
  },
  {
   "cell_type": "code",
   "execution_count": 7,
   "metadata": {},
   "outputs": [],
   "source": [
    "items = []\n",
    "for template in node_templates:\n",
    "    \n",
    "    for index1 in template.childNodes:\n",
    "    #print(node_templates[67])\n",
    "        if str(index1).startswith('<DOM Element: discovery_rules'):\n",
    "            index_rules = template.childNodes.index(index1)\n",
    "            discovery_rules =  template.childNodes[index_rules]\n",
    "            #print(discovery_rules)\n",
    "            for index2 in discovery_rules.childNodes[1::2]:\n",
    "                dict_item = {}\n",
    "                nodes = index2.childNodes\n",
    "                for i in nodes:\n",
    "                    #print(i)\n",
    "                    if str(i).startswith('<DOM Element: item_prototypes'):\n",
    "                        #print(i.childNodes[1].childNodes[1].firstChild.data)\n",
    "                        if i.childNodes:\n",
    "                            item_nodes = i.childNodes[1].childNodes\n",
    "                            for node in item_nodes:\n",
    "                                if node.nodeName == 'name':\n",
    "                                    dict_item['itemname'] = node.firstChild.data\n",
    "                                elif node.nodeName == 'key':\n",
    "                                    dict_item['key'] = node.firstChild.data\n",
    "                                elif node.nodeName == 'description':\n",
    "                                    if node.firstChild:\n",
    "                                        dict_item['description'] = node.firstChild.data\n",
    "                                elif node.nodeName == 'value_type':\n",
    "                                    if node.firstChild:\n",
    "                                        dict_item['value_type'] = node.firstChild.data\n",
    "                                elif node.nodeName == 'units':\n",
    "                                    if node.firstChild:\n",
    "                                         dict_item['units'] = node.firstChild.data\n",
    "                                elif node.nodeName == 'delay':\n",
    "                                    if node.firstChild:\n",
    "                                         dict_item['delay'] = node.firstChild.data\n",
    "                                elif node.nodeName == 'applications':\n",
    "                                    if node.firstChild:\n",
    "                                        dict_item['application'] = node.childNodes[1].childNodes[1].firstChild.data  \n",
    "                                    else:\n",
    "                                        dict_item['application'] = node.parentNode.parentNode.parentNode.childNodes[7].childNodes[1].childNodes[1].firstChild.data\n",
    "                            dict_item['discovery_rule'] = i.parentNode.childNodes[1].firstChild.data\n",
    "                            dict_item['template'] = template.childNodes[1].firstChild.data\n",
    "                            \n",
    "\n",
    "                items.append(dict_item)\n",
    "    #print(template.childNodes[1].firstChild.data)"
   ]
  },
  {
   "cell_type": "code",
   "execution_count": 8,
   "metadata": {},
   "outputs": [
    {
     "data": {
      "text/plain": [
       "157"
      ]
     },
     "execution_count": 8,
     "metadata": {},
     "output_type": "execute_result"
    }
   ],
   "source": [
    "j = []\n",
    "for i in items:\n",
    "    if i:\n",
    "        j.append(i)\n",
    "len(j)"
   ]
  },
  {
   "cell_type": "code",
   "execution_count": 10,
   "metadata": {},
   "outputs": [],
   "source": [
    "import pandas as pd\n",
    "discovery = pd.DataFrame(j)\n",
    "discovery.to_csv('discovery_items.csv', index = False)"
   ]
  },
  {
   "cell_type": "code",
   "execution_count": null,
   "metadata": {},
   "outputs": [],
   "source": []
  },
  {
   "cell_type": "code",
   "execution_count": null,
   "metadata": {},
   "outputs": [],
   "source": []
  }
 ],
 "metadata": {
  "kernelspec": {
   "display_name": "Python 3",
   "language": "python",
   "name": "python3"
  },
  "language_info": {
   "codemirror_mode": {
    "name": "ipython",
    "version": 3
   },
   "file_extension": ".py",
   "mimetype": "text/x-python",
   "name": "python",
   "nbconvert_exporter": "python",
   "pygments_lexer": "ipython3",
   "version": "3.7.6"
  }
 },
 "nbformat": 4,
 "nbformat_minor": 4
}
