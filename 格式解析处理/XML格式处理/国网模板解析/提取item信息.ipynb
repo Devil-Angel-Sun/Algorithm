{
 "cells": [
  {
   "cell_type": "code",
   "execution_count": 2,
   "metadata": {},
   "outputs": [],
   "source": [
    "import xml.dom.minidom as xmldom"
   ]
  },
  {
   "cell_type": "code",
   "execution_count": 8,
   "metadata": {},
   "outputs": [],
   "source": [
    "path = './zbx_export_templates.xml'"
   ]
  },
  {
   "cell_type": "code",
   "execution_count": 9,
   "metadata": {},
   "outputs": [],
   "source": [
    "# 解析文件\n",
    "doc = xmldom.parse(path) \n",
    "root = doc.documentElement"
   ]
  },
  {
   "cell_type": "code",
   "execution_count": 4,
   "metadata": {},
   "outputs": [
    {
     "data": {
      "text/plain": [
       "136"
      ]
     },
     "execution_count": 4,
     "metadata": {},
     "output_type": "execute_result"
    }
   ],
   "source": [
    "# 获得templates下所有template节点\n",
    "templates = root.getElementsByTagName('template')\n",
    "node_templates = []\n",
    "# 遍历节点，选择符合条件，获得当前模板的template名称\n",
    "for template in templates:\n",
    "    if (template.parentNode.nodeName == 'templates') and (template.parentNode.parentNode.nodeName == 'zabbix_export'):\n",
    "        node_templates.append(template)\n",
    "len(node_templates) # 这里的节点就是templates下每一层template中的内容（即'\\n      ')"
   ]
  },
  {
   "cell_type": "code",
   "execution_count": 5,
   "metadata": {},
   "outputs": [],
   "source": [
    "nodes = node_templates[0].childNodes[11].childNodes[1].childNodes"
   ]
  },
  {
   "cell_type": "code",
   "execution_count": 6,
   "metadata": {},
   "outputs": [],
   "source": [
    "dict_item = {}\n",
    "for node in nodes:\n",
    "    if node.nodeName == 'name':\n",
    "        dict_item['itemname'] = node.firstChild.data\n",
    "    elif node.nodeName == 'key':\n",
    "        dict_item['key'] = node.firstChild.data\n",
    "    elif node.nodeName == 'description':\n",
    "        if node.firstChild:\n",
    "            dict_item['description'] = node.firstChild.data\n",
    "    elif node.nodeName == 'value_type':\n",
    "        if node.firstChild:\n",
    "            dict_item['value_type'] = node.firstChild.data\n",
    "    elif node.nodeName == 'units':\n",
    "        if node.firstChild:\n",
    "             dict_item['units'] = node.firstChild.data\n",
    "    elif node.nodeName == 'applications':\n",
    "        #print(node.childNodes[1].childNodes[1].firstChild.data)\n",
    "        dict_item['application'] = node.childNodes[1].childNodes[1].firstChild.data"
   ]
  },
  {
   "cell_type": "code",
   "execution_count": 7,
   "metadata": {},
   "outputs": [
    {
     "data": {
      "text/plain": [
       "{'itemname': 'Aborted Clients',\n",
       " 'key': 'MySQL.Aborted-clients',\n",
       " 'value_type': '0',\n",
       " 'description': 'MySQL Aborted Clients',\n",
       " 'application': 'MySQL'}"
      ]
     },
     "execution_count": 7,
     "metadata": {},
     "output_type": "execute_result"
    }
   ],
   "source": [
    "dict_item"
   ]
  },
  {
   "cell_type": "code",
   "execution_count": 8,
   "metadata": {},
   "outputs": [],
   "source": [
    "## items项\n",
    "items = []\n",
    "for template in node_templates:\n",
    "#     print(template)\n",
    "    if template.childNodes[11].nodeName == 'items':\n",
    "        if template.childNodes[11].firstChild:\n",
    "            for i in template.childNodes[11].childNodes[1::2]:\n",
    "                nodes = i.childNodes\n",
    "                dict_item = {}\n",
    "                for node in nodes:\n",
    "                    if node.nodeName == 'name':\n",
    "                        dict_item['itemname'] = node.firstChild.data\n",
    "                    elif node.nodeName == 'key':\n",
    "                        dict_item['key'] = node.firstChild.data\n",
    "                    elif node.nodeName == 'description':\n",
    "                        if node.firstChild:\n",
    "                            dict_item['description'] = node.firstChild.data\n",
    "                    elif node.nodeName == 'value_type':\n",
    "                        if node.firstChild:\n",
    "                            dict_item['value_type'] = node.firstChild.data\n",
    "                    elif node.nodeName == 'units':\n",
    "                        if node.firstChild:\n",
    "                            dict_item['units'] = node.firstChild.data\n",
    "                    elif node.nodeName == 'delay':\n",
    "                        if node.firstChild:\n",
    "                            dict_item['delay'] = node.firstChild.data\n",
    "                    elif node.nodeName == 'applications':\n",
    "                        if node.firstChild:\n",
    "                            dict_item['application'] = node.childNodes[1].childNodes[1].firstChild.data  \n",
    "                        else:\n",
    "                            dict_item['application'] = node.parentNode.parentNode.parentNode.childNodes[7].childNodes[1].childNodes[1].firstChild.data\n",
    "                dict_item['template'] = template.childNodes[1].firstChild.data \n",
    "                items.append(dict_item)\n",
    "    \n",
    "#     print('------------------------------------------------------------------------------------------------------------------------------------------------')"
   ]
  },
  {
   "cell_type": "code",
   "execution_count": 9,
   "metadata": {},
   "outputs": [
    {
     "data": {
      "text/plain": [
       "1077"
      ]
     },
     "execution_count": 9,
     "metadata": {},
     "output_type": "execute_result"
    }
   ],
   "source": [
    "len(items)"
   ]
  },
  {
   "cell_type": "code",
   "execution_count": 10,
   "metadata": {},
   "outputs": [
    {
     "data": {
      "text/plain": [
       "{'itemname': 'Aborted Clients',\n",
       " 'key': 'MySQL.Aborted-clients',\n",
       " 'delay': '300',\n",
       " 'value_type': '0',\n",
       " 'description': 'MySQL Aborted Clients',\n",
       " 'application': 'MySQL',\n",
       " 'template': 'Percona MySQL Server Template'}"
      ]
     },
     "execution_count": 10,
     "metadata": {},
     "output_type": "execute_result"
    }
   ],
   "source": [
    "items[0]"
   ]
  },
  {
   "cell_type": "code",
   "execution_count": 11,
   "metadata": {},
   "outputs": [],
   "source": [
    "## items项\n",
    "item_prototypes = []\n",
    "for template in node_templates:\n",
    "#     print(template)\n",
    "    if template.childNodes[11].nodeName == 'items':\n",
    "        if template.childNodes[11].firstChild:\n",
    "            for i in template.childNodes[11].childNodes[1::2]:\n",
    "                nodes = i.childNodes\n",
    "                dict_item = {}\n",
    "                for node in nodes:\n",
    "                    if node.nodeName == 'name':\n",
    "                        dict_item['itemname'] = node.firstChild.data\n",
    "                    elif node.nodeName == 'key':\n",
    "                        dict_item['key'] = node.firstChild.data\n",
    "                    elif node.nodeName == 'description':\n",
    "                        if node.firstChild:\n",
    "                            dict_item['description'] = node.firstChild.data\n",
    "                    elif node.nodeName == 'value_type':\n",
    "                        if node.firstChild:\n",
    "                            dict_item['value_type'] = node.firstChild.data\n",
    "                    elif node.nodeName == 'units':\n",
    "                        if node.firstChild:\n",
    "                             dict_item['units'] = node.firstChild.data\n",
    "                    elif node.nodeName == 'delay':\n",
    "                        if node.firstChild:\n",
    "                            dict_item['delay'] = node.firstChild.data\n",
    "                    elif node.nodeName == 'applications':\n",
    "                        if node.firstChild:\n",
    "                            dict_item['application'] = node.childNodes[1].childNodes[1].firstChild.data  \n",
    "                        else:\n",
    "                            dict_item['application'] = node.parentNode.parentNode.parentNode.childNodes[7].childNodes[1].childNodes[1].firstChild.data\n",
    "                dict_item['template'] = template.childNodes[1].firstChild.data \n",
    "                item_prototypes.append(dict_item)\n",
    "    \n",
    "#     print('------------------------------------------------------------------------------------------------------------------------------------------------')"
   ]
  },
  {
   "cell_type": "code",
   "execution_count": 12,
   "metadata": {},
   "outputs": [
    {
     "data": {
      "text/plain": [
       "{'itemname': 'Aborted Connects',\n",
       " 'key': 'MySQL.Aborted-connects',\n",
       " 'delay': '300',\n",
       " 'value_type': '0',\n",
       " 'description': 'MySQL Aborted Connects',\n",
       " 'application': 'MySQL',\n",
       " 'template': 'Percona MySQL Server Template'}"
      ]
     },
     "execution_count": 12,
     "metadata": {},
     "output_type": "execute_result"
    }
   ],
   "source": [
    "items[1]"
   ]
  },
  {
   "cell_type": "code",
   "execution_count": 13,
   "metadata": {},
   "outputs": [],
   "source": [
    "import pandas as pd\n",
    "prototypes = pd.DataFrame(items)\n",
    "prototypes.to_csv('prototypes_items.csv', index = False)"
   ]
  },
  {
   "cell_type": "code",
   "execution_count": null,
   "metadata": {},
   "outputs": [],
   "source": []
  }
 ],
 "metadata": {
  "kernelspec": {
   "display_name": "Python 3",
   "language": "python",
   "name": "python3"
  },
  "language_info": {
   "codemirror_mode": {
    "name": "ipython",
    "version": 3
   },
   "file_extension": ".py",
   "mimetype": "text/x-python",
   "name": "python",
   "nbconvert_exporter": "python",
   "pygments_lexer": "ipython3",
   "version": "3.7.6"
  }
 },
 "nbformat": 4,
 "nbformat_minor": 4
}
