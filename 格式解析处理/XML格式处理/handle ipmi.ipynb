{
 "cells": [
  {
   "cell_type": "code",
   "execution_count": 1,
   "metadata": {},
   "outputs": [],
   "source": [
    "list_data =[{\"id\":\"PS1 Temp Status\",\"name\":\"(r0.32.10.0).PS1 Temp Status\",\"sensor\":{\"type\":33,\"text\":\"slot_connector\"},\"reading\":{\"type\":111,\"text\":\"sensor specific\"},\"state\":{\"state\":0,\"text\":\"\"}},{\"id\":\"PS1 Fan Status\",\"name\":\"(r0.32.10.0).PS1 Fan Status\",\"sensor\":{\"type\":33,\"text\":\"slot_connector\"},\"reading\":{\"type\":111,\"text\":\"sensor specific\"},\"state\":{\"state\":0,\"text\":\"\"}},{\"id\":\"PS1 Status\",\"name\":\"(r0.32.10.0).PS1 Status\",\"sensor\":{\"type\":8,\"text\":\"power_supply\"},\"reading\":{\"type\":111,\"text\":\"sensor specific\"},\"state\":{\"state\":1,\"text\":\"presence detected\"}},{\"id\":\"DISK7\",\"name\":\"(r0.32.4.7).DISK7\",\"sensor\":{\"type\":13,\"text\":\"drive_slot\"},\"reading\":{\"type\":111,\"text\":\"sensor specific\"},\"state\":{\"state\":0,\"text\":\"\"}},{\"id\":\"DISK6\",\"name\":\"(r0.32.4.6).DISK6\",\"sensor\":{\"type\":13,\"text\":\"drive_slot\"},\"reading\":{\"type\":111,\"text\":\"sensor specific\"},\"state\":{\"state\":1,\"text\":\"drive presence\"}},{\"id\":\"DISK5\",\"name\":\"(r0.32.4.5).DISK5\",\"sensor\":{\"type\":13,\"text\":\"drive_slot\"},\"reading\":{\"type\":111,\"text\":\"sensor specific\"},\"state\":{\"state\":1,\"text\":\"drive presence\"}},{\"id\":\"DISK4\",\"name\":\"(r0.32.4.4).DISK4\",\"sensor\":{\"type\":13,\"text\":\"drive_slot\"},\"reading\":{\"type\":111,\"text\":\"sensor specific\"},\"state\":{\"state\":1,\"text\":\"drive presence\"}},{\"id\":\"DISK3\",\"name\":\"(r0.32.4.3).DISK3\",\"sensor\":{\"type\":13,\"text\":\"drive_slot\"},\"reading\":{\"type\":111,\"text\":\"sensor specific\"},\"state\":{\"state\":1,\"text\":\"drive presence\"}},{\"id\":\"DISK2\",\"name\":\"(r0.32.4.2).DISK2\",\"sensor\":{\"type\":13,\"text\":\"drive_slot\"},\"reading\":{\"type\":111,\"text\":\"sensor specific\"},\"state\":{\"state\":1,\"text\":\"drive presence\"}},{\"id\":\"DISK1\",\"name\":\"(r0.32.4.1).DISK1\",\"sensor\":{\"type\":13,\"text\":\"drive_slot\"},\"reading\":{\"type\":111,\"text\":\"sensor specific\"},\"state\":{\"state\":1,\"text\":\"drive presence\"}},{\"id\":\"DISK0\",\"name\":\"(r0.32.4.0).DISK0\",\"sensor\":{\"type\":13,\"text\":\"drive_slot\"},\"reading\":{\"type\":111,\"text\":\"sensor specific\"},\"state\":{\"state\":1,\"text\":\"drive presence\"}},{\"id\":\"RAID Card BBU\",\"name\":\"(r0.32.11.0).RAID Card BBU\",\"sensor\":{\"type\":41,\"text\":\"battery\"},\"reading\":{\"type\":111,\"text\":\"sensor specific\"},\"state\":{\"state\":0,\"text\":\"\"}},{\"id\":\"RAID PCIE ERR\",\"name\":\"(r0.32.11.0).RAID PCIE ERR\",\"sensor\":{\"type\":23,\"text\":\"add_in_card\"},\"reading\":{\"type\":3,\"text\":\"discrete_state\"},\"state\":{\"state\":0,\"text\":\"\"}},{\"id\":\"RAID Status\",\"name\":\"(r0.32.11.0).RAID Status\",\"sensor\":{\"type\":23,\"text\":\"add_in_card\"},\"reading\":{\"type\":4,\"text\":\"discrete_predictive_failure\"},\"state\":{\"state\":0,\"text\":\"\"}},{\"id\":\"NIC1 Presence\",\"name\":\"(r0.32.7.0).NIC1 Presence\",\"sensor\":{\"type\":23,\"text\":\"add_in_card\"},\"reading\":{\"type\":8,\"text\":\"discrete_device_presence\"},\"state\":{\"state\":0,\"text\":\"\"}},{\"id\":\"Host Loss\",\"name\":\"(r0.32.7.0).Host Loss\",\"sensor\":{\"type\":33,\"text\":\"slot_connector\"},\"reading\":{\"type\":111,\"text\":\"sensor specific\"},\"state\":{\"state\":0,\"text\":\"\"}},{\"id\":\"Sec. Log Full\",\"name\":\"(r0.32.7.0).Sec. Log Full\",\"sensor\":{\"type\":16,\"text\":\"event_logging_disabled\"},\"reading\":{\"type\":7,\"text\":\"discrete_severity\"},\"state\":{\"state\":0,\"text\":\"\"}},{\"id\":\"Op. Log Full\",\"name\":\"(r0.32.7.0).Op. Log Full\",\"sensor\":{\"type\":16,\"text\":\"event_logging_disabled\"},\"reading\":{\"type\":7,\"text\":\"discrete_severity\"},\"state\":{\"state\":0,\"text\":\"\"}},{\"id\":\"SEL Status\",\"name\":\"(r0.32.7.0).SEL Status\",\"sensor\":{\"type\":16,\"text\":\"event_logging_disabled\"},\"reading\":{\"type\":111,\"text\":\"sensor specific\"},\"state\":{\"state\":0,\"text\":\"\"}},{\"id\":\"NTP Sync Failed\",\"name\":\"(r0.32.7.0).NTP Sync Failed\",\"sensor\":{\"type\":22,\"text\":\"microcontroller_coprocessor\"},\"reading\":{\"type\":3,\"text\":\"discrete_state\"},\"state\":{\"state\":0,\"text\":\"\"}},{\"id\":\"BMC Time Hopping\",\"name\":\"(r0.32.7.0).BMC Time Hopping\",\"sensor\":{\"type\":22,\"text\":\"microcontroller_coprocessor\"},\"reading\":{\"type\":3,\"text\":\"discrete_state\"},\"state\":{\"state\":0,\"text\":\"\"}},{\"id\":\"BMC Boot Up\",\"name\":\"(r0.32.7.0).BMC Boot Up\",\"sensor\":{\"type\":22,\"text\":\"microcontroller_coprocessor\"},\"reading\":{\"type\":9,\"text\":\"discrete_device_enable\"},\"state\":{\"state\":2,\"text\":\"device enabled\"}},{\"id\":\"PS Redundancy\",\"name\":\"(r0.32.11.6).PS Redundancy\",\"sensor\":{\"type\":8,\"text\":\"power_supply\"},\"reading\":{\"type\":11,\"text\":\"discrete_redundancy\"},\"state\":{\"state\":0,\"text\":\"\"}},{\"id\":\"LCD Presence\",\"name\":\"(r0.32.7.0).LCD Presence\",\"sensor\":{\"type\":28,\"text\":\"terminator\"},\"reading\":{\"type\":8,\"text\":\"discrete_device_presence\"},\"state\":{\"state\":1,\"text\":\"device removed/absent\"}},{\"id\":\"LCD Status\",\"name\":\"(r0.32.7.0).LCD Status\",\"sensor\":{\"type\":28,\"text\":\"terminator\"},\"reading\":{\"type\":4,\"text\":\"discrete_predictive_failure\"},\"state\":{\"state\":0,\"text\":\"\"}},{\"id\":\"Memory Usage\",\"name\":\"(r0.32.7.0).Memory Usage\",\"sensor\":{\"type\":12,\"text\":\"memory\"},\"reading\":{\"type\":5,\"text\":\"discrete_limit_exceeded\"},\"state\":{\"state\":0,\"text\":\"\"}},{\"id\":\"CPU Usage\",\"name\":\"(r0.32.7.0).CPU Usage\",\"sensor\":{\"type\":7,\"text\":\"processor\"},\"reading\":{\"type\":5,\"text\":\"discrete_limit_exceeded\"},\"state\":{\"state\":0,\"text\":\"\"}},{\"id\":\"RAID Presence\",\"name\":\"(r0.32.7.0).RAID Presence\",\"sensor\":{\"type\":23,\"text\":\"add_in_card\"},\"reading\":{\"type\":8,\"text\":\"discrete_device_presence\"},\"state\":{\"state\":2,\"text\":\"device inserted/present\"}},{\"id\":\"FAN4 Presence\",\"name\":\"(r0.32.30.3).FAN4 Presence\",\"sensor\":{\"type\":10,\"text\":\"cooling_device\"},\"reading\":{\"type\":8,\"text\":\"discrete_device_presence\"},\"state\":{\"state\":0,\"text\":\"\"}},{\"id\":\"FAN3 Presence\",\"name\":\"(r0.32.30.2).FAN3 Presence\",\"sensor\":{\"type\":10,\"text\":\"cooling_device\"},\"reading\":{\"type\":8,\"text\":\"discrete_device_presence\"},\"state\":{\"state\":0,\"text\":\"\"}},{\"id\":\"FAN2 Presence\",\"name\":\"(r0.32.30.1).FAN2 Presence\",\"sensor\":{\"type\":10,\"text\":\"cooling_device\"},\"reading\":{\"type\":8,\"text\":\"discrete_device_presence\"},\"state\":{\"state\":0,\"text\":\"\"}},{\"id\":\"FAN1 Presence\",\"name\":\"(r0.32.30.0).FAN1 Presence\",\"sensor\":{\"type\":10,\"text\":\"cooling_device\"},\"reading\":{\"type\":8,\"text\":\"discrete_device_presence\"},\"state\":{\"state\":0,\"text\":\"\"}},{\"id\":\"SAS Cable\",\"name\":\"(r0.32.7.0).SAS Cable\",\"sensor\":{\"type\":27,\"text\":\"cable_interconnect\"},\"reading\":{\"type\":111,\"text\":\"sensor specific\"},\"state\":{\"state\":0,\"text\":\"\"}},{\"id\":\"Riser3 Card\",\"name\":\"(r0.32.7.0).Riser3 Card\",\"sensor\":{\"type\":23,\"text\":\"add_in_card\"},\"reading\":{\"type\":8,\"text\":\"discrete_device_presence\"},\"state\":{\"state\":0,\"text\":\"\"}},{\"id\":\"Riser2 Card\",\"name\":\"(r0.32.7.0).Riser2 Card\",\"sensor\":{\"type\":23,\"text\":\"add_in_card\"},\"reading\":{\"type\":8,\"text\":\"discrete_device_presence\"},\"state\":{\"state\":0,\"text\":\"\"}},{\"id\":\"Riser1 Card\",\"name\":\"(r0.32.7.0).Riser1 Card\",\"sensor\":{\"type\":23,\"text\":\"add_in_card\"},\"reading\":{\"type\":8,\"text\":\"discrete_device_presence\"},\"state\":{\"state\":2,\"text\":\"device inserted/present\"}},{\"id\":\"HDD BP Status\",\"name\":\"(r0.32.7.0).HDD BP Status\",\"sensor\":{\"type\":21,\"text\":\"module_board\"},\"reading\":{\"type\":7,\"text\":\"discrete_severity\"},\"state\":{\"state\":0,\"text\":\"\"}},{\"id\":\"HDD Backplane\",\"name\":\"(r0.32.7.0).HDD Backplane\",\"sensor\":{\"type\":27,\"text\":\"cable_interconnect\"},\"reading\":{\"type\":111,\"text\":\"sensor specific\"},\"state\":{\"state\":0,\"text\":\"\"}},{\"id\":\"PwrCap Status\",\"name\":\"(r0.32.7.0).PwrCap Status\",\"sensor\":{\"type\":18,\"text\":\"system_event\"},\"reading\":{\"type\":4,\"text\":\"discrete_predictive_failure\"},\"state\":{\"state\":0,\"text\":\"\"}},{\"id\":\"PwrOn TimeOut\",\"name\":\"(r0.32.7.0).PwrOn TimeOut\",\"sensor\":{\"type\":8,\"text\":\"power_supply\"},\"reading\":{\"type\":111,\"text\":\"sensor specific\"},\"state\":{\"state\":0,\"text\":\"\"}},{\"id\":\"PwrOk Sig. Drop\",\"name\":\"(r0.32.7.0).PwrOk Sig. Drop\",\"sensor\":{\"type\":8,\"text\":\"power_supply\"},\"reading\":{\"type\":111,\"text\":\"sensor specific\"},\"state\":{\"state\":0,\"text\":\"\"}},{\"id\":\"UID Button\",\"name\":\"(r0.32.7.0).UID Button\",\"sensor\":{\"type\":20,\"text\":\"button\"},\"reading\":{\"type\":3,\"text\":\"discrete_state\"},\"state\":{\"state\":0,\"text\":\"\"}},{\"id\":\"Mngmnt Health\",\"name\":\"(r0.32.7.0).Mngmnt Health\",\"sensor\":{\"type\":40,\"text\":\"management_subsystem_health\"},\"reading\":{\"type\":111,\"text\":\"sensor specific\"},\"state\":{\"state\":0,\"text\":\"\"}},{\"id\":\"Watchdog2\",\"name\":\"(r0.32.7.0).Watchdog2\",\"sensor\":{\"type\":35,\"text\":\"watchdog_2\"},\"reading\":{\"type\":111,\"text\":\"sensor specific\"},\"state\":{\"state\":0,\"text\":\"\"}},{\"id\":\"Boot Error\",\"name\":\"(r0.32.7.0).Boot Error\",\"sensor\":{\"type\":30,\"text\":\"boot_error\"},\"reading\":{\"type\":111,\"text\":\"sensor specific\"},\"state\":{\"state\":0,\"text\":\"\"}},{\"id\":\"SysRestart\",\"name\":\"(r0.32.7.0).SysRestart\",\"sensor\":{\"type\":29,\"text\":\"system_boot_initiated\"},\"reading\":{\"type\":111,\"text\":\"sensor specific\"},\"state\":{\"state\":128,\"text\":\"System restart\"}},{\"id\":\"Power Button\",\"name\":\"(r0.32.7.0).Power Button\",\"sensor\":{\"type\":20,\"text\":\"button\"},\"reading\":{\"type\":111,\"text\":\"sensor specific\"},\"state\":{\"state\":0,\"text\":\"\"}},{\"id\":\"SysFWProgress\",\"name\":\"(r0.32.7.0).SysFWProgress\",\"sensor\":{\"type\":15,\"text\":\"system_firmware_progress\"},\"reading\":{\"type\":111,\"text\":\"sensor specific\"},\"state\":{\"state\":0,\"text\":\"\"}},{\"id\":\"ACPI State\",\"name\":\"(r0.32.7.0).ACPI State\",\"sensor\":{\"type\":34,\"text\":\"system_acpi_power_state\"},\"reading\":{\"type\":111,\"text\":\"sensor specific\"},\"state\":{\"state\":1,\"text\":\"S0/G0 working\"}},{\"id\":\"PCIE Status\",\"name\":\"(r0.32.11.5).PCIE Status\",\"sensor\":{\"type\":33,\"text\":\"slot_connector\"},\"reading\":{\"type\":111,\"text\":\"sensor specific\"},\"state\":{\"state\":0,\"text\":\"\"}},{\"id\":\"RTC Battery\",\"name\":\"(r0.32.7.0).RTC Battery\",\"sensor\":{\"type\":41,\"text\":\"battery\"},\"reading\":{\"type\":111,\"text\":\"sensor specific\"},\"state\":{\"state\":0,\"text\":\"\"}},{\"id\":\"DIMM151\",\"name\":\"(r0.32.32.23).DIMM151\",\"sensor\":{\"type\":12,\"text\":\"memory\"},\"reading\":{\"type\":111,\"text\":\"sensor specific\"},\"state\":{\"state\":0,\"text\":\"\"}},{\"id\":\"DIMM150\",\"name\":\"(r0.32.32.22).DIMM150\",\"sensor\":{\"type\":12,\"text\":\"memory\"},\"reading\":{\"type\":111,\"text\":\"sensor specific\"},\"state\":{\"state\":0,\"text\":\"\"}},{\"id\":\"DIMM141\",\"name\":\"(r0.32.32.21).DIMM141\",\"sensor\":{\"type\":12,\"text\":\"memory\"},\"reading\":{\"type\":111,\"text\":\"sensor specific\"},\"state\":{\"state\":0,\"text\":\"\"}},{\"id\":\"DIMM140\",\"name\":\"(r0.32.32.20).DIMM140\",\"sensor\":{\"type\":12,\"text\":\"memory\"},\"reading\":{\"type\":111,\"text\":\"sensor specific\"},\"state\":{\"state\":0,\"text\":\"\"}},{\"id\":\"DIMM131\",\"name\":\"(r0.32.32.19).DIMM131\",\"sensor\":{\"type\":12,\"text\":\"memory\"},\"reading\":{\"type\":111,\"text\":\"sensor specific\"},\"state\":{\"state\":0,\"text\":\"\"}},{\"id\":\"DIMM130\",\"name\":\"(r0.32.32.18).DIMM130\",\"sensor\":{\"type\":12,\"text\":\"memory\"},\"reading\":{\"type\":111,\"text\":\"sensor specific\"},\"state\":{\"state\":0,\"text\":\"\"}},{\"id\":\"DIMM121\",\"name\":\"(r0.32.32.17).DIMM121\",\"sensor\":{\"type\":12,\"text\":\"memory\"},\"reading\":{\"type\":111,\"text\":\"sensor specific\"},\"state\":{\"state\":0,\"text\":\"\"}},{\"id\":\"DIMM120\",\"name\":\"(r0.32.32.16).DIMM120\",\"sensor\":{\"type\":12,\"text\":\"memory\"},\"reading\":{\"type\":111,\"text\":\"sensor specific\"},\"state\":{\"state\":0,\"text\":\"\"}},{\"id\":\"DIMM111\",\"name\":\"(r0.32.32.15).DIMM111\",\"sensor\":{\"type\":12,\"text\":\"memory\"},\"reading\":{\"type\":111,\"text\":\"sensor specific\"},\"state\":{\"state\":0,\"text\":\"\"}},{\"id\":\"DIMM110\",\"name\":\"(r0.32.32.14).DIMM110\",\"sensor\":{\"type\":12,\"text\":\"memory\"},\"reading\":{\"type\":111,\"text\":\"sensor specific\"},\"state\":{\"state\":0,\"text\":\"\"}},{\"id\":\"DIMM101\",\"name\":\"(r0.32.32.13).DIMM101\",\"sensor\":{\"type\":12,\"text\":\"memory\"},\"reading\":{\"type\":111,\"text\":\"sensor specific\"},\"state\":{\"state\":0,\"text\":\"\"}},{\"id\":\"DIMM100\",\"name\":\"(r0.32.32.12).DIMM100\",\"sensor\":{\"type\":12,\"text\":\"memory\"},\"reading\":{\"type\":111,\"text\":\"sensor specific\"},\"state\":{\"state\":64,\"text\":\"presence detected\"}},{\"id\":\"DIMM051\",\"name\":\"(r0.32.32.11).DIMM051\",\"sensor\":{\"type\":12,\"text\":\"memory\"},\"reading\":{\"type\":111,\"text\":\"sensor specific\"},\"state\":{\"state\":0,\"text\":\"\"}},{\"id\":\"DIMM050\",\"name\":\"(r0.32.32.10).DIMM050\",\"sensor\":{\"type\":12,\"text\":\"memory\"},\"reading\":{\"type\":111,\"text\":\"sensor specific\"},\"state\":{\"state\":0,\"text\":\"\"}},{\"id\":\"DIMM041\",\"name\":\"(r0.32.32.9).DIMM041\",\"sensor\":{\"type\":12,\"text\":\"memory\"},\"reading\":{\"type\":111,\"text\":\"sensor specific\"},\"state\":{\"state\":0,\"text\":\"\"}},{\"id\":\"DIMM040\",\"name\":\"(r0.32.32.8).DIMM040\",\"sensor\":{\"type\":12,\"text\":\"memory\"},\"reading\":{\"type\":111,\"text\":\"sensor specific\"},\"state\":{\"state\":0,\"text\":\"\"}},{\"id\":\"DIMM031\",\"name\":\"(r0.32.32.7).DIMM031\",\"sensor\":{\"type\":12,\"text\":\"memory\"},\"reading\":{\"type\":111,\"text\":\"sensor specific\"},\"state\":{\"state\":0,\"text\":\"\"}},{\"id\":\"DIMM030\",\"name\":\"(r0.32.32.6).DIMM030\",\"sensor\":{\"type\":12,\"text\":\"memory\"},\"reading\":{\"type\":111,\"text\":\"sensor specific\"},\"state\":{\"state\":0,\"text\":\"\"}},{\"id\":\"DIMM021\",\"name\":\"(r0.32.32.5).DIMM021\",\"sensor\":{\"type\":12,\"text\":\"memory\"},\"reading\":{\"type\":111,\"text\":\"sensor specific\"},\"state\":{\"state\":0,\"text\":\"\"}},{\"id\":\"DIMM020\",\"name\":\"(r0.32.32.4).DIMM020\",\"sensor\":{\"type\":12,\"text\":\"memory\"},\"reading\":{\"type\":111,\"text\":\"sensor specific\"},\"state\":{\"state\":0,\"text\":\"\"}},{\"id\":\"DIMM011\",\"name\":\"(r0.32.32.3).DIMM011\",\"sensor\":{\"type\":12,\"text\":\"memory\"},\"reading\":{\"type\":111,\"text\":\"sensor specific\"},\"state\":{\"state\":0,\"text\":\"\"}},{\"id\":\"DIMM010\",\"name\":\"(r0.32.32.2).DIMM010\",\"sensor\":{\"type\":12,\"text\":\"memory\"},\"reading\":{\"type\":111,\"text\":\"sensor specific\"},\"state\":{\"state\":0,\"text\":\"\"}},{\"id\":\"DIMM001\",\"name\":\"(r0.32.32.1).DIMM001\",\"sensor\":{\"type\":12,\"text\":\"memory\"},\"reading\":{\"type\":111,\"text\":\"sensor specific\"},\"state\":{\"state\":0,\"text\":\"\"}},{\"id\":\"DIMM000\",\"name\":\"(r0.32.32.0).DIMM000\",\"sensor\":{\"type\":12,\"text\":\"memory\"},\"reading\":{\"type\":111,\"text\":\"sensor specific\"},\"state\":{\"state\":64,\"text\":\"presence detected\"}},{\"id\":\"FAN4 Status\",\"name\":\"(r0.32.30.3).FAN4 Status\",\"sensor\":{\"type\":33,\"text\":\"slot_connector\"},\"reading\":{\"type\":111,\"text\":\"sensor specific\"},\"state\":{\"state\":0,\"text\":\"\"}},{\"id\":\"FAN3 Status\",\"name\":\"(r0.32.30.2).FAN3 Status\",\"sensor\":{\"type\":33,\"text\":\"slot_connector\"},\"reading\":{\"type\":111,\"text\":\"sensor specific\"},\"state\":{\"state\":0,\"text\":\"\"}},{\"id\":\"FAN2 Status\",\"name\":\"(r0.32.30.1).FAN2 Status\",\"sensor\":{\"type\":33,\"text\":\"slot_connector\"},\"reading\":{\"type\":111,\"text\":\"sensor specific\"},\"state\":{\"state\":0,\"text\":\"\"}},{\"id\":\"FAN1 Status\",\"name\":\"(r0.32.30.0).FAN1 Status\",\"sensor\":{\"type\":33,\"text\":\"slot_connector\"},\"reading\":{\"type\":111,\"text\":\"sensor specific\"},\"state\":{\"state\":0,\"text\":\"\"}},{\"id\":\"CPU2 Memory\",\"name\":\"(r0.32.3.1).CPU2 Memory\",\"sensor\":{\"type\":12,\"text\":\"memory\"},\"reading\":{\"type\":111,\"text\":\"sensor specific\"},\"state\":{\"state\":0,\"text\":\"\"}},{\"id\":\"CPU1 Memory\",\"name\":\"(r0.32.3.0).CPU1 Memory\",\"sensor\":{\"type\":12,\"text\":\"memory\"},\"reading\":{\"type\":111,\"text\":\"sensor specific\"},\"state\":{\"state\":0,\"text\":\"\"}},{\"id\":\"CPU2 Status\",\"name\":\"(r0.32.3.1).CPU2 Status\",\"sensor\":{\"type\":7,\"text\":\"processor\"},\"reading\":{\"type\":111,\"text\":\"sensor specific\"},\"state\":{\"state\":128,\"text\":\"processor presence detected\"}},{\"id\":\"CPU1 Status\",\"name\":\"(r0.32.3.0).CPU1 Status\",\"sensor\":{\"type\":7,\"text\":\"processor\"},\"reading\":{\"type\":111,\"text\":\"sensor specific\"},\"state\":{\"state\":128,\"text\":\"processor presence detected\"}},{\"id\":\"System Error\",\"name\":\"(r0.32.7.0).System Error\",\"sensor\":{\"type\":18,\"text\":\"system_event\"},\"reading\":{\"type\":111,\"text\":\"sensor specific\"},\"state\":{\"state\":0,\"text\":\"\"}},{\"id\":\"System Notice\",\"name\":\"(r0.32.7.0).System Notice\",\"sensor\":{\"type\":18,\"text\":\"system_event\"},\"reading\":{\"type\":7,\"text\":\"discrete_severity\"},\"state\":{\"state\":0,\"text\":\"\"}},{\"id\":\"CPU2 Prochot\",\"name\":\"(r0.32.3.1).CPU2 Prochot\",\"sensor\":{\"type\":7,\"text\":\"processor\"},\"reading\":{\"type\":3,\"text\":\"discrete_state\"},\"state\":{\"state\":0,\"text\":\"\"}},{\"id\":\"CPU2 UPI Link\",\"name\":\"(r0.32.3.1).CPU2 UPI Link\",\"sensor\":{\"type\":27,\"text\":\"cable_interconnect\"},\"reading\":{\"type\":111,\"text\":\"sensor specific\"},\"state\":{\"state\":0,\"text\":\"\"}},{\"id\":\"CPU1 Prochot\",\"name\":\"(r0.32.3.0).CPU1 Prochot\",\"sensor\":{\"type\":7,\"text\":\"processor\"},\"reading\":{\"type\":3,\"text\":\"discrete_state\"},\"state\":{\"state\":0,\"text\":\"\"}},{\"id\":\"CPU1 UPI Link\",\"name\":\"(r0.32.3.0).CPU1 UPI Link\",\"sensor\":{\"type\":27,\"text\":\"cable_interconnect\"},\"reading\":{\"type\":111,\"text\":\"sensor specific\"},\"state\":{\"state\":0,\"text\":\"\"}},{\"id\":\"PCH Status\",\"name\":\"(r0.32.7.0).PCH Status\",\"sensor\":{\"type\":25,\"text\":\"chip_set\"},\"reading\":{\"type\":3,\"text\":\"discrete_state\"},\"state\":{\"state\":0,\"text\":\"\"}},{\"id\":\"LOM P4 Link Down\",\"name\":\"(r0.32.42.0).LOM P4 Link Down\",\"sensor\":{\"type\":33,\"text\":\"slot_connector\"},\"reading\":{\"type\":111,\"text\":\"sensor specific\"},\"state\":{\"state\":256,\"text\":\"slot is disabled\"}},{\"id\":\"LOM P3 Link Down\",\"name\":\"(r0.32.42.0).LOM P3 Link Down\",\"sensor\":{\"type\":33,\"text\":\"slot_connector\"},\"reading\":{\"type\":111,\"text\":\"sensor specific\"},\"state\":{\"state\":0,\"text\":\"\"}},{\"id\":\"LOM P2 Link Down\",\"name\":\"(r0.32.42.0).LOM P2 Link Down\",\"sensor\":{\"type\":33,\"text\":\"slot_connector\"},\"reading\":{\"type\":111,\"text\":\"sensor specific\"},\"state\":{\"state\":256,\"text\":\"slot is disabled\"}},{\"id\":\"LOM P1 Link Down\",\"name\":\"(r0.32.42.0).LOM P1 Link Down\",\"sensor\":{\"type\":33,\"text\":\"slot_connector\"},\"reading\":{\"type\":111,\"text\":\"sensor specific\"},\"state\":{\"state\":256,\"text\":\"slot is disabled\"}},{\"id\":\"PCH PRIM 1V05\",\"name\":\"(r0.32.7.0).PCH PRIM 1V05\",\"sensor\":{\"type\":2,\"text\":\"voltage\"},\"reading\":{\"type\":1,\"text\":\"threshold\"},\"state\":{\"state\":0,\"text\":\"\"},\"value\":1.040000,\"units\":\"volts\",\"threshold\":{\"lower\":{\"crit\":0.910000},\"upper\":{\"crit\":1.190000}}},{\"id\":\"PCH VPVNN\",\"name\":\"(r0.32.7.0).PCH VPVNN\",\"sensor\":{\"type\":2,\"text\":\"voltage\"},\"reading\":{\"type\":1,\"text\":\"threshold\"},\"state\":{\"state\":0,\"text\":\"\"},\"value\":0.990000,\"units\":\"volts\",\"threshold\":{\"lower\":{\"crit\":0.730000},\"upper\":{\"crit\":1.150000}}},{\"id\":\"CPU2 VCCIO\",\"name\":\"(r0.32.3.1).CPU2 VCCIO\",\"sensor\":{\"type\":2,\"text\":\"voltage\"},\"reading\":{\"type\":1,\"text\":\"threshold\"},\"state\":{\"state\":0,\"text\":\"\"},\"value\":0.990000,\"units\":\"volts\",\"threshold\":{\"lower\":{\"crit\":0.840000},\"upper\":{\"crit\":1.160000}}},{\"id\":\"CPU1 VCCIO\",\"name\":\"(r0.32.3.0).CPU1 VCCIO\",\"sensor\":{\"type\":2,\"text\":\"voltage\"},\"reading\":{\"type\":1,\"text\":\"threshold\"},\"state\":{\"state\":0,\"text\":\"\"},\"value\":0.990000,\"units\":\"volts\",\"threshold\":{\"lower\":{\"crit\":0.840000},\"upper\":{\"crit\":1.160000}}},{\"id\":\"CPU2 VSA\",\"name\":\"(r0.32.3.1).CPU2 VSA\",\"sensor\":{\"type\":2,\"text\":\"voltage\"},\"reading\":{\"type\":1,\"text\":\"threshold\"},\"state\":{\"state\":0,\"text\":\"\"},\"value\":0.870000,\"units\":\"volts\",\"threshold\":{\"lower\":{\"crit\":0.450000},\"upper\":{\"crit\":1.210000}}},{\"id\":\"CPU1 VSA\",\"name\":\"(r0.32.3.0).CPU1 VSA\",\"sensor\":{\"type\":2,\"text\":\"voltage\"},\"reading\":{\"type\":1,\"text\":\"threshold\"},\"state\":{\"state\":0,\"text\":\"\"},\"value\":0.890000,\"units\":\"volts\",\"threshold\":{\"lower\":{\"crit\":0.450000},\"upper\":{\"crit\":1.210000}}},{\"id\":\"CPU2 VRD Temp\",\"name\":\"(r0.32.3.1).CPU2 VRD Temp\",\"sensor\":{\"type\":1,\"text\":\"temperature\"},\"reading\":{\"type\":1,\"text\":\"threshold\"},\"state\":{\"state\":0,\"text\":\"\"},\"value\":45.000000,\"units\":\"C\",\"threshold\":{\"lower\":{},\"upper\":{\"non_crit\":120.000000}}},{\"id\":\"CPU1 VRD Temp\",\"name\":\"(r0.32.3.0).CPU1 VRD Temp\",\"sensor\":{\"type\":1,\"text\":\"temperature\"},\"reading\":{\"type\":1,\"text\":\"threshold\"},\"state\":{\"state\":0,\"text\":\"\"},\"value\":43.000000,\"units\":\"C\",\"threshold\":{\"lower\":{},\"upper\":{\"non_crit\":120.000000}}},{\"id\":\"CPU2 VDDQ Temp\",\"name\":\"(r0.32.3.1).CPU2 VDDQ Temp\",\"sensor\":{\"type\":1,\"text\":\"temperature\"},\"reading\":{\"type\":1,\"text\":\"threshold\"},\"state\":{\"state\":0,\"text\":\"\"},\"value\":37.000000,\"units\":\"C\",\"threshold\":{\"lower\":{},\"upper\":{\"non_crit\":120.000000}}},{\"id\":\"CPU1 VDDQ Temp\",\"name\":\"(r0.32.3.0).CPU1 VDDQ Temp\",\"sensor\":{\"type\":1,\"text\":\"temperature\"},\"reading\":{\"type\":1,\"text\":\"threshold\"},\"state\":{\"state\":0,\"text\":\"\"},\"value\":33.000000,\"units\":\"C\",\"threshold\":{\"lower\":{},\"upper\":{\"non_crit\":120.000000}}},{\"id\":\"CPU2 DDR VDDQ2\",\"name\":\"(r0.32.3.1).CPU2 DDR VDDQ2\",\"sensor\":{\"type\":2,\"text\":\"voltage\"},\"reading\":{\"type\":1,\"text\":\"threshold\"},\"state\":{\"state\":0,\"text\":\"\"},\"value\":1.230000,\"units\":\"volts\",\"threshold\":{\"lower\":{\"crit\":1.140000},\"upper\":{\"crit\":1.260000}}},{\"id\":\"CPU2 DDR VDDQ\",\"name\":\"(r0.32.3.1).CPU2 DDR VDDQ\",\"sensor\":{\"type\":2,\"text\":\"voltage\"},\"reading\":{\"type\":1,\"text\":\"threshold\"},\"state\":{\"state\":0,\"text\":\"\"},\"value\":1.220000,\"units\":\"volts\",\"threshold\":{\"lower\":{\"crit\":1.140000},\"upper\":{\"crit\":1.260000}}},{\"id\":\"CPU1 DDR VDDQ2\",\"name\":\"(r0.32.3.0).CPU1 DDR VDDQ2\",\"sensor\":{\"type\":2,\"text\":\"voltage\"},\"reading\":{\"type\":1,\"text\":\"threshold\"},\"state\":{\"state\":0,\"text\":\"\"},\"value\":1.220000,\"units\":\"volts\",\"threshold\":{\"lower\":{\"crit\":1.140000},\"upper\":{\"crit\":1.260000}}},{\"id\":\"CPU1 DDR VDDQ\",\"name\":\"(r0.32.3.0).CPU1 DDR VDDQ\",\"sensor\":{\"type\":2,\"text\":\"voltage\"},\"reading\":{\"type\":1,\"text\":\"threshold\"},\"state\":{\"state\":0,\"text\":\"\"},\"value\":1.220000,\"units\":\"volts\",\"threshold\":{\"lower\":{\"crit\":1.140000},\"upper\":{\"crit\":1.260000}}},{\"id\":\"CPU2 VCore\",\"name\":\"(r0.32.3.1).CPU2 VCore\",\"sensor\":{\"type\":2,\"text\":\"voltage\"},\"reading\":{\"type\":1,\"text\":\"threshold\"},\"state\":{\"state\":0,\"text\":\"\"},\"value\":1.780000,\"units\":\"volts\",\"threshold\":{\"lower\":{\"crit\":1.230000},\"upper\":{\"crit\":2.040000}}},{\"id\":\"CPU1 VCore\",\"name\":\"(r0.32.3.0).CPU1 VCore\",\"sensor\":{\"type\":2,\"text\":\"voltage\"},\"reading\":{\"type\":1,\"text\":\"threshold\"},\"state\":{\"state\":0,\"text\":\"\"},\"value\":1.780000,\"units\":\"volts\",\"threshold\":{\"lower\":{\"crit\":1.230000},\"upper\":{\"crit\":2.040000}}},{\"id\":\"PS1 Inlet Temp\",\"name\":\"(r0.32.10.0).PS1 Inlet Temp\",\"sensor\":{\"type\":1,\"text\":\"temperature\"},\"reading\":{\"type\":1,\"text\":\"threshold\"},\"state\":{\"state\":0,\"text\":\"\"},\"value\":35.000000,\"units\":\"C\",\"threshold\":{\"lower\":{},\"upper\":{}}},{\"id\":\"PS1 VIN\",\"name\":\"(r0.32.10.0).PS1 VIN\",\"sensor\":{\"type\":2,\"text\":\"voltage\"},\"reading\":{\"type\":1,\"text\":\"threshold\"},\"state\":{\"state\":0,\"text\":\"\"},\"value\":230.000000,\"units\":\"volts\",\"threshold\":{\"lower\":{},\"upper\":{}}},{\"id\":\"Power1\",\"name\":\"(r0.32.10.0).Power1\",\"sensor\":{\"type\":11,\"text\":\"other_units_based_sensor\"},\"reading\":{\"type\":1,\"text\":\"threshold\"},\"state\":{\"state\":0,\"text\":\"\"},\"value\":294.000000,\"units\":\"watts\",\"threshold\":{\"lower\":{},\"upper\":{}}},{\"id\":\"RAID Temp\",\"name\":\"(r0.32.11.0).RAID Temp\",\"sensor\":{\"type\":1,\"text\":\"temperature\"},\"reading\":{\"type\":1,\"text\":\"threshold\"},\"state\":{\"state\":0,\"text\":\"\"},\"value\":51.000000,\"units\":\"C\",\"threshold\":{\"lower\":{},\"upper\":{\"non_crit\":95.000000}}},{\"id\":\"Disks Temp\",\"name\":\"(r0.32.7.0).Disks Temp\",\"sensor\":{\"type\":1,\"text\":\"temperature\"},\"reading\":{\"type\":1,\"text\":\"threshold\"},\"state\":{\"state\":0,\"text\":\"\"},\"value\":35.000000,\"units\":\"C\",\"threshold\":{\"lower\":{},\"upper\":{}}},{\"id\":\"Power\",\"name\":\"(r0.32.7.0).Power\",\"sensor\":{\"type\":11,\"text\":\"other_units_based_sensor\"},\"reading\":{\"type\":1,\"text\":\"threshold\"},\"state\":{\"state\":0,\"text\":\"\"},\"value\":294.000000,\"units\":\"watts\",\"threshold\":{\"lower\":{},\"upper\":{}}},{\"id\":\"FAN4 Speed\",\"name\":\"(r0.32.30.3).FAN4 Speed\",\"sensor\":{\"type\":4,\"text\":\"fan\"},\"reading\":{\"type\":1,\"text\":\"threshold\"},\"state\":{\"state\":0,\"text\":\"\"},\"value\":3960.000000,\"units\":\"RPM\",\"threshold\":{\"lower\":{},\"upper\":{}}},{\"id\":\"FAN3 Speed\",\"name\":\"(r0.32.30.2).FAN3 Speed\",\"sensor\":{\"type\":4,\"text\":\"fan\"},\"reading\":{\"type\":1,\"text\":\"threshold\"},\"state\":{\"state\":0,\"text\":\"\"},\"value\":3960.000000,\"units\":\"RPM\",\"threshold\":{\"lower\":{},\"upper\":{}}},{\"id\":\"FAN2 Speed\",\"name\":\"(r0.32.30.1).FAN2 Speed\",\"sensor\":{\"type\":4,\"text\":\"fan\"},\"reading\":{\"type\":1,\"text\":\"threshold\"},\"state\":{\"state\":0,\"text\":\"\"},\"value\":3960.000000,\"units\":\"RPM\",\"threshold\":{\"lower\":{},\"upper\":{}}},{\"id\":\"FAN1 Speed\",\"name\":\"(r0.32.30.0).FAN1 Speed\",\"sensor\":{\"type\":4,\"text\":\"fan\"},\"reading\":{\"type\":1,\"text\":\"threshold\"},\"state\":{\"state\":0,\"text\":\"\"},\"value\":3960.000000,\"units\":\"RPM\",\"threshold\":{\"lower\":{},\"upper\":{}}},{\"id\":\"CPU2 DDR VPP2\",\"name\":\"(r0.32.3.1).CPU2 DDR VPP2\",\"sensor\":{\"type\":2,\"text\":\"voltage\"},\"reading\":{\"type\":1,\"text\":\"threshold\"},\"state\":{\"state\":0,\"text\":\"\"},\"value\":2.580000,\"units\":\"volts\",\"threshold\":{\"lower\":{\"crit\":2.240000},\"upper\":{\"crit\":2.740000}}},{\"id\":\"CPU2 DDR VPP1\",\"name\":\"(r0.32.3.1).CPU2 DDR VPP1\",\"sensor\":{\"type\":2,\"text\":\"voltage\"},\"reading\":{\"type\":1,\"text\":\"threshold\"},\"state\":{\"state\":0,\"text\":\"\"},\"value\":2.560000,\"units\":\"volts\",\"threshold\":{\"lower\":{\"crit\":2.240000},\"upper\":{\"crit\":2.740000}}},{\"id\":\"CPU1 DDR VPP2\",\"name\":\"(r0.32.3.0).CPU1 DDR VPP2\",\"sensor\":{\"type\":2,\"text\":\"voltage\"},\"reading\":{\"type\":1,\"text\":\"threshold\"},\"state\":{\"state\":0,\"text\":\"\"},\"value\":2.540000,\"units\":\"volts\",\"threshold\":{\"lower\":{\"crit\":2.240000},\"upper\":{\"crit\":2.740000}}},{\"id\":\"CPU1 DDR VPP1\",\"name\":\"(r0.32.3.0).CPU1 DDR VPP1\",\"sensor\":{\"type\":2,\"text\":\"voltage\"},\"reading\":{\"type\":1,\"text\":\"threshold\"},\"state\":{\"state\":0,\"text\":\"\"},\"value\":2.560000,\"units\":\"volts\",\"threshold\":{\"lower\":{\"crit\":2.240000},\"upper\":{\"crit\":2.740000}}},{\"id\":\"SYS 12V_2\",\"name\":\"(r0.32.7.0).SYS 12V_2\",\"sensor\":{\"type\":2,\"text\":\"voltage\"},\"reading\":{\"type\":1,\"text\":\"threshold\"},\"state\":{\"state\":0,\"text\":\"\"},\"value\":12.120000,\"units\":\"volts\",\"threshold\":{\"lower\":{\"crit\":10.800000},\"upper\":{\"crit\":13.200000}}},{\"id\":\"SYS 12V_1\",\"name\":\"(r0.32.7.0).SYS 12V_1\",\"sensor\":{\"type\":2,\"text\":\"voltage\"},\"reading\":{\"type\":1,\"text\":\"threshold\"},\"state\":{\"state\":0,\"text\":\"\"},\"value\":12.120000,\"units\":\"volts\",\"threshold\":{\"lower\":{\"crit\":10.800000},\"upper\":{\"crit\":13.200000}}},{\"id\":\"SYS 5V\",\"name\":\"(r0.32.7.0).SYS 5V\",\"sensor\":{\"type\":2,\"text\":\"voltage\"},\"reading\":{\"type\":1,\"text\":\"threshold\"},\"state\":{\"state\":0,\"text\":\"\"},\"value\":5.160000,\"units\":\"volts\",\"threshold\":{\"lower\":{\"crit\":4.500000},\"upper\":{\"crit\":5.490000}}},{\"id\":\"SYS 3.3V\",\"name\":\"(r0.32.7.0).SYS 3.3V\",\"sensor\":{\"type\":2,\"text\":\"voltage\"},\"reading\":{\"type\":1,\"text\":\"threshold\"},\"state\":{\"state\":0,\"text\":\"\"},\"value\":3.300000,\"units\":\"volts\",\"threshold\":{\"lower\":{\"crit\":2.960000},\"upper\":{\"crit\":3.620000}}},{\"id\":\"CPU2 MEM Temp\",\"name\":\"(r0.32.37.1).CPU2 MEM Temp\",\"sensor\":{\"type\":1,\"text\":\"temperature\"},\"reading\":{\"type\":1,\"text\":\"threshold\"},\"state\":{\"state\":0,\"text\":\"\"},\"value\":37.000000,\"units\":\"C\",\"threshold\":{\"lower\":{},\"upper\":{\"non_crit\":95.000000}}},{\"id\":\"CPU1 MEM Temp\",\"name\":\"(r0.32.37.0).CPU1 MEM Temp\",\"sensor\":{\"type\":1,\"text\":\"temperature\"},\"reading\":{\"type\":1,\"text\":\"threshold\"},\"state\":{\"state\":0,\"text\":\"\"},\"value\":34.000000,\"units\":\"C\",\"threshold\":{\"lower\":{},\"upper\":{\"non_crit\":95.000000}}},{\"id\":\"Cpu2 Margin\",\"name\":\"(r0.32.3.1).Cpu2 Margin\",\"sensor\":{\"type\":1,\"text\":\"temperature\"},\"reading\":{\"type\":1,\"text\":\"threshold\"},\"state\":{\"state\":0,\"text\":\"\"},\"value\":-38.000000,\"units\":\"unspecified\",\"threshold\":{\"lower\":{},\"upper\":{}}},{\"id\":\"Cpu1 Margin\",\"name\":\"(r0.32.3.0).Cpu1 Margin\",\"sensor\":{\"type\":1,\"text\":\"temperature\"},\"reading\":{\"type\":1,\"text\":\"threshold\"},\"state\":{\"state\":0,\"text\":\"\"},\"value\":-40.000000,\"units\":\"unspecified\",\"threshold\":{\"lower\":{},\"upper\":{}}},{\"id\":\"CPU2 DTS\",\"name\":\"(r0.32.3.1).CPU2 DTS\",\"sensor\":{\"type\":1,\"text\":\"temperature\"},\"reading\":{\"type\":1,\"text\":\"threshold\"},\"state\":{\"state\":0,\"text\":\"\"},\"value\":-48.000000,\"units\":\"unspecified\",\"threshold\":{\"lower\":{},\"upper\":{\"non_crit\":-1.000000}}},{\"id\":\"CPU1 DTS\",\"name\":\"(r0.32.3.0).CPU1 DTS\",\"sensor\":{\"type\":1,\"text\":\"temperature\"},\"reading\":{\"type\":1,\"text\":\"threshold\"},\"state\":{\"state\":0,\"text\":\"\"},\"value\":-50.000000,\"units\":\"unspecified\",\"threshold\":{\"lower\":{},\"upper\":{\"non_crit\":-1.000000}}},{\"id\":\"CPU2 Core Rem\",\"name\":\"(r0.32.3.1).CPU2 Core Rem\",\"sensor\":{\"type\":1,\"text\":\"temperature\"},\"reading\":{\"type\":1,\"text\":\"threshold\"},\"state\":{\"state\":0,\"text\":\"\"},\"value\":50.000000,\"units\":\"C\",\"threshold\":{\"lower\":{},\"upper\":{}}},{\"id\":\"CPU1 Core Rem\",\"name\":\"(r0.32.3.0).CPU1 Core Rem\",\"sensor\":{\"type\":1,\"text\":\"temperature\"},\"reading\":{\"type\":1,\"text\":\"threshold\"},\"state\":{\"state\":0,\"text\":\"\"},\"value\":48.000000,\"units\":\"C\",\"threshold\":{\"lower\":{},\"upper\":{}}},{\"id\":\"PCH Temp\",\"name\":\"(r0.32.7.0).PCH Temp\",\"sensor\":{\"type\":1,\"text\":\"temperature\"},\"reading\":{\"type\":1,\"text\":\"threshold\"},\"state\":{\"state\":0,\"text\":\"\"},\"value\":63.000000,\"units\":\"C\",\"threshold\":{\"lower\":{},\"upper\":{\"non_crit\":86.000000}}},{\"id\":\"Outlet Temp\",\"name\":\"(r0.32.7.0).Outlet Temp\",\"sensor\":{\"type\":1,\"text\":\"temperature\"},\"reading\":{\"type\":1,\"text\":\"threshold\"},\"state\":{\"state\":0,\"text\":\"\"},\"value\":36.000000,\"units\":\"C\",\"threshold\":{\"lower\":{},\"upper\":{\"non_crit\":75.000000}}},{\"id\":\"Inlet Temp\",\"name\":\"(r0.32.7.0).Inlet Temp\",\"sensor\":{\"type\":1,\"text\":\"temperature\"},\"reading\":{\"type\":1,\"text\":\"threshold\"},\"state\":{\"state\":0,\"text\":\"\"},\"value\":26.000000,\"units\":\"C\",\"threshold\":{\"lower\":{},\"upper\":{\"non_crit\":46.000000,\"crit\":48.000000}}}]"
   ]
  },
  {
   "cell_type": "code",
   "execution_count": 2,
   "metadata": {},
   "outputs": [],
   "source": [
    "import pandas as pd\n",
    "pd.set_option('display.max_rows', None)\n",
    "data = pd.DataFrame(list_data)"
   ]
  },
  {
   "cell_type": "code",
   "execution_count": 72,
   "metadata": {},
   "outputs": [
    {
     "data": {
      "text/plain": [
       "True"
      ]
     },
     "execution_count": 72,
     "metadata": {},
     "output_type": "execute_result"
    }
   ],
   "source": [
    "'volts' in set(data[data['sensor'].apply(lambda x : x['text'] == 'voltage')]['units'])"
   ]
  },
  {
   "cell_type": "code",
   "execution_count": 4,
   "metadata": {},
   "outputs": [],
   "source": [
    "sensor_text = []\n",
    "for i in data['sensor']:\n",
    "    sensor_text.append(i['text'])\n",
    "sensor_text = set(sensor_text)"
   ]
  },
  {
   "cell_type": "code",
   "execution_count": 13,
   "metadata": {},
   "outputs": [
    {
     "data": {
      "text/plain": [
       "(139, 8)"
      ]
     },
     "execution_count": 13,
     "metadata": {},
     "output_type": "execute_result"
    }
   ],
   "source": [
    "data.shape"
   ]
  },
  {
   "cell_type": "code",
   "execution_count": 16,
   "metadata": {},
   "outputs": [
    {
     "data": {
      "text/plain": [
       "{'add_in_card',\n",
       " 'battery',\n",
       " 'boot_error',\n",
       " 'button',\n",
       " 'cable_interconnect',\n",
       " 'chip_set',\n",
       " 'cooling_device',\n",
       " 'drive_slot',\n",
       " 'event_logging_disabled',\n",
       " 'fan',\n",
       " 'management_subsystem_health',\n",
       " 'memory',\n",
       " 'microcontroller_coprocessor',\n",
       " 'module_board',\n",
       " 'other_units_based_sensor',\n",
       " 'power_supply',\n",
       " 'processor',\n",
       " 'slot_connector',\n",
       " 'system_acpi_power_state',\n",
       " 'system_boot_initiated',\n",
       " 'system_event',\n",
       " 'system_firmware_progress',\n",
       " 'temperature',\n",
       " 'terminator',\n",
       " 'voltage',\n",
       " 'watchdog_2'}"
      ]
     },
     "execution_count": 16,
     "metadata": {},
     "output_type": "execute_result"
    }
   ],
   "source": [
    "sensor_text"
   ]
  },
  {
   "cell_type": "code",
   "execution_count": 39,
   "metadata": {},
   "outputs": [],
   "source": [
    "sensor = {'add_in_card': '附加卡',\n",
    "         'battery': '电池',\n",
    "         'boot_error': '启动错误',\n",
    "          'button':'按钮',\n",
    "          'cable_interconnect':' 电缆/互连',\n",
    "          'critical_interrupt':'紧急中断',\n",
    "          'chip_set':'芯片组',\n",
    "          'cooling_device':'冷却设备',\n",
    "          'drive_slot':'驱动器插糟/托架',\n",
    "          'event_logging_disabled':'已禁用事件日志',\n",
    "          'entity_presence':'实体',\n",
    "          'fan': '风扇',\n",
    "          'fan_status':'风扇',\n",
    "          'management_subsystem_health':'子系统健康',\n",
    "          'memory':'内存',\n",
    "          'microcontroller_coprocessor':' 微控制器/微处理器',\n",
    "          'module_board':'模块/电路板',\n",
    "          'other_units_based_sensor':'其他',\n",
    "          'power_supply':'电源',\n",
    "          'ps_status':'电源',\n",
    "          'processor':'处理器',\n",
    "          'slot_connector':'插槽/连接器',\n",
    "          'system_acpi_power_state':'',\n",
    "          'system_boot_initiated':'系统引导启动',\n",
    "          'system_event':'系统事件日志',\n",
    "          'system_firmware_progress':'系统固件',\n",
    "          'temperature':'温度',\n",
    "          'temperature_status':'温度',\n",
    "          'terminator':'',\n",
    "          'voltage':'电压',\n",
    "          'voltage_state':'电压',\n",
    "          'watchdog_2':'看门狗',\n",
    "         'chassis_intru':'物理健康',\n",
    "          'physical_security':'物理健康',\n",
    "         }"
   ]
  },
  {
   "cell_type": "code",
   "execution_count": 46,
   "metadata": {},
   "outputs": [],
   "source": [
    "sensor = pd.DataFrame(sensor, index = [0])\n",
    "sensor.to_json('./sensor.json',orient = 'index')"
   ]
  },
  {
   "cell_type": "code",
   "execution_count": 58,
   "metadata": {},
   "outputs": [],
   "source": [
    "sensor = pd.read_json('./ipmi模板创建//sensor.json',orient = 'index')\n",
    "sensor = sensor.to_dict(orient = 'list')"
   ]
  },
  {
   "cell_type": "code",
   "execution_count": 65,
   "metadata": {},
   "outputs": [
    {
     "data": {
      "text/plain": [
       "''"
      ]
     },
     "execution_count": 65,
     "metadata": {},
     "output_type": "execute_result"
    }
   ],
   "source": [
    "a[0]"
   ]
  },
  {
   "cell_type": "code",
   "execution_count": 64,
   "metadata": {},
   "outputs": [],
   "source": [
    "a = [sensor[i][0] for i in sensor if list(sensor_text)[2] == i]"
   ]
  },
  {
   "cell_type": "code",
   "execution_count": 6,
   "metadata": {},
   "outputs": [],
   "source": [
    "from pyzabbix import ZabbixAPI\n",
    "zapi = ZabbixAPI('http://192.168.50.100:18080')\n",
    "zapi.login('Admin','zabbix')"
   ]
  },
  {
   "cell_type": "code",
   "execution_count": 7,
   "metadata": {},
   "outputs": [
    {
     "name": "stdout",
     "output_type": "stream",
     "text": [
      "Connected to Zabbix API Version 5.0.7\n"
     ]
    }
   ],
   "source": [
    "print(\"Connected to Zabbix API Version %s\" % zapi.api_version())"
   ]
  },
  {
   "cell_type": "code",
   "execution_count": 8,
   "metadata": {},
   "outputs": [
    {
     "name": "stdout",
     "output_type": "stream",
     "text": [
      "10355\n",
      "10357\n",
      "10359\n",
      "10360\n",
      "10363\n",
      "10364\n",
      "10369\n",
      "10373\n",
      "10381\n",
      "10382\n",
      "10383\n",
      "10385\n"
     ]
    }
   ],
   "source": [
    "for h in zapi.host.get(output=\"extend\"):\n",
    "    print(h['hostid'])"
   ]
  },
  {
   "cell_type": "code",
   "execution_count": 15,
   "metadata": {},
   "outputs": [
    {
     "data": {
      "text/plain": [
       "[{'hostid': '10381',\n",
       "  'proxy_hostid': '0',\n",
       "  'host': '192.168.50.22',\n",
       "  'status': '0',\n",
       "  'disable_until': '0',\n",
       "  'error': '',\n",
       "  'available': '0',\n",
       "  'errors_from': '0',\n",
       "  'lastaccess': '0',\n",
       "  'ipmi_authtype': '-1',\n",
       "  'ipmi_privilege': '2',\n",
       "  'ipmi_username': 'root',\n",
       "  'ipmi_password': 'Dacheng@123',\n",
       "  'ipmi_disable_until': '0',\n",
       "  'ipmi_available': '1',\n",
       "  'snmp_disable_until': '0',\n",
       "  'snmp_available': '0',\n",
       "  'maintenanceid': '0',\n",
       "  'maintenance_status': '0',\n",
       "  'maintenance_type': '0',\n",
       "  'maintenance_from': '0',\n",
       "  'ipmi_errors_from': '0',\n",
       "  'snmp_errors_from': '0',\n",
       "  'ipmi_error': '',\n",
       "  'snmp_error': '',\n",
       "  'jmx_disable_until': '0',\n",
       "  'jmx_available': '0',\n",
       "  'jmx_errors_from': '0',\n",
       "  'jmx_error': '',\n",
       "  'name': 'IPMI: 192.168.50.112',\n",
       "  'flags': '0',\n",
       "  'templateid': '0',\n",
       "  'description': '',\n",
       "  'tls_connect': '1',\n",
       "  'tls_accept': '1',\n",
       "  'tls_issuer': '',\n",
       "  'tls_subject': '',\n",
       "  'tls_psk_identity': '',\n",
       "  'tls_psk': '',\n",
       "  'proxy_address': '',\n",
       "  'auto_compress': '1',\n",
       "  'discover': '0',\n",
       "  'inventory_mode': '-1',\n",
       "  'interfaces': [{'interfaceid': '19'}]}]"
      ]
     },
     "execution_count": 15,
     "metadata": {},
     "output_type": "execute_result"
    }
   ],
   "source": [
    "zapi.host.get(filter={\"host\": '192.168.50.22'}, selectInterfaces=[\"interfaceid\"])"
   ]
  }
 ],
 "metadata": {
  "kernelspec": {
   "display_name": "Python 3",
   "language": "python",
   "name": "python3"
  },
  "language_info": {
   "codemirror_mode": {
    "name": "ipython",
    "version": 3
   },
   "file_extension": ".py",
   "mimetype": "text/x-python",
   "name": "python",
   "nbconvert_exporter": "python",
   "pygments_lexer": "ipython3",
   "version": "3.7.6"
  }
 },
 "nbformat": 4,
 "nbformat_minor": 4
}
