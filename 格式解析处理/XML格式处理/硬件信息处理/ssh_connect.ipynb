{
 "cells": [
  {
   "cell_type": "markdown",
   "metadata": {},
   "source": [
    "硬件链接：https://blog.51cto.com/u_14483703/2557693"
   ]
  },
  {
   "cell_type": "code",
   "execution_count": 1,
   "metadata": {},
   "outputs": [],
   "source": [
    "import paramiko"
   ]
  },
  {
   "cell_type": "code",
   "execution_count": 2,
   "metadata": {},
   "outputs": [],
   "source": [
    "ssh = paramiko.SSHClient()  # 创建SSH对象"
   ]
  },
  {
   "cell_type": "code",
   "execution_count": 3,
   "metadata": {},
   "outputs": [],
   "source": [
    "ssh.set_missing_host_key_policy(paramiko.AutoAddPolicy())  # 允许连接不在know_hosts文件中的主机"
   ]
  },
  {
   "cell_type": "code",
   "execution_count": 4,
   "metadata": {},
   "outputs": [],
   "source": [
    "ssh.connect(hostname='192.168.50.112', port=22, username='root', password='Dacheng@123')  # 连接服务器"
   ]
  },
  {
   "cell_type": "code",
   "execution_count": 5,
   "metadata": {},
   "outputs": [],
   "source": [
    "stdin, stdout, stderr = ssh.exec_command('dmidecode|grep \"System Information\" -A9|egrep \"Manufacturer|Product|Serial\"')  # 执行命令"
   ]
  },
  {
   "cell_type": "code",
   "execution_count": 6,
   "metadata": {},
   "outputs": [],
   "source": [
    "result = stdout.read()  # 获取命令结果"
   ]
  },
  {
   "cell_type": "code",
   "execution_count": 7,
   "metadata": {},
   "outputs": [
    {
     "data": {
      "text/plain": [
       "b'\\tManufacturer: Supermicro\\n\\tProduct Name: Super Server\\n\\tSerial Number: 0123456789\\n'"
      ]
     },
     "execution_count": 7,
     "metadata": {},
     "output_type": "execute_result"
    }
   ],
   "source": [
    "result"
   ]
  },
  {
   "cell_type": "code",
   "execution_count": 8,
   "metadata": {},
   "outputs": [],
   "source": [
    "ssh.close()  # 关闭连接"
   ]
  },
  {
   "cell_type": "markdown",
   "metadata": {},
   "source": [
    "参考链接：https://www.cnblogs.com/linyouyi/p/11474518.html\n",
    "\n",
    "windows远程操作：https://blog.csdn.net/weixin_40274647/article/details/104676919"
   ]
  },
  {
   "cell_type": "code",
   "execution_count": 1,
   "metadata": {},
   "outputs": [],
   "source": [
    "import paramiko\n",
    "import pandas as pd"
   ]
  },
  {
   "cell_type": "code",
   "execution_count": 2,
   "metadata": {},
   "outputs": [],
   "source": [
    "ssh = paramiko.SSHClient()  # 创建SSH对象\n",
    "ssh.set_missing_host_key_policy(paramiko.AutoAddPolicy())  # 允许连接不在know_hosts文件中的主机\n",
    "ssh.connect(hostname='192.168.50.112', port=22, username='root', password='Dacheng@123')  # 连接服务器"
   ]
  },
  {
   "cell_type": "code",
   "execution_count": 3,
   "metadata": {},
   "outputs": [],
   "source": [
    "stdin, stdout, stderr = ssh.exec_command('dmidecode -h')\n",
    "result_out,result_err = stdout.read(),stderr.read()  # 获取命令结果\n",
    "result_out = result_out.decode('utf-8') # 解码\n",
    "result_out = result_out.split('\\t')"
   ]
  },
  {
   "cell_type": "code",
   "execution_count": 4,
   "metadata": {},
   "outputs": [],
   "source": [
    "stdin, stdout, stderr = ssh.exec_command('dmidecode -h')\n",
    "result_out,result_err = stdout.read(),stderr.read()  # 获取命令结果\n",
    "result_out = result_out.decode('utf-8') # 解码\n",
    "result_out = result_out.split('\\t')"
   ]
  },
  {
   "cell_type": "code",
   "execution_count": 5,
   "metadata": {},
   "outputs": [
    {
     "data": {
      "text/plain": [
       "['Usage: dmidecode [OPTIONS]',\n",
       " 'Options are:',\n",
       " ' -d, --dev-mem FILE     Read memory from device FILE (default: /dev/mem)',\n",
       " ' -h, --help             Display this help text and exit',\n",
       " ' -q, --quiet            Less verbose output',\n",
       " ' -s, --string KEYWORD   Only display the value of the given DMI string',\n",
       " ' -t, --type TYPE        Only display the entries of given type',\n",
       " ' -u, --dump             Do not decode the entries',\n",
       " '     --dump-bin FILE    Dump the DMI data to a binary file',\n",
       " '     --from-dump FILE   Read the DMI data from a binary file',\n",
       " '     --no-sysfs         Do not attempt to read DMI data from sysfs files',\n",
       " ' -V, --version          Display the version and exit']"
      ]
     },
     "execution_count": 5,
     "metadata": {},
     "output_type": "execute_result"
    }
   ],
   "source": [
    "result = []\n",
    "for i in result_out:\n",
    "    for j in i.split('\\n'):\n",
    "        if j != '':\n",
    "            result.append(j)\n",
    "result"
   ]
  },
  {
   "cell_type": "code",
   "execution_count": null,
   "metadata": {},
   "outputs": [],
   "source": []
  }
 ],
 "metadata": {
  "kernelspec": {
   "display_name": "Python 3",
   "language": "python",
   "name": "python3"
  },
  "language_info": {
   "codemirror_mode": {
    "name": "ipython",
    "version": 3
   },
   "file_extension": ".py",
   "mimetype": "text/x-python",
   "name": "python",
   "nbconvert_exporter": "python",
   "pygments_lexer": "ipython3",
   "version": "3.7.6"
  }
 },
 "nbformat": 4,
 "nbformat_minor": 4
}
