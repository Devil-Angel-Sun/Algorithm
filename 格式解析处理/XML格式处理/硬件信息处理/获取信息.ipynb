{
 "cells": [
  {
   "cell_type": "code",
   "execution_count": 15,
   "metadata": {},
   "outputs": [],
   "source": [
    "import paramiko\n",
    "import pandas as pd"
   ]
  },
  {
   "cell_type": "code",
   "execution_count": 16,
   "metadata": {},
   "outputs": [],
   "source": [
    "ssh = paramiko.SSHClient()  # 创建SSH对象\n",
    "ssh.set_missing_host_key_policy(paramiko.AutoAddPolicy())  # 允许连接不在know_hosts文件中的主机\n",
    "# ssh.connect(hostname='192.168.50.188', port=22, username='root', password='Dacheng@123')  # 连接服务器\n",
    "ssh.connect(hostname='192.168.50.145', port=22, username='root', password='el{jk6ui6Q$5hThv')  # 连接服务器"
   ]
  },
  {
   "cell_type": "markdown",
   "metadata": {},
   "source": [
    "### 机箱信息"
   ]
  },
  {
   "cell_type": "code",
   "execution_count": 3,
   "metadata": {},
   "outputs": [
    {
     "data": {
      "text/plain": [
       "['Usage: dmidecode [OPTIONS]\\nOptions are:\\n -d, --dev-mem FILE     Read memory from device FILE (default: /dev/mem)\\n -h, --help             Display this help text and exit\\n -q, --quiet            Less verbose output\\n -s, --string KEYWORD   Only display the value of the given DMI string\\n -t, --type TYPE        Only display the entries of given type\\n -H, --handle HANDLE    Only display the entry of given handle\\n -u, --dump             Do not decode the entries\\n     --dump-bin FILE    Dump the DMI data to a binary file\\n     --from-dump FILE   Read the DMI data from a binary file\\n     --no-sysfs         Do not attempt to read DMI data from sysfs files\\n     --oem-string N     Only display the value of the given OEM string\\n -V, --version          Display the version and exit\\n']"
      ]
     },
     "execution_count": 3,
     "metadata": {},
     "output_type": "execute_result"
    }
   ],
   "source": [
    "stdin, stdout, stderr = ssh.exec_command('dmidecode -t chassis')\n",
    "result_out,result_err = stdout.read(),stderr.read()  # 获取命令结果\n",
    "result_out = result_out.decode('utf-8') # 解码\n",
    "result_out = result_out.split('\\t')\n",
    "result_out"
   ]
  },
  {
   "cell_type": "code",
   "execution_count": 4,
   "metadata": {},
   "outputs": [
    {
     "data": {
      "text/plain": [
       "['Usage: dmidecode [OPTIONS]',\n",
       " 'Options are:',\n",
       " ' -d, --dev-mem FILE     Read memory from device FILE (default: /dev/mem)',\n",
       " ' -h, --help             Display this help text and exit',\n",
       " ' -q, --quiet            Less verbose output',\n",
       " ' -s, --string KEYWORD   Only display the value of the given DMI string',\n",
       " ' -t, --type TYPE        Only display the entries of given type',\n",
       " ' -H, --handle HANDLE    Only display the entry of given handle',\n",
       " ' -u, --dump             Do not decode the entries',\n",
       " '     --dump-bin FILE    Dump the DMI data to a binary file',\n",
       " '     --from-dump FILE   Read the DMI data from a binary file',\n",
       " '     --no-sysfs         Do not attempt to read DMI data from sysfs files',\n",
       " '     --oem-string N     Only display the value of the given OEM string',\n",
       " ' -V, --version          Display the version and exit']"
      ]
     },
     "execution_count": 4,
     "metadata": {},
     "output_type": "execute_result"
    }
   ],
   "source": [
    "result = []\n",
    "for i in result_out:\n",
    "    for j in i.split('\\n'):\n",
    "        if j != '':\n",
    "            result.append(j)\n",
    "result"
   ]
  },
  {
   "cell_type": "code",
   "execution_count": 25,
   "metadata": {},
   "outputs": [
    {
     "data": {
      "text/plain": [
       "{'Manufacturer': 'Huawei',\n",
       " 'Type': 'Main Server Chassis',\n",
       " 'Version': 'Huawei',\n",
       " 'Serial Number': 'Huawei'}"
      ]
     },
     "execution_count": 25,
     "metadata": {},
     "output_type": "execute_result"
    }
   ],
   "source": [
    "information_chassis = {}\n",
    "for i in result:\n",
    "    if i.split(': ')[0] == 'Type':\n",
    "        information_chassis['Type'] = i.split(': ')[1]\n",
    "    elif i.split(': ')[0] == 'Serial Number':\n",
    "        information_chassis['Serial Number'] = i.split(': ')[1]\n",
    "    elif i.split(': ')[0] == 'Version':\n",
    "        information_chassis['Version'] = i.split(': ')[1]\n",
    "    elif i.split(': ')[0] == 'Manufacturer':\n",
    "        information_chassis['Manufacturer'] = i.split(': ')[1]\n",
    "information_chassis"
   ]
  },
  {
   "cell_type": "markdown",
   "metadata": {},
   "source": [
    "### 系统信息"
   ]
  },
  {
   "cell_type": "code",
   "execution_count": 4,
   "metadata": {},
   "outputs": [
    {
     "data": {
      "text/plain": [
       "['# dmidecode 3.2\\nGetting SMBIOS data from sysfs.\\nSMBIOS 2.8 present.\\n\\nHandle 0x0100, DMI type 1, 27 bytes\\nSystem Information\\n',\n",
       " 'Manufacturer: Dell Inc.\\n',\n",
       " 'Product Name: PowerEdge R730\\n',\n",
       " 'Version: Not Specified\\n',\n",
       " 'Serial Number: BZLCBT2\\n',\n",
       " 'UUID: 4c4c4544-005a-4c10-8043-c2c04f425432\\n',\n",
       " 'Wake-up Type: Power Switch\\n',\n",
       " 'SKU Number: SKU=NotProvided;ModelName=PowerEdge R730\\n',\n",
       " 'Family: Not Specified\\n\\nHandle 0x0C00, DMI type 12, 5 bytes\\nSystem Configuration Options\\n',\n",
       " 'Option 1: NVRAM_CLR: Clear user settable NVRAM areas and set defaults\\n',\n",
       " 'Option 2: PWRD_EN: Close to enable password\\n\\nHandle 0x2000, DMI type 32, 11 bytes\\nSystem Boot Information\\n',\n",
       " 'Status: No errors detected\\n\\n']"
      ]
     },
     "execution_count": 4,
     "metadata": {},
     "output_type": "execute_result"
    }
   ],
   "source": [
    "stdin, stdout, stderr = ssh.exec_command('dmidecode -t system')\n",
    "result_out,result_err = stdout.read(),stderr.read()  # 获取命令结果\n",
    "result_out = result_out.decode('utf-8') # 解码\n",
    "result_out = result_out.split('\\t')\n",
    "result_out"
   ]
  },
  {
   "cell_type": "code",
   "execution_count": 5,
   "metadata": {},
   "outputs": [],
   "source": [
    "result = []\n",
    "for i in result_out:\n",
    "    for j in i.split('\\n'):\n",
    "        if j != '':\n",
    "            result.append(j)"
   ]
  },
  {
   "cell_type": "code",
   "execution_count": 6,
   "metadata": {},
   "outputs": [
    {
     "data": {
      "text/plain": [
       "['# dmidecode 3.2',\n",
       " 'Getting SMBIOS data from sysfs.',\n",
       " 'SMBIOS 2.8 present.',\n",
       " 'Handle 0x0100, DMI type 1, 27 bytes',\n",
       " 'System Information',\n",
       " 'Manufacturer: Dell Inc.',\n",
       " 'Product Name: PowerEdge R730',\n",
       " 'Version: Not Specified',\n",
       " 'Serial Number: BZLCBT2',\n",
       " 'UUID: 4c4c4544-005a-4c10-8043-c2c04f425432',\n",
       " 'Wake-up Type: Power Switch',\n",
       " 'SKU Number: SKU=NotProvided;ModelName=PowerEdge R730',\n",
       " 'Family: Not Specified',\n",
       " 'Handle 0x0C00, DMI type 12, 5 bytes',\n",
       " 'System Configuration Options',\n",
       " 'Option 1: NVRAM_CLR: Clear user settable NVRAM areas and set defaults',\n",
       " 'Option 2: PWRD_EN: Close to enable password',\n",
       " 'Handle 0x2000, DMI type 32, 11 bytes',\n",
       " 'System Boot Information',\n",
       " 'Status: No errors detected']"
      ]
     },
     "execution_count": 6,
     "metadata": {},
     "output_type": "execute_result"
    }
   ],
   "source": [
    "result"
   ]
  },
  {
   "cell_type": "code",
   "execution_count": 7,
   "metadata": {},
   "outputs": [
    {
     "name": "stdout",
     "output_type": "stream",
     "text": [
      "生产商: Dell Inc.\n",
      "\n",
      "系统型号: PowerEdge R730\n",
      "\n",
      "服务标签: BZLCBT2\n",
      "\n",
      "网络唤醒模式: Power Switch\n",
      "\n"
     ]
    }
   ],
   "source": [
    "# 输出机箱类型\n",
    "for result in result_out:\n",
    "    if (':'in result) and (result.split(': ')[0] == 'Manufacturer'):\n",
    "        print('生产商: {}'.format(result.split(': ')[1]))\n",
    "    elif (':'in result) and (result.split(': ')[0] == 'Product Name'):\n",
    "        print('系统型号: {}'.format(result.split(': ')[1]))\n",
    "    elif (':'in result) and (result.split(': ')[0] == 'Serial Number'):\n",
    "        print('服务标签: {}'.format(result.split(': ')[1]))\n",
    "    elif result.split(': ')[0] == 'Wake-up Type':\n",
    "        print('网络唤醒模式: {}'.format(result.split(': ')[1]))"
   ]
  },
  {
   "cell_type": "markdown",
   "metadata": {},
   "source": [
    "### 主板相关的硬件信息"
   ]
  },
  {
   "cell_type": "code",
   "execution_count": 11,
   "metadata": {},
   "outputs": [
    {
     "data": {
      "text/plain": [
       "['System Information\\n',\n",
       " 'Manufacturer: Dell Inc.\\n',\n",
       " 'Product Name: PowerEdge R730\\n',\n",
       " 'Version: Not Specified\\n',\n",
       " 'Serial Number: BZLCBT2\\n',\n",
       " 'UUID: 4c4c4544-005a-4c10-8043-c2c04f425432\\n',\n",
       " 'Wake-up Type: Power Switch\\n',\n",
       " 'SKU Number: SKU=NotProvided;ModelName=PowerEdge R730\\n',\n",
       " 'Family: Not Specified\\n\\nHandle 0x0200, DMI type 2, 8 bytes\\nBase Board Information\\n',\n",
       " 'Manufacturer: Dell Inc.\\n',\n",
       " 'Product Name: 072T6D\\n',\n",
       " 'Version: A09\\n',\n",
       " 'Serial Number: .BZLCBT2.CNFCP0089B0050.\\n\\n']"
      ]
     },
     "execution_count": 11,
     "metadata": {},
     "output_type": "execute_result"
    }
   ],
   "source": [
    "stdin, stdout, stderr = ssh.exec_command('dmidecode |grep -A16 \"System Information$\"')\n",
    "result_out,result_err = stdout.read(),stderr.read()  # 获取命令结果\n",
    "result_out = result_out.decode('utf-8') # 解码\n",
    "result_out = result_out.split('\\t')\n",
    "result_out"
   ]
  },
  {
   "cell_type": "code",
   "execution_count": 23,
   "metadata": {},
   "outputs": [],
   "source": [
    "stdin, stdout, stderr = ssh.exec_command('dmidecode -t baseboard')\n",
    "result_out,result_err = stdout.read(),stderr.read()  # 获取命令结果\n",
    "result_out = result_out.decode('utf-8') # 解码\n",
    "result_out = result_out.split('\\t')"
   ]
  },
  {
   "cell_type": "code",
   "execution_count": 24,
   "metadata": {},
   "outputs": [
    {
     "data": {
      "text/plain": [
       "['# dmidecode 3.2\\nGetting SMBIOS data from sysfs.\\nSMBIOS 2.8 present.\\n\\nHandle 0x0200, DMI type 2, 8 bytes\\nBase Board Information\\n',\n",
       " 'Manufacturer: Dell Inc.\\n',\n",
       " 'Product Name: 072T6D\\n',\n",
       " 'Version: A09\\n',\n",
       " 'Serial Number: .BZLCBT2.CNFCP0089B0050.\\n\\nHandle 0x2900, DMI type 41, 11 bytes\\nOnboard Device\\n',\n",
       " 'Reference Designation: Integrated NIC 1\\n',\n",
       " 'Type: Ethernet\\n',\n",
       " 'Status: Enabled\\n',\n",
       " 'Type Instance: 1\\n',\n",
       " 'Bus Address: 0000:01:00.0\\n\\nHandle 0x2901, DMI type 41, 11 bytes\\nOnboard Device\\n',\n",
       " 'Reference Designation: Integrated NIC 2\\n',\n",
       " 'Type: Ethernet\\n',\n",
       " 'Status: Enabled\\n',\n",
       " 'Type Instance: 2\\n',\n",
       " 'Bus Address: 0000:01:00.1\\n\\nHandle 0x2902, DMI type 41, 11 bytes\\nOnboard Device\\n',\n",
       " 'Reference Designation: Integrated NIC 3\\n',\n",
       " 'Type: Ethernet\\n',\n",
       " 'Status: Enabled\\n',\n",
       " 'Type Instance: 3\\n',\n",
       " 'Bus Address: 0000:02:00.0\\n\\nHandle 0x2903, DMI type 41, 11 bytes\\nOnboard Device\\n',\n",
       " 'Reference Designation: Integrated NIC 4\\n',\n",
       " 'Type: Ethernet\\n',\n",
       " 'Status: Enabled\\n',\n",
       " 'Type Instance: 4\\n',\n",
       " 'Bus Address: 0000:02:00.1\\n\\nHandle 0x2904, DMI type 41, 11 bytes\\nOnboard Device\\n',\n",
       " 'Reference Designation: Integrated RAID\\n',\n",
       " 'Type: SAS Controller\\n',\n",
       " 'Status: Enabled\\n',\n",
       " 'Type Instance: 1\\n',\n",
       " 'Bus Address: 0000:03:00.0\\n\\nHandle 0x2905, DMI type 41, 11 bytes\\nOnboard Device\\n',\n",
       " 'Reference Designation: Embedded Video\\n',\n",
       " 'Type: Video\\n',\n",
       " 'Status: Enabled\\n',\n",
       " 'Type Instance: 1\\n',\n",
       " 'Bus Address: 0000:0b:00.0\\n\\nHandle 0x2906, DMI type 41, 11 bytes\\nOnboard Device\\n',\n",
       " 'Reference Designation: Embedded EHCI USB Controller 1\\n',\n",
       " 'Type: Other\\n',\n",
       " 'Status: Enabled\\n',\n",
       " 'Type Instance: 1\\n',\n",
       " 'Bus Address: 0000:00:1d.0\\n\\nHandle 0x2907, DMI type 41, 11 bytes\\nOnboard Device\\n',\n",
       " 'Reference Designation: Embedded EHCI USB Controller 2\\n',\n",
       " 'Type: Other\\n',\n",
       " 'Status: Enabled\\n',\n",
       " 'Type Instance: 2\\n',\n",
       " 'Bus Address: 0000:00:1a.0\\n\\n']"
      ]
     },
     "execution_count": 24,
     "metadata": {},
     "output_type": "execute_result"
    }
   ],
   "source": [
    "result_out"
   ]
  },
  {
   "cell_type": "markdown",
   "metadata": {},
   "source": [
    "### BIOS相关的硬件信息"
   ]
  },
  {
   "cell_type": "code",
   "execution_count": 25,
   "metadata": {},
   "outputs": [
    {
     "data": {
      "text/plain": [
       "['# dmidecode 3.2\\nGetting SMBIOS data from sysfs.\\nSMBIOS 2.8 present.\\n\\nHandle 0x0000, DMI type 0, 24 bytes\\nBIOS Information\\n',\n",
       " 'Vendor: Dell Inc.\\n',\n",
       " 'Version: 2.8.0\\n',\n",
       " 'Release Date: 005/17/2018\\n',\n",
       " 'Address: 0xF0000\\n',\n",
       " 'Runtime Size: 64 kB\\n',\n",
       " 'ROM Size: 16 MB\\n',\n",
       " 'Characteristics:\\n',\n",
       " '',\n",
       " 'ISA is supported\\n',\n",
       " '',\n",
       " 'PCI is supported\\n',\n",
       " '',\n",
       " 'PNP is supported\\n',\n",
       " '',\n",
       " 'BIOS is upgradeable\\n',\n",
       " '',\n",
       " 'BIOS shadowing is allowed\\n',\n",
       " '',\n",
       " 'Boot from CD is supported\\n',\n",
       " '',\n",
       " 'Selectable boot is supported\\n',\n",
       " '',\n",
       " 'EDD is supported\\n',\n",
       " '',\n",
       " 'Japanese floppy for Toshiba 1.2 MB is supported (int 13h)\\n',\n",
       " '',\n",
       " '5.25\"/360 kB floppy services are supported (int 13h)\\n',\n",
       " '',\n",
       " '5.25\"/1.2 MB floppy services are supported (int 13h)\\n',\n",
       " '',\n",
       " '3.5\"/720 kB floppy services are supported (int 13h)\\n',\n",
       " '',\n",
       " '8042 keyboard services are supported (int 9h)\\n',\n",
       " '',\n",
       " 'Serial services are supported (int 14h)\\n',\n",
       " '',\n",
       " 'CGA/mono video services are supported (int 10h)\\n',\n",
       " '',\n",
       " 'ACPI is supported\\n',\n",
       " '',\n",
       " 'USB legacy is supported\\n',\n",
       " '',\n",
       " 'BIOS boot specification is supported\\n',\n",
       " '',\n",
       " 'Function key-initiated network boot is supported\\n',\n",
       " '',\n",
       " 'Targeted content distribution is supported\\n',\n",
       " '',\n",
       " 'UEFI is supported\\n',\n",
       " 'BIOS Revision: 2.8\\n\\nHandle 0x0D00, DMI type 13, 22 bytes\\nBIOS Language Information\\n',\n",
       " 'Language Description Format: Long\\n',\n",
       " 'Installable Languages: 1\\n',\n",
       " '',\n",
       " 'en|US|iso8859-1\\n',\n",
       " 'Currently Installed Language: en|US|iso8859-1\\n\\n']"
      ]
     },
     "execution_count": 25,
     "metadata": {},
     "output_type": "execute_result"
    }
   ],
   "source": [
    "stdin, stdout, stderr = ssh.exec_command('dmidecode -t bios')\n",
    "result_out,result_err = stdout.read(),stderr.read()  # 获取命令结果\n",
    "result_out = result_out.decode('utf-8') # 解码\n",
    "result_out = result_out.split('\\t')\n",
    "result_out"
   ]
  },
  {
   "cell_type": "markdown",
   "metadata": {},
   "source": [
    "### 处理器相关的信息"
   ]
  },
  {
   "cell_type": "code",
   "execution_count": 115,
   "metadata": {},
   "outputs": [],
   "source": [
    "stdin, stdout, stderr = ssh.exec_command('dmidecode -t processor')\n",
    "result_out,result_err = stdout.read(),stderr.read()  # 获取命令结果\n",
    "result_out = result_out.decode('utf-8') # 解码\n",
    "result_out = result_out.split('\\t')"
   ]
  },
  {
   "cell_type": "code",
   "execution_count": 116,
   "metadata": {},
   "outputs": [
    {
     "data": {
      "text/plain": [
       "['# dmidecode 3.2',\n",
       " 'Getting SMBIOS data from sysfs.',\n",
       " 'SMBIOS 2.8 present.',\n",
       " 'Handle 0x0400, DMI type 4, 42 bytes',\n",
       " 'Processor Information',\n",
       " 'Socket Designation: CPU1',\n",
       " 'Type: Central Processor',\n",
       " 'Family: Xeon',\n",
       " 'Manufacturer: Intel',\n",
       " 'ID: F1 06 04 00 FF FB EB BF',\n",
       " 'Signature: Type 0, Family 6, Model 79, Stepping 1',\n",
       " 'Flags:',\n",
       " 'FPU (Floating-point unit on-chip)',\n",
       " 'VME (Virtual mode extension)',\n",
       " 'DE (Debugging extension)',\n",
       " 'PSE (Page size extension)',\n",
       " 'TSC (Time stamp counter)',\n",
       " 'MSR (Model specific registers)',\n",
       " 'PAE (Physical address extension)',\n",
       " 'MCE (Machine check exception)',\n",
       " 'CX8 (CMPXCHG8 instruction supported)',\n",
       " 'APIC (On-chip APIC hardware supported)',\n",
       " 'SEP (Fast system call)',\n",
       " 'MTRR (Memory type range registers)',\n",
       " 'PGE (Page global enable)',\n",
       " 'MCA (Machine check architecture)',\n",
       " 'CMOV (Conditional move instruction supported)',\n",
       " 'PAT (Page attribute table)',\n",
       " 'PSE-36 (36-bit page size extension)',\n",
       " 'CLFSH (CLFLUSH instruction supported)',\n",
       " 'DS (Debug store)',\n",
       " 'ACPI (ACPI supported)',\n",
       " 'MMX (MMX technology supported)',\n",
       " 'FXSR (FXSAVE and FXSTOR instructions supported)',\n",
       " 'SSE (Streaming SIMD extensions)',\n",
       " 'SSE2 (Streaming SIMD extensions 2)',\n",
       " 'SS (Self-snoop)',\n",
       " 'HTT (Multi-threading)',\n",
       " 'TM (Thermal monitor supported)',\n",
       " 'PBE (Pending break enabled)',\n",
       " 'Version: Intel(R) Xeon(R) CPU E5-2603 v4 @ 1.70GHz',\n",
       " 'Voltage: 1.3 V',\n",
       " 'External Clock: 6400 MHz',\n",
       " 'Max Speed: 4000 MHz',\n",
       " 'Current Speed: 1700 MHz',\n",
       " 'Status: Populated, Enabled',\n",
       " 'Upgrade: Socket LGA2011-3',\n",
       " 'L1 Cache Handle: 0x0700',\n",
       " 'L2 Cache Handle: 0x0701',\n",
       " 'L3 Cache Handle: 0x0702',\n",
       " 'Serial Number: Not Specified',\n",
       " 'Asset Tag: Not Specified',\n",
       " 'Part Number: Not Specified',\n",
       " 'Core Count: 6',\n",
       " 'Core Enabled: 6',\n",
       " 'Thread Count: 6',\n",
       " 'Characteristics:',\n",
       " '64-bit capable',\n",
       " 'Multi-Core',\n",
       " 'Execute Protection',\n",
       " 'Enhanced Virtualization',\n",
       " 'Power/Performance Control',\n",
       " 'Handle 0x0401, DMI type 4, 42 bytes',\n",
       " 'Processor Information',\n",
       " 'Socket Designation: CPU2',\n",
       " 'Type: Central Processor',\n",
       " 'Family: Unknown',\n",
       " 'Manufacturer: Not Specified',\n",
       " 'ID: 00 00 00 00 00 00 00 00',\n",
       " 'Version: Not Specified',\n",
       " 'Voltage: Unknown',\n",
       " 'External Clock: Unknown',\n",
       " 'Max Speed: 4000 MHz',\n",
       " 'Current Speed: Unknown',\n",
       " 'Status: Unpopulated',\n",
       " 'Upgrade: Socket LGA2011-3',\n",
       " 'L1 Cache Handle: Not Provided',\n",
       " 'L2 Cache Handle: Not Provided',\n",
       " 'L3 Cache Handle: Not Provided',\n",
       " 'Serial Number: Not Specified',\n",
       " 'Asset Tag: Not Specified',\n",
       " 'Part Number: Not Specified',\n",
       " 'Characteristics: None']"
      ]
     },
     "execution_count": 116,
     "metadata": {},
     "output_type": "execute_result"
    }
   ],
   "source": [
    "result = []\n",
    "for i in result_out:\n",
    "    for j in i.split('\\n'):\n",
    "        if j != '':\n",
    "            result.append(j)\n",
    "result"
   ]
  },
  {
   "cell_type": "code",
   "execution_count": 117,
   "metadata": {},
   "outputs": [
    {
     "data": {
      "text/plain": [
       "[3, 62]"
      ]
     },
     "execution_count": 117,
     "metadata": {},
     "output_type": "execute_result"
    }
   ],
   "source": [
    "handle_index = []\n",
    "for i in result:\n",
    "    if i.startswith('Handle'):\n",
    "        handle_index.append(result.index(i))\n",
    "handle_index"
   ]
  },
  {
   "cell_type": "code",
   "execution_count": 120,
   "metadata": {},
   "outputs": [
    {
     "data": {
      "text/plain": [
       "[['Handle 0x0400, DMI type 4, 42 bytes',\n",
       "  'Processor Information',\n",
       "  'Socket Designation: CPU1',\n",
       "  'Type: Central Processor',\n",
       "  'Family: Xeon',\n",
       "  'Manufacturer: Intel',\n",
       "  'ID: F1 06 04 00 FF FB EB BF',\n",
       "  'Signature: Type 0, Family 6, Model 79, Stepping 1',\n",
       "  'Flags:',\n",
       "  'FPU (Floating-point unit on-chip)',\n",
       "  'VME (Virtual mode extension)',\n",
       "  'DE (Debugging extension)',\n",
       "  'PSE (Page size extension)',\n",
       "  'TSC (Time stamp counter)',\n",
       "  'MSR (Model specific registers)',\n",
       "  'PAE (Physical address extension)',\n",
       "  'MCE (Machine check exception)',\n",
       "  'CX8 (CMPXCHG8 instruction supported)',\n",
       "  'APIC (On-chip APIC hardware supported)',\n",
       "  'SEP (Fast system call)',\n",
       "  'MTRR (Memory type range registers)',\n",
       "  'PGE (Page global enable)',\n",
       "  'MCA (Machine check architecture)',\n",
       "  'CMOV (Conditional move instruction supported)',\n",
       "  'PAT (Page attribute table)',\n",
       "  'PSE-36 (36-bit page size extension)',\n",
       "  'CLFSH (CLFLUSH instruction supported)',\n",
       "  'DS (Debug store)',\n",
       "  'ACPI (ACPI supported)',\n",
       "  'MMX (MMX technology supported)',\n",
       "  'FXSR (FXSAVE and FXSTOR instructions supported)',\n",
       "  'SSE (Streaming SIMD extensions)',\n",
       "  'SSE2 (Streaming SIMD extensions 2)',\n",
       "  'SS (Self-snoop)',\n",
       "  'HTT (Multi-threading)',\n",
       "  'TM (Thermal monitor supported)',\n",
       "  'PBE (Pending break enabled)',\n",
       "  'Version: Intel(R) Xeon(R) CPU E5-2603 v4 @ 1.70GHz',\n",
       "  'Voltage: 1.3 V',\n",
       "  'External Clock: 6400 MHz',\n",
       "  'Max Speed: 4000 MHz',\n",
       "  'Current Speed: 1700 MHz',\n",
       "  'Status: Populated, Enabled',\n",
       "  'Upgrade: Socket LGA2011-3',\n",
       "  'L1 Cache Handle: 0x0700',\n",
       "  'L2 Cache Handle: 0x0701',\n",
       "  'L3 Cache Handle: 0x0702',\n",
       "  'Serial Number: Not Specified',\n",
       "  'Asset Tag: Not Specified',\n",
       "  'Part Number: Not Specified',\n",
       "  'Core Count: 6',\n",
       "  'Core Enabled: 6',\n",
       "  'Thread Count: 6',\n",
       "  'Characteristics:',\n",
       "  '64-bit capable',\n",
       "  'Multi-Core',\n",
       "  'Execute Protection',\n",
       "  'Enhanced Virtualization',\n",
       "  'Power/Performance Control'],\n",
       " ['Handle 0x0401, DMI type 4, 42 bytes',\n",
       "  'Processor Information',\n",
       "  'Socket Designation: CPU2',\n",
       "  'Type: Central Processor',\n",
       "  'Family: Unknown',\n",
       "  'Manufacturer: Not Specified',\n",
       "  'ID: 00 00 00 00 00 00 00 00',\n",
       "  'Version: Not Specified',\n",
       "  'Voltage: Unknown',\n",
       "  'External Clock: Unknown',\n",
       "  'Max Speed: 4000 MHz',\n",
       "  'Current Speed: Unknown',\n",
       "  'Status: Unpopulated',\n",
       "  'Upgrade: Socket LGA2011-3',\n",
       "  'L1 Cache Handle: Not Provided',\n",
       "  'L2 Cache Handle: Not Provided',\n",
       "  'L3 Cache Handle: Not Provided',\n",
       "  'Serial Number: Not Specified',\n",
       "  'Asset Tag: Not Specified',\n",
       "  'Part Number: Not Specified',\n",
       "  'Characteristics: None']]"
      ]
     },
     "execution_count": 120,
     "metadata": {},
     "output_type": "execute_result"
    }
   ],
   "source": [
    "# 分阶段处理，处理除最后一个index之外的信息\n",
    "results_memory = []\n",
    "for i in handle_index[:-1]:\n",
    "    result_memory = []\n",
    "    for j in result[i:handle_index[handle_index.index(i)+1]]:\n",
    "        result_memory.append(j)\n",
    "    results_memory.append(result_memory)    \n",
    "result_memory = []\n",
    "for j in result[handle_index[-1]:]:\n",
    "    result_memory.append(j)\n",
    "results_memory.append(result_memory)\n",
    "results_memory"
   ]
  },
  {
   "cell_type": "markdown",
   "metadata": {},
   "source": [
    "### 内存相关的信息"
   ]
  },
  {
   "cell_type": "code",
   "execution_count": 30,
   "metadata": {},
   "outputs": [],
   "source": [
    "stdin, stdout, stderr = ssh.exec_command('dmidecode -t memory')\n",
    "result_out,result_err = stdout.read(),stderr.read()  # 获取命令结果\n",
    "result_out = result_out.decode('utf-8') # 解码\n",
    "result_out = result_out.split('\\t')"
   ]
  },
  {
   "cell_type": "markdown",
   "metadata": {},
   "source": [
    "### 查看网卡信息"
   ]
  },
  {
   "cell_type": "code",
   "execution_count": 5,
   "metadata": {},
   "outputs": [
    {
     "data": {
      "text/plain": [
       "['Settings for ethseq:', 'Settings for eth0:', 'Settings for eth9:', '']"
      ]
     },
     "execution_count": 5,
     "metadata": {},
     "output_type": "execute_result"
    }
   ],
   "source": [
    "stdin, stdout, stderr = ssh.exec_command(\"for i in seq 0 9;do ethtool eth${i} | egrep 'eth|Link';done\")\n",
    "result_out,result_err = stdout.read(),stderr.read()  # 获取命令结果\n",
    "result_out = result_out.decode('utf-8') # 解码\n",
    "result_out.split('\\n')"
   ]
  },
  {
   "cell_type": "code",
   "execution_count": null,
   "metadata": {},
   "outputs": [],
   "source": []
  },
  {
   "cell_type": "code",
   "execution_count": null,
   "metadata": {},
   "outputs": [],
   "source": []
  }
 ],
 "metadata": {
  "kernelspec": {
   "display_name": "Python 3",
   "language": "python",
   "name": "python3"
  },
  "language_info": {
   "codemirror_mode": {
    "name": "ipython",
    "version": 3
   },
   "file_extension": ".py",
   "mimetype": "text/x-python",
   "name": "python",
   "nbconvert_exporter": "python",
   "pygments_lexer": "ipython3",
   "version": "3.7.6"
  }
 },
 "nbformat": 4,
 "nbformat_minor": 4
}
