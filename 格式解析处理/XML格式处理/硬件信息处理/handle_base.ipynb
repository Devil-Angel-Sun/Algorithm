{
 "cells": [
  {
   "cell_type": "code",
   "execution_count": 1,
   "metadata": {},
   "outputs": [],
   "source": [
    "import paramiko\n",
    "import pandas as pd"
   ]
  },
  {
   "cell_type": "code",
   "execution_count": 2,
   "metadata": {},
   "outputs": [],
   "source": [
    "ssh = paramiko.SSHClient()  # 创建SSH对象\n",
    "ssh.set_missing_host_key_policy(paramiko.AutoAddPolicy())  # 允许连接不在know_hosts文件中的主机\n",
    "# ssh.connect(hostname='192.168.50.188', port=22, username='root', password='Dacheng@123')  # 连接服务器\n",
    "ssh.connect(hostname='192.168.50.145', port=22, username='root', password='el{jk6ui6Q$5hThv')  # 连接服务器"
   ]
  },
  {
   "cell_type": "markdown",
   "metadata": {},
   "source": [
    "## chassis信息"
   ]
  },
  {
   "cell_type": "code",
   "execution_count": 3,
   "metadata": {},
   "outputs": [
    {
     "data": {
      "text/plain": [
       "['# dmidecode 3.2',\n",
       " 'Getting SMBIOS data from sysfs.',\n",
       " 'SMBIOS 3.0.0 present.',\n",
       " 'Handle 0x0003, DMI type 3, 25 bytes',\n",
       " 'Chassis Information',\n",
       " 'Manufacturer: Huawei',\n",
       " 'Type: Main Server Chassis',\n",
       " 'Lock: Not Present',\n",
       " 'Version: Huawei',\n",
       " 'Serial Number: Huawei',\n",
       " 'Asset Tag: Huawei',\n",
       " 'Boot-up State: Safe',\n",
       " 'Power Supply State: Safe',\n",
       " 'Thermal State: Safe',\n",
       " 'Security Status: None',\n",
       " 'OEM Information: 0x00000000',\n",
       " 'Height: 2 U',\n",
       " 'Number Of Power Cords: 1',\n",
       " 'Contained Elements: 0',\n",
       " 'SKU Number: Chassis SKU Number']"
      ]
     },
     "execution_count": 3,
     "metadata": {},
     "output_type": "execute_result"
    }
   ],
   "source": [
    "stdin, stdout, stderr = ssh.exec_command('dmidecode -t chassis')\n",
    "result_out,result_err = stdout.read(),stderr.read()  # 获取命令结果\n",
    "result_out = result_out.decode('utf-8') # 解码\n",
    "result_out = result_out.split('\\t')\n",
    "\n",
    "result = []\n",
    "for i in result_out:\n",
    "    for j in i.split('\\n'):\n",
    "        if j != '':\n",
    "            result.append(j)\n",
    "result"
   ]
  },
  {
   "cell_type": "code",
   "execution_count": 4,
   "metadata": {},
   "outputs": [
    {
     "data": {
      "text/plain": [
       "{'Manufacturer': 'Huawei',\n",
       " 'Type': 'Main Server Chassis',\n",
       " 'Version': 'Huawei',\n",
       " 'Serial Number': 'Huawei'}"
      ]
     },
     "execution_count": 4,
     "metadata": {},
     "output_type": "execute_result"
    }
   ],
   "source": [
    "information_chassis = {}\n",
    "for i in result:\n",
    "    if i.split(': ')[0] == 'Type':\n",
    "        information_chassis['Type'] = i.split(': ')[1]\n",
    "    elif i.split(': ')[0] == 'Serial Number':\n",
    "        information_chassis['Serial Number'] = i.split(': ')[1]\n",
    "    elif i.split(': ')[0] == 'Version':\n",
    "        information_chassis['Version'] = i.split(': ')[1]\n",
    "    elif i.split(': ')[0] == 'Manufacturer':\n",
    "        information_chassis['Manufacturer'] = i.split(': ')[1]\n",
    "information_chassis"
   ]
  },
  {
   "cell_type": "markdown",
   "metadata": {},
   "source": [
    "## System信息"
   ]
  },
  {
   "cell_type": "code",
   "execution_count": 5,
   "metadata": {},
   "outputs": [
    {
     "data": {
      "text/plain": [
       "['# dmidecode 3.2',\n",
       " 'Getting SMBIOS data from sysfs.',\n",
       " 'SMBIOS 3.0.0 present.',\n",
       " 'Handle 0x0001, DMI type 1, 27 bytes',\n",
       " 'System Information',\n",
       " 'Manufacturer: Huawei',\n",
       " 'Product Name: 2288H V5',\n",
       " 'Version: Purley',\n",
       " 'Serial Number: 2102311TXHN0KC001569',\n",
       " 'UUID: b5e19ea5-acb3-9141-ea11-4623569ecdf6',\n",
       " 'Wake-up Type: Power Switch',\n",
       " 'SKU Number: Purley',\n",
       " 'Family: Purley',\n",
       " 'Handle 0x0026, DMI type 12, 5 bytes',\n",
       " 'System Configuration Options',\n",
       " 'Option 1: ConfigOptions1',\n",
       " 'Option 2: ConfigOptions2',\n",
       " 'Option 3: ConfigOptions3',\n",
       " 'Handle 0x0028, DMI type 15, 29 bytes',\n",
       " 'System Event Log',\n",
       " 'Area Length: 0 bytes',\n",
       " 'Header Start Offset: 0x0000',\n",
       " 'Header Length: 8192 bytes',\n",
       " 'Data Start Offset: 0x2000',\n",
       " 'Access Method: General-purpose non-volatile data functions',\n",
       " 'Access Address: 0x0000',\n",
       " 'Status: Valid, Not Full',\n",
       " 'Change Token: 0x12345678',\n",
       " 'Header Format: OEM-specific',\n",
       " 'Supported Log Type Descriptors: 3',\n",
       " 'Descriptor 1: POST memory resize',\n",
       " 'Data Format 1: None',\n",
       " 'Descriptor 2: POST error',\n",
       " 'Data Format 2: POST results bitmap',\n",
       " 'Descriptor 3: Log area reset/cleared',\n",
       " 'Data Format 3: None',\n",
       " 'Handle 0x002E, DMI type 32, 11 bytes',\n",
       " 'System Boot Information',\n",
       " 'Status: No errors detected']"
      ]
     },
     "execution_count": 5,
     "metadata": {},
     "output_type": "execute_result"
    }
   ],
   "source": [
    "stdin, stdout, stderr = ssh.exec_command('dmidecode -t system')\n",
    "result_out,result_err = stdout.read(),stderr.read()  # 获取命令结果\n",
    "result_out = result_out.decode('utf-8') # 解码\n",
    "result_out = result_out.split('\\t')\n",
    "\n",
    "result = []\n",
    "for i in result_out:\n",
    "    for j in i.split('\\n'):\n",
    "        if j != '':\n",
    "            result.append(j)\n",
    "result"
   ]
  },
  {
   "cell_type": "code",
   "execution_count": 8,
   "metadata": {},
   "outputs": [
    {
     "data": {
      "text/plain": [
       "{'Manufacturer': 'Huawei',\n",
       " 'Product Name': '2288H V5',\n",
       " 'Version': 'Purley',\n",
       " 'Serial Number': '2102311TXHN0KC001569',\n",
       " 'Wake-up Type': 'Power Switch'}"
      ]
     },
     "execution_count": 8,
     "metadata": {},
     "output_type": "execute_result"
    }
   ],
   "source": [
    "information_system = {}\n",
    "for i in result:\n",
    "    if i.split(': ')[0] == 'Type':\n",
    "        information_system['Type'] = i.split(': ')[1]\n",
    "    elif i.split(': ')[0] == 'Product Name':\n",
    "        information_system['Product Name'] = i.split(': ')[1]\n",
    "    elif i.split(': ')[0] == 'Serial Number':\n",
    "        information_system['Serial Number'] = i.split(': ')[1]\n",
    "    elif i.split(': ')[0] == 'Version':\n",
    "        information_system['Version'] = i.split(': ')[1]\n",
    "    elif i.split(': ')[0] == 'Manufacturer':\n",
    "        information_system['Manufacturer'] = i.split(': ')[1]\n",
    "    elif i.split(': ')[0] == 'Wake-up Type':\n",
    "        information_system['Wake-up Type'] = i.split(': ')[1]\n",
    "information_system"
   ]
  },
  {
   "cell_type": "code",
   "execution_count": 1,
   "metadata": {},
   "outputs": [],
   "source": [
    "%run handle_base.py"
   ]
  },
  {
   "cell_type": "code",
   "execution_count": 2,
   "metadata": {},
   "outputs": [],
   "source": [
    "from handle_base import Handle_Basic\n",
    "ip = '192.168.50.145'\n",
    "username = 'root'\n",
    "password = 'el{jk6ui6Q$5hThv'\n",
    "hm = Handle_Basic(ip = ip, username = username, password = password)\n",
    "hm.trans_json()"
   ]
  },
  {
   "cell_type": "code",
   "execution_count": 3,
   "metadata": {},
   "outputs": [],
   "source": [
    "from handle_base import Handle_Basic\n",
    "ip = '192.168.50.112'\n",
    "username = 'root'\n",
    "password = 'Dacheng@123'\n",
    "hm = Handle_Basic(ip = ip, username = username, password = password)\n",
    "hm.trans_json()"
   ]
  },
  {
   "cell_type": "code",
   "execution_count": 4,
   "metadata": {},
   "outputs": [],
   "source": [
    "from handle_base import Handle_Basic\n",
    "ip = '192.168.50.111'\n",
    "username = 'root'\n",
    "password = 'Dacheng@123'\n",
    "hm = Handle_Basic(ip = ip, username = username, password = password)\n",
    "hm.trans_json()"
   ]
  },
  {
   "cell_type": "markdown",
   "metadata": {},
   "source": [
    "## Base Board主板相关的硬件信息"
   ]
  },
  {
   "cell_type": "code",
   "execution_count": 15,
   "metadata": {},
   "outputs": [],
   "source": [
    "stdin, stdout, stderr = ssh.exec_command('dmidecode -t baseboard')\n",
    "result_out,result_err = stdout.read(),stderr.read()  # 获取命令结果\n",
    "result_out = result_out.decode('utf-8') # 解码\n",
    "result_out = result_out.split('\\t')\n",
    "\n",
    "result = []\n",
    "for i in result_out:\n",
    "    for j in i.split('\\n'):\n",
    "        if j != '':\n",
    "            result.append(j)"
   ]
  },
  {
   "cell_type": "code",
   "execution_count": 16,
   "metadata": {},
   "outputs": [],
   "source": [
    "handle_index = []\n",
    "for i in result:\n",
    "    if i.startswith('Handle'):\n",
    "#         print(result.index(i))\n",
    "        handle_index.append(result.index(i))"
   ]
  },
  {
   "cell_type": "code",
   "execution_count": 17,
   "metadata": {},
   "outputs": [],
   "source": [
    "# 分阶段处理，处理除最后一个index之外的信息\n",
    "results_memory = []\n",
    "for i in handle_index[:-1]:\n",
    "    result_memory = []\n",
    "    for j in result[i:handle_index[handle_index.index(i)+1]]:\n",
    "        result_memory.append(j)\n",
    "    results_memory.append(result_memory)    \n",
    "result_memory = []\n",
    "for j in result[handle_index[-1]:]:\n",
    "    result_memory.append(j)\n",
    "results_memory.append(result_memory)"
   ]
  },
  {
   "cell_type": "code",
   "execution_count": 18,
   "metadata": {},
   "outputs": [],
   "source": [
    "mainboard = []\n",
    "for i in results_memory:\n",
    "    if i[1] == 'Base Board Information':\n",
    "        mainboard = i\n",
    "        results_memory.remove(i)"
   ]
  },
  {
   "cell_type": "code",
   "execution_count": 19,
   "metadata": {},
   "outputs": [
    {
     "data": {
      "text/plain": [
       "['Handle 0x0002, DMI type 2, 15 bytes',\n",
       " 'Base Board Information',\n",
       " 'Manufacturer: Huawei',\n",
       " 'Product Name: BC11SPSCB0',\n",
       " 'Version: V100R005',\n",
       " 'Serial Number: 024AFQCNKC010805',\n",
       " 'Asset Tag: Huawei',\n",
       " 'Features:',\n",
       " 'Board is a hosting board',\n",
       " 'Board is replaceable',\n",
       " 'Location In Chassis: Type2 - Board Chassis Location',\n",
       " 'Chassis Handle: 0x0003',\n",
       " 'Type: Motherboard',\n",
       " 'Contained Object Handles: 0']"
      ]
     },
     "execution_count": 19,
     "metadata": {},
     "output_type": "execute_result"
    }
   ],
   "source": [
    "mainboard"
   ]
  },
  {
   "cell_type": "code",
   "execution_count": 20,
   "metadata": {},
   "outputs": [
    {
     "data": {
      "text/plain": [
       "{'Manufacturer': 'Huawei',\n",
       " 'Product Name': 'BC11SPSCB0',\n",
       " 'Version': 'V100R005',\n",
       " 'Serial Number': '024AFQCNKC010805',\n",
       " 'Type': 'Motherboard'}"
      ]
     },
     "execution_count": 20,
     "metadata": {},
     "output_type": "execute_result"
    }
   ],
   "source": [
    "information_system = {}\n",
    "for i in mainboard:\n",
    "    if i.split(': ')[0] == 'Type':\n",
    "        information_system['Type'] = i.split(': ')[1]\n",
    "    elif i.split(': ')[0] == 'Product Name':\n",
    "        information_system['Product Name'] = i.split(': ')[1]\n",
    "    elif i.split(': ')[0] == 'Serial Number':\n",
    "        information_system['Serial Number'] = i.split(': ')[1]\n",
    "    elif i.split(': ')[0] == 'Version':\n",
    "        information_system['Version'] = i.split(': ')[1]\n",
    "    elif i.split(': ')[0] == 'Manufacturer':\n",
    "        information_system['Manufacturer'] = i.split(': ')[1]\n",
    "    elif i.split(': ')[0] == 'Product Name':\n",
    "        information_system['Product Name'] = i.split(': ')[1]\n",
    "information_system"
   ]
  },
  {
   "cell_type": "code",
   "execution_count": 21,
   "metadata": {},
   "outputs": [
    {
     "data": {
      "text/plain": [
       "[{'Reference Designation': ' LOM1',\n",
       "  'Type': 'Ethernet',\n",
       "  'Status': 'Enabled',\n",
       "  'Type Instance': '1'},\n",
       " {'Reference Designation': ' LOM2',\n",
       "  'Type': 'Ethernet',\n",
       "  'Status': 'Enabled',\n",
       "  'Type Instance': '2'},\n",
       " {'Reference Designation': ' LOM3',\n",
       "  'Type': 'Ethernet',\n",
       "  'Status': 'Enabled',\n",
       "  'Type Instance': '3'},\n",
       " {'Reference Designation': ' LOM4',\n",
       "  'Type': 'Ethernet',\n",
       "  'Status': 'Enabled',\n",
       "  'Type Instance': '4'},\n",
       " {'Reference Designation': ' Embeded SATA Controller',\n",
       "  'Type': 'SATA Controller',\n",
       "  'Status': 'Enabled',\n",
       "  'Type Instance': '1'},\n",
       " {'Reference Designation': ' Embeded SSATA Controller',\n",
       "  'Type': 'SATA Controller',\n",
       "  'Status': 'Enabled',\n",
       "  'Type Instance': '2'},\n",
       " {'Reference Designation': ' Embeded Raid Card',\n",
       "  'Type': 'SAS Controller',\n",
       "  'Status': 'Enabled',\n",
       "  'Type Instance': '1'},\n",
       " {'Reference Designation': ' Embeded USB Controller',\n",
       "  'Type': 'Other',\n",
       "  'Status': 'Enabled',\n",
       "  'Type Instance': '1'},\n",
       " {'Reference Designation': ' Embeded Video Card',\n",
       "  'Type': 'Video',\n",
       "  'Status': 'Enabled',\n",
       "  'Type Instance': '1'}]"
      ]
     },
     "execution_count": 21,
     "metadata": {},
     "output_type": "execute_result"
    }
   ],
   "source": [
    "results = []\n",
    "for result_memory in results_memory:\n",
    "    result = {}\n",
    "    for j in result_memory:\n",
    "        if j.split(': ')[0] == 'Reference Designation':\n",
    "            result['Reference Designation'] = j.split(': ')[1]   \n",
    "        elif j.split(': ')[0] == 'Type':\n",
    "            result['Type'] = j.split(': ')[1] \n",
    "        elif j.split(': ')[0] == 'Status':\n",
    "            result['Status'] = j.split(': ')[1] \n",
    "        elif j.split(': ')[0] == 'Type:':\n",
    "            result['Type'] = j.split(': ')[1] \n",
    "        elif j.split(': ')[0] == 'Type Instance':\n",
    "            result['Type Instance'] = j.split(': ')[1] \n",
    "    results.append(result)\n",
    "results            "
   ]
  },
  {
   "cell_type": "code",
   "execution_count": 22,
   "metadata": {},
   "outputs": [
    {
     "data": {
      "text/plain": [
       "{'Manufacturer': 'Huawei',\n",
       " 'Product Name': 'BC11SPSCB0',\n",
       " 'Version': 'V100R005',\n",
       " 'Serial Number': '024AFQCNKC010805',\n",
       " 'Type': 'Motherboard'}"
      ]
     },
     "execution_count": 22,
     "metadata": {},
     "output_type": "execute_result"
    }
   ],
   "source": [
    "information_system"
   ]
  },
  {
   "cell_type": "code",
   "execution_count": 26,
   "metadata": {},
   "outputs": [],
   "source": [
    "results_all = {}\n",
    "results_all['Main Board'] = information_system\n",
    "for i in results:\n",
    "    name = 'Single Board {}'.format(i['Reference Designation'])\n",
    "    results_all[name] = i"
   ]
  },
  {
   "cell_type": "code",
   "execution_count": 1,
   "metadata": {},
   "outputs": [],
   "source": [
    "%run handle_board.py"
   ]
  },
  {
   "cell_type": "code",
   "execution_count": 2,
   "metadata": {},
   "outputs": [],
   "source": [
    "from handle_board import Handle_Board\n",
    "ip = '192.168.50.111'\n",
    "username = 'root'\n",
    "password = 'Dacheng@123'\n",
    "hm = Handle_Board(ip = ip, username = username, password = password)\n",
    "hm.trans_json()"
   ]
  },
  {
   "cell_type": "code",
   "execution_count": 3,
   "metadata": {},
   "outputs": [],
   "source": [
    "from handle_board import Handle_Board\n",
    "ip = '192.168.50.112'\n",
    "username = 'root'\n",
    "password = 'Dacheng@123'\n",
    "hm = Handle_Board(ip = ip, username = username, password = password)\n",
    "hm.trans_json()"
   ]
  },
  {
   "cell_type": "code",
   "execution_count": 4,
   "metadata": {},
   "outputs": [],
   "source": [
    "from handle_board import Handle_Board\n",
    "ip = '192.168.50.145'\n",
    "username = 'root'\n",
    "password = 'el{jk6ui6Q$5hThv'\n",
    "hm = Handle_Board(ip = ip, username = username, password = password)\n",
    "hm.trans_json()"
   ]
  },
  {
   "cell_type": "markdown",
   "metadata": {},
   "source": [
    "## 获取Bios信息"
   ]
  },
  {
   "cell_type": "code",
   "execution_count": 50,
   "metadata": {},
   "outputs": [
    {
     "data": {
      "text/plain": [
       "['# dmidecode 3.2',\n",
       " 'Getting SMBIOS data from sysfs.',\n",
       " 'SMBIOS 3.0.0 present.',\n",
       " 'Handle 0x0000, DMI type 0, 24 bytes',\n",
       " 'BIOS Information',\n",
       " 'Vendor: INSYDE Corp.',\n",
       " 'Version: 7.01',\n",
       " 'Release Date: 11/13/2019',\n",
       " 'Address: 0xE0000',\n",
       " 'Runtime Size: 128 kB',\n",
       " 'ROM Size: 16 MB',\n",
       " 'Characteristics:',\n",
       " 'PCI is supported',\n",
       " 'BIOS is upgradeable',\n",
       " 'BIOS shadowing is allowed',\n",
       " 'Boot from CD is supported',\n",
       " 'Selectable boot is supported',\n",
       " 'EDD is supported',\n",
       " 'Japanese floppy for NEC 9800 1.2 MB is supported (int 13h)',\n",
       " 'Japanese floppy for Toshiba 1.2 MB is supported (int 13h)',\n",
       " '5.25\"/360 kB floppy services are supported (int 13h)',\n",
       " '5.25\"/1.2 MB floppy services are supported (int 13h)',\n",
       " '3.5\"/720 kB floppy services are supported (int 13h)',\n",
       " '3.5\"/2.88 MB floppy services are supported (int 13h)',\n",
       " '8042 keyboard services are supported (int 9h)',\n",
       " 'CGA/mono video services are supported (int 10h)',\n",
       " 'ACPI is supported',\n",
       " 'USB legacy is supported',\n",
       " 'BIOS boot specification is supported',\n",
       " 'Targeted content distribution is supported',\n",
       " 'UEFI is supported',\n",
       " 'BIOS Revision: 7.156',\n",
       " 'Handle 0x0027, DMI type 13, 22 bytes',\n",
       " 'BIOS Language Information',\n",
       " 'Language Description Format: Long',\n",
       " 'Installable Languages: 3',\n",
       " 'en|US|iso8859-1,0',\n",
       " 'zh|CN|unicode,0',\n",
       " 'ja|JP|unicode,0',\n",
       " 'Currently Installed Language: en|US|iso8859-1,0']"
      ]
     },
     "execution_count": 50,
     "metadata": {},
     "output_type": "execute_result"
    }
   ],
   "source": [
    "stdin, stdout, stderr = ssh.exec_command('dmidecode -t bios')\n",
    "result_out,result_err = stdout.read(),stderr.read()  # 获取命令结果\n",
    "result_out = result_out.decode('utf-8') # 解码\n",
    "result_out = result_out.split('\\t')\n",
    "\n",
    "result = []\n",
    "for i in result_out:\n",
    "    for j in i.split('\\n'):\n",
    "        if j != '':\n",
    "            result.append(j)\n",
    "result"
   ]
  },
  {
   "cell_type": "markdown",
   "metadata": {},
   "source": [
    "## 处理器相关信息"
   ]
  },
  {
   "cell_type": "code",
   "execution_count": 3,
   "metadata": {},
   "outputs": [],
   "source": [
    "stdin, stdout, stderr = ssh.exec_command('dmidecode -t processor')\n",
    "result_out,result_err = stdout.read(),stderr.read()  # 获取命令结果\n",
    "result_out = result_out.decode('utf-8') # 解码\n",
    "result_out = result_out.split('\\t')"
   ]
  },
  {
   "cell_type": "code",
   "execution_count": 4,
   "metadata": {},
   "outputs": [
    {
     "data": {
      "text/plain": [
       "['# dmidecode 3.2',\n",
       " 'Getting SMBIOS data from sysfs.',\n",
       " 'SMBIOS 3.0.0 present.',\n",
       " 'Handle 0x0055, DMI type 4, 48 bytes',\n",
       " 'Processor Information',\n",
       " 'Socket Designation: CPU01',\n",
       " 'Type: Central Processor',\n",
       " 'Family: Xeon',\n",
       " 'Manufacturer: Intel(R) Corporation',\n",
       " 'ID: 57 06 05 00 FF FB EB BF',\n",
       " 'Signature: Type 0, Family 6, Model 85, Stepping 7',\n",
       " 'Flags:',\n",
       " 'FPU (Floating-point unit on-chip)',\n",
       " 'VME (Virtual mode extension)',\n",
       " 'DE (Debugging extension)',\n",
       " 'PSE (Page size extension)',\n",
       " 'TSC (Time stamp counter)',\n",
       " 'MSR (Model specific registers)',\n",
       " 'PAE (Physical address extension)',\n",
       " 'MCE (Machine check exception)',\n",
       " 'CX8 (CMPXCHG8 instruction supported)',\n",
       " 'APIC (On-chip APIC hardware supported)',\n",
       " 'SEP (Fast system call)',\n",
       " 'MTRR (Memory type range registers)',\n",
       " 'PGE (Page global enable)',\n",
       " 'MCA (Machine check architecture)',\n",
       " 'CMOV (Conditional move instruction supported)',\n",
       " 'PAT (Page attribute table)',\n",
       " 'PSE-36 (36-bit page size extension)',\n",
       " 'CLFSH (CLFLUSH instruction supported)',\n",
       " 'DS (Debug store)',\n",
       " 'ACPI (ACPI supported)',\n",
       " 'MMX (MMX technology supported)',\n",
       " 'FXSR (FXSAVE and FXSTOR instructions supported)',\n",
       " 'SSE (Streaming SIMD extensions)',\n",
       " 'SSE2 (Streaming SIMD extensions 2)',\n",
       " 'SS (Self-snoop)',\n",
       " 'HTT (Multi-threading)',\n",
       " 'TM (Thermal monitor supported)',\n",
       " 'PBE (Pending break enabled)',\n",
       " 'Version: Intel(R) Xeon(R) Gold 5218 CPU @ 2.30GHz',\n",
       " 'Voltage: 1.6 V',\n",
       " 'External Clock: 100 MHz',\n",
       " 'Max Speed: 4000 MHz',\n",
       " 'Current Speed: 2300 MHz',\n",
       " 'Status: Populated, Enabled',\n",
       " 'Upgrade: Socket LGA3647-1',\n",
       " 'L1 Cache Handle: 0x0052',\n",
       " 'L2 Cache Handle: 0x0053',\n",
       " 'L3 Cache Handle: 0x0054',\n",
       " 'Serial Number: 9F6B0ECFCC436329',\n",
       " 'Asset Tag: UNKNOWN',\n",
       " 'Part Number: Not Specified',\n",
       " 'Core Count: 16',\n",
       " 'Core Enabled: 16',\n",
       " 'Thread Count: 32',\n",
       " 'Characteristics:',\n",
       " '64-bit capable',\n",
       " 'Multi-Core',\n",
       " 'Hardware Thread',\n",
       " 'Execute Protection',\n",
       " 'Enhanced Virtualization',\n",
       " 'Power/Performance Control',\n",
       " 'Handle 0x0059, DMI type 4, 48 bytes',\n",
       " 'Processor Information',\n",
       " 'Socket Designation: CPU02',\n",
       " 'Type: Central Processor',\n",
       " 'Family: Xeon',\n",
       " 'Manufacturer: Intel(R) Corporation',\n",
       " 'ID: 57 06 05 00 FF FB EB BF',\n",
       " 'Signature: Type 0, Family 6, Model 85, Stepping 7',\n",
       " 'Flags:',\n",
       " 'FPU (Floating-point unit on-chip)',\n",
       " 'VME (Virtual mode extension)',\n",
       " 'DE (Debugging extension)',\n",
       " 'PSE (Page size extension)',\n",
       " 'TSC (Time stamp counter)',\n",
       " 'MSR (Model specific registers)',\n",
       " 'PAE (Physical address extension)',\n",
       " 'MCE (Machine check exception)',\n",
       " 'CX8 (CMPXCHG8 instruction supported)',\n",
       " 'APIC (On-chip APIC hardware supported)',\n",
       " 'SEP (Fast system call)',\n",
       " 'MTRR (Memory type range registers)',\n",
       " 'PGE (Page global enable)',\n",
       " 'MCA (Machine check architecture)',\n",
       " 'CMOV (Conditional move instruction supported)',\n",
       " 'PAT (Page attribute table)',\n",
       " 'PSE-36 (36-bit page size extension)',\n",
       " 'CLFSH (CLFLUSH instruction supported)',\n",
       " 'DS (Debug store)',\n",
       " 'ACPI (ACPI supported)',\n",
       " 'MMX (MMX technology supported)',\n",
       " 'FXSR (FXSAVE and FXSTOR instructions supported)',\n",
       " 'SSE (Streaming SIMD extensions)',\n",
       " 'SSE2 (Streaming SIMD extensions 2)',\n",
       " 'SS (Self-snoop)',\n",
       " 'HTT (Multi-threading)',\n",
       " 'TM (Thermal monitor supported)',\n",
       " 'PBE (Pending break enabled)',\n",
       " 'Version: Intel(R) Xeon(R) Gold 5218 CPU @ 2.30GHz',\n",
       " 'Voltage: 1.6 V',\n",
       " 'External Clock: 100 MHz',\n",
       " 'Max Speed: 4000 MHz',\n",
       " 'Current Speed: 2300 MHz',\n",
       " 'Status: Populated, Enabled',\n",
       " 'Upgrade: Socket LGA3647-1',\n",
       " 'L1 Cache Handle: 0x0056',\n",
       " 'L2 Cache Handle: 0x0057',\n",
       " 'L3 Cache Handle: 0x0058',\n",
       " 'Serial Number: 9F6AD792B081C69D',\n",
       " 'Asset Tag: UNKNOWN',\n",
       " 'Part Number: Not Specified',\n",
       " 'Core Count: 16',\n",
       " 'Core Enabled: 16',\n",
       " 'Thread Count: 32',\n",
       " 'Characteristics:',\n",
       " '64-bit capable',\n",
       " 'Multi-Core',\n",
       " 'Hardware Thread',\n",
       " 'Execute Protection',\n",
       " 'Enhanced Virtualization',\n",
       " 'Power/Performance Control']"
      ]
     },
     "execution_count": 4,
     "metadata": {},
     "output_type": "execute_result"
    }
   ],
   "source": [
    "result = []\n",
    "for i in result_out:\n",
    "    for j in i.split('\\n'):\n",
    "        if j != '':\n",
    "            result.append(j)\n",
    "result"
   ]
  },
  {
   "cell_type": "code",
   "execution_count": 5,
   "metadata": {},
   "outputs": [],
   "source": [
    "handle_index = []\n",
    "for i in result:\n",
    "    if i.startswith('Handle'):\n",
    "#         print(result.index(i))\n",
    "        handle_index.append(result.index(i))"
   ]
  },
  {
   "cell_type": "code",
   "execution_count": 6,
   "metadata": {},
   "outputs": [],
   "source": [
    "# 分阶段处理，处理除最后一个index之外的信息\n",
    "results_memory = []\n",
    "for i in handle_index[:-1]:\n",
    "    result_memory = []\n",
    "    for j in result[i:handle_index[handle_index.index(i)+1]]:\n",
    "        result_memory.append(j)\n",
    "    results_memory.append(result_memory)    \n",
    "result_memory = []\n",
    "for j in result[handle_index[-1]:]:\n",
    "    result_memory.append(j)\n",
    "results_memory.append(result_memory)"
   ]
  },
  {
   "cell_type": "code",
   "execution_count": 7,
   "metadata": {},
   "outputs": [
    {
     "data": {
      "text/plain": [
       "[['Handle 0x0055, DMI type 4, 48 bytes',\n",
       "  'Processor Information',\n",
       "  'Socket Designation: CPU01',\n",
       "  'Type: Central Processor',\n",
       "  'Family: Xeon',\n",
       "  'Manufacturer: Intel(R) Corporation',\n",
       "  'ID: 57 06 05 00 FF FB EB BF',\n",
       "  'Signature: Type 0, Family 6, Model 85, Stepping 7',\n",
       "  'Flags:',\n",
       "  'FPU (Floating-point unit on-chip)',\n",
       "  'VME (Virtual mode extension)',\n",
       "  'DE (Debugging extension)',\n",
       "  'PSE (Page size extension)',\n",
       "  'TSC (Time stamp counter)',\n",
       "  'MSR (Model specific registers)',\n",
       "  'PAE (Physical address extension)',\n",
       "  'MCE (Machine check exception)',\n",
       "  'CX8 (CMPXCHG8 instruction supported)',\n",
       "  'APIC (On-chip APIC hardware supported)',\n",
       "  'SEP (Fast system call)',\n",
       "  'MTRR (Memory type range registers)',\n",
       "  'PGE (Page global enable)',\n",
       "  'MCA (Machine check architecture)',\n",
       "  'CMOV (Conditional move instruction supported)',\n",
       "  'PAT (Page attribute table)',\n",
       "  'PSE-36 (36-bit page size extension)',\n",
       "  'CLFSH (CLFLUSH instruction supported)',\n",
       "  'DS (Debug store)',\n",
       "  'ACPI (ACPI supported)',\n",
       "  'MMX (MMX technology supported)',\n",
       "  'FXSR (FXSAVE and FXSTOR instructions supported)',\n",
       "  'SSE (Streaming SIMD extensions)',\n",
       "  'SSE2 (Streaming SIMD extensions 2)',\n",
       "  'SS (Self-snoop)',\n",
       "  'HTT (Multi-threading)',\n",
       "  'TM (Thermal monitor supported)',\n",
       "  'PBE (Pending break enabled)',\n",
       "  'Version: Intel(R) Xeon(R) Gold 5218 CPU @ 2.30GHz',\n",
       "  'Voltage: 1.6 V',\n",
       "  'External Clock: 100 MHz',\n",
       "  'Max Speed: 4000 MHz',\n",
       "  'Current Speed: 2300 MHz',\n",
       "  'Status: Populated, Enabled',\n",
       "  'Upgrade: Socket LGA3647-1',\n",
       "  'L1 Cache Handle: 0x0052',\n",
       "  'L2 Cache Handle: 0x0053',\n",
       "  'L3 Cache Handle: 0x0054',\n",
       "  'Serial Number: 9F6B0ECFCC436329',\n",
       "  'Asset Tag: UNKNOWN',\n",
       "  'Part Number: Not Specified',\n",
       "  'Core Count: 16',\n",
       "  'Core Enabled: 16',\n",
       "  'Thread Count: 32',\n",
       "  'Characteristics:',\n",
       "  '64-bit capable',\n",
       "  'Multi-Core',\n",
       "  'Hardware Thread',\n",
       "  'Execute Protection',\n",
       "  'Enhanced Virtualization',\n",
       "  'Power/Performance Control'],\n",
       " ['Handle 0x0059, DMI type 4, 48 bytes',\n",
       "  'Processor Information',\n",
       "  'Socket Designation: CPU02',\n",
       "  'Type: Central Processor',\n",
       "  'Family: Xeon',\n",
       "  'Manufacturer: Intel(R) Corporation',\n",
       "  'ID: 57 06 05 00 FF FB EB BF',\n",
       "  'Signature: Type 0, Family 6, Model 85, Stepping 7',\n",
       "  'Flags:',\n",
       "  'FPU (Floating-point unit on-chip)',\n",
       "  'VME (Virtual mode extension)',\n",
       "  'DE (Debugging extension)',\n",
       "  'PSE (Page size extension)',\n",
       "  'TSC (Time stamp counter)',\n",
       "  'MSR (Model specific registers)',\n",
       "  'PAE (Physical address extension)',\n",
       "  'MCE (Machine check exception)',\n",
       "  'CX8 (CMPXCHG8 instruction supported)',\n",
       "  'APIC (On-chip APIC hardware supported)',\n",
       "  'SEP (Fast system call)',\n",
       "  'MTRR (Memory type range registers)',\n",
       "  'PGE (Page global enable)',\n",
       "  'MCA (Machine check architecture)',\n",
       "  'CMOV (Conditional move instruction supported)',\n",
       "  'PAT (Page attribute table)',\n",
       "  'PSE-36 (36-bit page size extension)',\n",
       "  'CLFSH (CLFLUSH instruction supported)',\n",
       "  'DS (Debug store)',\n",
       "  'ACPI (ACPI supported)',\n",
       "  'MMX (MMX technology supported)',\n",
       "  'FXSR (FXSAVE and FXSTOR instructions supported)',\n",
       "  'SSE (Streaming SIMD extensions)',\n",
       "  'SSE2 (Streaming SIMD extensions 2)',\n",
       "  'SS (Self-snoop)',\n",
       "  'HTT (Multi-threading)',\n",
       "  'TM (Thermal monitor supported)',\n",
       "  'PBE (Pending break enabled)',\n",
       "  'Version: Intel(R) Xeon(R) Gold 5218 CPU @ 2.30GHz',\n",
       "  'Voltage: 1.6 V',\n",
       "  'External Clock: 100 MHz',\n",
       "  'Max Speed: 4000 MHz',\n",
       "  'Current Speed: 2300 MHz',\n",
       "  'Status: Populated, Enabled',\n",
       "  'Upgrade: Socket LGA3647-1',\n",
       "  'L1 Cache Handle: 0x0056',\n",
       "  'L2 Cache Handle: 0x0057',\n",
       "  'L3 Cache Handle: 0x0058',\n",
       "  'Serial Number: 9F6AD792B081C69D',\n",
       "  'Asset Tag: UNKNOWN',\n",
       "  'Part Number: Not Specified',\n",
       "  'Core Count: 16',\n",
       "  'Core Enabled: 16',\n",
       "  'Thread Count: 32',\n",
       "  'Characteristics:',\n",
       "  '64-bit capable',\n",
       "  'Multi-Core',\n",
       "  'Hardware Thread',\n",
       "  'Execute Protection',\n",
       "  'Enhanced Virtualization',\n",
       "  'Power/Performance Control']]"
      ]
     },
     "execution_count": 7,
     "metadata": {},
     "output_type": "execute_result"
    }
   ],
   "source": [
    "results_memory"
   ]
  },
  {
   "cell_type": "code",
   "execution_count": 8,
   "metadata": {},
   "outputs": [],
   "source": [
    "%run handle_processer.py"
   ]
  },
  {
   "cell_type": "code",
   "execution_count": null,
   "metadata": {},
   "outputs": [],
   "source": []
  }
 ],
 "metadata": {
  "kernelspec": {
   "display_name": "Python 3",
   "language": "python",
   "name": "python3"
  },
  "language_info": {
   "codemirror_mode": {
    "name": "ipython",
    "version": 3
   },
   "file_extension": ".py",
   "mimetype": "text/x-python",
   "name": "python",
   "nbconvert_exporter": "python",
   "pygments_lexer": "ipython3",
   "version": "3.7.6"
  }
 },
 "nbformat": 4,
 "nbformat_minor": 4
}
