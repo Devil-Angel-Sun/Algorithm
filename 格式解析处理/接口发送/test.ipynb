{
 "cells": [
  {
   "cell_type": "markdown",
   "metadata": {},
   "source": [
    "### 参数写入json"
   ]
  },
  {
   "cell_type": "code",
   "execution_count": 2,
   "metadata": {},
   "outputs": [
    {
     "data": {
      "text/plain": [
       "{'kafka': {'http': '10.131.142.24:19092', 'topic': 'dc_gw_cmdb'},\n",
       " 'token': {'login_url': 'http://ywmh.sh.sgcc.com.cn/sso/api-token-auth/',\n",
       "  'username': 'mahayana',\n",
       "  'password': 'MAha_6997_yana'},\n",
       " 'cmdb': {'cmdb_url': 'http://ywmh.sh.sgcc.com.cn/cmdb/index/',\n",
       "  'query_url': 'http://ywmh.sh.sgcc.com.cn/cmdb/search/query_ci/'},\n",
       " 'cookies': {'csrftoken': 'UDQdXIavaPPRRjd33ehW4Er0UWRjXizxKqb7KTwtIPRcYDkg7Fsxxt1UDolEIN3O',\n",
       "  'X-CSRFToken': 'UDQdXIavaPPRRjd33ehW4Er0UWRjXizxKqb7KTwtIPRcYDkg7Fsxxt1UDolEIN3O'}}"
      ]
     },
     "execution_count": 2,
     "metadata": {},
     "output_type": "execute_result"
    }
   ],
   "source": [
    "import json\n",
    "kafka_params = {}\n",
    "kafka_params['http'] = '10.131.142.24:19092'\n",
    "kafka_params['topic'] = 'dc_gw_cmdb'\n",
    "token_params = {}\n",
    "token_params['login_url'] = \"http://ywmh.sh.sgcc.com.cn/sso/api-token-auth/\"\n",
    "token_params['username'] = \"mahayana\"\n",
    "token_params['password'] = \"MAha_6997_yana\"\n",
    "cmdb_params = {}\n",
    "cmdb_params['cmdb_url'] = 'http://ywmh.sh.sgcc.com.cn/cmdb/index/'\n",
    "cmdb_params['query_url'] = 'http://ywmh.sh.sgcc.com.cn/cmdb/search/query_ci/'\n",
    "cookies_params = {}\n",
    "cookies_params['csrftoken'] = 'UDQdXIavaPPRRjd33ehW4Er0UWRjXizxKqb7KTwtIPRcYDkg7Fsxxt1UDolEIN3O'\n",
    "cookies_params['X-CSRFToken'] = 'UDQdXIavaPPRRjd33ehW4Er0UWRjXizxKqb7KTwtIPRcYDkg7Fsxxt1UDolEIN3O'\n",
    "params = {}\n",
    "params['kafka'] = kafka_params\n",
    "params['token'] = token_params\n",
    "params['cmdb'] = cmdb_params\n",
    "params['cookies'] = cookies_params\n",
    "params"
   ]
  },
  {
   "cell_type": "code",
   "execution_count": 3,
   "metadata": {},
   "outputs": [],
   "source": [
    "with open('./util/config.json', 'w') as json_file:\n",
    "    json_file.write(json.dumps(params)) # 相当于 json.dump(params, json_file)\n"
   ]
  },
  {
   "cell_type": "code",
   "execution_count": 5,
   "metadata": {},
   "outputs": [],
   "source": [
    "from confluent_kafka import Producer\n",
    "class Kafka(object):\n",
    "    def __init__(self, config):\n",
    "        # kafka produce\n",
    "        self.p = Producer({\"bootstrap.servers\": config[\"kafka\"][\"http\"],\n",
    "                           \"message.max.bytes\": 20000000})\n",
    "\n",
    "    def write(self, value, topic):\n",
    "        # self.p.poll(0)\n",
    "        self.p.produce(\n",
    "            # config[\"kafka\"][\"topic.rca\"],\n",
    "            topic,\n",
    "            json.dumps(value).encode(\"utf-8\"),\n",
    "            callback=self.delivery_report,\n",
    "        )\n",
    "        self.p.flush()\n",
    "        \n",
    "    @staticmethod\n",
    "    def delivery_report(err, msg):\n",
    "        if err is not None:\n",
    "            print('消息发送失败:', err)\n",
    "        else:\n",
    "            print('消息发送成功:', msg.topic(), msg.partition())"
   ]
  },
  {
   "cell_type": "code",
   "execution_count": 1,
   "metadata": {},
   "outputs": [],
   "source": []
  },
  {
   "cell_type": "code",
   "execution_count": null,
   "metadata": {},
   "outputs": [],
   "source": [
    "import requests, time\n",
    "from util.log import LogHandler\n",
    "\n",
    "\n",
    "class postdata:\n",
    "    def __init__(self):\n",
    "        with open('./util/config.json','r') as json_file:\n",
    "            self.params = json.load(json_file)\n",
    "        self.kafkaobj = Kafka(self.params)\n",
    "        self.LogForest = LogHandler(\"query\", \"INFO\").logger_basic()\n",
    "        self.get_cmdb_token()     \n",
    "    \n",
    "    def get_cmdb_token(self):\n",
    "        self.session = requests.Session()\n",
    "        login_data = {'username': self.params['token']['username'], 'password': self.params['token']['password']}\n",
    "        app_token = json.loads(self.session.post(self.params['token']['login_url'], login_data).content)['token']\n",
    "        self.session.cookies.update({'app_token': app_token})\n",
    "        self.session.cookies.update({'csrftoken': params['cookies']['csrftoken']})\n",
    "        self.session.headers.update({'X-CSRFToken': params['cookies']['X-CSRFToken']})\n",
    "        self.session.get(self.params['cmdb']['cmdb_url'])\n",
    "\n",
    "    def query_ci(self, query):\n",
    "        # 请求微服务参数  ，cicat_id: 272 代表微服务环境\n",
    "        if query == 'microservice':\n",
    "            query_data = {{\"exact\":{\"value\":\"\",\"flag\":\"fuzzy\"},\"cicat_id\":[272],\"order\":{},\"define\":[{\"input_type\":\"select\",\"servicestatus\":[\"在用\"]},{\"input_type\":\"text\",\"ssfw|fqdn\":\"\"},{\"input_type\":\"text\",\"ssfw|name\":\"\"},{\"input_type\":\"relaAttr\",\"ssfw|YYXT_SHXT\":\"\"},{\"input_type\":\"text\",\"ssfw|Eservername\":\"\"},{\"input_type\":\"text\",\"ssfw|YYXT_SHXT|fqdn\":\"\"},{\"input_type\":\"text\",\"ssfw|YYXT_SHXT|name\":\"\"},{\"input_type\":\"text\",\"ssfw|YYXT_SHXT|systemenbrief\":\"\"},{\"input_type\":\"select\",\"ssfw|YYXT_SHXT|yyxtyxzt\":\"\"}]}}\n",
    "\n",
    "        # 请求虚拟机参数 260,333代表虚拟机\n",
    "        if query == 'linux':\n",
    "            query_data = {\"exact\":{\"value\":\"\",\"flag\":\"fuzzy\"},\"cicat_id\":[260,333],\"order\":{},\"define\":[{\"input_type\":\"select\",\"sbzt\":[\"在运\"]}]}\n",
    "\n",
    "        # 请求应用服务（中间件）参数 包括kafka，es\n",
    "        if query == 'middleware':\n",
    "            query_data ={\"exact\":{\"value\":\"\",\"flag\":\"fuzzy\"},\"cicat_id\":[268],\"order\":{},\"define\":[{\"input_type\":\"select\",\"servicestatus\":[\"在用\"]},{\"input_type\":\"select\",\"servicename|servicestatus\":[\"在用\"]},{\"input_type\":\"text\",\"servicename|serviceip\":\"\"},{\"input_type\":\"text\",\"servicename|service_domain\":\"\"},{\"input_type\":\"text\",\"servicename|serverport1\":\"\"},{\"input_type\":\"text\",\"run_on|fqdn\":\"\"},{\"input_type\":\"text\",\"run_on|name\":\"\"},{\"input_type\":\"select\",\"run_on|sbzt\":\"\"},{\"input_type\":\"date\",\"run_on|putdate\":\"\"},{\"input_type\":\"textNum\",\"run_on|cpuvirtualcores\":\"\"}]}\n",
    "\n",
    "        # 请求数据库，包括mongodb，redis，postgres，mysql，oracle\n",
    "        if query == 'database':\n",
    "            query_data = {\"exact\":{\"value\":\"\",\"flag\":\"fuzzy\"},\"cicat_id\":[273,274,320],\"order\":{},\"define\":[{\"input_type\":\"select\",\"servicestatus\":[\"在用\"]}]}\n",
    "        result = json.loads(self.session.post(url=self.params['cmdb']['query_url'], json=query_data).content)\n",
    "        return result['data']\n",
    "    \n",
    "    def main(self,querys):\n",
    "        for query in querys:\n",
    "            t = {'timestamp':time.time()}\n",
    "            try:\n",
    "                results = self.query_ci(query)\n",
    "                for result in results:\n",
    "                    result.update(t)\n",
    "                    self.kafkaobj.write(result,self.params['kafka']['topic'])\n",
    "                    self.LogForest.info(f\"当前数据{result}\")\n",
    "            except Exception:\n",
    "                self.LogForest.error(f\"数据上传失败\", exc_info=True)\n"
   ]
  },
  {
   "cell_type": "code",
   "execution_count": 6,
   "metadata": {},
   "outputs": [],
   "source": [
    "kafka_params = {}\n",
    "kafka_params['http'] = '192.168.50.110:19092'\n",
    "kafka_params['topic'] = 'dc_gw_cmdb'\n",
    "params = {'kafka':kafka_params}\n",
    "kafkaobj = Kafka(params)\n",
    "with open('/home/weijunfei/algorithm/交互/Kafka/history_170_40days.json') as f:\n",
    "    data = json.load(f)"
   ]
  },
  {
   "cell_type": "code",
   "execution_count": 18,
   "metadata": {},
   "outputs": [
    {
     "name": "stderr",
     "output_type": "stream",
     "text": [
      "2023-05-11 14:11:47 PM -<ipython-input-18-d5182f771430> -INFO[line:8]: -{'apmGroup': '*', 'dd-api-key': 'f186854e-8cad-3dfb-942a-dabf985c44e3', 'head': 170, 'monitorId': 170, 'name': 'request', 'scope': '{\"type\":\"metric\",\"metric\":\"secReqCnt\",\"service\":\"kafka\",\"serviceId\":\"ZjE4Njg1NGUtOGNhZC0zZGZiLTk0MmEtZGFiZjk4NWM0NGUzfGthZmth\",\"resource\":[\"*\"]}', 'silence': 0, 'timestamp': 1683785507.5206678, 'value': 2}\n",
      "2023-05-11 14:11:47 PM -<ipython-input-18-d5182f771430> -INFO[line:8]: -{'apmGroup': '*', 'dd-api-key': 'f186854e-8cad-3dfb-942a-dabf985c44e3', 'head': 170, 'monitorId': 170, 'name': 'request', 'scope': '{\"type\":\"metric\",\"metric\":\"secReqCnt\",\"service\":\"kafka\",\"serviceId\":\"ZjE4Njg1NGUtOGNhZC0zZGZiLTk0MmEtZGFiZjk4NWM0NGUzfGthZmth\",\"resource\":[\"*\"]}', 'silence': 0, 'timestamp': 1683785507.5206678, 'value': 2}\n",
      "2023-05-11 14:11:47 PM -<ipython-input-18-d5182f771430> -INFO[line:8]: -{'apmGroup': '*', 'dd-api-key': 'f186854e-8cad-3dfb-942a-dabf985c44e3', 'head': 170, 'monitorId': 170, 'name': 'request', 'scope': '{\"type\":\"metric\",\"metric\":\"secReqCnt\",\"service\":\"kafka\",\"serviceId\":\"ZjE4Njg1NGUtOGNhZC0zZGZiLTk0MmEtZGFiZjk4NWM0NGUzfGthZmth\",\"resource\":[\"*\"]}', 'silence': 0, 'timestamp': 1683785507.5206678, 'value': 2}\n",
      "2023-05-11 14:11:47 PM -<ipython-input-18-d5182f771430> -INFO[line:8]: -{'apmGroup': '*', 'dd-api-key': 'f186854e-8cad-3dfb-942a-dabf985c44e3', 'head': 170, 'monitorId': 170, 'name': 'request', 'scope': '{\"type\":\"metric\",\"metric\":\"secReqCnt\",\"service\":\"kafka\",\"serviceId\":\"ZjE4Njg1NGUtOGNhZC0zZGZiLTk0MmEtZGFiZjk4NWM0NGUzfGthZmth\",\"resource\":[\"*\"]}', 'silence': 0, 'timestamp': 1683785507.5206678, 'value': 2}\n",
      "2023-05-11 14:11:47 PM -<ipython-input-18-d5182f771430> -INFO[line:8]: -{'apmGroup': '*', 'dd-api-key': 'f186854e-8cad-3dfb-942a-dabf985c44e3', 'head': 170, 'monitorId': 170, 'name': 'request', 'scope': '{\"type\":\"metric\",\"metric\":\"secReqCnt\",\"service\":\"kafka\",\"serviceId\":\"ZjE4Njg1NGUtOGNhZC0zZGZiLTk0MmEtZGFiZjk4NWM0NGUzfGthZmth\",\"resource\":[\"*\"]}', 'silence': 0, 'timestamp': 1683785507.5206678, 'value': 2}\n",
      "2023-05-11 14:11:47 PM -<ipython-input-18-d5182f771430> -INFO[line:8]: -{'apmGroup': '*', 'dd-api-key': 'f186854e-8cad-3dfb-942a-dabf985c44e3', 'head': 170, 'monitorId': 170, 'name': 'request', 'scope': '{\"type\":\"metric\",\"metric\":\"secReqCnt\",\"service\":\"kafka\",\"serviceId\":\"ZjE4Njg1NGUtOGNhZC0zZGZiLTk0MmEtZGFiZjk4NWM0NGUzfGthZmth\",\"resource\":[\"*\"]}', 'silence': 0, 'timestamp': 1683785507.5206678, 'value': 4}\n",
      "2023-05-11 14:11:47 PM -<ipython-input-18-d5182f771430> -INFO[line:8]: -{'apmGroup': '*', 'dd-api-key': 'f186854e-8cad-3dfb-942a-dabf985c44e3', 'head': 170, 'monitorId': 170, 'name': 'request', 'scope': '{\"type\":\"metric\",\"metric\":\"secReqCnt\",\"service\":\"kafka\",\"serviceId\":\"ZjE4Njg1NGUtOGNhZC0zZGZiLTk0MmEtZGFiZjk4NWM0NGUzfGthZmth\",\"resource\":[\"*\"]}', 'silence': 0, 'timestamp': 1683785507.5206678, 'value': 2}\n",
      "2023-05-11 14:11:47 PM -<ipython-input-18-d5182f771430> -INFO[line:8]: -{'apmGroup': '*', 'dd-api-key': 'f186854e-8cad-3dfb-942a-dabf985c44e3', 'head': 170, 'monitorId': 170, 'name': 'request', 'scope': '{\"type\":\"metric\",\"metric\":\"secReqCnt\",\"service\":\"kafka\",\"serviceId\":\"ZjE4Njg1NGUtOGNhZC0zZGZiLTk0MmEtZGFiZjk4NWM0NGUzfGthZmth\",\"resource\":[\"*\"]}', 'silence': 0, 'timestamp': 1683785507.5206678, 'value': 2}\n",
      "2023-05-11 14:11:47 PM -<ipython-input-18-d5182f771430> -INFO[line:8]: -{'apmGroup': '*', 'dd-api-key': 'f186854e-8cad-3dfb-942a-dabf985c44e3', 'head': 170, 'monitorId': 170, 'name': 'request', 'scope': '{\"type\":\"metric\",\"metric\":\"secReqCnt\",\"service\":\"kafka\",\"serviceId\":\"ZjE4Njg1NGUtOGNhZC0zZGZiLTk0MmEtZGFiZjk4NWM0NGUzfGthZmth\",\"resource\":[\"*\"]}', 'silence': 0, 'timestamp': 1683785507.5206678, 'value': 2}\n",
      "2023-05-11 14:11:47 PM -<ipython-input-18-d5182f771430> -INFO[line:8]: -{'apmGroup': '*', 'dd-api-key': 'f186854e-8cad-3dfb-942a-dabf985c44e3', 'head': 170, 'monitorId': 170, 'name': 'request', 'scope': '{\"type\":\"metric\",\"metric\":\"secReqCnt\",\"service\":\"kafka\",\"serviceId\":\"ZjE4Njg1NGUtOGNhZC0zZGZiLTk0MmEtZGFiZjk4NWM0NGUzfGthZmth\",\"resource\":[\"*\"]}', 'silence': 0, 'timestamp': 1683785507.5206678, 'value': 2}\n"
     ]
    },
    {
     "name": "stdout",
     "output_type": "stream",
     "text": [
      "消息发送成功: dc_gw_cmdb 0\n",
      "消息发送成功: dc_gw_cmdb 0\n",
      "消息发送成功: dc_gw_cmdb 0\n",
      "消息发送成功: dc_gw_cmdb 2\n",
      "消息发送成功: dc_gw_cmdb 2\n",
      "消息发送成功: dc_gw_cmdb 2\n",
      "消息发送成功: dc_gw_cmdb 2\n",
      "消息发送成功: dc_gw_cmdb 0\n",
      "消息发送成功: dc_gw_cmdb 0\n",
      "消息发送成功: dc_gw_cmdb 0\n"
     ]
    }
   ],
   "source": [
    "import time\n",
    "from util.log import LogHandler\n",
    "LogForest = LogHandler(\"query\", \"INFO\").logger_basic()\n",
    "t = {'timestamp':time.time()}\n",
    "for i in data[:10]:\n",
    "    i.update(t)\n",
    "    kafkaobj.write(i, params['kafka']['topic'])\n",
    "    LogForest.info(f\"{i}\")"
   ]
  },
  {
   "cell_type": "code",
   "execution_count": 6,
   "metadata": {},
   "outputs": [
    {
     "name": "stdout",
     "output_type": "stream",
     "text": [
      "1\n",
      "4\n",
      "a\n"
     ]
    }
   ],
   "source": [
    "a = [{'a':'1'},{'a':4},'a']\n",
    "for i in a:\n",
    "    try:\n",
    "        if i.get('a'):\n",
    "            print(i.get('a'))\n",
    "    except:\n",
    "        print(i)"
   ]
  },
  {
   "cell_type": "code",
   "execution_count": 8,
   "metadata": {},
   "outputs": [
    {
     "ename": "JSONDecodeError",
     "evalue": "Expecting value: line 1 column 1 (char 0)",
     "output_type": "error",
     "traceback": [
      "\u001b[0;31m---------------------------------------------------------------------------\u001b[0m",
      "\u001b[0;31mJSONDecodeError\u001b[0m                           Traceback (most recent call last)",
      "\u001b[0;32m<ipython-input-8-99b69695f6c7>\u001b[0m in \u001b[0;36m<module>\u001b[0;34m\u001b[0m\n\u001b[1;32m      1\u001b[0m \u001b[0;32mimport\u001b[0m \u001b[0mjson\u001b[0m\u001b[0;34m\u001b[0m\u001b[0;34m\u001b[0m\u001b[0m\n\u001b[0;32m----> 2\u001b[0;31m \u001b[0mjson\u001b[0m\u001b[0;34m.\u001b[0m\u001b[0mloads\u001b[0m\u001b[0;34m(\u001b[0m\u001b[0;34m''\u001b[0m\u001b[0;34m)\u001b[0m\u001b[0;34m\u001b[0m\u001b[0;34m\u001b[0m\u001b[0m\n\u001b[0m",
      "\u001b[0;32m~/anaconda3/lib/python3.7/json/__init__.py\u001b[0m in \u001b[0;36mloads\u001b[0;34m(s, encoding, cls, object_hook, parse_float, parse_int, parse_constant, object_pairs_hook, **kw)\u001b[0m\n\u001b[1;32m    346\u001b[0m             \u001b[0mparse_int\u001b[0m \u001b[0;32mis\u001b[0m \u001b[0;32mNone\u001b[0m \u001b[0;32mand\u001b[0m \u001b[0mparse_float\u001b[0m \u001b[0;32mis\u001b[0m \u001b[0;32mNone\u001b[0m \u001b[0;32mand\u001b[0m\u001b[0;34m\u001b[0m\u001b[0;34m\u001b[0m\u001b[0m\n\u001b[1;32m    347\u001b[0m             parse_constant is None and object_pairs_hook is None and not kw):\n\u001b[0;32m--> 348\u001b[0;31m         \u001b[0;32mreturn\u001b[0m \u001b[0m_default_decoder\u001b[0m\u001b[0;34m.\u001b[0m\u001b[0mdecode\u001b[0m\u001b[0;34m(\u001b[0m\u001b[0ms\u001b[0m\u001b[0;34m)\u001b[0m\u001b[0;34m\u001b[0m\u001b[0;34m\u001b[0m\u001b[0m\n\u001b[0m\u001b[1;32m    349\u001b[0m     \u001b[0;32mif\u001b[0m \u001b[0mcls\u001b[0m \u001b[0;32mis\u001b[0m \u001b[0;32mNone\u001b[0m\u001b[0;34m:\u001b[0m\u001b[0;34m\u001b[0m\u001b[0;34m\u001b[0m\u001b[0m\n\u001b[1;32m    350\u001b[0m         \u001b[0mcls\u001b[0m \u001b[0;34m=\u001b[0m \u001b[0mJSONDecoder\u001b[0m\u001b[0;34m\u001b[0m\u001b[0;34m\u001b[0m\u001b[0m\n",
      "\u001b[0;32m~/anaconda3/lib/python3.7/json/decoder.py\u001b[0m in \u001b[0;36mdecode\u001b[0;34m(self, s, _w)\u001b[0m\n\u001b[1;32m    335\u001b[0m \u001b[0;34m\u001b[0m\u001b[0m\n\u001b[1;32m    336\u001b[0m         \"\"\"\n\u001b[0;32m--> 337\u001b[0;31m         \u001b[0mobj\u001b[0m\u001b[0;34m,\u001b[0m \u001b[0mend\u001b[0m \u001b[0;34m=\u001b[0m \u001b[0mself\u001b[0m\u001b[0;34m.\u001b[0m\u001b[0mraw_decode\u001b[0m\u001b[0;34m(\u001b[0m\u001b[0ms\u001b[0m\u001b[0;34m,\u001b[0m \u001b[0midx\u001b[0m\u001b[0;34m=\u001b[0m\u001b[0m_w\u001b[0m\u001b[0;34m(\u001b[0m\u001b[0ms\u001b[0m\u001b[0;34m,\u001b[0m \u001b[0;36m0\u001b[0m\u001b[0;34m)\u001b[0m\u001b[0;34m.\u001b[0m\u001b[0mend\u001b[0m\u001b[0;34m(\u001b[0m\u001b[0;34m)\u001b[0m\u001b[0;34m)\u001b[0m\u001b[0;34m\u001b[0m\u001b[0;34m\u001b[0m\u001b[0m\n\u001b[0m\u001b[1;32m    338\u001b[0m         \u001b[0mend\u001b[0m \u001b[0;34m=\u001b[0m \u001b[0m_w\u001b[0m\u001b[0;34m(\u001b[0m\u001b[0ms\u001b[0m\u001b[0;34m,\u001b[0m \u001b[0mend\u001b[0m\u001b[0;34m)\u001b[0m\u001b[0;34m.\u001b[0m\u001b[0mend\u001b[0m\u001b[0;34m(\u001b[0m\u001b[0;34m)\u001b[0m\u001b[0;34m\u001b[0m\u001b[0;34m\u001b[0m\u001b[0m\n\u001b[1;32m    339\u001b[0m         \u001b[0;32mif\u001b[0m \u001b[0mend\u001b[0m \u001b[0;34m!=\u001b[0m \u001b[0mlen\u001b[0m\u001b[0;34m(\u001b[0m\u001b[0ms\u001b[0m\u001b[0;34m)\u001b[0m\u001b[0;34m:\u001b[0m\u001b[0;34m\u001b[0m\u001b[0;34m\u001b[0m\u001b[0m\n",
      "\u001b[0;32m~/anaconda3/lib/python3.7/json/decoder.py\u001b[0m in \u001b[0;36mraw_decode\u001b[0;34m(self, s, idx)\u001b[0m\n\u001b[1;32m    353\u001b[0m             \u001b[0mobj\u001b[0m\u001b[0;34m,\u001b[0m \u001b[0mend\u001b[0m \u001b[0;34m=\u001b[0m \u001b[0mself\u001b[0m\u001b[0;34m.\u001b[0m\u001b[0mscan_once\u001b[0m\u001b[0;34m(\u001b[0m\u001b[0ms\u001b[0m\u001b[0;34m,\u001b[0m \u001b[0midx\u001b[0m\u001b[0;34m)\u001b[0m\u001b[0;34m\u001b[0m\u001b[0;34m\u001b[0m\u001b[0m\n\u001b[1;32m    354\u001b[0m         \u001b[0;32mexcept\u001b[0m \u001b[0mStopIteration\u001b[0m \u001b[0;32mas\u001b[0m \u001b[0merr\u001b[0m\u001b[0;34m:\u001b[0m\u001b[0;34m\u001b[0m\u001b[0;34m\u001b[0m\u001b[0m\n\u001b[0;32m--> 355\u001b[0;31m             \u001b[0;32mraise\u001b[0m \u001b[0mJSONDecodeError\u001b[0m\u001b[0;34m(\u001b[0m\u001b[0;34m\"Expecting value\"\u001b[0m\u001b[0;34m,\u001b[0m \u001b[0ms\u001b[0m\u001b[0;34m,\u001b[0m \u001b[0merr\u001b[0m\u001b[0;34m.\u001b[0m\u001b[0mvalue\u001b[0m\u001b[0;34m)\u001b[0m \u001b[0;32mfrom\u001b[0m \u001b[0;32mNone\u001b[0m\u001b[0;34m\u001b[0m\u001b[0;34m\u001b[0m\u001b[0m\n\u001b[0m\u001b[1;32m    356\u001b[0m         \u001b[0;32mreturn\u001b[0m \u001b[0mobj\u001b[0m\u001b[0;34m,\u001b[0m \u001b[0mend\u001b[0m\u001b[0;34m\u001b[0m\u001b[0;34m\u001b[0m\u001b[0m\n",
      "\u001b[0;31mJSONDecodeError\u001b[0m: Expecting value: line 1 column 1 (char 0)"
     ]
    }
   ],
   "source": [
    "import json\n",
    "json.loads('')"
   ]
  },
  {
   "cell_type": "code",
   "execution_count": null,
   "metadata": {},
   "outputs": [],
   "source": []
  }
 ],
 "metadata": {
  "kernelspec": {
   "display_name": "Python 3",
   "language": "python",
   "name": "python3"
  },
  "language_info": {
   "codemirror_mode": {
    "name": "ipython",
    "version": 3
   },
   "file_extension": ".py",
   "mimetype": "text/x-python",
   "name": "python",
   "nbconvert_exporter": "python",
   "pygments_lexer": "ipython3",
   "version": "3.7.6"
  }
 },
 "nbformat": 4,
 "nbformat_minor": 4
}
