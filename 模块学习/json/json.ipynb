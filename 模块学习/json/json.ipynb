{
 "cells": [
  {
   "cell_type": "code",
   "execution_count": 1,
   "metadata": {},
   "outputs": [
    {
     "data": {
      "text/html": [
       "<style> \n",
       "table {float:left} \n",
       "</style>\n"
      ],
      "text/plain": [
       "<IPython.core.display.HTML object>"
      ]
     },
     "metadata": {},
     "output_type": "display_data"
    }
   ],
   "source": [
    "# 表格左对齐\n",
    "%%html \n",
    "<style> \n",
    "table {float:left} \n",
    "</style>"
   ]
  },
  {
   "cell_type": "markdown",
   "metadata": {},
   "source": [
    "## Json\n",
    "结尾：``.json`` \n",
    "\n",
    "支持的数据类型：``number``， ``boolean``， ``string``， ``null``， ``array``， ``object``\n",
    "\n",
    "规定：字符集必须是``UTF-8``，字符串必须是双引号``“”``"
   ]
  },
  {
   "cell_type": "markdown",
   "metadata": {},
   "source": [
    "### 2. 常用的json数据转换网站\n",
    "1、json.cn：https://www.json.cn/\n",
    "\n",
    "2、json菜鸟工具：https://c.runoob.com/front-end/53\n",
    "\n",
    "3、sojson：https://www.sojson.com/，非常全的json处理网站\n",
    "\n",
    "4、kjson：https://www.kjson.com/\n",
    "\n",
    "5、编程狮-json检验工具：https://www.w3cschool.cn/tools/index?name=jsoncheck\n",
    "\n",
    "6、JSONViewer：http://jsonviewer.stack.hu/，用于检测Json格式是否正确的一个在线应用工具"
   ]
  },
  {
   "cell_type": "markdown",
   "metadata": {},
   "source": [
    "### 3. Json和Dict类型之间的转换"
   ]
  },
  {
   "cell_type": "markdown",
   "metadata": {},
   "source": [
    "|方法|作用|\n",
    "|---|---|\n",
    "|json.dumps()|将python对象编码成Json字符串：字典到json|\n",
    "|json.loads()|将Json字符串解码成python对象：json到字典|\n",
    "|json.dump()|将python中的对象转化成json储存到文件中|\n",
    "|json.load()|将文件中的json的格式转化成python对象提取出来|"
   ]
  },
  {
   "cell_type": "markdown",
   "metadata": {},
   "source": [
    "#### 3.1 json.jumps()\n",
    "和dump相关的两个函数是将Python数据类型转成json类型\n",
    "\n",
    "|Python | Json|\n",
    "|---|---|\n",
    "|dict|object|\n",
    "|list, tuple|array|\n",
    "|str, unicode|string|\n",
    "|int, long, float|number|\n",
    "|True|true|\n",
    "|False|false|\n",
    "|None|null|"
   ]
  },
  {
   "cell_type": "markdown",
   "metadata": {},
   "source": [
    "参数\n",
    "``` python\n",
    "json.dumps(obj, \n",
    "           skipkeys=False, \n",
    "           ensure_ascii=True, \n",
    "           check_circular=True, \n",
    "           allow_nan=True, \n",
    "           cls=None, \n",
    "           indent=None,  \n",
    "           separators=None,   \n",
    "           encoding=\"utf-8\",  \n",
    "           default=None, \n",
    "           sort_keys=False,\n",
    "           **kw)\n",
    "```\n",
    "``obj``： 待转化的对象\n",
    "\n",
    "``skipkeys`` ： 默认值是False，若dict的keys内的数据不是python的基本类型(str,unicode,int,long,float,bool,None)，设置为False时，就会报TypeError的错误。此时设置成True，则会跳过这类key \n",
    "\n",
    "``ensure_ascii`` ： 默认是ASCII码，若设置成False，则可以输出中文\n",
    "\n",
    "``check_circular``： 若为False，跳过对容器类型的循环引用检查\n",
    "\n",
    "``allow_nan``： 若allow_nan为假，则ValueError将序列化超出范围的浮点值(nan、inf、-inf)，严格遵守JSON规范，而不是使用JavaScript等价值(nan、Infinity、-Infinity)\n",
    "\n",
    "``indent``：参数根据格式缩进显示，表示缩进几个空格\n",
    "\n",
    "``separators``：指定分隔符；包含不同dict项之间的分隔符和key与value之间的分隔符；同时去掉: \n",
    "\n",
    "``encoding``：编码\n",
    "\n",
    "``default``：默认是一个函数，应该返回可序列化的obj版本或者引发类型错误；默认值是只引发类型错误\n",
    "\n",
    "``sort_keys``：若为False，则字典的键不排序；设置成True，按照字典排序（a到z） \n"
   ]
  },
  {
   "cell_type": "markdown",
   "metadata": {},
   "source": [
    "举例说明"
   ]
  },
  {
   "cell_type": "code",
   "execution_count": 16,
   "metadata": {},
   "outputs": [
    {
     "name": "stdout",
     "output_type": "stream",
     "text": [
      "<class 'dict'>\n",
      "<class 'str'>\n",
      "{\"name\": \"\\u5c0f\\u660e\", \"age\": 18, \"address\": \"shenzhen\"}\n"
     ]
    }
   ],
   "source": [
    "import json\n",
    "information1 = {\n",
    "    'name' : '小明',\n",
    "    'age' : 18,\n",
    "    'address' : 'shenzhen',\n",
    "}\n",
    "information2 = json.dumps(information1)\n",
    "print(type(information1))\n",
    "print(type(information2))\n",
    "print(information2)"
   ]
  },
  {
   "cell_type": "markdown",
   "metadata": {},
   "source": [
    "注意点：\n",
    "1. 此时显示的不是中文，为了显示中文，需要加入``ensure_ascii=False``参数\n",
    "2. json数据中全部变成了双引号，原来的字典类型数据中使用的是单引号"
   ]
  },
  {
   "cell_type": "code",
   "execution_count": 9,
   "metadata": {},
   "outputs": [
    {
     "name": "stdout",
     "output_type": "stream",
     "text": [
      "<class 'dict'>\n",
      "<class 'str'>\n",
      "{\"name\": \"小明\", \"age\": 18, \"address\": \"shenzhen\"}\n"
     ]
    }
   ],
   "source": [
    "information3 = json.dumps(information1, ensure_ascii=False)\n",
    "print(type(information1))\n",
    "print(type(information3))\n",
    "print(information3)"
   ]
  },
  {
   "cell_type": "code",
   "execution_count": 10,
   "metadata": {},
   "outputs": [
    {
     "name": "stdout",
     "output_type": "stream",
     "text": [
      "{\"name\": \"小明\", \"age\": 18, \"address\": \"shenzhen\"}\n",
      "{\n",
      "  \"name\": \"小明\",\n",
      "  \"age\": 18,\n",
      "  \"address\": \"shenzhen\"\n",
      "}\n",
      "{\n",
      "     \"name\": \"小明\",\n",
      "     \"age\": 18,\n",
      "     \"address\": \"shenzhen\"\n",
      "}\n",
      "{\"name\": \"小明\", \"age\": 18, \"address\": \"shenzhen\"}\n"
     ]
    }
   ],
   "source": [
    "# 让json美观输出\n",
    "information4 = json.dumps(information1, ensure_ascii=False, indent = 2) # 缩进两个空格\n",
    "information5 = json.dumps(information1, ensure_ascii=False, indent = 5) # 缩进五个空格\n",
    "print(information3)\n",
    "print(information4)\n",
    "print(information5)"
   ]
  },
  {
   "cell_type": "code",
   "execution_count": 11,
   "metadata": {},
   "outputs": [
    {
     "name": "stdout",
     "output_type": "stream",
     "text": [
      "{\n",
      "  \"address\": \"shenzhen\",\n",
      "  \"age\": 18,\n",
      "  \"name\": \"小明\"\n",
      "}\n",
      "{\n",
      "  \"name\": \"小明\",\n",
      "  \"age\": 18,\n",
      "  \"address\": \"shenzhen\"\n",
      "}\n"
     ]
    }
   ],
   "source": [
    "# 对键进行排序\n",
    "information6 = json.dumps(information1, ensure_ascii=False, indent = 2, sort_keys = True) \n",
    "information7 = json.dumps(information1, ensure_ascii=False, indent = 2, sort_keys = False) \n",
    "print(information6)\n",
    "print(information7)"
   ]
  },
  {
   "cell_type": "code",
   "execution_count": 13,
   "metadata": {},
   "outputs": [
    {
     "name": "stdout",
     "output_type": "stream",
     "text": [
      "{\n",
      "  \"name\": \"小明\",\n",
      "  \"age\": 18,\n",
      "  \"address\": \"shenzhen\"\n",
      "}\n",
      "{\n",
      "  \"name\"@\"小明\"+\n",
      "  \"age\"@18+\n",
      "  \"address\"@\"shenzhen\"\n",
      "}\n"
     ]
    }
   ],
   "source": [
    "# 控制输出分隔符\n",
    "information8 = json.dumps(information1, ensure_ascii=False, indent = 2, separators = ('+','@')) \n",
    "print(information4)\n",
    "print(information8)"
   ]
  },
  {
   "cell_type": "markdown",
   "metadata": {},
   "source": [
    "#### json.dump()"
   ]
  },
  {
   "cell_type": "code",
   "execution_count": 14,
   "metadata": {},
   "outputs": [],
   "source": [
    "with open('information_to_json.json', 'w', encoding = 'utf-8') as f:\n",
    "    json.dump(information1, # 待写入数据\n",
    "             f, # File对象\n",
    "             indent = 2, # 空格缩进符，多行显示；若无该参数，显示数据在一行中显示\n",
    "             sort_keys = True, # 键的排序\n",
    "             ensure_ascii = False) # 显示中文"
   ]
  },
  {
   "cell_type": "markdown",
   "metadata": {},
   "source": [
    "#### 3.3 json.loads()\n",
    "与load相关的两个函数是将json转换为python\n",
    "\n",
    "|JSON|Python|\n",
    "|---|---|\n",
    "|object|dict|\n",
    "|array|list|\n",
    "|string|unicode|\n",
    "|number (int)|int, long|\n",
    "|number (real)|float|\n",
    "|true|True|\n",
    "|false|False|\n",
    "|null|None|"
   ]
  },
  {
   "cell_type": "code",
   "execution_count": 18,
   "metadata": {},
   "outputs": [
    {
     "name": "stdout",
     "output_type": "stream",
     "text": [
      "{'name': '小明', 'age': 18, 'address': 'shenzhen'}\n"
     ]
    }
   ],
   "source": [
    "information9 = json.dumps(information1, ensure_ascii = False)\n",
    "information10 = json.loads(information9)\n",
    "print(information10)"
   ]
  },
  {
   "cell_type": "markdown",
   "metadata": {},
   "source": [
    "#### 3.4 json.load()"
   ]
  },
  {
   "cell_type": "code",
   "execution_count": 20,
   "metadata": {},
   "outputs": [
    {
     "name": "stdout",
     "output_type": "stream",
     "text": [
      "{'address': 'shenzhen', 'age': 18, 'name': '小明'}\n"
     ]
    }
   ],
   "source": [
    "with open('information_to_json.json', encoding = 'utf-8') as f:\n",
    "    json_to_dict = json.load(f) # json转成字典\n",
    "print(json_to_dict)"
   ]
  },
  {
   "cell_type": "markdown",
   "metadata": {},
   "source": [
    "### 4 Json和非Dict之间的转换"
   ]
  },
  {
   "cell_type": "markdown",
   "metadata": {},
   "source": [
    "#### 4.1 元组转换"
   ]
  },
  {
   "cell_type": "code",
   "execution_count": 21,
   "metadata": {},
   "outputs": [
    {
     "name": "stdout",
     "output_type": "stream",
     "text": [
      "<class 'str'>\n"
     ]
    },
    {
     "data": {
      "text/plain": [
       "'[1, 2]'"
      ]
     },
     "execution_count": 21,
     "metadata": {},
     "output_type": "execute_result"
    }
   ],
   "source": [
    "data = (1,2)\n",
    "data1 = json.dumps(data)\n",
    "print(type(data1))\n",
    "data1"
   ]
  },
  {
   "cell_type": "markdown",
   "metadata": {},
   "source": [
    "#### 4.2 列表转换"
   ]
  },
  {
   "cell_type": "code",
   "execution_count": 22,
   "metadata": {},
   "outputs": [
    {
     "name": "stdout",
     "output_type": "stream",
     "text": [
      "<class 'str'>\n"
     ]
    },
    {
     "data": {
      "text/plain": [
       "'[1, 2, 3, 4]'"
      ]
     },
     "execution_count": 22,
     "metadata": {},
     "output_type": "execute_result"
    }
   ],
   "source": [
    "data = [1,2,3,4]\n",
    "data1 = json.dumps(data)\n",
    "print(type(data1))\n",
    "data1"
   ]
  },
  {
   "cell_type": "markdown",
   "metadata": {},
   "source": [
    "#### 4.3 布尔值转换"
   ]
  },
  {
   "cell_type": "code",
   "execution_count": 23,
   "metadata": {},
   "outputs": [
    {
     "name": "stdout",
     "output_type": "stream",
     "text": [
      "<class 'str'>\n"
     ]
    },
    {
     "data": {
      "text/plain": [
       "'true'"
      ]
     },
     "execution_count": 23,
     "metadata": {},
     "output_type": "execute_result"
    }
   ],
   "source": [
    "data = True\n",
    "data1 = json.dumps(data)\n",
    "print(type(data1))\n",
    "data1"
   ]
  },
  {
   "cell_type": "markdown",
   "metadata": {},
   "source": [
    "#### 4.4 数值型转换"
   ]
  },
  {
   "cell_type": "code",
   "execution_count": 24,
   "metadata": {},
   "outputs": [
    {
     "name": "stdout",
     "output_type": "stream",
     "text": [
      "<class 'str'>\n"
     ]
    },
    {
     "data": {
      "text/plain": [
       "'1'"
      ]
     },
     "execution_count": 24,
     "metadata": {},
     "output_type": "execute_result"
    }
   ],
   "source": [
    "data = 1\n",
    "data1 = json.dumps(data)\n",
    "print(type(data1))\n",
    "data1"
   ]
  },
  {
   "cell_type": "markdown",
   "metadata": {},
   "source": [
    "### 5 Pandas处理Json\n",
    "\n",
    "- ``read_json``：从json中读取数据\n",
    "- ``to_json``：从pandas中的数据写入到json文件中\n",
    "- ``json_noemalize``：对json数据进行规范化处理"
   ]
  },
  {
   "cell_type": "markdown",
   "metadata": {},
   "source": [
    "#### 5.1 read_json\n",
    "``read_json参数``\n",
    "```python\n",
    "pandas.read_json(\n",
    "  path_or_buf=None,  \n",
    "  orient=None,  \n",
    "  typ='frame',   \n",
    "  dtype=None, \n",
    "  convert_axes=None, \n",
    "  convert_dates=True, \n",
    "  keep_default_dates=True, \n",
    "  numpy=False, \n",
    "  precise_float=False, \n",
    "  date_unit=None, \n",
    "  encoding=None, \n",
    "  lines=False,  \n",
    "  chunksize=None,\n",
    "  compression='infer', \n",
    "  nrows=None, \n",
    "  storage_options=None)\n",
    "```\n",
    "``path_or_buf``：json文件路径\n",
    "\n",
    "``orient``：重点参数，取值为：\"split\"、\"records\"、\"index\"、\"columns\"、\"values\"\n",
    "\n",
    "``typ``：要恢复的对象类型（系列或框架），默认’框架’.\n",
    "\n",
    "``dtype``：boolean或dict，默认为True\n",
    "\n",
    "``lines``：布尔值，默认为False，每行读取该文件作为json对象"
   ]
  },
  {
   "cell_type": "code",
   "execution_count": 26,
   "metadata": {},
   "outputs": [],
   "source": [
    "import pandas as pd"
   ]
  },
  {
   "cell_type": "code",
   "execution_count": 28,
   "metadata": {},
   "outputs": [
    {
     "data": {
      "text/html": [
       "<div>\n",
       "<style scoped>\n",
       "    .dataframe tbody tr th:only-of-type {\n",
       "        vertical-align: middle;\n",
       "    }\n",
       "\n",
       "    .dataframe tbody tr th {\n",
       "        vertical-align: top;\n",
       "    }\n",
       "\n",
       "    .dataframe thead th {\n",
       "        text-align: right;\n",
       "    }\n",
       "</style>\n",
       "<table border=\"1\" class=\"dataframe\">\n",
       "  <thead>\n",
       "    <tr style=\"text-align: right;\">\n",
       "      <th></th>\n",
       "      <th>contextOSE</th>\n",
       "      <th>earthgeckoSkyline</th>\n",
       "      <th>expose</th>\n",
       "      <th>htmjava</th>\n",
       "      <th>knncad</th>\n",
       "      <th>null</th>\n",
       "      <th>numenta</th>\n",
       "      <th>numentaTM</th>\n",
       "      <th>random</th>\n",
       "      <th>randomCutForest</th>\n",
       "      <th>relativeEntropy</th>\n",
       "      <th>skyline</th>\n",
       "      <th>twitterADVec</th>\n",
       "      <th>windowedGaussian</th>\n",
       "    </tr>\n",
       "  </thead>\n",
       "  <tbody>\n",
       "    <tr>\n",
       "      <th>reward_low_FN_rate</th>\n",
       "      <td>73.181673</td>\n",
       "      <td>63.800148</td>\n",
       "      <td>26.920947</td>\n",
       "      <td>70.424078</td>\n",
       "      <td>64.812321</td>\n",
       "      <td>0</td>\n",
       "      <td>74.320244</td>\n",
       "      <td>69.185068</td>\n",
       "      <td>25.876351</td>\n",
       "      <td>59.748765</td>\n",
       "      <td>58.842292</td>\n",
       "      <td>44.481017</td>\n",
       "      <td>53.501075</td>\n",
       "      <td>47.410027</td>\n",
       "    </tr>\n",
       "    <tr>\n",
       "      <th>reward_low_FP_rate</th>\n",
       "      <td>66.977139</td>\n",
       "      <td>46.195301</td>\n",
       "      <td>3.190931</td>\n",
       "      <td>53.256950</td>\n",
       "      <td>43.408517</td>\n",
       "      <td>0</td>\n",
       "      <td>63.116842</td>\n",
       "      <td>56.665308</td>\n",
       "      <td>5.763682</td>\n",
       "      <td>38.360772</td>\n",
       "      <td>47.598352</td>\n",
       "      <td>27.081210</td>\n",
       "      <td>33.610052</td>\n",
       "      <td>20.867986</td>\n",
       "    </tr>\n",
       "    <tr>\n",
       "      <th>standard</th>\n",
       "      <td>69.899569</td>\n",
       "      <td>58.200223</td>\n",
       "      <td>16.436669</td>\n",
       "      <td>65.549910</td>\n",
       "      <td>57.994343</td>\n",
       "      <td>0</td>\n",
       "      <td>70.101056</td>\n",
       "      <td>64.553464</td>\n",
       "      <td>16.831768</td>\n",
       "      <td>51.717055</td>\n",
       "      <td>54.642749</td>\n",
       "      <td>35.687043</td>\n",
       "      <td>47.061957</td>\n",
       "      <td>39.649523</td>\n",
       "    </tr>\n",
       "  </tbody>\n",
       "</table>\n",
       "</div>"
      ],
      "text/plain": [
       "                    contextOSE  earthgeckoSkyline     expose    htmjava  \\\n",
       "reward_low_FN_rate   73.181673          63.800148  26.920947  70.424078   \n",
       "reward_low_FP_rate   66.977139          46.195301   3.190931  53.256950   \n",
       "standard             69.899569          58.200223  16.436669  65.549910   \n",
       "\n",
       "                       knncad  null    numenta  numentaTM     random  \\\n",
       "reward_low_FN_rate  64.812321     0  74.320244  69.185068  25.876351   \n",
       "reward_low_FP_rate  43.408517     0  63.116842  56.665308   5.763682   \n",
       "standard            57.994343     0  70.101056  64.553464  16.831768   \n",
       "\n",
       "                    randomCutForest  relativeEntropy    skyline  twitterADVec  \\\n",
       "reward_low_FN_rate        59.748765        58.842292  44.481017     53.501075   \n",
       "reward_low_FP_rate        38.360772        47.598352  27.081210     33.610052   \n",
       "standard                  51.717055        54.642749  35.687043     47.061957   \n",
       "\n",
       "                    windowedGaussian  \n",
       "reward_low_FN_rate         47.410027  \n",
       "reward_low_FP_rate         20.867986  \n",
       "standard                   39.649523  "
      ]
     },
     "execution_count": 28,
     "metadata": {},
     "output_type": "execute_result"
    }
   ],
   "source": [
    "pd.read_json('final_results.json')"
   ]
  },
  {
   "cell_type": "markdown",
   "metadata": {},
   "source": [
    "orient参数 ``orient = 'split'``\n",
    "\n",
    "json文件中的key只能为``index``,``cloumns``,``data``这三个，多一个不行，少一个也不行\n",
    "\n",
    "``split`` : dict like {index -> [index], columns -> [columns], data -> [values]}\n"
   ]
  },
  {
   "cell_type": "code",
   "execution_count": 34,
   "metadata": {},
   "outputs": [
    {
     "data": {
      "text/html": [
       "<div>\n",
       "<style scoped>\n",
       "    .dataframe tbody tr th:only-of-type {\n",
       "        vertical-align: middle;\n",
       "    }\n",
       "\n",
       "    .dataframe tbody tr th {\n",
       "        vertical-align: top;\n",
       "    }\n",
       "\n",
       "    .dataframe thead th {\n",
       "        text-align: right;\n",
       "    }\n",
       "</style>\n",
       "<table border=\"1\" class=\"dataframe\">\n",
       "  <thead>\n",
       "    <tr style=\"text-align: right;\">\n",
       "      <th></th>\n",
       "      <th>a</th>\n",
       "      <th>b</th>\n",
       "    </tr>\n",
       "  </thead>\n",
       "  <tbody>\n",
       "    <tr>\n",
       "      <th>2</th>\n",
       "      <td>1</td>\n",
       "      <td>3</td>\n",
       "    </tr>\n",
       "    <tr>\n",
       "      <th>3</th>\n",
       "      <td>2</td>\n",
       "      <td>4</td>\n",
       "    </tr>\n",
       "    <tr>\n",
       "      <th>4</th>\n",
       "      <td>4</td>\n",
       "      <td>5</td>\n",
       "    </tr>\n",
       "  </tbody>\n",
       "</table>\n",
       "</div>"
      ],
      "text/plain": [
       "   a  b\n",
       "2  1  3\n",
       "3  2  4\n",
       "4  4  5"
      ]
     },
     "execution_count": 34,
     "metadata": {},
     "output_type": "execute_result"
    }
   ],
   "source": [
    "data = '{\"index\":[2,3,4], \"columns\" : [\"a\",\"b\"], \"data\":[[1,3],[2,4],[4,5]]}'\n",
    "pd.read_json(data, orient = 'split')"
   ]
  },
  {
   "cell_type": "markdown",
   "metadata": {},
   "source": [
    "orient参数 ``orient = 'records'``\n",
    "\n",
    "json格式：``records`` : list like [{column -> value}, … , {column -> value}]"
   ]
  },
  {
   "cell_type": "code",
   "execution_count": 36,
   "metadata": {},
   "outputs": [
    {
     "data": {
      "text/html": [
       "<div>\n",
       "<style scoped>\n",
       "    .dataframe tbody tr th:only-of-type {\n",
       "        vertical-align: middle;\n",
       "    }\n",
       "\n",
       "    .dataframe tbody tr th {\n",
       "        vertical-align: top;\n",
       "    }\n",
       "\n",
       "    .dataframe thead th {\n",
       "        text-align: right;\n",
       "    }\n",
       "</style>\n",
       "<table border=\"1\" class=\"dataframe\">\n",
       "  <thead>\n",
       "    <tr style=\"text-align: right;\">\n",
       "      <th></th>\n",
       "      <th>name</th>\n",
       "      <th>age</th>\n",
       "    </tr>\n",
       "  </thead>\n",
       "  <tbody>\n",
       "    <tr>\n",
       "      <th>0</th>\n",
       "      <td>小米</td>\n",
       "      <td>22</td>\n",
       "    </tr>\n",
       "    <tr>\n",
       "      <th>1</th>\n",
       "      <td>小李</td>\n",
       "      <td>19</td>\n",
       "    </tr>\n",
       "  </tbody>\n",
       "</table>\n",
       "</div>"
      ],
      "text/plain": [
       "  name  age\n",
       "0   小米   22\n",
       "1   小李   19"
      ]
     },
     "execution_count": 36,
     "metadata": {},
     "output_type": "execute_result"
    }
   ],
   "source": [
    "data = '[{\"name\": \"小米\",\"age\" : 22},{\"name\": \"小李\", \"age\":19}]'\n",
    "pd.read_json(data, orient = 'records')"
   ]
  },
  {
   "cell_type": "markdown",
   "metadata": {},
   "source": [
    "orient参数 ``orient = 'index'``\n",
    "\n",
    "json格式：``index`` : dict like {index -> {column -> value}}"
   ]
  },
  {
   "cell_type": "code",
   "execution_count": 37,
   "metadata": {},
   "outputs": [
    {
     "data": {
      "text/html": [
       "<div>\n",
       "<style scoped>\n",
       "    .dataframe tbody tr th:only-of-type {\n",
       "        vertical-align: middle;\n",
       "    }\n",
       "\n",
       "    .dataframe tbody tr th {\n",
       "        vertical-align: top;\n",
       "    }\n",
       "\n",
       "    .dataframe thead th {\n",
       "        text-align: right;\n",
       "    }\n",
       "</style>\n",
       "<table border=\"1\" class=\"dataframe\">\n",
       "  <thead>\n",
       "    <tr style=\"text-align: right;\">\n",
       "      <th></th>\n",
       "      <th>zhuhai</th>\n",
       "      <th>shenzhen</th>\n",
       "      <th>price</th>\n",
       "      <th>time</th>\n",
       "    </tr>\n",
       "  </thead>\n",
       "  <tbody>\n",
       "    <tr>\n",
       "      <th>city</th>\n",
       "      <td>100.0</td>\n",
       "      <td>200.0</td>\n",
       "      <td>NaN</td>\n",
       "      <td>NaN</td>\n",
       "    </tr>\n",
       "    <tr>\n",
       "      <th>home</th>\n",
       "      <td>NaN</td>\n",
       "      <td>NaN</td>\n",
       "      <td>8k</td>\n",
       "      <td>2020-08-21 02:00:00</td>\n",
       "    </tr>\n",
       "  </tbody>\n",
       "</table>\n",
       "</div>"
      ],
      "text/plain": [
       "      zhuhai  shenzhen price                 time\n",
       "city   100.0     200.0   NaN                  NaN\n",
       "home     NaN       NaN    8k  2020-08-21 02:00:00"
      ]
     },
     "execution_count": 37,
     "metadata": {},
     "output_type": "execute_result"
    }
   ],
   "source": [
    "data = '{\"city\":{\"zhuhai\":\"100\",\"shenzhen\":200},\"home\":{\"price\":\"8k\",\"time\":\"2020-08-21 02:00:00\"}}'\n",
    "pd.read_json(data, orient = 'index')"
   ]
  },
  {
   "cell_type": "markdown",
   "metadata": {},
   "source": [
    "orient参数 ``orient = 'columns'``\n",
    "\n",
    "json格式：``columns`` : dict like {column -> {index -> value}}\n",
    "\n",
    "orient = 'columns'与 orient = 'index'之间的转换在于转置即可"
   ]
  },
  {
   "cell_type": "code",
   "execution_count": 39,
   "metadata": {},
   "outputs": [
    {
     "data": {
      "text/html": [
       "<div>\n",
       "<style scoped>\n",
       "    .dataframe tbody tr th:only-of-type {\n",
       "        vertical-align: middle;\n",
       "    }\n",
       "\n",
       "    .dataframe tbody tr th {\n",
       "        vertical-align: top;\n",
       "    }\n",
       "\n",
       "    .dataframe thead th {\n",
       "        text-align: right;\n",
       "    }\n",
       "</style>\n",
       "<table border=\"1\" class=\"dataframe\">\n",
       "  <thead>\n",
       "    <tr style=\"text-align: right;\">\n",
       "      <th></th>\n",
       "      <th>city</th>\n",
       "      <th>home</th>\n",
       "    </tr>\n",
       "  </thead>\n",
       "  <tbody>\n",
       "    <tr>\n",
       "      <th>zhuhai</th>\n",
       "      <td>100.0</td>\n",
       "      <td>NaN</td>\n",
       "    </tr>\n",
       "    <tr>\n",
       "      <th>shenzhen</th>\n",
       "      <td>200.0</td>\n",
       "      <td>NaN</td>\n",
       "    </tr>\n",
       "    <tr>\n",
       "      <th>price</th>\n",
       "      <td>NaN</td>\n",
       "      <td>8k</td>\n",
       "    </tr>\n",
       "    <tr>\n",
       "      <th>time</th>\n",
       "      <td>NaN</td>\n",
       "      <td>2020-08-21 02:00:00</td>\n",
       "    </tr>\n",
       "  </tbody>\n",
       "</table>\n",
       "</div>"
      ],
      "text/plain": [
       "           city                 home\n",
       "zhuhai    100.0                  NaN\n",
       "shenzhen  200.0                  NaN\n",
       "price       NaN                   8k\n",
       "time        NaN  2020-08-21 02:00:00"
      ]
     },
     "execution_count": 39,
     "metadata": {},
     "output_type": "execute_result"
    }
   ],
   "source": [
    "data = '{\"city\":{\"zhuhai\":\"100\",\"shenzhen\":200},\"home\":{\"price\":\"8k\",\"time\":\"2020-08-21 02:00:00\"}}'\n",
    "pd.read_json(data, orient = 'columns')"
   ]
  },
  {
   "cell_type": "code",
   "execution_count": 40,
   "metadata": {},
   "outputs": [
    {
     "data": {
      "text/html": [
       "<div>\n",
       "<style scoped>\n",
       "    .dataframe tbody tr th:only-of-type {\n",
       "        vertical-align: middle;\n",
       "    }\n",
       "\n",
       "    .dataframe tbody tr th {\n",
       "        vertical-align: top;\n",
       "    }\n",
       "\n",
       "    .dataframe thead th {\n",
       "        text-align: right;\n",
       "    }\n",
       "</style>\n",
       "<table border=\"1\" class=\"dataframe\">\n",
       "  <thead>\n",
       "    <tr style=\"text-align: right;\">\n",
       "      <th></th>\n",
       "      <th>zhuhai</th>\n",
       "      <th>shenzhen</th>\n",
       "      <th>price</th>\n",
       "      <th>time</th>\n",
       "    </tr>\n",
       "  </thead>\n",
       "  <tbody>\n",
       "    <tr>\n",
       "      <th>city</th>\n",
       "      <td>100</td>\n",
       "      <td>200</td>\n",
       "      <td>NaN</td>\n",
       "      <td>NaN</td>\n",
       "    </tr>\n",
       "    <tr>\n",
       "      <th>home</th>\n",
       "      <td>NaN</td>\n",
       "      <td>NaN</td>\n",
       "      <td>8k</td>\n",
       "      <td>2020-08-21 02:00:00</td>\n",
       "    </tr>\n",
       "  </tbody>\n",
       "</table>\n",
       "</div>"
      ],
      "text/plain": [
       "     zhuhai shenzhen price                 time\n",
       "city    100      200   NaN                  NaN\n",
       "home    NaN      NaN    8k  2020-08-21 02:00:00"
      ]
     },
     "execution_count": 40,
     "metadata": {},
     "output_type": "execute_result"
    }
   ],
   "source": [
    "pd.read_json(data, orient = 'columns').T"
   ]
  },
  {
   "cell_type": "markdown",
   "metadata": {},
   "source": [
    "orient参数 ``orient = 'values'``\n",
    "\n",
    "json格式：``values`` : just the values array"
   ]
  },
  {
   "cell_type": "code",
   "execution_count": 43,
   "metadata": {},
   "outputs": [
    {
     "data": {
      "text/html": [
       "<div>\n",
       "<style scoped>\n",
       "    .dataframe tbody tr th:only-of-type {\n",
       "        vertical-align: middle;\n",
       "    }\n",
       "\n",
       "    .dataframe tbody tr th {\n",
       "        vertical-align: top;\n",
       "    }\n",
       "\n",
       "    .dataframe thead th {\n",
       "        text-align: right;\n",
       "    }\n",
       "</style>\n",
       "<table border=\"1\" class=\"dataframe\">\n",
       "  <thead>\n",
       "    <tr style=\"text-align: right;\">\n",
       "      <th></th>\n",
       "      <th>0</th>\n",
       "      <th>1</th>\n",
       "    </tr>\n",
       "  </thead>\n",
       "  <tbody>\n",
       "    <tr>\n",
       "      <th>0</th>\n",
       "      <td>小米</td>\n",
       "      <td>20</td>\n",
       "    </tr>\n",
       "    <tr>\n",
       "      <th>1</th>\n",
       "      <td>小李</td>\n",
       "      <td>18</td>\n",
       "    </tr>\n",
       "  </tbody>\n",
       "</table>\n",
       "</div>"
      ],
      "text/plain": [
       "    0   1\n",
       "0  小米  20\n",
       "1  小李  18"
      ]
     },
     "execution_count": 43,
     "metadata": {},
     "output_type": "execute_result"
    }
   ],
   "source": [
    "data = '[[\"小米\",20],[\"小李\",18]]'\n",
    "pd.read_json(data, orient = 'values')"
   ]
  },
  {
   "cell_type": "code",
   "execution_count": 46,
   "metadata": {},
   "outputs": [
    {
     "data": {
      "text/html": [
       "<div>\n",
       "<style scoped>\n",
       "    .dataframe tbody tr th:only-of-type {\n",
       "        vertical-align: middle;\n",
       "    }\n",
       "\n",
       "    .dataframe tbody tr th {\n",
       "        vertical-align: top;\n",
       "    }\n",
       "\n",
       "    .dataframe thead th {\n",
       "        text-align: right;\n",
       "    }\n",
       "</style>\n",
       "<table border=\"1\" class=\"dataframe\">\n",
       "  <thead>\n",
       "    <tr style=\"text-align: right;\">\n",
       "      <th></th>\n",
       "      <th>name</th>\n",
       "      <th>age</th>\n",
       "    </tr>\n",
       "  </thead>\n",
       "  <tbody>\n",
       "    <tr>\n",
       "      <th>0</th>\n",
       "      <td>小米</td>\n",
       "      <td>20</td>\n",
       "    </tr>\n",
       "    <tr>\n",
       "      <th>1</th>\n",
       "      <td>小李</td>\n",
       "      <td>18</td>\n",
       "    </tr>\n",
       "  </tbody>\n",
       "</table>\n",
       "</div>"
      ],
      "text/plain": [
       "  name  age\n",
       "0   小米   20\n",
       "1   小李   18"
      ]
     },
     "execution_count": 46,
     "metadata": {},
     "output_type": "execute_result"
    }
   ],
   "source": [
    "df = pd.read_json(data, orient = 'values').rename(columns = {0:'name',1:'age'})\n",
    "df"
   ]
  },
  {
   "cell_type": "markdown",
   "metadata": {},
   "source": [
    "#### 5.2 to_json()"
   ]
  },
  {
   "cell_type": "code",
   "execution_count": 47,
   "metadata": {},
   "outputs": [],
   "source": [
    "df.to_json(\"个人信息1.json\",force_ascii=False) # 不加force_ascii无法显示中文"
   ]
  },
  {
   "cell_type": "markdown",
   "metadata": {},
   "source": [
    "#### 5.3 json_normalize()"
   ]
  },
  {
   "cell_type": "markdown",
   "metadata": {},
   "source": [
    "上面介绍的json数据的保存和读取中json数据都是列表形式的；但是json文件中的数据通常不一定全部是列表形式，那么我们需要将字典结构的文件转成列表形式，这个过程就叫做规范化。\n",
    "\n",
    "官网：https://pandas.pydata.org/pandas-docs/stable/reference/api/pandas.json_normalize.html\n",
    "\n",
    "https://www.jianshu.com/p/a84772b994a0"
   ]
  },
  {
   "cell_type": "code",
   "execution_count": 49,
   "metadata": {},
   "outputs": [],
   "source": [
    "from pandas.io.json import json_normalize"
   ]
  },
  {
   "cell_type": "code",
   "execution_count": 50,
   "metadata": {},
   "outputs": [
    {
     "data": {
      "text/html": [
       "<div>\n",
       "<style scoped>\n",
       "    .dataframe tbody tr th:only-of-type {\n",
       "        vertical-align: middle;\n",
       "    }\n",
       "\n",
       "    .dataframe tbody tr th {\n",
       "        vertical-align: top;\n",
       "    }\n",
       "\n",
       "    .dataframe thead th {\n",
       "        text-align: right;\n",
       "    }\n",
       "</style>\n",
       "<table border=\"1\" class=\"dataframe\">\n",
       "  <thead>\n",
       "    <tr style=\"text-align: right;\">\n",
       "      <th></th>\n",
       "      <th>id</th>\n",
       "      <th>name.first</th>\n",
       "      <th>name.last</th>\n",
       "      <th>name.given</th>\n",
       "      <th>name.family</th>\n",
       "      <th>name</th>\n",
       "    </tr>\n",
       "  </thead>\n",
       "  <tbody>\n",
       "    <tr>\n",
       "      <th>0</th>\n",
       "      <td>1.0</td>\n",
       "      <td>Coleen</td>\n",
       "      <td>Volk</td>\n",
       "      <td>NaN</td>\n",
       "      <td>NaN</td>\n",
       "      <td>NaN</td>\n",
       "    </tr>\n",
       "    <tr>\n",
       "      <th>1</th>\n",
       "      <td>NaN</td>\n",
       "      <td>NaN</td>\n",
       "      <td>NaN</td>\n",
       "      <td>Mose</td>\n",
       "      <td>Regner</td>\n",
       "      <td>NaN</td>\n",
       "    </tr>\n",
       "    <tr>\n",
       "      <th>2</th>\n",
       "      <td>2.0</td>\n",
       "      <td>NaN</td>\n",
       "      <td>NaN</td>\n",
       "      <td>NaN</td>\n",
       "      <td>NaN</td>\n",
       "      <td>Faye Raker</td>\n",
       "    </tr>\n",
       "  </tbody>\n",
       "</table>\n",
       "</div>"
      ],
      "text/plain": [
       "    id name.first name.last name.given name.family        name\n",
       "0  1.0     Coleen      Volk        NaN         NaN         NaN\n",
       "1  NaN        NaN       NaN       Mose      Regner         NaN\n",
       "2  2.0        NaN       NaN        NaN         NaN  Faye Raker"
      ]
     },
     "execution_count": 50,
     "metadata": {},
     "output_type": "execute_result"
    }
   ],
   "source": [
    "# 层级字典通过属性的形式显示数据\n",
    "data = [{'id': 1, 'name': {'first': 'Coleen', 'last': 'Volk'}},\n",
    "        {'name': {'given': 'Mose', 'family': 'Regner'}},\n",
    "        {'id': 2, 'name': 'Faye Raker'}]\n",
    "pd.json_normalize(data)"
   ]
  },
  {
   "cell_type": "markdown",
   "metadata": {},
   "source": [
    "max_level参数\n",
    "\n",
    "若max_level=0，则嵌套的字典会当做整体，显示在数据框中\n",
    "\n",
    "若max_level=1，则嵌套的字典会被拆解，里面的键会被单独出来"
   ]
  },
  {
   "cell_type": "code",
   "execution_count": 51,
   "metadata": {},
   "outputs": [
    {
     "data": {
      "text/html": [
       "<div>\n",
       "<style scoped>\n",
       "    .dataframe tbody tr th:only-of-type {\n",
       "        vertical-align: middle;\n",
       "    }\n",
       "\n",
       "    .dataframe tbody tr th {\n",
       "        vertical-align: top;\n",
       "    }\n",
       "\n",
       "    .dataframe thead th {\n",
       "        text-align: right;\n",
       "    }\n",
       "</style>\n",
       "<table border=\"1\" class=\"dataframe\">\n",
       "  <thead>\n",
       "    <tr style=\"text-align: right;\">\n",
       "      <th></th>\n",
       "      <th>id</th>\n",
       "      <th>name</th>\n",
       "      <th>fitness</th>\n",
       "    </tr>\n",
       "  </thead>\n",
       "  <tbody>\n",
       "    <tr>\n",
       "      <th>0</th>\n",
       "      <td>1.0</td>\n",
       "      <td>Cole Volk</td>\n",
       "      <td>{'height': 130, 'weight': 60}</td>\n",
       "    </tr>\n",
       "    <tr>\n",
       "      <th>1</th>\n",
       "      <td>NaN</td>\n",
       "      <td>Mose Reg</td>\n",
       "      <td>{'height': 130, 'weight': 60}</td>\n",
       "    </tr>\n",
       "    <tr>\n",
       "      <th>2</th>\n",
       "      <td>2.0</td>\n",
       "      <td>Faye Raker</td>\n",
       "      <td>{'height': 130, 'weight': 60}</td>\n",
       "    </tr>\n",
       "  </tbody>\n",
       "</table>\n",
       "</div>"
      ],
      "text/plain": [
       "    id        name                        fitness\n",
       "0  1.0   Cole Volk  {'height': 130, 'weight': 60}\n",
       "1  NaN    Mose Reg  {'height': 130, 'weight': 60}\n",
       "2  2.0  Faye Raker  {'height': 130, 'weight': 60}"
      ]
     },
     "execution_count": 51,
     "metadata": {},
     "output_type": "execute_result"
    }
   ],
   "source": [
    "data = [{'id': 1,\n",
    "         'name': \"Cole Volk\",\n",
    "         'fitness': {'height': 130, 'weight': 60}},\n",
    "        {'name': \"Mose Reg\",\n",
    "         'fitness': {'height': 130, 'weight': 60}},\n",
    "        {'id': 2, 'name': 'Faye Raker',\n",
    "         'fitness': {'height': 130, 'weight': 60}}]\n",
    "pd.json_normalize(data, max_level=0)"
   ]
  },
  {
   "cell_type": "code",
   "execution_count": 52,
   "metadata": {},
   "outputs": [
    {
     "data": {
      "text/html": [
       "<div>\n",
       "<style scoped>\n",
       "    .dataframe tbody tr th:only-of-type {\n",
       "        vertical-align: middle;\n",
       "    }\n",
       "\n",
       "    .dataframe tbody tr th {\n",
       "        vertical-align: top;\n",
       "    }\n",
       "\n",
       "    .dataframe thead th {\n",
       "        text-align: right;\n",
       "    }\n",
       "</style>\n",
       "<table border=\"1\" class=\"dataframe\">\n",
       "  <thead>\n",
       "    <tr style=\"text-align: right;\">\n",
       "      <th></th>\n",
       "      <th>id</th>\n",
       "      <th>name</th>\n",
       "      <th>fitness.height</th>\n",
       "      <th>fitness.weight</th>\n",
       "    </tr>\n",
       "  </thead>\n",
       "  <tbody>\n",
       "    <tr>\n",
       "      <th>0</th>\n",
       "      <td>1.0</td>\n",
       "      <td>Cole Volk</td>\n",
       "      <td>130</td>\n",
       "      <td>60</td>\n",
       "    </tr>\n",
       "    <tr>\n",
       "      <th>1</th>\n",
       "      <td>NaN</td>\n",
       "      <td>Mose Reg</td>\n",
       "      <td>130</td>\n",
       "      <td>60</td>\n",
       "    </tr>\n",
       "    <tr>\n",
       "      <th>2</th>\n",
       "      <td>2.0</td>\n",
       "      <td>Faye Raker</td>\n",
       "      <td>130</td>\n",
       "      <td>60</td>\n",
       "    </tr>\n",
       "  </tbody>\n",
       "</table>\n",
       "</div>"
      ],
      "text/plain": [
       "    id        name  fitness.height  fitness.weight\n",
       "0  1.0   Cole Volk             130              60\n",
       "1  NaN    Mose Reg             130              60\n",
       "2  2.0  Faye Raker             130              60"
      ]
     },
     "execution_count": 52,
     "metadata": {},
     "output_type": "execute_result"
    }
   ],
   "source": [
    "data = [{'id': 1,\n",
    "         'name': \"Cole Volk\",\n",
    "         'fitness': {'height': 130, 'weight': 60}},\n",
    "        {'name': \"Mose Reg\",\n",
    "         'fitness': {'height': 130, 'weight': 60}},\n",
    "        {'id': 2, 'name': 'Faye Raker',\n",
    "         'fitness': {'height': 130, 'weight': 60}}]\n",
    "pd.json_normalize(data, max_level=1)"
   ]
  },
  {
   "cell_type": "markdown",
   "metadata": {},
   "source": [
    "读取层级嵌套中的部分内容"
   ]
  },
  {
   "cell_type": "code",
   "execution_count": 54,
   "metadata": {},
   "outputs": [
    {
     "data": {
      "text/html": [
       "<div>\n",
       "<style scoped>\n",
       "    .dataframe tbody tr th:only-of-type {\n",
       "        vertical-align: middle;\n",
       "    }\n",
       "\n",
       "    .dataframe tbody tr th {\n",
       "        vertical-align: top;\n",
       "    }\n",
       "\n",
       "    .dataframe thead th {\n",
       "        text-align: right;\n",
       "    }\n",
       "</style>\n",
       "<table border=\"1\" class=\"dataframe\">\n",
       "  <thead>\n",
       "    <tr style=\"text-align: right;\">\n",
       "      <th></th>\n",
       "      <th>name</th>\n",
       "      <th>population</th>\n",
       "    </tr>\n",
       "  </thead>\n",
       "  <tbody>\n",
       "    <tr>\n",
       "      <th>0</th>\n",
       "      <td>Dade</td>\n",
       "      <td>12345</td>\n",
       "    </tr>\n",
       "    <tr>\n",
       "      <th>1</th>\n",
       "      <td>Broward</td>\n",
       "      <td>40000</td>\n",
       "    </tr>\n",
       "    <tr>\n",
       "      <th>2</th>\n",
       "      <td>Palm Beach</td>\n",
       "      <td>60000</td>\n",
       "    </tr>\n",
       "    <tr>\n",
       "      <th>3</th>\n",
       "      <td>Summit</td>\n",
       "      <td>1234</td>\n",
       "    </tr>\n",
       "    <tr>\n",
       "      <th>4</th>\n",
       "      <td>Cuyahoga</td>\n",
       "      <td>1337</td>\n",
       "    </tr>\n",
       "  </tbody>\n",
       "</table>\n",
       "</div>"
      ],
      "text/plain": [
       "         name  population\n",
       "0        Dade       12345\n",
       "1     Broward       40000\n",
       "2  Palm Beach       60000\n",
       "3      Summit        1234\n",
       "4    Cuyahoga        1337"
      ]
     },
     "execution_count": 54,
     "metadata": {},
     "output_type": "execute_result"
    }
   ],
   "source": [
    "data = [{'state': 'Florida',\n",
    "         'shortname': 'FL',\n",
    "         'info': {'governor': 'Rick Scott'},\n",
    "         'counties': [{'name': 'Dade', 'population': 12345},\n",
    "                      {'name': 'Broward', 'population': 40000},\n",
    "                      {'name': 'Palm Beach', 'population': 60000}]},\n",
    "        {'state': 'Ohio',\n",
    "         'shortname': 'OH',\n",
    "         'info': {'governor': 'John Kasich'},\n",
    "         'counties': [{'name': 'Summit', 'population': 1234},\n",
    "                      {'name': 'Cuyahoga', 'population': 1337}]}]\n",
    "pd.json_normalize(data, 'counties')"
   ]
  },
  {
   "cell_type": "markdown",
   "metadata": {},
   "source": [
    "读取全部内容"
   ]
  },
  {
   "cell_type": "code",
   "execution_count": 56,
   "metadata": {},
   "outputs": [
    {
     "data": {
      "text/html": [
       "<div>\n",
       "<style scoped>\n",
       "    .dataframe tbody tr th:only-of-type {\n",
       "        vertical-align: middle;\n",
       "    }\n",
       "\n",
       "    .dataframe tbody tr th {\n",
       "        vertical-align: top;\n",
       "    }\n",
       "\n",
       "    .dataframe thead th {\n",
       "        text-align: right;\n",
       "    }\n",
       "</style>\n",
       "<table border=\"1\" class=\"dataframe\">\n",
       "  <thead>\n",
       "    <tr style=\"text-align: right;\">\n",
       "      <th></th>\n",
       "      <th>name</th>\n",
       "      <th>population</th>\n",
       "      <th>state</th>\n",
       "      <th>shortname</th>\n",
       "      <th>info.governor</th>\n",
       "    </tr>\n",
       "  </thead>\n",
       "  <tbody>\n",
       "    <tr>\n",
       "      <th>0</th>\n",
       "      <td>Dade</td>\n",
       "      <td>12345</td>\n",
       "      <td>Florida</td>\n",
       "      <td>FL</td>\n",
       "      <td>Rick Scott</td>\n",
       "    </tr>\n",
       "    <tr>\n",
       "      <th>1</th>\n",
       "      <td>Broward</td>\n",
       "      <td>40000</td>\n",
       "      <td>Florida</td>\n",
       "      <td>FL</td>\n",
       "      <td>Rick Scott</td>\n",
       "    </tr>\n",
       "    <tr>\n",
       "      <th>2</th>\n",
       "      <td>Palm Beach</td>\n",
       "      <td>60000</td>\n",
       "      <td>Florida</td>\n",
       "      <td>FL</td>\n",
       "      <td>Rick Scott</td>\n",
       "    </tr>\n",
       "    <tr>\n",
       "      <th>3</th>\n",
       "      <td>Summit</td>\n",
       "      <td>1234</td>\n",
       "      <td>Ohio</td>\n",
       "      <td>OH</td>\n",
       "      <td>John Kasich</td>\n",
       "    </tr>\n",
       "    <tr>\n",
       "      <th>4</th>\n",
       "      <td>Cuyahoga</td>\n",
       "      <td>1337</td>\n",
       "      <td>Ohio</td>\n",
       "      <td>OH</td>\n",
       "      <td>John Kasich</td>\n",
       "    </tr>\n",
       "  </tbody>\n",
       "</table>\n",
       "</div>"
      ],
      "text/plain": [
       "         name  population    state shortname info.governor\n",
       "0        Dade       12345  Florida        FL    Rick Scott\n",
       "1     Broward       40000  Florida        FL    Rick Scott\n",
       "2  Palm Beach       60000  Florida        FL    Rick Scott\n",
       "3      Summit        1234     Ohio        OH   John Kasich\n",
       "4    Cuyahoga        1337     Ohio        OH   John Kasich"
      ]
     },
     "execution_count": 56,
     "metadata": {},
     "output_type": "execute_result"
    }
   ],
   "source": [
    "data = [{'state': 'Florida',\n",
    "         'shortname': 'FL',\n",
    "         'info': {'governor': 'Rick Scott'},\n",
    "         'counties': [{'name': 'Dade', 'population': 12345},\n",
    "                      {'name': 'Broward', 'population': 40000},\n",
    "                      {'name': 'Palm Beach', 'population': 60000}]},\n",
    "        {'state': 'Ohio',\n",
    "         'shortname': 'OH',\n",
    "         'info': {'governor': 'John Kasich'},\n",
    "         'counties': [{'name': 'Summit', 'population': 1234},\n",
    "                      {'name': 'Cuyahoga', 'population': 1337}]}]\n",
    "pd.json_normalize(data, 'counties', ['state', 'shortname',['info', 'governor']])"
   ]
  },
  {
   "cell_type": "code",
   "execution_count": null,
   "metadata": {},
   "outputs": [],
   "source": []
  }
 ],
 "metadata": {
  "kernelspec": {
   "display_name": "Python 3",
   "language": "python",
   "name": "python3"
  },
  "language_info": {
   "codemirror_mode": {
    "name": "ipython",
    "version": 3
   },
   "file_extension": ".py",
   "mimetype": "text/x-python",
   "name": "python",
   "nbconvert_exporter": "python",
   "pygments_lexer": "ipython3",
   "version": "3.7.6"
  }
 },
 "nbformat": 4,
 "nbformat_minor": 4
}
