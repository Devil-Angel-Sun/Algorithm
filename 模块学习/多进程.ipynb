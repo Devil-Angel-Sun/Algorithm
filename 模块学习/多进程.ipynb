{
 "cells": [
  {
   "cell_type": "markdown",
   "metadata": {},
   "source": [
    "# 多进程"
   ]
  },
  {
   "cell_type": "markdown",
   "metadata": {},
   "source": [
    "## 1 带有返回值的函数"
   ]
  },
  {
   "cell_type": "markdown",
   "metadata": {},
   "source": [
    "### 方法一"
   ]
  },
  {
   "cell_type": "code",
   "execution_count": 1,
   "metadata": {},
   "outputs": [],
   "source": [
    "from  multiprocessing import Pool\n",
    "import time"
   ]
  },
  {
   "cell_type": "code",
   "execution_count": 9,
   "metadata": {},
   "outputs": [],
   "source": [
    "def Foo(i):\n",
    "    if i < 5:\n",
    "        time.sleep(2)\n",
    "        return i+100\n",
    "    else:\n",
    "        return"
   ]
  },
  {
   "cell_type": "code",
   "execution_count": 10,
   "metadata": {},
   "outputs": [],
   "source": [
    "pool = Pool(5)  #允许进程池同时放入5个进程\n",
    "results = []\n",
    "for i in range(10):\n",
    "    results.append(pool.apply_async(func=Foo, args=(i,)))\n",
    "pool.close()\n",
    "pool.join() "
   ]
  },
  {
   "cell_type": "code",
   "execution_count": 11,
   "metadata": {},
   "outputs": [
    {
     "data": {
      "text/plain": [
       "[<multiprocessing.pool.ApplyResult at 0x7fec937509d0>,\n",
       " <multiprocessing.pool.ApplyResult at 0x7fec93716150>,\n",
       " <multiprocessing.pool.ApplyResult at 0x7fec93710f10>,\n",
       " <multiprocessing.pool.ApplyResult at 0x7fec93710f50>,\n",
       " <multiprocessing.pool.ApplyResult at 0x7fec93710cd0>,\n",
       " <multiprocessing.pool.ApplyResult at 0x7fec93710ad0>,\n",
       " <multiprocessing.pool.ApplyResult at 0x7fec93710910>,\n",
       " <multiprocessing.pool.ApplyResult at 0x7fec93710d10>,\n",
       " <multiprocessing.pool.ApplyResult at 0x7fec937024d0>,\n",
       " <multiprocessing.pool.ApplyResult at 0x7fec93710990>]"
      ]
     },
     "execution_count": 11,
     "metadata": {},
     "output_type": "execute_result"
    }
   ],
   "source": [
    "results"
   ]
  },
  {
   "cell_type": "code",
   "execution_count": 12,
   "metadata": {},
   "outputs": [
    {
     "name": "stdout",
     "output_type": "stream",
     "text": [
      "100\n",
      "101\n",
      "102\n",
      "103\n",
      "104\n",
      "None\n",
      "None\n",
      "None\n",
      "None\n",
      "None\n"
     ]
    }
   ],
   "source": [
    "for i in results:\n",
    "    print(i.get())"
   ]
  },
  {
   "cell_type": "code",
   "execution_count": 13,
   "metadata": {},
   "outputs": [
    {
     "data": {
      "text/plain": [
       "[100, 101, 102, 103, 104, None, None, None, None, None]"
      ]
     },
     "execution_count": 13,
     "metadata": {},
     "output_type": "execute_result"
    }
   ],
   "source": [
    "[i.get() for i in results]"
   ]
  },
  {
   "cell_type": "markdown",
   "metadata": {},
   "source": [
    "### 方法二"
   ]
  },
  {
   "cell_type": "code",
   "execution_count": 5,
   "metadata": {},
   "outputs": [],
   "source": [
    "from  multiprocessing import Process,Pool\n",
    "import time"
   ]
  },
  {
   "cell_type": "code",
   "execution_count": 6,
   "metadata": {},
   "outputs": [],
   "source": [
    "def Foo(i):\n",
    "    time.sleep(2)\n",
    "    return i+100"
   ]
  },
  {
   "cell_type": "code",
   "execution_count": 7,
   "metadata": {},
   "outputs": [],
   "source": [
    "results = []\n",
    "pool = Pool(5)  #允许进程池同时放入5个进程\n",
    "for i in range(10):\n",
    "    results.append(pool.map(Foo, (i,)))\n",
    "pool.close()\n",
    "pool.join() "
   ]
  },
  {
   "cell_type": "code",
   "execution_count": 8,
   "metadata": {},
   "outputs": [
    {
     "data": {
      "text/plain": [
       "[[100], [101], [102], [103], [104], [105], [106], [107], [108], [109]]"
      ]
     },
     "execution_count": 8,
     "metadata": {},
     "output_type": "execute_result"
    }
   ],
   "source": [
    "results"
   ]
  },
  {
   "cell_type": "markdown",
   "metadata": {},
   "source": [
    "## 2 运行完一个函数后再运行一个函数"
   ]
  },
  {
   "cell_type": "code",
   "execution_count": 9,
   "metadata": {},
   "outputs": [
    {
     "name": "stdout",
     "output_type": "stream",
     "text": [
      "end\n"
     ]
    }
   ],
   "source": [
    "from  multiprocessing import Pool\n",
    " \n",
    "def Foo(i):\n",
    "    time.sleep(2)\n",
    "    return i+100\n",
    " \n",
    "def Bar(arg):\n",
    "    print('-->exec done:',arg)\n",
    "\n",
    "pool = Pool(5)  #允许进程池同时放入5个进程\n",
    "results = []\n",
    "for i in range(10):\n",
    "    results.append(pool.apply_async(func=Foo, args=(i,)) ) #func子进程执行完后，才会执行callback，否则callback不执行（而且callback是由父进程来执行了）\n",
    "\n",
    "print('end')\n",
    "pool.close()\n",
    "pool.join() "
   ]
  },
  {
   "cell_type": "code",
   "execution_count": 10,
   "metadata": {},
   "outputs": [
    {
     "name": "stdout",
     "output_type": "stream",
     "text": [
      "100\n",
      "101\n",
      "102\n",
      "103\n",
      "104\n",
      "105\n",
      "106\n",
      "107\n",
      "108\n",
      "109\n"
     ]
    }
   ],
   "source": [
    "for i in results:\n",
    "    print(i.get())"
   ]
  },
  {
   "cell_type": "code",
   "execution_count": null,
   "metadata": {},
   "outputs": [],
   "source": []
  }
 ],
 "metadata": {
  "kernelspec": {
   "display_name": "Python 3",
   "language": "python",
   "name": "python3"
  },
  "language_info": {
   "codemirror_mode": {
    "name": "ipython",
    "version": 3
   },
   "file_extension": ".py",
   "mimetype": "text/x-python",
   "name": "python",
   "nbconvert_exporter": "python",
   "pygments_lexer": "ipython3",
   "version": "3.7.6"
  }
 },
 "nbformat": 4,
 "nbformat_minor": 4
}
