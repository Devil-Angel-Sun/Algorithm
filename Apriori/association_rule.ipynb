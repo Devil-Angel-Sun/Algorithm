{
 "cells": [
  {
   "cell_type": "code",
   "execution_count": 1,
   "metadata": {},
   "outputs": [],
   "source": [
    "import json\n",
    "import pandas as pd\n",
    "import numpy as np\n",
    "from mlxtend.preprocessing import TransactionEncoder"
   ]
  },
  {
   "cell_type": "code",
   "execution_count": 2,
   "metadata": {},
   "outputs": [],
   "source": [
    "with open('/home/Data/locate/data_release/topology/sys_and_nodes.json') as f:\n",
    "    sys_node = json.load(f)\n",
    "with open('/home/Data/locate/data_release/topology/topology_edges_node.json') as f:\n",
    "    node_node = json.load(f)\n",
    "with open('/home/Data/locate/data_release/topology/topology_edges_sys.json') as f:\n",
    "    sys_sys = json.load(f)"
   ]
  },
  {
   "cell_type": "code",
   "execution_count": 3,
   "metadata": {},
   "outputs": [],
   "source": [
    "nodes = list(node_node.keys())\n",
    "edges = []\n",
    "for i in node_node:\n",
    "    for j in node_node[i]:\n",
    "        edges.append([i,j])"
   ]
  },
  {
   "cell_type": "code",
   "execution_count": 4,
   "metadata": {},
   "outputs": [
    {
     "data": {
      "text/plain": [
       "406"
      ]
     },
     "execution_count": 4,
     "metadata": {},
     "output_type": "execute_result"
    }
   ],
   "source": [
    "len(edges)"
   ]
  },
  {
   "cell_type": "code",
   "execution_count": 5,
   "metadata": {},
   "outputs": [],
   "source": [
    "list_edge = []\n",
    "for i in range(len(edges)):\n",
    "    list_edge.append(edges[i])\n",
    "    for j in range(len(edges)):\n",
    "        if edges[i][0] == edges[j][1]:\n",
    "            edge = [edges[j][0],edges[i][0],edges[i][1]]\n",
    "            list_edge.append(edge)"
   ]
  },
  {
   "cell_type": "code",
   "execution_count": 6,
   "metadata": {},
   "outputs": [],
   "source": [
    "edge = pd.DataFrame(list_edge)"
   ]
  },
  {
   "cell_type": "code",
   "execution_count": 7,
   "metadata": {},
   "outputs": [],
   "source": [
    "def deal(data):\n",
    "    return data.dropna().tolist()"
   ]
  },
  {
   "cell_type": "code",
   "execution_count": 8,
   "metadata": {},
   "outputs": [],
   "source": [
    "df_arr = edge.apply(deal,axis = 1).tolist()"
   ]
  },
  {
   "cell_type": "code",
   "execution_count": 9,
   "metadata": {},
   "outputs": [],
   "source": [
    "te = TransactionEncoder() # 定义模型\n",
    "df_tf = te.fit_transform(df_arr)\n",
    "\n",
    "df = pd.DataFrame(df_tf,columns=te.columns_)"
   ]
  },
  {
   "cell_type": "code",
   "execution_count": 10,
   "metadata": {},
   "outputs": [
    {
     "name": "stdout",
     "output_type": "stream",
     "text": [
      "       support                     itemsets\n",
      "937   0.008264           (node_81, node_77)\n",
      "555   0.008264           (node_62, node_36)\n",
      "558   0.008264           (node_77, node_36)\n",
      "915   0.008264           (node_72, node_77)\n",
      "523   0.008264           (node_62, node_34)\n",
      "...        ...                          ...\n",
      "1496  0.000517   (node_3, node_20, node_86)\n",
      "1495  0.000517   (node_3, node_54, node_20)\n",
      "1494  0.000517   (node_3, node_51, node_20)\n",
      "1493  0.000517   (node_3, node_20, node_39)\n",
      "2518  0.000517  (node_94, node_97, node_95)\n",
      "\n",
      "[2419 rows x 2 columns]\n"
     ]
    }
   ],
   "source": [
    "from mlxtend.frequent_patterns import apriori\n",
    " \n",
    "frequent_itemsets = apriori(df,min_support=0.0005,use_colnames=True) # use_colnames=True表示使用元素名字，默认的False使用列名代表元素\n",
    "frequent_itemsets.sort_values(by='support',ascending=False,inplace=True) # 频繁项集可以按支持度排序\n",
    "print(frequent_itemsets[frequent_itemsets.itemsets.apply(lambda x: len(x)) >= 2])  # 选择长度 >=2 的频繁项集"
   ]
  },
  {
   "cell_type": "code",
   "execution_count": 11,
   "metadata": {},
   "outputs": [
    {
     "data": {
      "text/html": [
       "<div>\n",
       "<style scoped>\n",
       "    .dataframe tbody tr th:only-of-type {\n",
       "        vertical-align: middle;\n",
       "    }\n",
       "\n",
       "    .dataframe tbody tr th {\n",
       "        vertical-align: top;\n",
       "    }\n",
       "\n",
       "    .dataframe thead th {\n",
       "        text-align: right;\n",
       "    }\n",
       "</style>\n",
       "<table border=\"1\" class=\"dataframe\">\n",
       "  <thead>\n",
       "    <tr style=\"text-align: right;\">\n",
       "      <th></th>\n",
       "      <th>antecedents</th>\n",
       "      <th>consequents</th>\n",
       "      <th>antecedent support</th>\n",
       "      <th>consequent support</th>\n",
       "      <th>support</th>\n",
       "      <th>confidence</th>\n",
       "      <th>lift</th>\n",
       "      <th>leverage</th>\n",
       "      <th>conviction</th>\n",
       "    </tr>\n",
       "  </thead>\n",
       "  <tbody>\n",
       "    <tr>\n",
       "      <th>0</th>\n",
       "      <td>(node_3, node_51)</td>\n",
       "      <td>(node_20)</td>\n",
       "      <td>0.001033</td>\n",
       "      <td>0.018595</td>\n",
       "      <td>0.000517</td>\n",
       "      <td>0.500000</td>\n",
       "      <td>26.888889</td>\n",
       "      <td>0.000497</td>\n",
       "      <td>1.962810</td>\n",
       "    </tr>\n",
       "    <tr>\n",
       "      <th>1</th>\n",
       "      <td>(node_97, node_23)</td>\n",
       "      <td>(node_20)</td>\n",
       "      <td>0.001033</td>\n",
       "      <td>0.018595</td>\n",
       "      <td>0.000517</td>\n",
       "      <td>0.500000</td>\n",
       "      <td>26.888889</td>\n",
       "      <td>0.000497</td>\n",
       "      <td>1.962810</td>\n",
       "    </tr>\n",
       "    <tr>\n",
       "      <th>2</th>\n",
       "      <td>(node_3, node_24)</td>\n",
       "      <td>(node_20)</td>\n",
       "      <td>0.001033</td>\n",
       "      <td>0.018595</td>\n",
       "      <td>0.000517</td>\n",
       "      <td>0.500000</td>\n",
       "      <td>26.888889</td>\n",
       "      <td>0.000497</td>\n",
       "      <td>1.962810</td>\n",
       "    </tr>\n",
       "    <tr>\n",
       "      <th>3</th>\n",
       "      <td>(node_3, node_54)</td>\n",
       "      <td>(node_20)</td>\n",
       "      <td>0.001033</td>\n",
       "      <td>0.018595</td>\n",
       "      <td>0.000517</td>\n",
       "      <td>0.500000</td>\n",
       "      <td>26.888889</td>\n",
       "      <td>0.000497</td>\n",
       "      <td>1.962810</td>\n",
       "    </tr>\n",
       "    <tr>\n",
       "      <th>4</th>\n",
       "      <td>(node_3, node_51)</td>\n",
       "      <td>(node_57)</td>\n",
       "      <td>0.001033</td>\n",
       "      <td>0.018595</td>\n",
       "      <td>0.000517</td>\n",
       "      <td>0.500000</td>\n",
       "      <td>26.888889</td>\n",
       "      <td>0.000497</td>\n",
       "      <td>1.962810</td>\n",
       "    </tr>\n",
       "    <tr>\n",
       "      <th>...</th>\n",
       "      <td>...</td>\n",
       "      <td>...</td>\n",
       "      <td>...</td>\n",
       "      <td>...</td>\n",
       "      <td>...</td>\n",
       "      <td>...</td>\n",
       "      <td>...</td>\n",
       "      <td>...</td>\n",
       "      <td>...</td>\n",
       "    </tr>\n",
       "    <tr>\n",
       "      <th>10953</th>\n",
       "      <td>(node_34)</td>\n",
       "      <td>(node_11)</td>\n",
       "      <td>0.037190</td>\n",
       "      <td>0.025310</td>\n",
       "      <td>0.001033</td>\n",
       "      <td>0.027778</td>\n",
       "      <td>1.097506</td>\n",
       "      <td>0.000092</td>\n",
       "      <td>1.002538</td>\n",
       "    </tr>\n",
       "    <tr>\n",
       "      <th>10954</th>\n",
       "      <td>(node_11)</td>\n",
       "      <td>(node_34)</td>\n",
       "      <td>0.025310</td>\n",
       "      <td>0.037190</td>\n",
       "      <td>0.001033</td>\n",
       "      <td>0.040816</td>\n",
       "      <td>1.097506</td>\n",
       "      <td>0.000092</td>\n",
       "      <td>1.003781</td>\n",
       "    </tr>\n",
       "    <tr>\n",
       "      <th>10955</th>\n",
       "      <td>(node_42)</td>\n",
       "      <td>(node_36)</td>\n",
       "      <td>0.025310</td>\n",
       "      <td>0.037190</td>\n",
       "      <td>0.001033</td>\n",
       "      <td>0.040816</td>\n",
       "      <td>1.097506</td>\n",
       "      <td>0.000092</td>\n",
       "      <td>1.003781</td>\n",
       "    </tr>\n",
       "    <tr>\n",
       "      <th>10956</th>\n",
       "      <td>(node_36)</td>\n",
       "      <td>(node_42)</td>\n",
       "      <td>0.037190</td>\n",
       "      <td>0.025310</td>\n",
       "      <td>0.001033</td>\n",
       "      <td>0.027778</td>\n",
       "      <td>1.097506</td>\n",
       "      <td>0.000092</td>\n",
       "      <td>1.002538</td>\n",
       "    </tr>\n",
       "    <tr>\n",
       "      <th>10957</th>\n",
       "      <td>(node_72)</td>\n",
       "      <td>(node_11)</td>\n",
       "      <td>0.037190</td>\n",
       "      <td>0.025310</td>\n",
       "      <td>0.001033</td>\n",
       "      <td>0.027778</td>\n",
       "      <td>1.097506</td>\n",
       "      <td>0.000092</td>\n",
       "      <td>1.002538</td>\n",
       "    </tr>\n",
       "  </tbody>\n",
       "</table>\n",
       "<p>10958 rows × 9 columns</p>\n",
       "</div>"
      ],
      "text/plain": [
       "              antecedents consequents  antecedent support  consequent support  \\\n",
       "0       (node_3, node_51)   (node_20)            0.001033            0.018595   \n",
       "1      (node_97, node_23)   (node_20)            0.001033            0.018595   \n",
       "2       (node_3, node_24)   (node_20)            0.001033            0.018595   \n",
       "3       (node_3, node_54)   (node_20)            0.001033            0.018595   \n",
       "4       (node_3, node_51)   (node_57)            0.001033            0.018595   \n",
       "...                   ...         ...                 ...                 ...   \n",
       "10953           (node_34)   (node_11)            0.037190            0.025310   \n",
       "10954           (node_11)   (node_34)            0.025310            0.037190   \n",
       "10955           (node_42)   (node_36)            0.025310            0.037190   \n",
       "10956           (node_36)   (node_42)            0.037190            0.025310   \n",
       "10957           (node_72)   (node_11)            0.037190            0.025310   \n",
       "\n",
       "        support  confidence       lift  leverage  conviction  \n",
       "0      0.000517    0.500000  26.888889  0.000497    1.962810  \n",
       "1      0.000517    0.500000  26.888889  0.000497    1.962810  \n",
       "2      0.000517    0.500000  26.888889  0.000497    1.962810  \n",
       "3      0.000517    0.500000  26.888889  0.000497    1.962810  \n",
       "4      0.000517    0.500000  26.888889  0.000497    1.962810  \n",
       "...         ...         ...        ...       ...         ...  \n",
       "10953  0.001033    0.027778   1.097506  0.000092    1.002538  \n",
       "10954  0.001033    0.040816   1.097506  0.000092    1.003781  \n",
       "10955  0.001033    0.040816   1.097506  0.000092    1.003781  \n",
       "10956  0.001033    0.027778   1.097506  0.000092    1.002538  \n",
       "10957  0.001033    0.027778   1.097506  0.000092    1.002538  \n",
       "\n",
       "[10958 rows x 9 columns]"
      ]
     },
     "execution_count": 11,
     "metadata": {},
     "output_type": "execute_result"
    }
   ],
   "source": [
    "from mlxtend.frequent_patterns import association_rules\n",
    " \n",
    "association_rule = association_rules(frequent_itemsets,metric='confidence',min_threshold=0.001)\t# metric可以有很多的度量选项，返回的表列名都可以作为参数\n",
    "association_rule.sort_values(by='lift',ascending=False,inplace=True)    #关联规则可以按leverage排序\n",
    "association_rule.reset_index(drop=True)"
   ]
  },
  {
   "cell_type": "code",
   "execution_count": 12,
   "metadata": {},
   "outputs": [],
   "source": [
    "#association_rule[association_rule['antecedents'] == association_rule.iloc[0,0]]"
   ]
  },
  {
   "cell_type": "code",
   "execution_count": 13,
   "metadata": {},
   "outputs": [],
   "source": [
    "association_rule.to_csv('/home/weijunfei/算法/Apriori/association_rule.csv', index = False)"
   ]
  },
  {
   "cell_type": "code",
   "execution_count": 53,
   "metadata": {},
   "outputs": [
    {
     "name": "stdout",
     "output_type": "stream",
     "text": [
      "sub-repl为字符串 :  ('Hello world、 Hello Devil、Hello Sun', 2)\n"
     ]
    }
   ],
   "source": [
    "import re\n",
    "text = 'Hello world, Hello Devil,Hello Sun'\n",
    "pattern = ','\n",
    "repl = '、'\n",
    "print('sub-repl为字符串 : ',re.subn(pattern, repl, text, count =2,flags = re.I))"
   ]
  },
  {
   "cell_type": "code",
   "execution_count": 23,
   "metadata": {},
   "outputs": [
    {
     "name": "stdout",
     "output_type": "stream",
     "text": [
      "Unicode:  ['hello世界']\n",
      "ASCII: ['hello']\n"
     ]
    }
   ],
   "source": []
  },
  {
   "cell_type": "code",
   "execution_count": null,
   "metadata": {},
   "outputs": [],
   "source": []
  }
 ],
 "metadata": {
  "kernelspec": {
   "display_name": "Python 3",
   "language": "python",
   "name": "python3"
  },
  "language_info": {
   "codemirror_mode": {
    "name": "ipython",
    "version": 3
   },
   "file_extension": ".py",
   "mimetype": "text/x-python",
   "name": "python",
   "nbconvert_exporter": "python",
   "pygments_lexer": "ipython3",
   "version": "3.7.6"
  }
 },
 "nbformat": 4,
 "nbformat_minor": 4
}
