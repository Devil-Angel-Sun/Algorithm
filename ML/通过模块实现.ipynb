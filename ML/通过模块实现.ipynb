{
 "cells": [
  {
   "cell_type": "code",
   "execution_count": 1,
   "metadata": {},
   "outputs": [],
   "source": [
    "from sklearn.datasets import load_iris\n",
    "from sklearn.model_selection import train_test_split\n",
    "from sklearn.metrics import accuracy_score\n",
    "X, y = load_iris(return_X_y=True)\n",
    "X_train, X_test, y_train, y_test = train_test_split(X, y, test_size=0.3, random_state=0)"
   ]
  },
  {
   "cell_type": "markdown",
   "metadata": {},
   "source": [
    "## 线性回归"
   ]
  },
  {
   "cell_type": "code",
   "execution_count": 2,
   "metadata": {},
   "outputs": [],
   "source": [
    "# 分类问题不能用线性回归\n",
    "from sklearn.linear_model import LinearRegression\n",
    "lr = LinearRegression()\n",
    "lr.fit(X_train, y_train)\n",
    "lr_pred = lr.predict(X_test)\n",
    "# print(\"Accuracy of LinearRegression in iris data test:\", accuracy_score(y_test, lr_pred))"
   ]
  },
  {
   "cell_type": "markdown",
   "metadata": {},
   "source": [
    "## logistic"
   ]
  },
  {
   "cell_type": "code",
   "execution_count": 3,
   "metadata": {},
   "outputs": [
    {
     "name": "stdout",
     "output_type": "stream",
     "text": [
      "Accuracy of LogisticRegression in iris data test: 0.9777777777777777\n"
     ]
    }
   ],
   "source": [
    "from sklearn.linear_model import LogisticRegression\n",
    "lor = LogisticRegression()\n",
    "y_pred = lor.fit(X_train, y_train).predict(X_test)\n",
    "print(\"Accuracy of LogisticRegression in iris data test:\", accuracy_score(y_test, y_pred))\n",
    "# lor.fit(X_train, y_train).predict_proba(X_test) # 具体概率"
   ]
  },
  {
   "cell_type": "markdown",
   "metadata": {},
   "source": [
    "## 朴素贝叶斯"
   ]
  },
  {
   "cell_type": "code",
   "execution_count": 4,
   "metadata": {},
   "outputs": [
    {
     "name": "stdout",
     "output_type": "stream",
     "text": [
      "Accuracy of GaussianNB in iris data test: 1.0\n"
     ]
    }
   ],
   "source": [
    "from sklearn.naive_bayes import GaussianNB\n",
    "gnb = GaussianNB()\n",
    "y_pred = gnb.fit(X_train, y_train).predict(X_test)\n",
    "print(\"Accuracy of GaussianNB in iris data test:\", accuracy_score(y_test, y_pred))"
   ]
  },
  {
   "cell_type": "markdown",
   "metadata": {},
   "source": [
    "## SVM"
   ]
  },
  {
   "cell_type": "code",
   "execution_count": 5,
   "metadata": {},
   "outputs": [
    {
     "name": "stdout",
     "output_type": "stream",
     "text": [
      "acc_lin_svc:  0.9777777777777777\n",
      "acc_rbf_svc:  0.9777777777777777\n",
      "acc_poly_svc:  0.9777777777777777\n"
     ]
    }
   ],
   "source": [
    "from sklearn import svm\n",
    "lin_svc = svm.SVC(kernel='linear').fit(X_train,y_train)  # 核函数kernel为线性核函数\n",
    "rbf_svc = svm.SVC(kernel='rbf').fit(X_train,y_train)    # kernel为径向基核函数\n",
    "poly_svc = svm.SVC(kernel='poly',degree=3).fit(X_train,y_train)  #kernel为多项式核函数\n",
    "lin_svc_pre = lin_svc.predict(X_test)   # linear核函数的svm进行预测\n",
    "rbf_svc_pre = rbf_svc.predict(X_test)   # 径向基rbf核函数  预测\n",
    "poly_svc_pre = poly_svc.predict(X_test)  #多项式核函数     预测\n",
    "# score函数，根据给定数据与标签返回正确率的均值\n",
    "acc_lin_svc = lin_svc.score(X_test,y_test) \n",
    "acc_rbf_svc = rbf_svc.score(X_test,y_test)\n",
    "acc_poly_svc = poly_svc.score(X_test,y_test)\n",
    "print('acc_lin_svc: ',acc_lin_svc)\n",
    "print('acc_rbf_svc: ',acc_rbf_svc)\n",
    "print('acc_poly_svc: ',acc_poly_svc)"
   ]
  },
  {
   "cell_type": "code",
   "execution_count": null,
   "metadata": {},
   "outputs": [],
   "source": []
  }
 ],
 "metadata": {
  "kernelspec": {
   "display_name": "Python 3",
   "language": "python",
   "name": "python3"
  },
  "language_info": {
   "codemirror_mode": {
    "name": "ipython",
    "version": 3
   },
   "file_extension": ".py",
   "mimetype": "text/x-python",
   "name": "python",
   "nbconvert_exporter": "python",
   "pygments_lexer": "ipython3",
   "version": "3.7.6"
  }
 },
 "nbformat": 4,
 "nbformat_minor": 4
}
