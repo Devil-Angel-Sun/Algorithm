{
 "cells": [
  {
   "cell_type": "code",
   "execution_count": 1,
   "id": "e284a555-cd86-42f9-bc41-988e65651cfb",
   "metadata": {},
   "outputs": [],
   "source": [
    "from translate import Translator"
   ]
  },
  {
   "cell_type": "code",
   "execution_count": 2,
   "id": "0c3d1e60-b3da-4e02-b274-01877cac41e3",
   "metadata": {},
   "outputs": [],
   "source": [
    "def translate_to_chinese(text):\n",
    "    translator = Translator(to_lang=\"zh\")\n",
    "    translation = translator.translate(text)\n",
    "    return translation"
   ]
  },
  {
   "cell_type": "code",
   "execution_count": 3,
   "id": "08913b50-4409-4862-8670-c3e99e89f167",
   "metadata": {},
   "outputs": [
    {
     "name": "stdout",
     "output_type": "stream",
     "text": [
      "English: Hello, how are you?\n",
      "Chinese: 你好你怎么样？\n"
     ]
    }
   ],
   "source": [
    "# 示例\n",
    "english_text = \"Hello, how are you?\"\n",
    "chinese_translation = translate_to_chinese(english_text)\n",
    "print(f\"English: {english_text}\")\n",
    "print(f\"Chinese: {chinese_translation}\")"
   ]
  },
  {
   "cell_type": "code",
   "execution_count": null,
   "id": "e5d7a983-9818-4c1c-a31c-ae95d79ce3a4",
   "metadata": {},
   "outputs": [],
   "source": []
  }
 ],
 "metadata": {
  "kernelspec": {
   "display_name": "Python 3 (ipykernel)",
   "language": "python",
   "name": "python3"
  },
  "language_info": {
   "codemirror_mode": {
    "name": "ipython",
    "version": 3
   },
   "file_extension": ".py",
   "mimetype": "text/x-python",
   "name": "python",
   "nbconvert_exporter": "python",
   "pygments_lexer": "ipython3",
   "version": "3.11.3"
  }
 },
 "nbformat": 4,
 "nbformat_minor": 5
}
